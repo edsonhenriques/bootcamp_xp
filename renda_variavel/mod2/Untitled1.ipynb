{
 "cells": [
  {
   "cell_type": "code",
   "execution_count": 2,
   "id": "022a9edb",
   "metadata": {},
   "outputs": [
    {
     "name": "stdout",
     "output_type": "stream",
     "text": [
      "Nome do Fundo: XPLG11\n",
      "\n",
      "Razao Social: XP LOG FDO INV IMOB - FII\n",
      "\n",
      "Preço atual: R$ 94,34\n",
      "              \n",
      "Dividend Yeld: 0,79%\n",
      "              \n",
      "Patrimônio Líquido: R$ 3,1 bi\n",
      "              \n",
      "Valor Patrimonial: R$ 113,64\n",
      "              \n",
      "P/VP: 0,83\n",
      "              \n",
      "Segmento: Logística\n",
      "                      \n",
      "Taxa de Performance: 20% do que exceder o benchmark (IPCA + 6,0% a.a.)\n",
      "                      \n",
      "Taxa de Gestão: N/A\n",
      "                      \n",
      "Taxa de Administração: 0,95% a.a. (mínimo de R$ 25 mil mensais)\n",
      "                      \n",
      "Taxa de Gerenciamento: N/A\n",
      "                      \n"
     ]
    }
   ],
   "source": [
    "import requests\n",
    "from bs4 import BeautifulSoup\n",
    "\n",
    "class Relatorio():\n",
    "\n",
    "    def __init__(self, fiis):\n",
    "        self.fiis = fiis\n",
    "        self.req = requests.get(f'https://www.fundsexplorer.com.br/funds/{fiis}')\n",
    "        self.sopa = BeautifulSoup(self.req.text, 'lxml')\n",
    "        self.scrapping()\n",
    "        self.__str__()\n",
    "\n",
    "    def __str__(self):\n",
    "        print (f'Nome do Fundo: {self.nome_fundo}\\n'\n",
    "                f'\\nRazao Social: {self.razao_fundo}\\n'\n",
    "                f'\\nPreço atual: {self.preco}'\n",
    "                f'\\nDividend Yeld: {self.dividend_yeld}'\n",
    "                f'\\nPatrimônio Líquido: {self.patrimonio_liq}'\n",
    "                f'\\nValor Patrimonial: {self.valor_patr}'\n",
    "                f'\\nP/VP: {self.pvp}'\n",
    "                f'\\nSegmento: {self.segmento}'\n",
    "                f'\\nTaxa de Performance: {self.tx_perfor}'\n",
    "                f'\\nTaxa de Gestão: {self.tx_gestao}'\n",
    "                f'\\nTaxa de Administração: {self.tx_admin}'\n",
    "                f'\\nTaxa de Gerenciamento: {self.tx_geren}')\n",
    "\n",
    "    def ret_func_indicator(self, index):\n",
    "        self.func = self.sopa.find_all(class_=\"indicator-value\")[index].text.lstrip()\n",
    "        return self.func\n",
    "\n",
    "    def ret_func_descrip(self, index):\n",
    "        self.func = self.sopa.find_all(class_=\"description\")[index].text.lstrip()\n",
    "        return self.func\n",
    "\n",
    "    def ret_outros(self, element):\n",
    "        self.func = self.sopa.find(class_=element).text.lstrip()\n",
    "        return self.func\n",
    "\n",
    "    def scrapping(self):\n",
    "        self.nome_fundo = self.ret_outros('section-title')\n",
    "        self.razao_fundo = self.ret_outros('section-subtitle')\n",
    "        self.preco = self.ret_outros('price')\n",
    "        self.dividend_yeld = self.ret_func_indicator(2)\n",
    "        self.patrimonio_liq = self.ret_func_indicator(3)\n",
    "        self.valor_patr = self.ret_func_indicator(4)\n",
    "        self.pvp = self.ret_func_indicator(6)\n",
    "        self.tx_perfor = self.ret_func_descrip(6)\n",
    "        self.tx_gestao = self.ret_func_descrip(7)\n",
    "        self.tx_admin = self.ret_func_descrip(13)\n",
    "        self.tx_geren = self.ret_func_descrip(14)\n",
    "        self.segmento = self.ret_func_descrip(11)\n",
    "\n",
    "if __name__ == '__main__':\n",
    "    Relatorio('XPLG11')"
   ]
  },
  {
   "cell_type": "code",
   "execution_count": null,
   "id": "db31163b",
   "metadata": {},
   "outputs": [],
   "source": []
  }
 ],
 "metadata": {
  "kernelspec": {
   "display_name": "Python 3 (ipykernel)",
   "language": "python",
   "name": "python3"
  },
  "language_info": {
   "codemirror_mode": {
    "name": "ipython",
    "version": 3
   },
   "file_extension": ".py",
   "mimetype": "text/x-python",
   "name": "python",
   "nbconvert_exporter": "python",
   "pygments_lexer": "ipython3",
   "version": "3.9.13"
  }
 },
 "nbformat": 4,
 "nbformat_minor": 5
}
