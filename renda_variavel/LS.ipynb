{
 "cells": [
  {
   "cell_type": "markdown",
   "id": "c9f68860",
   "metadata": {},
   "source": [
    "Assista estas aulas para a teoria base como complemento:\n",
    "- https://www.youtube.com/watch?v=NSrOa4qnhvk\n",
    "- https://www.youtube.com/watch?v=2vSePCL156w\n",
    "- https://www.youtube.com/watch?v=gRb4OnpeoEg\n"
   ]
  },
  {
   "cell_type": "code",
   "execution_count": 1,
   "id": "823182c3",
   "metadata": {},
   "outputs": [],
   "source": [
    "# Carregando as bibliotecas\n",
    "\n",
    "import pandas as pd\n",
    "import numpy as np\n",
    "import yfinance as yf\n",
    "from plotly.subplots import make_subplots\n",
    "import plotly.graph_objects as go\n",
    "from math import sqrt\n",
    "\n",
    "from statsmodels.tsa.stattools import adfuller\n",
    "\n",
    "import statsmodels.api as sm\n",
    "from statsmodels.tsa.stattools import coint\n",
    "from statsmodels.regression.rolling import RollingOLS\n",
    "from datetime import datetime\n",
    "\n",
    "get_ipython().run_line_magic(\"matplotlib\", \"inline\")\n",
    "import warnings\n",
    "warnings.filterwarnings(\"ignore\")"
   ]
  },
  {
   "cell_type": "code",
   "execution_count": 2,
   "id": "18b6ea46",
   "metadata": {},
   "outputs": [
    {
     "ename": "FileNotFoundError",
     "evalue": "[Errno 2] No such file or directory: 'IBOV.xlsx'",
     "output_type": "error",
     "traceback": [
      "\u001b[1;31m---------------------------------------------------------------------------\u001b[0m",
      "\u001b[1;31mFileNotFoundError\u001b[0m                         Traceback (most recent call last)",
      "\u001b[1;32m~\\AppData\\Local\\Temp\\ipykernel_27564\\581224765.py\u001b[0m in \u001b[0;36m<module>\u001b[1;34m\u001b[0m\n\u001b[0;32m      1\u001b[0m \u001b[1;31m#Carrega dados do Excel no daframe pandas\u001b[0m\u001b[1;33m\u001b[0m\u001b[1;33m\u001b[0m\u001b[0m\n\u001b[1;32m----> 2\u001b[1;33m \u001b[0mdf_ibov\u001b[0m \u001b[1;33m=\u001b[0m \u001b[0mpd\u001b[0m\u001b[1;33m.\u001b[0m\u001b[0mread_excel\u001b[0m\u001b[1;33m(\u001b[0m\u001b[1;34m\"IBOV.xlsx\"\u001b[0m\u001b[1;33m)\u001b[0m\u001b[1;33m\u001b[0m\u001b[1;33m\u001b[0m\u001b[0m\n\u001b[0m",
      "\u001b[1;32m~\\AppData\\Roaming\\Python\\Python39\\site-packages\\pandas\\util\\_decorators.py\u001b[0m in \u001b[0;36mwrapper\u001b[1;34m(*args, **kwargs)\u001b[0m\n\u001b[0;32m    209\u001b[0m                 \u001b[1;32melse\u001b[0m\u001b[1;33m:\u001b[0m\u001b[1;33m\u001b[0m\u001b[1;33m\u001b[0m\u001b[0m\n\u001b[0;32m    210\u001b[0m                     \u001b[0mkwargs\u001b[0m\u001b[1;33m[\u001b[0m\u001b[0mnew_arg_name\u001b[0m\u001b[1;33m]\u001b[0m \u001b[1;33m=\u001b[0m \u001b[0mnew_arg_value\u001b[0m\u001b[1;33m\u001b[0m\u001b[1;33m\u001b[0m\u001b[0m\n\u001b[1;32m--> 211\u001b[1;33m             \u001b[1;32mreturn\u001b[0m \u001b[0mfunc\u001b[0m\u001b[1;33m(\u001b[0m\u001b[1;33m*\u001b[0m\u001b[0margs\u001b[0m\u001b[1;33m,\u001b[0m \u001b[1;33m**\u001b[0m\u001b[0mkwargs\u001b[0m\u001b[1;33m)\u001b[0m\u001b[1;33m\u001b[0m\u001b[1;33m\u001b[0m\u001b[0m\n\u001b[0m\u001b[0;32m    212\u001b[0m \u001b[1;33m\u001b[0m\u001b[0m\n\u001b[0;32m    213\u001b[0m         \u001b[1;32mreturn\u001b[0m \u001b[0mcast\u001b[0m\u001b[1;33m(\u001b[0m\u001b[0mF\u001b[0m\u001b[1;33m,\u001b[0m \u001b[0mwrapper\u001b[0m\u001b[1;33m)\u001b[0m\u001b[1;33m\u001b[0m\u001b[1;33m\u001b[0m\u001b[0m\n",
      "\u001b[1;32m~\\AppData\\Roaming\\Python\\Python39\\site-packages\\pandas\\util\\_decorators.py\u001b[0m in \u001b[0;36mwrapper\u001b[1;34m(*args, **kwargs)\u001b[0m\n\u001b[0;32m    329\u001b[0m                     \u001b[0mstacklevel\u001b[0m\u001b[1;33m=\u001b[0m\u001b[0mfind_stack_level\u001b[0m\u001b[1;33m(\u001b[0m\u001b[1;33m)\u001b[0m\u001b[1;33m,\u001b[0m\u001b[1;33m\u001b[0m\u001b[1;33m\u001b[0m\u001b[0m\n\u001b[0;32m    330\u001b[0m                 )\n\u001b[1;32m--> 331\u001b[1;33m             \u001b[1;32mreturn\u001b[0m \u001b[0mfunc\u001b[0m\u001b[1;33m(\u001b[0m\u001b[1;33m*\u001b[0m\u001b[0margs\u001b[0m\u001b[1;33m,\u001b[0m \u001b[1;33m**\u001b[0m\u001b[0mkwargs\u001b[0m\u001b[1;33m)\u001b[0m\u001b[1;33m\u001b[0m\u001b[1;33m\u001b[0m\u001b[0m\n\u001b[0m\u001b[0;32m    332\u001b[0m \u001b[1;33m\u001b[0m\u001b[0m\n\u001b[0;32m    333\u001b[0m         \u001b[1;31m# error: \"Callable[[VarArg(Any), KwArg(Any)], Any]\" has no\u001b[0m\u001b[1;33m\u001b[0m\u001b[1;33m\u001b[0m\u001b[0m\n",
      "\u001b[1;32m~\\AppData\\Roaming\\Python\\Python39\\site-packages\\pandas\\io\\excel\\_base.py\u001b[0m in \u001b[0;36mread_excel\u001b[1;34m(io, sheet_name, header, names, index_col, usecols, squeeze, dtype, engine, converters, true_values, false_values, skiprows, nrows, na_values, keep_default_na, na_filter, verbose, parse_dates, date_parser, thousands, decimal, comment, skipfooter, convert_float, mangle_dupe_cols, storage_options)\u001b[0m\n\u001b[0;32m    480\u001b[0m     \u001b[1;32mif\u001b[0m \u001b[1;32mnot\u001b[0m \u001b[0misinstance\u001b[0m\u001b[1;33m(\u001b[0m\u001b[0mio\u001b[0m\u001b[1;33m,\u001b[0m \u001b[0mExcelFile\u001b[0m\u001b[1;33m)\u001b[0m\u001b[1;33m:\u001b[0m\u001b[1;33m\u001b[0m\u001b[1;33m\u001b[0m\u001b[0m\n\u001b[0;32m    481\u001b[0m         \u001b[0mshould_close\u001b[0m \u001b[1;33m=\u001b[0m \u001b[1;32mTrue\u001b[0m\u001b[1;33m\u001b[0m\u001b[1;33m\u001b[0m\u001b[0m\n\u001b[1;32m--> 482\u001b[1;33m         \u001b[0mio\u001b[0m \u001b[1;33m=\u001b[0m \u001b[0mExcelFile\u001b[0m\u001b[1;33m(\u001b[0m\u001b[0mio\u001b[0m\u001b[1;33m,\u001b[0m \u001b[0mstorage_options\u001b[0m\u001b[1;33m=\u001b[0m\u001b[0mstorage_options\u001b[0m\u001b[1;33m,\u001b[0m \u001b[0mengine\u001b[0m\u001b[1;33m=\u001b[0m\u001b[0mengine\u001b[0m\u001b[1;33m)\u001b[0m\u001b[1;33m\u001b[0m\u001b[1;33m\u001b[0m\u001b[0m\n\u001b[0m\u001b[0;32m    483\u001b[0m     \u001b[1;32melif\u001b[0m \u001b[0mengine\u001b[0m \u001b[1;32mand\u001b[0m \u001b[0mengine\u001b[0m \u001b[1;33m!=\u001b[0m \u001b[0mio\u001b[0m\u001b[1;33m.\u001b[0m\u001b[0mengine\u001b[0m\u001b[1;33m:\u001b[0m\u001b[1;33m\u001b[0m\u001b[1;33m\u001b[0m\u001b[0m\n\u001b[0;32m    484\u001b[0m         raise ValueError(\n",
      "\u001b[1;32m~\\AppData\\Roaming\\Python\\Python39\\site-packages\\pandas\\io\\excel\\_base.py\u001b[0m in \u001b[0;36m__init__\u001b[1;34m(self, path_or_buffer, engine, storage_options)\u001b[0m\n\u001b[0;32m   1650\u001b[0m                 \u001b[0mext\u001b[0m \u001b[1;33m=\u001b[0m \u001b[1;34m\"xls\"\u001b[0m\u001b[1;33m\u001b[0m\u001b[1;33m\u001b[0m\u001b[0m\n\u001b[0;32m   1651\u001b[0m             \u001b[1;32melse\u001b[0m\u001b[1;33m:\u001b[0m\u001b[1;33m\u001b[0m\u001b[1;33m\u001b[0m\u001b[0m\n\u001b[1;32m-> 1652\u001b[1;33m                 ext = inspect_excel_format(\n\u001b[0m\u001b[0;32m   1653\u001b[0m                     \u001b[0mcontent_or_path\u001b[0m\u001b[1;33m=\u001b[0m\u001b[0mpath_or_buffer\u001b[0m\u001b[1;33m,\u001b[0m \u001b[0mstorage_options\u001b[0m\u001b[1;33m=\u001b[0m\u001b[0mstorage_options\u001b[0m\u001b[1;33m\u001b[0m\u001b[1;33m\u001b[0m\u001b[0m\n\u001b[0;32m   1654\u001b[0m                 )\n",
      "\u001b[1;32m~\\AppData\\Roaming\\Python\\Python39\\site-packages\\pandas\\io\\excel\\_base.py\u001b[0m in \u001b[0;36minspect_excel_format\u001b[1;34m(content_or_path, storage_options)\u001b[0m\n\u001b[0;32m   1523\u001b[0m         \u001b[0mcontent_or_path\u001b[0m \u001b[1;33m=\u001b[0m \u001b[0mBytesIO\u001b[0m\u001b[1;33m(\u001b[0m\u001b[0mcontent_or_path\u001b[0m\u001b[1;33m)\u001b[0m\u001b[1;33m\u001b[0m\u001b[1;33m\u001b[0m\u001b[0m\n\u001b[0;32m   1524\u001b[0m \u001b[1;33m\u001b[0m\u001b[0m\n\u001b[1;32m-> 1525\u001b[1;33m     with get_handle(\n\u001b[0m\u001b[0;32m   1526\u001b[0m         \u001b[0mcontent_or_path\u001b[0m\u001b[1;33m,\u001b[0m \u001b[1;34m\"rb\"\u001b[0m\u001b[1;33m,\u001b[0m \u001b[0mstorage_options\u001b[0m\u001b[1;33m=\u001b[0m\u001b[0mstorage_options\u001b[0m\u001b[1;33m,\u001b[0m \u001b[0mis_text\u001b[0m\u001b[1;33m=\u001b[0m\u001b[1;32mFalse\u001b[0m\u001b[1;33m\u001b[0m\u001b[1;33m\u001b[0m\u001b[0m\n\u001b[0;32m   1527\u001b[0m     ) as handle:\n",
      "\u001b[1;32m~\\AppData\\Roaming\\Python\\Python39\\site-packages\\pandas\\io\\common.py\u001b[0m in \u001b[0;36mget_handle\u001b[1;34m(path_or_buf, mode, encoding, compression, memory_map, is_text, errors, storage_options)\u001b[0m\n\u001b[0;32m    863\u001b[0m         \u001b[1;32melse\u001b[0m\u001b[1;33m:\u001b[0m\u001b[1;33m\u001b[0m\u001b[1;33m\u001b[0m\u001b[0m\n\u001b[0;32m    864\u001b[0m             \u001b[1;31m# Binary mode\u001b[0m\u001b[1;33m\u001b[0m\u001b[1;33m\u001b[0m\u001b[0m\n\u001b[1;32m--> 865\u001b[1;33m             \u001b[0mhandle\u001b[0m \u001b[1;33m=\u001b[0m \u001b[0mopen\u001b[0m\u001b[1;33m(\u001b[0m\u001b[0mhandle\u001b[0m\u001b[1;33m,\u001b[0m \u001b[0mioargs\u001b[0m\u001b[1;33m.\u001b[0m\u001b[0mmode\u001b[0m\u001b[1;33m)\u001b[0m\u001b[1;33m\u001b[0m\u001b[1;33m\u001b[0m\u001b[0m\n\u001b[0m\u001b[0;32m    866\u001b[0m         \u001b[0mhandles\u001b[0m\u001b[1;33m.\u001b[0m\u001b[0mappend\u001b[0m\u001b[1;33m(\u001b[0m\u001b[0mhandle\u001b[0m\u001b[1;33m)\u001b[0m\u001b[1;33m\u001b[0m\u001b[1;33m\u001b[0m\u001b[0m\n\u001b[0;32m    867\u001b[0m \u001b[1;33m\u001b[0m\u001b[0m\n",
      "\u001b[1;31mFileNotFoundError\u001b[0m: [Errno 2] No such file or directory: 'IBOV.xlsx'"
     ]
    }
   ],
   "source": [
    "#Carrega dados do Excel no daframe pandas\n",
    "df_ibov = pd.read_excel(\"IBOV.xlsx\")"
   ]
  },
  {
   "cell_type": "code",
   "execution_count": 41,
   "id": "be7e8626",
   "metadata": {
    "scrolled": false
   },
   "outputs": [
    {
     "name": "stdout",
     "output_type": "stream",
     "text": [
      "BOVA11.SA\n",
      "[*********************100%***********************]  1 of 1 completed\n",
      "PETR4.SA\n",
      "[*********************100%***********************]  1 of 1 completed\n",
      "VALE3.SA\n",
      "[*********************100%***********************]  1 of 1 completed\n",
      "ITUB4.SA\n",
      "[*********************100%***********************]  1 of 1 completed\n",
      "CSNA3.SA\n",
      "[*********************100%***********************]  1 of 1 completed\n",
      "BBAS3.SA\n",
      "[*********************100%***********************]  1 of 1 completed\n",
      "WEGE3.SA\n",
      "[*********************100%***********************]  1 of 1 completed\n",
      "B3SA3.SA\n",
      "[*********************100%***********************]  1 of 1 completed\n",
      "JBSS3.SA\n",
      "[*********************100%***********************]  1 of 1 completed\n",
      "ITSA4.SA\n",
      "[*********************100%***********************]  1 of 1 completed\n",
      "CMIG4.SA\n",
      "[*********************100%***********************]  1 of 1 completed\n",
      "SBSP3.SA\n",
      "[*********************100%***********************]  1 of 1 completed\n",
      "CCRO3.SA\n",
      "[*********************100%***********************]  1 of 1 completed\n",
      "UGPA3.SA\n",
      "[*********************100%***********************]  1 of 1 completed\n",
      "MULT3.SA\n",
      "[*********************100%***********************]  1 of 1 completed\n",
      "BPAC11.SA\n",
      "[*********************100%***********************]  1 of 1 completed\n",
      "EQTL3.SA\n",
      "[*********************100%***********************]  1 of 1 completed\n",
      "LREN3.SA\n",
      "[*********************100%***********************]  1 of 1 completed\n",
      "ENBR3.SA\n",
      "[*********************100%***********************]  1 of 1 completed\n",
      "TAEE11.SA\n",
      "[*********************100%***********************]  1 of 1 completed\n",
      "SUZB3.SA\n",
      "[*********************100%***********************]  1 of 1 completed\n",
      "BBDC4.SA\n",
      "[*********************100%***********************]  1 of 1 completed\n",
      "BBSE3.SA\n",
      "[*********************100%***********************]  1 of 1 completed\n",
      "ECOR3.SA\n",
      "[*********************100%***********************]  1 of 1 completed\n",
      "RADL3.SA\n",
      "[*********************100%***********************]  1 of 1 completed\n"
     ]
    }
   ],
   "source": [
    "start = \"2022-06-30\"\n",
    "end = \"2022-10-31\"\n",
    "#end = datetime.todtickersay().strftime(\"%Y-%m-%d\")\n",
    "\n",
    "tickers = [\"BOVA11.SA\", \"PETR4.SA\", \"VALE3.SA\", \"ITUB4.SA\"\n",
    "           , \"CSNA3.SA\", \"BBAS3.SA\", \"WEGE3.SA\", \"B3SA3.SA\" ,  \"JBSS3.SA\"\n",
    "           , \"ITSA4.SA\", \"CMIG4.SA\", \"SBSP3.SA\", \"CCRO3.SA\", \"UGPA3.SA\"\n",
    "           , \"MULT3.SA\", \"BPAC11.SA\", \"EQTL3.SA\", \"LREN3.SA\", \"ENBR3.SA\"\n",
    "           , \"TAEE11.SA\", \"SUZB3.SA\", \"BBDC4.SA\", \"BBSE3.SA\", \"ECOR3.SA\"\n",
    "           , \"RADL3.SA\"]\n",
    "\n",
    "ativos = []\n",
    "for ticker in tickers:\n",
    "    try:\n",
    "        print(ticker)\n",
    "        cotacoes = yf.download(ticker, start, end)[\"Adj Close\"]\n",
    "        cotacoes = pd.DataFrame(cotacoes)\n",
    "        cotacoes.columns = [ticker]\n",
    "        ativos.append(cotacoes)\n",
    "    except:\n",
    "        pass\n",
    "    base_ativos = pd.concat(ativos, axis = 1)\n",
    "base_ativos.sort_index(inplace = True)\n",
    "base_ativos.head()\n",
    "base_ativos.dropna(inplace = True)"
   ]
  },
  {
   "cell_type": "code",
   "execution_count": 42,
   "id": "b004ed4d",
   "metadata": {},
   "outputs": [
    {
     "data": {
      "text/plain": [
       "Index(['BOVA11.SA', 'PETR4.SA', 'VALE3.SA', 'ITUB4.SA', 'CSNA3.SA', 'BBAS3.SA',\n",
       "       'WEGE3.SA', 'B3SA3.SA', 'JBSS3.SA', 'ITSA4.SA', 'CMIG4.SA', 'SBSP3.SA',\n",
       "       'CCRO3.SA', 'UGPA3.SA', 'MULT3.SA', 'BPAC11.SA', 'EQTL3.SA', 'LREN3.SA',\n",
       "       'ENBR3.SA', 'TAEE11.SA', 'SUZB3.SA', 'BBDC4.SA', 'BBSE3.SA', 'ECOR3.SA',\n",
       "       'RADL3.SA'],\n",
       "      dtype='object')"
      ]
     },
     "execution_count": 42,
     "metadata": {},
     "output_type": "execute_result"
    }
   ],
   "source": [
    "base_ativos.keys()"
   ]
  },
  {
   "cell_type": "code",
   "execution_count": 43,
   "id": "a793f3ca",
   "metadata": {},
   "outputs": [],
   "source": [
    "# Função para encontrar pares cointegrados\n",
    "\n",
    "def encontra_pares(base):\n",
    "    n = base.shape[1] # Recebe total de ativos\n",
    "    pvalor_matriz = np.ones((n, n))\n",
    "    keys = base.keys() #Keys() retorna a chave/índice da base de ativos\n",
    "    pares = []\n",
    "    for i in range(n):\n",
    "        for j in range(i+1, n):\n",
    "            a1 = base[keys[i]]\n",
    "            a2 = base[keys[j]]\n",
    "            resultado = coint(a1, a2)\n",
    "            score = resultado[0]\n",
    "            pvalor = resultado[1]\n",
    "            pvalor_matriz[i, j] = pvalor\n",
    "            if pvalor < 0.05:\n",
    "                pares.append((keys[i], keys[j]))\n",
    "    return pvalor_matriz, pares"
   ]
  },
  {
   "cell_type": "code",
   "execution_count": 44,
   "id": "33509d04",
   "metadata": {},
   "outputs": [],
   "source": [
    "# Encontremos então, os pares\n",
    "\n",
    "pvalores, pares = encontra_pares(base_ativos)"
   ]
  },
  {
   "cell_type": "code",
   "execution_count": 45,
   "id": "dd6a2435",
   "metadata": {},
   "outputs": [
    {
     "data": {
      "text/plain": [
       "[('BOVA11.SA', 'BPAC11.SA'),\n",
       " ('VALE3.SA', 'B3SA3.SA'),\n",
       " ('ITUB4.SA', 'B3SA3.SA'),\n",
       " ('B3SA3.SA', 'ITSA4.SA'),\n",
       " ('ITSA4.SA', 'SBSP3.SA'),\n",
       " ('CMIG4.SA', 'CCRO3.SA'),\n",
       " ('CMIG4.SA', 'UGPA3.SA'),\n",
       " ('CCRO3.SA', 'TAEE11.SA'),\n",
       " ('MULT3.SA', 'ENBR3.SA'),\n",
       " ('MULT3.SA', 'SUZB3.SA'),\n",
       " ('MULT3.SA', 'BBDC4.SA'),\n",
       " ('MULT3.SA', 'BBSE3.SA'),\n",
       " ('MULT3.SA', 'ECOR3.SA'),\n",
       " ('ENBR3.SA', 'BBSE3.SA')]"
      ]
     },
     "execution_count": 45,
     "metadata": {},
     "output_type": "execute_result"
    }
   ],
   "source": [
    "pares"
   ]
  },
  {
   "cell_type": "code",
   "execution_count": 46,
   "id": "c3bc9522",
   "metadata": {},
   "outputs": [
    {
     "ename": "IndexError",
     "evalue": "list index out of range",
     "output_type": "error",
     "traceback": [
      "\u001b[1;31m---------------------------------------------------------------------------\u001b[0m",
      "\u001b[1;31mIndexError\u001b[0m                                Traceback (most recent call last)",
      "\u001b[1;32m~\\AppData\\Local\\Temp\\ipykernel_2040\\1475693852.py\u001b[0m in \u001b[0;36m<module>\u001b[1;34m\u001b[0m\n\u001b[1;32m----> 1\u001b[1;33m \u001b[0mpares\u001b[0m\u001b[1;33m[\u001b[0m\u001b[1;36m24\u001b[0m\u001b[1;33m]\u001b[0m\u001b[1;33m\u001b[0m\u001b[1;33m\u001b[0m\u001b[0m\n\u001b[0m",
      "\u001b[1;31mIndexError\u001b[0m: list index out of range"
     ]
    }
   ],
   "source": [
    "pares[24]"
   ]
  },
  {
   "cell_type": "code",
   "execution_count": null,
   "id": "774a5415",
   "metadata": {},
   "outputs": [],
   "source": [
    "a1 = pares[24][0]\n",
    "a2 = pares[24][1]"
   ]
  },
  {
   "cell_type": "code",
   "execution_count": null,
   "id": "cb8ec87d",
   "metadata": {
    "scrolled": true
   },
   "outputs": [],
   "source": [
    "x_train = sm.add_constant(base_ativos[a1])\n",
    "y_train = base_ativos[a2]\n",
    "regressao = sm.OLS(y_train, x_train).fit()\n",
    "\n",
    "print(regressao.params)\n",
    "print(\"-----------------------------\")\n",
    "print(regressao.params[a1])\n",
    "\n",
    "beta = regressao.params[a1]"
   ]
  },
  {
   "cell_type": "code",
   "execution_count": null,
   "id": "7096ed78",
   "metadata": {},
   "outputs": [],
   "source": [
    "# Esse beta preferencialmente tem que ser positivo..."
   ]
  },
  {
   "cell_type": "code",
   "execution_count": null,
   "id": "1c9545af",
   "metadata": {},
   "outputs": [],
   "source": [
    "# Normaliza o resíduo pelo z-score\n",
    "\n",
    "residuo = y_train - (regressao.params[0] + beta*x_train[a1])\n",
    "\n",
    "\n",
    "def normaliza_zscore(x):\n",
    "    return (x - x.mean())/np.std(x)\n",
    "\n",
    "\n",
    "residuo_norm = normaliza_zscore(residuo)"
   ]
  },
  {
   "cell_type": "code",
   "execution_count": null,
   "id": "55287d3d",
   "metadata": {},
   "outputs": [],
   "source": [
    "# Atenção: esta parte não está presente na aula gravada e precisa ser considerada\n",
    "\n",
    "res_mean = residuo.mean()\n",
    "res_std = np.std(residuo)"
   ]
  },
  {
   "cell_type": "code",
   "execution_count": null,
   "id": "7df3719f",
   "metadata": {},
   "outputs": [],
   "source": [
    "residuo_norm"
   ]
  },
  {
   "cell_type": "code",
   "execution_count": null,
   "id": "a9cc953a",
   "metadata": {},
   "outputs": [],
   "source": [
    "#Visualiza o z-score\n",
    "\n",
    "fig = make_subplots(rows = 1, cols = 1,\n",
    "                    shared_xaxes = True,\n",
    "                    vertical_spacing = 0.08)\n",
    "\n",
    "fig.add_trace(go.Scatter(x = residuo_norm.index\n",
    "                         , y = residuo_norm\n",
    "                         , name = \"Z Score\"\n",
    "                         ,line = dict(color = \"black\"))\n",
    "              , row = 1, col = 1)\n",
    "\n",
    "fig.add_hline(y = 2, line_width = 1, line_dash = \"dash\", line_color = \"green\")\n",
    "fig.add_hline(y = 1, line_width = 1, line_dash = \"dash\", line_color = \"green\")\n",
    "\n",
    "fig.add_hline(y = -2, line_width = 1, line_dash = \"dash\", line_color = \"red\")\n",
    "fig.add_hline(y = -1, line_width = 1, line_dash = \"dash\", line_color = \"red\")\n",
    "\n",
    "\n",
    "fig.update_layout(height = 600, width = 800\n",
    "                  , title_text = \"Z-Score Long & Short por cointegração \" + a1 + \" - \"+ a2\n",
    "                  , font_color = \"blue\"\n",
    "                  , title_font_color = \"black\"\n",
    "                  , xaxis_title = \"Tempo\"\n",
    "                  , yaxis_title = \"Z-Score\"\n",
    "                  , showlegend = False\n",
    "                  , legend_title = \"Carteira\"\n",
    "                  , font = dict(size = 13, color = \"Black\")\n",
    "                 )\n",
    "fig.update_layout(hovermode = \"x\")\n",
    "\n",
    "fig.show()"
   ]
  },
  {
   "cell_type": "code",
   "execution_count": null,
   "id": "df4554cc",
   "metadata": {},
   "outputs": [],
   "source": [
    "# Mas estes resíduos são estacionários?\n",
    "\n",
    "adf_diff1 = adfuller(residuo_norm)\n",
    "print(\"ADF Test Statistic: %.2f\" % adf_diff1[0])\n",
    "print(\"5%% Critical Value: %.2f\" % adf_diff1[4]['5%'])\n",
    "print(\"p-value: %.2f\" % adf_diff1[1])"
   ]
  },
  {
   "cell_type": "code",
   "execution_count": null,
   "id": "f78c7b5b",
   "metadata": {
    "scrolled": true
   },
   "outputs": [],
   "source": [
    "# Vamos pegar a base recente\n",
    "\n",
    "start = \"2021-11-01\"\n",
    "end = datetime.today().strftime(\"%Y-%m-%d\")\n",
    "\n",
    "tickers = [a1, a2]\n",
    "\n",
    "ativos_ls = []\n",
    "for ticker in tickers:\n",
    "    try:\n",
    "        print(ticker)\n",
    "        cotacoes = yf.download(ticker, start, end)[\"Adj Close\"]\n",
    "        cotacoes = pd.DataFrame(cotacoes)\n",
    "        cotacoes.columns = [ticker]\n",
    "        ativos_ls.append(cotacoes)\n",
    "    except:\n",
    "        pass\n",
    "    base_ls = pd.concat(ativos_ls, axis = 1)\n",
    "base_ls.sort_index(inplace = True)\n",
    "base_ls.head()\n",
    "base_ls.dropna(inplace = True)"
   ]
  },
  {
   "cell_type": "code",
   "execution_count": null,
   "id": "e22d4639",
   "metadata": {},
   "outputs": [],
   "source": [
    "# Recalcular os resíduos\n",
    "# Atenção, pequena modificação em relação ao código da aula gravada\n",
    "\n",
    "residuo_ls = base_ls[a2] - (regressao.params[0] + beta*base_ls[a1])\n",
    "\n",
    "\n",
    "def normaliza_zscore_ls(x):\n",
    "    return (x - res_mean)/res_std\n",
    "\n",
    "\n",
    "residuo_norm_ls = normaliza_zscore_ls(residuo_ls)"
   ]
  },
  {
   "cell_type": "code",
   "execution_count": null,
   "id": "82e7c324",
   "metadata": {},
   "outputs": [],
   "source": [
    "# Agora vamos avaliar os resultados\n",
    "# Atenção, pequena modificação em relação ao código da aula gravada\n",
    "\n",
    "resultados = pd.concat([residuo_norm_ls, residuo_ls\n",
    "                        , base_ls[a1].pct_change()\n",
    "                       ,base_ls[a2].pct_change()], axis = 1)\n",
    "resultados.columns = [\"ZScore\", \"Residuo\", a1, a2]\n",
    "\n",
    "# Vamos fazer o trade com 1 desvio padrão\n",
    "dev = 1.2\n",
    "\n",
    "\n",
    "# Resíduo = a2 - (beta0 + beta*a1)\n",
    "# Se o resíduo é negativo, você vai long no spread\n",
    "# Significa que a1 é maior do que a2, então você vende a1 e compra a2\n",
    "# Em qual proporção? No beta. 1 ação de a2 para beta (X) ações de a1\n",
    "# Detalhes aqui: https://www.youtube.com/watch?v=2vSePCL156w&t=238s\n",
    "\n",
    "# Se o resíduo for positivo, você vai short no spread\n",
    "# Sifnigica que a2 é maior do que a1, então você compra ai e vende a2\n",
    "\n",
    "resultados[\"sinal\"] = 0\n",
    "\n",
    "resultados[\"sinal\"] = np.where(resultados[\"ZScore\"] < -dev, (resultados[a2] - beta*resultados[a1])\n",
    "                              , np.where(resultados[\"ZScore\"] > dev, (-resultados[a2] + beta*resultados[a1])\n",
    "                                        , 0))\n",
    "\n",
    "resultados[\"retornos_acc\"] = resultados[\"sinal\"].cumsum()"
   ]
  },
  {
   "cell_type": "code",
   "execution_count": 47,
   "id": "9e386ddf",
   "metadata": {},
   "outputs": [
    {
     "data": {
      "text/html": [
       "<div>\n",
       "<style scoped>\n",
       "    .dataframe tbody tr th:only-of-type {\n",
       "        vertical-align: middle;\n",
       "    }\n",
       "\n",
       "    .dataframe tbody tr th {\n",
       "        vertical-align: top;\n",
       "    }\n",
       "\n",
       "    .dataframe thead th {\n",
       "        text-align: right;\n",
       "    }\n",
       "</style>\n",
       "<table border=\"1\" class=\"dataframe\">\n",
       "  <thead>\n",
       "    <tr style=\"text-align: right;\">\n",
       "      <th></th>\n",
       "      <th>ZScore</th>\n",
       "      <th>Residuo</th>\n",
       "      <th>MULT3.SA</th>\n",
       "      <th>BBSE3.SA</th>\n",
       "      <th>sinal</th>\n",
       "      <th>retornos_acc</th>\n",
       "    </tr>\n",
       "    <tr>\n",
       "      <th>Date</th>\n",
       "      <th></th>\n",
       "      <th></th>\n",
       "      <th></th>\n",
       "      <th></th>\n",
       "      <th></th>\n",
       "      <th></th>\n",
       "    </tr>\n",
       "  </thead>\n",
       "  <tbody>\n",
       "    <tr>\n",
       "      <th>2021-11-01</th>\n",
       "      <td>-1.510851</td>\n",
       "      <td>-1.818607</td>\n",
       "      <td>NaN</td>\n",
       "      <td>NaN</td>\n",
       "      <td>NaN</td>\n",
       "      <td>NaN</td>\n",
       "    </tr>\n",
       "    <tr>\n",
       "      <th>2021-11-03</th>\n",
       "      <td>-1.516188</td>\n",
       "      <td>-1.825030</td>\n",
       "      <td>0.033140</td>\n",
       "      <td>0.025397</td>\n",
       "      <td>-0.002614</td>\n",
       "      <td>-0.002614</td>\n",
       "    </tr>\n",
       "    <tr>\n",
       "      <th>2021-11-04</th>\n",
       "      <td>-1.474454</td>\n",
       "      <td>-1.774795</td>\n",
       "      <td>-0.001527</td>\n",
       "      <td>0.001327</td>\n",
       "      <td>0.002618</td>\n",
       "      <td>0.000004</td>\n",
       "    </tr>\n",
       "    <tr>\n",
       "      <th>2021-11-05</th>\n",
       "      <td>-1.723543</td>\n",
       "      <td>-2.074623</td>\n",
       "      <td>0.030596</td>\n",
       "      <td>0.008834</td>\n",
       "      <td>-0.017027</td>\n",
       "      <td>-0.017023</td>\n",
       "    </tr>\n",
       "    <tr>\n",
       "      <th>2021-11-08</th>\n",
       "      <td>-1.520660</td>\n",
       "      <td>-1.830413</td>\n",
       "      <td>-0.016329</td>\n",
       "      <td>-0.000876</td>\n",
       "      <td>0.012926</td>\n",
       "      <td>-0.004097</td>\n",
       "    </tr>\n",
       "    <tr>\n",
       "      <th>...</th>\n",
       "      <td>...</td>\n",
       "      <td>...</td>\n",
       "      <td>...</td>\n",
       "      <td>...</td>\n",
       "      <td>...</td>\n",
       "      <td>...</td>\n",
       "    </tr>\n",
       "    <tr>\n",
       "      <th>2023-05-11</th>\n",
       "      <td>4.070863</td>\n",
       "      <td>4.900085</td>\n",
       "      <td>-0.003676</td>\n",
       "      <td>0.005030</td>\n",
       "      <td>-0.008137</td>\n",
       "      <td>-0.242089</td>\n",
       "    </tr>\n",
       "    <tr>\n",
       "      <th>2023-05-12</th>\n",
       "      <td>4.404255</td>\n",
       "      <td>5.301388</td>\n",
       "      <td>-0.009225</td>\n",
       "      <td>0.005593</td>\n",
       "      <td>-0.013390</td>\n",
       "      <td>-0.255479</td>\n",
       "    </tr>\n",
       "    <tr>\n",
       "      <th>2023-05-15</th>\n",
       "      <td>2.676939</td>\n",
       "      <td>3.222223</td>\n",
       "      <td>0.002607</td>\n",
       "      <td>-0.059134</td>\n",
       "      <td>0.061337</td>\n",
       "      <td>-0.194142</td>\n",
       "    </tr>\n",
       "    <tr>\n",
       "      <th>2023-05-16</th>\n",
       "      <td>3.022297</td>\n",
       "      <td>3.637929</td>\n",
       "      <td>-0.017831</td>\n",
       "      <td>0.000311</td>\n",
       "      <td>-0.015382</td>\n",
       "      <td>-0.209524</td>\n",
       "    </tr>\n",
       "    <tr>\n",
       "      <th>2023-05-17</th>\n",
       "      <td>2.746362</td>\n",
       "      <td>3.305787</td>\n",
       "      <td>0.006808</td>\n",
       "      <td>-0.005599</td>\n",
       "      <td>0.011353</td>\n",
       "      <td>-0.198171</td>\n",
       "    </tr>\n",
       "  </tbody>\n",
       "</table>\n",
       "<p>384 rows × 6 columns</p>\n",
       "</div>"
      ],
      "text/plain": [
       "              ZScore   Residuo  MULT3.SA  BBSE3.SA     sinal  retornos_acc\n",
       "Date                                                                      \n",
       "2021-11-01 -1.510851 -1.818607       NaN       NaN       NaN           NaN\n",
       "2021-11-03 -1.516188 -1.825030  0.033140  0.025397 -0.002614     -0.002614\n",
       "2021-11-04 -1.474454 -1.774795 -0.001527  0.001327  0.002618      0.000004\n",
       "2021-11-05 -1.723543 -2.074623  0.030596  0.008834 -0.017027     -0.017023\n",
       "2021-11-08 -1.520660 -1.830413 -0.016329 -0.000876  0.012926     -0.004097\n",
       "...              ...       ...       ...       ...       ...           ...\n",
       "2023-05-11  4.070863  4.900085 -0.003676  0.005030 -0.008137     -0.242089\n",
       "2023-05-12  4.404255  5.301388 -0.009225  0.005593 -0.013390     -0.255479\n",
       "2023-05-15  2.676939  3.222223  0.002607 -0.059134  0.061337     -0.194142\n",
       "2023-05-16  3.022297  3.637929 -0.017831  0.000311 -0.015382     -0.209524\n",
       "2023-05-17  2.746362  3.305787  0.006808 -0.005599  0.011353     -0.198171\n",
       "\n",
       "[384 rows x 6 columns]"
      ]
     },
     "execution_count": 47,
     "metadata": {},
     "output_type": "execute_result"
    }
   ],
   "source": [
    "resultados"
   ]
  },
  {
   "cell_type": "code",
   "execution_count": 48,
   "id": "9b10c9cd",
   "metadata": {},
   "outputs": [
    {
     "data": {
      "application/vnd.plotly.v1+json": {
       "config": {
        "plotlyServerURL": "https://plot.ly"
       },
       "data": [
        {
         "line": {
          "color": "black"
         },
         "name": "Z Score",
         "type": "scatter",
         "x": [
          "2021-11-01T00:00:00",
          "2021-11-03T00:00:00",
          "2021-11-04T00:00:00",
          "2021-11-05T00:00:00",
          "2021-11-08T00:00:00",
          "2021-11-09T00:00:00",
          "2021-11-10T00:00:00",
          "2021-11-11T00:00:00",
          "2021-11-12T00:00:00",
          "2021-11-16T00:00:00",
          "2021-11-17T00:00:00",
          "2021-11-18T00:00:00",
          "2021-11-19T00:00:00",
          "2021-11-22T00:00:00",
          "2021-11-23T00:00:00",
          "2021-11-24T00:00:00",
          "2021-11-25T00:00:00",
          "2021-11-26T00:00:00",
          "2021-11-29T00:00:00",
          "2021-11-30T00:00:00",
          "2021-12-01T00:00:00",
          "2021-12-02T00:00:00",
          "2021-12-03T00:00:00",
          "2021-12-06T00:00:00",
          "2021-12-07T00:00:00",
          "2021-12-08T00:00:00",
          "2021-12-09T00:00:00",
          "2021-12-10T00:00:00",
          "2021-12-13T00:00:00",
          "2021-12-14T00:00:00",
          "2021-12-15T00:00:00",
          "2021-12-16T00:00:00",
          "2021-12-17T00:00:00",
          "2021-12-20T00:00:00",
          "2021-12-21T00:00:00",
          "2021-12-22T00:00:00",
          "2021-12-23T00:00:00",
          "2021-12-27T00:00:00",
          "2021-12-28T00:00:00",
          "2021-12-29T00:00:00",
          "2021-12-30T00:00:00",
          "2022-01-03T00:00:00",
          "2022-01-04T00:00:00",
          "2022-01-05T00:00:00",
          "2022-01-06T00:00:00",
          "2022-01-07T00:00:00",
          "2022-01-10T00:00:00",
          "2022-01-11T00:00:00",
          "2022-01-12T00:00:00",
          "2022-01-13T00:00:00",
          "2022-01-14T00:00:00",
          "2022-01-17T00:00:00",
          "2022-01-18T00:00:00",
          "2022-01-19T00:00:00",
          "2022-01-20T00:00:00",
          "2022-01-21T00:00:00",
          "2022-01-24T00:00:00",
          "2022-01-25T00:00:00",
          "2022-01-26T00:00:00",
          "2022-01-27T00:00:00",
          "2022-01-28T00:00:00",
          "2022-01-31T00:00:00",
          "2022-02-01T00:00:00",
          "2022-02-02T00:00:00",
          "2022-02-03T00:00:00",
          "2022-02-04T00:00:00",
          "2022-02-07T00:00:00",
          "2022-02-08T00:00:00",
          "2022-02-09T00:00:00",
          "2022-02-10T00:00:00",
          "2022-02-11T00:00:00",
          "2022-02-14T00:00:00",
          "2022-02-15T00:00:00",
          "2022-02-16T00:00:00",
          "2022-02-17T00:00:00",
          "2022-02-18T00:00:00",
          "2022-02-21T00:00:00",
          "2022-02-22T00:00:00",
          "2022-02-23T00:00:00",
          "2022-02-24T00:00:00",
          "2022-02-25T00:00:00",
          "2022-03-02T00:00:00",
          "2022-03-03T00:00:00",
          "2022-03-04T00:00:00",
          "2022-03-07T00:00:00",
          "2022-03-08T00:00:00",
          "2022-03-09T00:00:00",
          "2022-03-10T00:00:00",
          "2022-03-11T00:00:00",
          "2022-03-14T00:00:00",
          "2022-03-15T00:00:00",
          "2022-03-16T00:00:00",
          "2022-03-17T00:00:00",
          "2022-03-18T00:00:00",
          "2022-03-21T00:00:00",
          "2022-03-22T00:00:00",
          "2022-03-23T00:00:00",
          "2022-03-24T00:00:00",
          "2022-03-25T00:00:00",
          "2022-03-28T00:00:00",
          "2022-03-29T00:00:00",
          "2022-03-30T00:00:00",
          "2022-03-31T00:00:00",
          "2022-04-01T00:00:00",
          "2022-04-04T00:00:00",
          "2022-04-05T00:00:00",
          "2022-04-06T00:00:00",
          "2022-04-07T00:00:00",
          "2022-04-08T00:00:00",
          "2022-04-11T00:00:00",
          "2022-04-12T00:00:00",
          "2022-04-13T00:00:00",
          "2022-04-14T00:00:00",
          "2022-04-18T00:00:00",
          "2022-04-19T00:00:00",
          "2022-04-20T00:00:00",
          "2022-04-22T00:00:00",
          "2022-04-25T00:00:00",
          "2022-04-26T00:00:00",
          "2022-04-27T00:00:00",
          "2022-04-28T00:00:00",
          "2022-04-29T00:00:00",
          "2022-05-02T00:00:00",
          "2022-05-03T00:00:00",
          "2022-05-04T00:00:00",
          "2022-05-05T00:00:00",
          "2022-05-06T00:00:00",
          "2022-05-09T00:00:00",
          "2022-05-10T00:00:00",
          "2022-05-11T00:00:00",
          "2022-05-12T00:00:00",
          "2022-05-13T00:00:00",
          "2022-05-16T00:00:00",
          "2022-05-17T00:00:00",
          "2022-05-18T00:00:00",
          "2022-05-19T00:00:00",
          "2022-05-20T00:00:00",
          "2022-05-23T00:00:00",
          "2022-05-24T00:00:00",
          "2022-05-25T00:00:00",
          "2022-05-26T00:00:00",
          "2022-05-27T00:00:00",
          "2022-05-30T00:00:00",
          "2022-05-31T00:00:00",
          "2022-06-01T00:00:00",
          "2022-06-02T00:00:00",
          "2022-06-03T00:00:00",
          "2022-06-06T00:00:00",
          "2022-06-07T00:00:00",
          "2022-06-08T00:00:00",
          "2022-06-09T00:00:00",
          "2022-06-10T00:00:00",
          "2022-06-13T00:00:00",
          "2022-06-14T00:00:00",
          "2022-06-15T00:00:00",
          "2022-06-17T00:00:00",
          "2022-06-20T00:00:00",
          "2022-06-21T00:00:00",
          "2022-06-22T00:00:00",
          "2022-06-23T00:00:00",
          "2022-06-24T00:00:00",
          "2022-06-27T00:00:00",
          "2022-06-28T00:00:00",
          "2022-06-29T00:00:00",
          "2022-06-30T00:00:00",
          "2022-07-01T00:00:00",
          "2022-07-04T00:00:00",
          "2022-07-05T00:00:00",
          "2022-07-06T00:00:00",
          "2022-07-07T00:00:00",
          "2022-07-08T00:00:00",
          "2022-07-11T00:00:00",
          "2022-07-12T00:00:00",
          "2022-07-13T00:00:00",
          "2022-07-14T00:00:00",
          "2022-07-15T00:00:00",
          "2022-07-18T00:00:00",
          "2022-07-19T00:00:00",
          "2022-07-20T00:00:00",
          "2022-07-21T00:00:00",
          "2022-07-22T00:00:00",
          "2022-07-25T00:00:00",
          "2022-07-26T00:00:00",
          "2022-07-27T00:00:00",
          "2022-07-28T00:00:00",
          "2022-07-29T00:00:00",
          "2022-08-01T00:00:00",
          "2022-08-02T00:00:00",
          "2022-08-03T00:00:00",
          "2022-08-04T00:00:00",
          "2022-08-05T00:00:00",
          "2022-08-08T00:00:00",
          "2022-08-09T00:00:00",
          "2022-08-10T00:00:00",
          "2022-08-11T00:00:00",
          "2022-08-12T00:00:00",
          "2022-08-15T00:00:00",
          "2022-08-16T00:00:00",
          "2022-08-17T00:00:00",
          "2022-08-18T00:00:00",
          "2022-08-19T00:00:00",
          "2022-08-22T00:00:00",
          "2022-08-23T00:00:00",
          "2022-08-24T00:00:00",
          "2022-08-25T00:00:00",
          "2022-08-26T00:00:00",
          "2022-08-29T00:00:00",
          "2022-08-30T00:00:00",
          "2022-08-31T00:00:00",
          "2022-09-01T00:00:00",
          "2022-09-02T00:00:00",
          "2022-09-05T00:00:00",
          "2022-09-06T00:00:00",
          "2022-09-08T00:00:00",
          "2022-09-09T00:00:00",
          "2022-09-12T00:00:00",
          "2022-09-13T00:00:00",
          "2022-09-14T00:00:00",
          "2022-09-15T00:00:00",
          "2022-09-16T00:00:00",
          "2022-09-19T00:00:00",
          "2022-09-20T00:00:00",
          "2022-09-21T00:00:00",
          "2022-09-22T00:00:00",
          "2022-09-23T00:00:00",
          "2022-09-26T00:00:00",
          "2022-09-27T00:00:00",
          "2022-09-28T00:00:00",
          "2022-09-29T00:00:00",
          "2022-09-30T00:00:00",
          "2022-10-03T00:00:00",
          "2022-10-04T00:00:00",
          "2022-10-05T00:00:00",
          "2022-10-06T00:00:00",
          "2022-10-07T00:00:00",
          "2022-10-10T00:00:00",
          "2022-10-11T00:00:00",
          "2022-10-13T00:00:00",
          "2022-10-14T00:00:00",
          "2022-10-17T00:00:00",
          "2022-10-18T00:00:00",
          "2022-10-19T00:00:00",
          "2022-10-20T00:00:00",
          "2022-10-21T00:00:00",
          "2022-10-24T00:00:00",
          "2022-10-25T00:00:00",
          "2022-10-26T00:00:00",
          "2022-10-27T00:00:00",
          "2022-10-28T00:00:00",
          "2022-10-31T00:00:00",
          "2022-11-01T00:00:00",
          "2022-11-03T00:00:00",
          "2022-11-04T00:00:00",
          "2022-11-07T00:00:00",
          "2022-11-08T00:00:00",
          "2022-11-09T00:00:00",
          "2022-11-10T00:00:00",
          "2022-11-11T00:00:00",
          "2022-11-14T00:00:00",
          "2022-11-16T00:00:00",
          "2022-11-17T00:00:00",
          "2022-11-18T00:00:00",
          "2022-11-21T00:00:00",
          "2022-11-22T00:00:00",
          "2022-11-23T00:00:00",
          "2022-11-24T00:00:00",
          "2022-11-25T00:00:00",
          "2022-11-28T00:00:00",
          "2022-11-29T00:00:00",
          "2022-11-30T00:00:00",
          "2022-12-01T00:00:00",
          "2022-12-02T00:00:00",
          "2022-12-05T00:00:00",
          "2022-12-06T00:00:00",
          "2022-12-07T00:00:00",
          "2022-12-08T00:00:00",
          "2022-12-09T00:00:00",
          "2022-12-12T00:00:00",
          "2022-12-13T00:00:00",
          "2022-12-14T00:00:00",
          "2022-12-15T00:00:00",
          "2022-12-16T00:00:00",
          "2022-12-19T00:00:00",
          "2022-12-20T00:00:00",
          "2022-12-21T00:00:00",
          "2022-12-22T00:00:00",
          "2022-12-23T00:00:00",
          "2022-12-26T00:00:00",
          "2022-12-27T00:00:00",
          "2022-12-28T00:00:00",
          "2022-12-29T00:00:00",
          "2023-01-02T00:00:00",
          "2023-01-03T00:00:00",
          "2023-01-04T00:00:00",
          "2023-01-05T00:00:00",
          "2023-01-06T00:00:00",
          "2023-01-09T00:00:00",
          "2023-01-10T00:00:00",
          "2023-01-11T00:00:00",
          "2023-01-12T00:00:00",
          "2023-01-13T00:00:00",
          "2023-01-16T00:00:00",
          "2023-01-17T00:00:00",
          "2023-01-18T00:00:00",
          "2023-01-19T00:00:00",
          "2023-01-20T00:00:00",
          "2023-01-23T00:00:00",
          "2023-01-24T00:00:00",
          "2023-01-25T00:00:00",
          "2023-01-26T00:00:00",
          "2023-01-27T00:00:00",
          "2023-01-30T00:00:00",
          "2023-01-31T00:00:00",
          "2023-02-01T00:00:00",
          "2023-02-02T00:00:00",
          "2023-02-03T00:00:00",
          "2023-02-06T00:00:00",
          "2023-02-07T00:00:00",
          "2023-02-08T00:00:00",
          "2023-02-09T00:00:00",
          "2023-02-10T00:00:00",
          "2023-02-13T00:00:00",
          "2023-02-14T00:00:00",
          "2023-02-15T00:00:00",
          "2023-02-16T00:00:00",
          "2023-02-17T00:00:00",
          "2023-02-22T00:00:00",
          "2023-02-23T00:00:00",
          "2023-02-24T00:00:00",
          "2023-02-27T00:00:00",
          "2023-02-28T00:00:00",
          "2023-03-01T00:00:00",
          "2023-03-02T00:00:00",
          "2023-03-03T00:00:00",
          "2023-03-06T00:00:00",
          "2023-03-07T00:00:00",
          "2023-03-08T00:00:00",
          "2023-03-09T00:00:00",
          "2023-03-10T00:00:00",
          "2023-03-13T00:00:00",
          "2023-03-14T00:00:00",
          "2023-03-15T00:00:00",
          "2023-03-16T00:00:00",
          "2023-03-17T00:00:00",
          "2023-03-20T00:00:00",
          "2023-03-21T00:00:00",
          "2023-03-22T00:00:00",
          "2023-03-23T00:00:00",
          "2023-03-24T00:00:00",
          "2023-03-27T00:00:00",
          "2023-03-28T00:00:00",
          "2023-03-29T00:00:00",
          "2023-03-30T00:00:00",
          "2023-03-31T00:00:00",
          "2023-04-03T00:00:00",
          "2023-04-04T00:00:00",
          "2023-04-05T00:00:00",
          "2023-04-06T00:00:00",
          "2023-04-10T00:00:00",
          "2023-04-11T00:00:00",
          "2023-04-12T00:00:00",
          "2023-04-13T00:00:00",
          "2023-04-14T00:00:00",
          "2023-04-17T00:00:00",
          "2023-04-18T00:00:00",
          "2023-04-19T00:00:00",
          "2023-04-20T00:00:00",
          "2023-04-24T00:00:00",
          "2023-04-25T00:00:00",
          "2023-04-26T00:00:00",
          "2023-04-27T00:00:00",
          "2023-04-28T00:00:00",
          "2023-05-02T00:00:00",
          "2023-05-03T00:00:00",
          "2023-05-04T00:00:00",
          "2023-05-05T00:00:00",
          "2023-05-08T00:00:00",
          "2023-05-09T00:00:00",
          "2023-05-10T00:00:00",
          "2023-05-11T00:00:00",
          "2023-05-12T00:00:00",
          "2023-05-15T00:00:00",
          "2023-05-16T00:00:00",
          "2023-05-17T00:00:00"
         ],
         "xaxis": "x",
         "y": [
          null,
          -0.26139813726066063,
          0.0003853522819215714,
          -1.7022941430827845,
          -0.4097345683468244,
          0.7766142054920112,
          -3.4282646929771046,
          -3.9454267716611273,
          -4.84710077932526,
          -2.868180947548501,
          -2.83230555923341,
          -4.817103121065284,
          -8.396430907487886,
          -7.6456543943823645,
          -8.567438778447203,
          -7.89065656576554,
          -6.948335727656624,
          -5.372231409582039,
          -5.847009838244608,
          -8.190761853617971,
          -8.707233468181903,
          -9.278539585316434,
          -11.444597041049853,
          -10.721050008783854,
          -8.675897914788507,
          -9.50819868424905,
          -10.581742370155183,
          -11.386639341204553,
          -12.083594701177585,
          -9.48485066278305,
          -8.875317548843414,
          -8.415948527287947,
          -11.48246256391144,
          -8.321322677671805,
          -7.012228730937643,
          -7.105716806766334,
          -6.211463125417552,
          -5.940470817689628,
          -7.045285681699075,
          -6.395902494435794,
          -7.43210685936382,
          -2.4208824366001434,
          -2.276120212200654,
          -0.13515736917272364,
          0.5038533701574711,
          -2.4753701146003366,
          -3.8339743164383364,
          -6.403823627291063,
          -12.866819940828844,
          -12.944041577553026,
          -13.262188184019003,
          -10.85115748139716,
          -8.061623349843448,
          -8.270958389514647,
          -12.686169746828305,
          -13.855611099569224,
          -11.250121392040983,
          -13.429770639801633,
          -14.790445910651018,
          -11.117813520593327,
          -9.70356104931393,
          -8.589292477871671,
          -7.114936998451958,
          -8.090097808605755,
          -7.519909981859994,
          -6.748583969056036,
          -1.7046483279964817,
          -2.234839268307401,
          -3.707000911494736,
          -3.100310115397536,
          -7.260641079313446,
          -6.44408503208089,
          -8.795794741947102,
          -7.8962265094261115,
          -7.01355152133068,
          -7.313515439085914,
          -5.370087495574281,
          -6.990439274298491,
          -7.103634517372782,
          -6.659632672900624,
          -7.330094107983906,
          -4.434696882587963,
          -5.825312305197361,
          -5.554307857331864,
          -4.977980422239782,
          -6.180309803357889,
          -6.738349859433633,
          -5.375727356150021,
          -3.1550380709614663,
          -1.79753434539887,
          -0.5352252144262557,
          0.07939831162889749,
          -0.057791932840215755,
          -3.1845125617133876,
          -3.4864359947907637,
          -5.2475387724034315,
          -6.2311719667669605,
          -9.989145102793634,
          -10.689673515362726,
          -10.013722274072373,
          -11.54012120359014,
          -9.996067931728673,
          -6.086988437488251,
          -7.825071755809236,
          -7.750090761432612,
          -10.610890750135333,
          -6.848682081752116,
          -5.713341568524578,
          -3.5150025434259886,
          -3.9917557882829238,
          -4.909872881591104,
          -3.7367918895585825,
          -2.3298606614703736,
          -2.3298606614703736,
          -4.261220926593717,
          -4.261220926593717,
          -4.261220926593717,
          -4.261220926593717,
          -4.261220926593717,
          -4.261220926593717,
          -5.818052359748075,
          -10.982787316593923,
          -11.12159652860626,
          -10.650320790771167,
          -10.72052841191367,
          -8.79562483914642,
          -9.190420846226562,
          -6.470344336455868,
          -9.316551125168559,
          -9.254827219664923,
          -9.650685102617485,
          -10.770138824828315,
          -14.861431757074527,
          -13.038709498031317,
          -10.568355674522946,
          -10.953680858992108,
          -12.194180020802213,
          -9.86672996770603,
          -7.673033615953793,
          -6.547243826211273,
          -6.82322653355605,
          -6.45703793070359,
          -5.466821722904455,
          -5.466821722904455,
          -5.466821722904455,
          -7.923853815980721,
          -10.590035830738195,
          -9.34331089721261,
          -8.313155662178401,
          -8.238383847679739,
          -6.697499865100993,
          -8.36573397156904,
          -5.728625894983994,
          -5.810133183383201,
          -6.892368653259551,
          -6.527272153871044,
          -6.102326353750781,
          -6.102326353750781,
          -9.267378502382666,
          -8.725088791186456,
          -8.110624169313231,
          -8.627848239258048,
          -7.399410194581492,
          -7.399410194581492,
          -7.399410194581492,
          -7.399410194581492,
          -7.399410194581492,
          -8.449650463363218,
          -11.331922358534188,
          -13.738971551857803,
          -14.801587367879577,
          -12.413097329364462,
          -12.780685060429233,
          -13.385366843119748,
          -8.407936068117476,
          -8.407936068117476,
          -8.407936068117476,
          -8.407936068117476,
          -8.407936068117476,
          -8.407936068117476,
          -8.407936068117476,
          -8.407936068117476,
          -8.407936068117476,
          -8.407936068117476,
          -8.407936068117476,
          -8.407936068117476,
          -8.407936068117476,
          -8.407936068117476,
          -8.407936068117476,
          -8.407936068117476,
          -8.407936068117476,
          -8.407936068117476,
          -8.407936068117476,
          -8.407936068117476,
          -8.407936068117476,
          -8.407936068117476,
          -8.407936068117476,
          -8.407936068117476,
          -8.407936068117476,
          -8.407936068117476,
          -8.407936068117476,
          -8.407936068117476,
          -8.407936068117476,
          -8.407936068117476,
          -8.407936068117476,
          -8.407936068117476,
          -8.407936068117476,
          -8.407936068117476,
          -8.407936068117476,
          -8.407936068117476,
          -8.407936068117476,
          -8.407936068117476,
          -8.407936068117476,
          -8.407936068117476,
          -8.407936068117476,
          -8.407936068117476,
          -8.407936068117476,
          -8.407936068117476,
          -8.407936068117476,
          -13.932522404613302,
          -14.37568152021607,
          -14.835020230249796,
          -13.291271722243527,
          -10.69282906951453,
          -11.202866012194072,
          -11.812069721887212,
          -11.812069721887212,
          -11.812069721887212,
          -11.812069721887212,
          -11.812069721887212,
          -14.538837844347041,
          -16.464609123184555,
          -13.853998569076223,
          -13.853998569076223,
          -13.853998569076223,
          -13.853998569076223,
          -13.853998569076223,
          -13.853998569076223,
          -13.853998569076223,
          -13.853998569076223,
          -13.853998569076223,
          -13.853998569076223,
          -13.853998569076223,
          -13.853998569076223,
          -13.853998569076223,
          -13.853998569076223,
          -13.853998569076223,
          -13.853998569076223,
          -13.853998569076223,
          -13.853998569076223,
          -13.853998569076223,
          -13.853998569076223,
          -13.853998569076223,
          -13.853998569076223,
          -13.853998569076223,
          -19.047155840949667,
          -21.792309518647503,
          -25.288651319361144,
          -25.295597226573648,
          -26.21184276554418,
          -26.52474491161176,
          -26.838458321387836,
          -22.652921425420107,
          -24.25434969298741,
          -27.513776294376026,
          -26.415781407122047,
          -26.84638030385177,
          -26.282973561420757,
          -25.60234654410241,
          -27.616401247963335,
          -33.301503682913626,
          -32.66650479212688,
          -33.042423284920766,
          -33.71652739343774,
          -31.742371457272444,
          -33.934131777697054,
          -34.29347700232913,
          -35.44815008743608,
          -37.48265040941939,
          -38.33887292125935,
          -38.811667428577664,
          -41.14226330659664,
          -38.11388699449781,
          -37.98442407598802,
          -39.757730125222466,
          -40.986581429650485,
          -34.387167750826094,
          -35.553549590610686,
          -38.28829945612057,
          -36.162830218329134,
          -37.203503822104324,
          -40.84696329757777,
          -40.42584814114304,
          -39.487151645704394,
          -37.46403577065172,
          -38.11848397944348,
          -39.65759083731592,
          -38.58237293099728,
          -35.882157968573516,
          -37.05044161072832,
          -38.3405658601589,
          -38.9479609415207,
          -36.76940841083302,
          -37.696821268066024,
          -37.88800516902249,
          -39.455298963487635,
          -40.17834639488443,
          -38.97498402763189,
          -41.45610373981713,
          -40.44412436323122,
          -42.41405881647487,
          -43.15310044773047,
          -41.280631392620414,
          -38.84068233722819,
          -38.91519084265494,
          -42.094018117565085,
          -40.86358918481337,
          -41.887175859996226,
          -39.263832537523086,
          -36.337987423453576,
          -36.79373178553581,
          -38.29934548832784,
          -38.90457110022699,
          -38.83152042683582,
          -37.57313767078159,
          -36.712936027164325,
          -37.935109452352286,
          -36.501717515989974,
          -33.79615152231137,
          -32.31875225020443,
          -31.849728560872986,
          -30.358427816163836,
          -34.795818017624455,
          -37.266340826389346,
          -37.3380053925281,
          -36.88848122355644,
          -33.30026046247329,
          -33.233770863848875,
          -31.416503529453998,
          -30.568470287685674,
          -30.2213728715026,
          -26.833633407883394,
          -28.18871676932026,
          -29.088201420414983,
          -30.33484180105683,
          -30.66275799339997,
          -29.839938065801014,
          -32.92624907289774,
          -32.01303042285407,
          -30.70947163474813,
          -31.25932686326076,
          -29.640619112518753,
          -26.983013501818476,
          -27.821708323527655,
          -27.619269873559777,
          -28.638311369210168,
          -26.68584748187622,
          -30.26687335472688,
          -30.94345409710561,
          -31.257545229961202,
          -32.00870589725366,
          -30.927576286147062,
          -30.77642451034071,
          -29.688557193538006,
          -30.432921630955345,
          -32.314155320020355,
          -32.90183944390118,
          -32.63377100321813,
          -33.95494843992032,
          -34.59118654718614,
          -31.73254435264629,
          -29.066500791074912,
          -29.717930253220914,
          -26.748610400033357,
          -23.368819586850016,
          -22.356255711483243,
          -23.262272786555428,
          -23.659782630323654,
          -23.39518296496602,
          -24.20889012961606,
          -25.547923539550165,
          -19.414219677045548,
          -20.952412083954343,
          -19.817116230290193
         ],
         "yaxis": "y"
        }
       ],
       "layout": {
        "font": {
         "color": "Black",
         "size": 13
        },
        "height": 600,
        "hovermode": "x unified",
        "legend": {
         "title": {
          "text": "Carteira"
         }
        },
        "showlegend": false,
        "template": {
         "data": {
          "bar": [
           {
            "error_x": {
             "color": "#2a3f5f"
            },
            "error_y": {
             "color": "#2a3f5f"
            },
            "marker": {
             "line": {
              "color": "#E5ECF6",
              "width": 0.5
             },
             "pattern": {
              "fillmode": "overlay",
              "size": 10,
              "solidity": 0.2
             }
            },
            "type": "bar"
           }
          ],
          "barpolar": [
           {
            "marker": {
             "line": {
              "color": "#E5ECF6",
              "width": 0.5
             },
             "pattern": {
              "fillmode": "overlay",
              "size": 10,
              "solidity": 0.2
             }
            },
            "type": "barpolar"
           }
          ],
          "carpet": [
           {
            "aaxis": {
             "endlinecolor": "#2a3f5f",
             "gridcolor": "white",
             "linecolor": "white",
             "minorgridcolor": "white",
             "startlinecolor": "#2a3f5f"
            },
            "baxis": {
             "endlinecolor": "#2a3f5f",
             "gridcolor": "white",
             "linecolor": "white",
             "minorgridcolor": "white",
             "startlinecolor": "#2a3f5f"
            },
            "type": "carpet"
           }
          ],
          "choropleth": [
           {
            "colorbar": {
             "outlinewidth": 0,
             "ticks": ""
            },
            "type": "choropleth"
           }
          ],
          "contour": [
           {
            "colorbar": {
             "outlinewidth": 0,
             "ticks": ""
            },
            "colorscale": [
             [
              0,
              "#0d0887"
             ],
             [
              0.1111111111111111,
              "#46039f"
             ],
             [
              0.2222222222222222,
              "#7201a8"
             ],
             [
              0.3333333333333333,
              "#9c179e"
             ],
             [
              0.4444444444444444,
              "#bd3786"
             ],
             [
              0.5555555555555556,
              "#d8576b"
             ],
             [
              0.6666666666666666,
              "#ed7953"
             ],
             [
              0.7777777777777778,
              "#fb9f3a"
             ],
             [
              0.8888888888888888,
              "#fdca26"
             ],
             [
              1,
              "#f0f921"
             ]
            ],
            "type": "contour"
           }
          ],
          "contourcarpet": [
           {
            "colorbar": {
             "outlinewidth": 0,
             "ticks": ""
            },
            "type": "contourcarpet"
           }
          ],
          "heatmap": [
           {
            "colorbar": {
             "outlinewidth": 0,
             "ticks": ""
            },
            "colorscale": [
             [
              0,
              "#0d0887"
             ],
             [
              0.1111111111111111,
              "#46039f"
             ],
             [
              0.2222222222222222,
              "#7201a8"
             ],
             [
              0.3333333333333333,
              "#9c179e"
             ],
             [
              0.4444444444444444,
              "#bd3786"
             ],
             [
              0.5555555555555556,
              "#d8576b"
             ],
             [
              0.6666666666666666,
              "#ed7953"
             ],
             [
              0.7777777777777778,
              "#fb9f3a"
             ],
             [
              0.8888888888888888,
              "#fdca26"
             ],
             [
              1,
              "#f0f921"
             ]
            ],
            "type": "heatmap"
           }
          ],
          "heatmapgl": [
           {
            "colorbar": {
             "outlinewidth": 0,
             "ticks": ""
            },
            "colorscale": [
             [
              0,
              "#0d0887"
             ],
             [
              0.1111111111111111,
              "#46039f"
             ],
             [
              0.2222222222222222,
              "#7201a8"
             ],
             [
              0.3333333333333333,
              "#9c179e"
             ],
             [
              0.4444444444444444,
              "#bd3786"
             ],
             [
              0.5555555555555556,
              "#d8576b"
             ],
             [
              0.6666666666666666,
              "#ed7953"
             ],
             [
              0.7777777777777778,
              "#fb9f3a"
             ],
             [
              0.8888888888888888,
              "#fdca26"
             ],
             [
              1,
              "#f0f921"
             ]
            ],
            "type": "heatmapgl"
           }
          ],
          "histogram": [
           {
            "marker": {
             "pattern": {
              "fillmode": "overlay",
              "size": 10,
              "solidity": 0.2
             }
            },
            "type": "histogram"
           }
          ],
          "histogram2d": [
           {
            "colorbar": {
             "outlinewidth": 0,
             "ticks": ""
            },
            "colorscale": [
             [
              0,
              "#0d0887"
             ],
             [
              0.1111111111111111,
              "#46039f"
             ],
             [
              0.2222222222222222,
              "#7201a8"
             ],
             [
              0.3333333333333333,
              "#9c179e"
             ],
             [
              0.4444444444444444,
              "#bd3786"
             ],
             [
              0.5555555555555556,
              "#d8576b"
             ],
             [
              0.6666666666666666,
              "#ed7953"
             ],
             [
              0.7777777777777778,
              "#fb9f3a"
             ],
             [
              0.8888888888888888,
              "#fdca26"
             ],
             [
              1,
              "#f0f921"
             ]
            ],
            "type": "histogram2d"
           }
          ],
          "histogram2dcontour": [
           {
            "colorbar": {
             "outlinewidth": 0,
             "ticks": ""
            },
            "colorscale": [
             [
              0,
              "#0d0887"
             ],
             [
              0.1111111111111111,
              "#46039f"
             ],
             [
              0.2222222222222222,
              "#7201a8"
             ],
             [
              0.3333333333333333,
              "#9c179e"
             ],
             [
              0.4444444444444444,
              "#bd3786"
             ],
             [
              0.5555555555555556,
              "#d8576b"
             ],
             [
              0.6666666666666666,
              "#ed7953"
             ],
             [
              0.7777777777777778,
              "#fb9f3a"
             ],
             [
              0.8888888888888888,
              "#fdca26"
             ],
             [
              1,
              "#f0f921"
             ]
            ],
            "type": "histogram2dcontour"
           }
          ],
          "mesh3d": [
           {
            "colorbar": {
             "outlinewidth": 0,
             "ticks": ""
            },
            "type": "mesh3d"
           }
          ],
          "parcoords": [
           {
            "line": {
             "colorbar": {
              "outlinewidth": 0,
              "ticks": ""
             }
            },
            "type": "parcoords"
           }
          ],
          "pie": [
           {
            "automargin": true,
            "type": "pie"
           }
          ],
          "scatter": [
           {
            "fillpattern": {
             "fillmode": "overlay",
             "size": 10,
             "solidity": 0.2
            },
            "type": "scatter"
           }
          ],
          "scatter3d": [
           {
            "line": {
             "colorbar": {
              "outlinewidth": 0,
              "ticks": ""
             }
            },
            "marker": {
             "colorbar": {
              "outlinewidth": 0,
              "ticks": ""
             }
            },
            "type": "scatter3d"
           }
          ],
          "scattercarpet": [
           {
            "marker": {
             "colorbar": {
              "outlinewidth": 0,
              "ticks": ""
             }
            },
            "type": "scattercarpet"
           }
          ],
          "scattergeo": [
           {
            "marker": {
             "colorbar": {
              "outlinewidth": 0,
              "ticks": ""
             }
            },
            "type": "scattergeo"
           }
          ],
          "scattergl": [
           {
            "marker": {
             "colorbar": {
              "outlinewidth": 0,
              "ticks": ""
             }
            },
            "type": "scattergl"
           }
          ],
          "scattermapbox": [
           {
            "marker": {
             "colorbar": {
              "outlinewidth": 0,
              "ticks": ""
             }
            },
            "type": "scattermapbox"
           }
          ],
          "scatterpolar": [
           {
            "marker": {
             "colorbar": {
              "outlinewidth": 0,
              "ticks": ""
             }
            },
            "type": "scatterpolar"
           }
          ],
          "scatterpolargl": [
           {
            "marker": {
             "colorbar": {
              "outlinewidth": 0,
              "ticks": ""
             }
            },
            "type": "scatterpolargl"
           }
          ],
          "scatterternary": [
           {
            "marker": {
             "colorbar": {
              "outlinewidth": 0,
              "ticks": ""
             }
            },
            "type": "scatterternary"
           }
          ],
          "surface": [
           {
            "colorbar": {
             "outlinewidth": 0,
             "ticks": ""
            },
            "colorscale": [
             [
              0,
              "#0d0887"
             ],
             [
              0.1111111111111111,
              "#46039f"
             ],
             [
              0.2222222222222222,
              "#7201a8"
             ],
             [
              0.3333333333333333,
              "#9c179e"
             ],
             [
              0.4444444444444444,
              "#bd3786"
             ],
             [
              0.5555555555555556,
              "#d8576b"
             ],
             [
              0.6666666666666666,
              "#ed7953"
             ],
             [
              0.7777777777777778,
              "#fb9f3a"
             ],
             [
              0.8888888888888888,
              "#fdca26"
             ],
             [
              1,
              "#f0f921"
             ]
            ],
            "type": "surface"
           }
          ],
          "table": [
           {
            "cells": {
             "fill": {
              "color": "#EBF0F8"
             },
             "line": {
              "color": "white"
             }
            },
            "header": {
             "fill": {
              "color": "#C8D4E3"
             },
             "line": {
              "color": "white"
             }
            },
            "type": "table"
           }
          ]
         },
         "layout": {
          "annotationdefaults": {
           "arrowcolor": "#2a3f5f",
           "arrowhead": 0,
           "arrowwidth": 1
          },
          "autotypenumbers": "strict",
          "coloraxis": {
           "colorbar": {
            "outlinewidth": 0,
            "ticks": ""
           }
          },
          "colorscale": {
           "diverging": [
            [
             0,
             "#8e0152"
            ],
            [
             0.1,
             "#c51b7d"
            ],
            [
             0.2,
             "#de77ae"
            ],
            [
             0.3,
             "#f1b6da"
            ],
            [
             0.4,
             "#fde0ef"
            ],
            [
             0.5,
             "#f7f7f7"
            ],
            [
             0.6,
             "#e6f5d0"
            ],
            [
             0.7,
             "#b8e186"
            ],
            [
             0.8,
             "#7fbc41"
            ],
            [
             0.9,
             "#4d9221"
            ],
            [
             1,
             "#276419"
            ]
           ],
           "sequential": [
            [
             0,
             "#0d0887"
            ],
            [
             0.1111111111111111,
             "#46039f"
            ],
            [
             0.2222222222222222,
             "#7201a8"
            ],
            [
             0.3333333333333333,
             "#9c179e"
            ],
            [
             0.4444444444444444,
             "#bd3786"
            ],
            [
             0.5555555555555556,
             "#d8576b"
            ],
            [
             0.6666666666666666,
             "#ed7953"
            ],
            [
             0.7777777777777778,
             "#fb9f3a"
            ],
            [
             0.8888888888888888,
             "#fdca26"
            ],
            [
             1,
             "#f0f921"
            ]
           ],
           "sequentialminus": [
            [
             0,
             "#0d0887"
            ],
            [
             0.1111111111111111,
             "#46039f"
            ],
            [
             0.2222222222222222,
             "#7201a8"
            ],
            [
             0.3333333333333333,
             "#9c179e"
            ],
            [
             0.4444444444444444,
             "#bd3786"
            ],
            [
             0.5555555555555556,
             "#d8576b"
            ],
            [
             0.6666666666666666,
             "#ed7953"
            ],
            [
             0.7777777777777778,
             "#fb9f3a"
            ],
            [
             0.8888888888888888,
             "#fdca26"
            ],
            [
             1,
             "#f0f921"
            ]
           ]
          },
          "colorway": [
           "#636efa",
           "#EF553B",
           "#00cc96",
           "#ab63fa",
           "#FFA15A",
           "#19d3f3",
           "#FF6692",
           "#B6E880",
           "#FF97FF",
           "#FECB52"
          ],
          "font": {
           "color": "#2a3f5f"
          },
          "geo": {
           "bgcolor": "white",
           "lakecolor": "white",
           "landcolor": "#E5ECF6",
           "showlakes": true,
           "showland": true,
           "subunitcolor": "white"
          },
          "hoverlabel": {
           "align": "left"
          },
          "hovermode": "closest",
          "mapbox": {
           "style": "light"
          },
          "paper_bgcolor": "white",
          "plot_bgcolor": "#E5ECF6",
          "polar": {
           "angularaxis": {
            "gridcolor": "white",
            "linecolor": "white",
            "ticks": ""
           },
           "bgcolor": "#E5ECF6",
           "radialaxis": {
            "gridcolor": "white",
            "linecolor": "white",
            "ticks": ""
           }
          },
          "scene": {
           "xaxis": {
            "backgroundcolor": "#E5ECF6",
            "gridcolor": "white",
            "gridwidth": 2,
            "linecolor": "white",
            "showbackground": true,
            "ticks": "",
            "zerolinecolor": "white"
           },
           "yaxis": {
            "backgroundcolor": "#E5ECF6",
            "gridcolor": "white",
            "gridwidth": 2,
            "linecolor": "white",
            "showbackground": true,
            "ticks": "",
            "zerolinecolor": "white"
           },
           "zaxis": {
            "backgroundcolor": "#E5ECF6",
            "gridcolor": "white",
            "gridwidth": 2,
            "linecolor": "white",
            "showbackground": true,
            "ticks": "",
            "zerolinecolor": "white"
           }
          },
          "shapedefaults": {
           "line": {
            "color": "#2a3f5f"
           }
          },
          "ternary": {
           "aaxis": {
            "gridcolor": "white",
            "linecolor": "white",
            "ticks": ""
           },
           "baxis": {
            "gridcolor": "white",
            "linecolor": "white",
            "ticks": ""
           },
           "bgcolor": "#E5ECF6",
           "caxis": {
            "gridcolor": "white",
            "linecolor": "white",
            "ticks": ""
           }
          },
          "title": {
           "x": 0.05
          },
          "xaxis": {
           "automargin": true,
           "gridcolor": "white",
           "linecolor": "white",
           "ticks": "",
           "title": {
            "standoff": 15
           },
           "zerolinecolor": "white",
           "zerolinewidth": 2
          },
          "yaxis": {
           "automargin": true,
           "gridcolor": "white",
           "linecolor": "white",
           "ticks": "",
           "title": {
            "standoff": 15
           },
           "zerolinecolor": "white",
           "zerolinewidth": 2
          }
         }
        },
        "title": {
         "font": {
          "color": "black"
         },
         "text": "Resultado - Long & Short por cointegração MULT3.SA - BBSE3.SA"
        },
        "width": 800,
        "xaxis": {
         "anchor": "y",
         "domain": [
          0,
          1
         ],
         "title": {
          "text": "Tempo"
         }
        },
        "yaxis": {
         "anchor": "x",
         "domain": [
          0,
          1
         ],
         "title": {
          "text": "Retorno (%)"
         }
        }
       }
      },
      "text/html": [
       "<div>                            <div id=\"b8c6a513-6c34-42a1-8c8e-bd4cd101c9f0\" class=\"plotly-graph-div\" style=\"height:600px; width:800px;\"></div>            <script type=\"text/javascript\">                require([\"plotly\"], function(Plotly) {                    window.PLOTLYENV=window.PLOTLYENV || {};                                    if (document.getElementById(\"b8c6a513-6c34-42a1-8c8e-bd4cd101c9f0\")) {                    Plotly.newPlot(                        \"b8c6a513-6c34-42a1-8c8e-bd4cd101c9f0\",                        [{\"line\":{\"color\":\"black\"},\"name\":\"Z Score\",\"x\":[\"2021-11-01T00:00:00\",\"2021-11-03T00:00:00\",\"2021-11-04T00:00:00\",\"2021-11-05T00:00:00\",\"2021-11-08T00:00:00\",\"2021-11-09T00:00:00\",\"2021-11-10T00:00:00\",\"2021-11-11T00:00:00\",\"2021-11-12T00:00:00\",\"2021-11-16T00:00:00\",\"2021-11-17T00:00:00\",\"2021-11-18T00:00:00\",\"2021-11-19T00:00:00\",\"2021-11-22T00:00:00\",\"2021-11-23T00:00:00\",\"2021-11-24T00:00:00\",\"2021-11-25T00:00:00\",\"2021-11-26T00:00:00\",\"2021-11-29T00:00:00\",\"2021-11-30T00:00:00\",\"2021-12-01T00:00:00\",\"2021-12-02T00:00:00\",\"2021-12-03T00:00:00\",\"2021-12-06T00:00:00\",\"2021-12-07T00:00:00\",\"2021-12-08T00:00:00\",\"2021-12-09T00:00:00\",\"2021-12-10T00:00:00\",\"2021-12-13T00:00:00\",\"2021-12-14T00:00:00\",\"2021-12-15T00:00:00\",\"2021-12-16T00:00:00\",\"2021-12-17T00:00:00\",\"2021-12-20T00:00:00\",\"2021-12-21T00:00:00\",\"2021-12-22T00:00:00\",\"2021-12-23T00:00:00\",\"2021-12-27T00:00:00\",\"2021-12-28T00:00:00\",\"2021-12-29T00:00:00\",\"2021-12-30T00:00:00\",\"2022-01-03T00:00:00\",\"2022-01-04T00:00:00\",\"2022-01-05T00:00:00\",\"2022-01-06T00:00:00\",\"2022-01-07T00:00:00\",\"2022-01-10T00:00:00\",\"2022-01-11T00:00:00\",\"2022-01-12T00:00:00\",\"2022-01-13T00:00:00\",\"2022-01-14T00:00:00\",\"2022-01-17T00:00:00\",\"2022-01-18T00:00:00\",\"2022-01-19T00:00:00\",\"2022-01-20T00:00:00\",\"2022-01-21T00:00:00\",\"2022-01-24T00:00:00\",\"2022-01-25T00:00:00\",\"2022-01-26T00:00:00\",\"2022-01-27T00:00:00\",\"2022-01-28T00:00:00\",\"2022-01-31T00:00:00\",\"2022-02-01T00:00:00\",\"2022-02-02T00:00:00\",\"2022-02-03T00:00:00\",\"2022-02-04T00:00:00\",\"2022-02-07T00:00:00\",\"2022-02-08T00:00:00\",\"2022-02-09T00:00:00\",\"2022-02-10T00:00:00\",\"2022-02-11T00:00:00\",\"2022-02-14T00:00:00\",\"2022-02-15T00:00:00\",\"2022-02-16T00:00:00\",\"2022-02-17T00:00:00\",\"2022-02-18T00:00:00\",\"2022-02-21T00:00:00\",\"2022-02-22T00:00:00\",\"2022-02-23T00:00:00\",\"2022-02-24T00:00:00\",\"2022-02-25T00:00:00\",\"2022-03-02T00:00:00\",\"2022-03-03T00:00:00\",\"2022-03-04T00:00:00\",\"2022-03-07T00:00:00\",\"2022-03-08T00:00:00\",\"2022-03-09T00:00:00\",\"2022-03-10T00:00:00\",\"2022-03-11T00:00:00\",\"2022-03-14T00:00:00\",\"2022-03-15T00:00:00\",\"2022-03-16T00:00:00\",\"2022-03-17T00:00:00\",\"2022-03-18T00:00:00\",\"2022-03-21T00:00:00\",\"2022-03-22T00:00:00\",\"2022-03-23T00:00:00\",\"2022-03-24T00:00:00\",\"2022-03-25T00:00:00\",\"2022-03-28T00:00:00\",\"2022-03-29T00:00:00\",\"2022-03-30T00:00:00\",\"2022-03-31T00:00:00\",\"2022-04-01T00:00:00\",\"2022-04-04T00:00:00\",\"2022-04-05T00:00:00\",\"2022-04-06T00:00:00\",\"2022-04-07T00:00:00\",\"2022-04-08T00:00:00\",\"2022-04-11T00:00:00\",\"2022-04-12T00:00:00\",\"2022-04-13T00:00:00\",\"2022-04-14T00:00:00\",\"2022-04-18T00:00:00\",\"2022-04-19T00:00:00\",\"2022-04-20T00:00:00\",\"2022-04-22T00:00:00\",\"2022-04-25T00:00:00\",\"2022-04-26T00:00:00\",\"2022-04-27T00:00:00\",\"2022-04-28T00:00:00\",\"2022-04-29T00:00:00\",\"2022-05-02T00:00:00\",\"2022-05-03T00:00:00\",\"2022-05-04T00:00:00\",\"2022-05-05T00:00:00\",\"2022-05-06T00:00:00\",\"2022-05-09T00:00:00\",\"2022-05-10T00:00:00\",\"2022-05-11T00:00:00\",\"2022-05-12T00:00:00\",\"2022-05-13T00:00:00\",\"2022-05-16T00:00:00\",\"2022-05-17T00:00:00\",\"2022-05-18T00:00:00\",\"2022-05-19T00:00:00\",\"2022-05-20T00:00:00\",\"2022-05-23T00:00:00\",\"2022-05-24T00:00:00\",\"2022-05-25T00:00:00\",\"2022-05-26T00:00:00\",\"2022-05-27T00:00:00\",\"2022-05-30T00:00:00\",\"2022-05-31T00:00:00\",\"2022-06-01T00:00:00\",\"2022-06-02T00:00:00\",\"2022-06-03T00:00:00\",\"2022-06-06T00:00:00\",\"2022-06-07T00:00:00\",\"2022-06-08T00:00:00\",\"2022-06-09T00:00:00\",\"2022-06-10T00:00:00\",\"2022-06-13T00:00:00\",\"2022-06-14T00:00:00\",\"2022-06-15T00:00:00\",\"2022-06-17T00:00:00\",\"2022-06-20T00:00:00\",\"2022-06-21T00:00:00\",\"2022-06-22T00:00:00\",\"2022-06-23T00:00:00\",\"2022-06-24T00:00:00\",\"2022-06-27T00:00:00\",\"2022-06-28T00:00:00\",\"2022-06-29T00:00:00\",\"2022-06-30T00:00:00\",\"2022-07-01T00:00:00\",\"2022-07-04T00:00:00\",\"2022-07-05T00:00:00\",\"2022-07-06T00:00:00\",\"2022-07-07T00:00:00\",\"2022-07-08T00:00:00\",\"2022-07-11T00:00:00\",\"2022-07-12T00:00:00\",\"2022-07-13T00:00:00\",\"2022-07-14T00:00:00\",\"2022-07-15T00:00:00\",\"2022-07-18T00:00:00\",\"2022-07-19T00:00:00\",\"2022-07-20T00:00:00\",\"2022-07-21T00:00:00\",\"2022-07-22T00:00:00\",\"2022-07-25T00:00:00\",\"2022-07-26T00:00:00\",\"2022-07-27T00:00:00\",\"2022-07-28T00:00:00\",\"2022-07-29T00:00:00\",\"2022-08-01T00:00:00\",\"2022-08-02T00:00:00\",\"2022-08-03T00:00:00\",\"2022-08-04T00:00:00\",\"2022-08-05T00:00:00\",\"2022-08-08T00:00:00\",\"2022-08-09T00:00:00\",\"2022-08-10T00:00:00\",\"2022-08-11T00:00:00\",\"2022-08-12T00:00:00\",\"2022-08-15T00:00:00\",\"2022-08-16T00:00:00\",\"2022-08-17T00:00:00\",\"2022-08-18T00:00:00\",\"2022-08-19T00:00:00\",\"2022-08-22T00:00:00\",\"2022-08-23T00:00:00\",\"2022-08-24T00:00:00\",\"2022-08-25T00:00:00\",\"2022-08-26T00:00:00\",\"2022-08-29T00:00:00\",\"2022-08-30T00:00:00\",\"2022-08-31T00:00:00\",\"2022-09-01T00:00:00\",\"2022-09-02T00:00:00\",\"2022-09-05T00:00:00\",\"2022-09-06T00:00:00\",\"2022-09-08T00:00:00\",\"2022-09-09T00:00:00\",\"2022-09-12T00:00:00\",\"2022-09-13T00:00:00\",\"2022-09-14T00:00:00\",\"2022-09-15T00:00:00\",\"2022-09-16T00:00:00\",\"2022-09-19T00:00:00\",\"2022-09-20T00:00:00\",\"2022-09-21T00:00:00\",\"2022-09-22T00:00:00\",\"2022-09-23T00:00:00\",\"2022-09-26T00:00:00\",\"2022-09-27T00:00:00\",\"2022-09-28T00:00:00\",\"2022-09-29T00:00:00\",\"2022-09-30T00:00:00\",\"2022-10-03T00:00:00\",\"2022-10-04T00:00:00\",\"2022-10-05T00:00:00\",\"2022-10-06T00:00:00\",\"2022-10-07T00:00:00\",\"2022-10-10T00:00:00\",\"2022-10-11T00:00:00\",\"2022-10-13T00:00:00\",\"2022-10-14T00:00:00\",\"2022-10-17T00:00:00\",\"2022-10-18T00:00:00\",\"2022-10-19T00:00:00\",\"2022-10-20T00:00:00\",\"2022-10-21T00:00:00\",\"2022-10-24T00:00:00\",\"2022-10-25T00:00:00\",\"2022-10-26T00:00:00\",\"2022-10-27T00:00:00\",\"2022-10-28T00:00:00\",\"2022-10-31T00:00:00\",\"2022-11-01T00:00:00\",\"2022-11-03T00:00:00\",\"2022-11-04T00:00:00\",\"2022-11-07T00:00:00\",\"2022-11-08T00:00:00\",\"2022-11-09T00:00:00\",\"2022-11-10T00:00:00\",\"2022-11-11T00:00:00\",\"2022-11-14T00:00:00\",\"2022-11-16T00:00:00\",\"2022-11-17T00:00:00\",\"2022-11-18T00:00:00\",\"2022-11-21T00:00:00\",\"2022-11-22T00:00:00\",\"2022-11-23T00:00:00\",\"2022-11-24T00:00:00\",\"2022-11-25T00:00:00\",\"2022-11-28T00:00:00\",\"2022-11-29T00:00:00\",\"2022-11-30T00:00:00\",\"2022-12-01T00:00:00\",\"2022-12-02T00:00:00\",\"2022-12-05T00:00:00\",\"2022-12-06T00:00:00\",\"2022-12-07T00:00:00\",\"2022-12-08T00:00:00\",\"2022-12-09T00:00:00\",\"2022-12-12T00:00:00\",\"2022-12-13T00:00:00\",\"2022-12-14T00:00:00\",\"2022-12-15T00:00:00\",\"2022-12-16T00:00:00\",\"2022-12-19T00:00:00\",\"2022-12-20T00:00:00\",\"2022-12-21T00:00:00\",\"2022-12-22T00:00:00\",\"2022-12-23T00:00:00\",\"2022-12-26T00:00:00\",\"2022-12-27T00:00:00\",\"2022-12-28T00:00:00\",\"2022-12-29T00:00:00\",\"2023-01-02T00:00:00\",\"2023-01-03T00:00:00\",\"2023-01-04T00:00:00\",\"2023-01-05T00:00:00\",\"2023-01-06T00:00:00\",\"2023-01-09T00:00:00\",\"2023-01-10T00:00:00\",\"2023-01-11T00:00:00\",\"2023-01-12T00:00:00\",\"2023-01-13T00:00:00\",\"2023-01-16T00:00:00\",\"2023-01-17T00:00:00\",\"2023-01-18T00:00:00\",\"2023-01-19T00:00:00\",\"2023-01-20T00:00:00\",\"2023-01-23T00:00:00\",\"2023-01-24T00:00:00\",\"2023-01-25T00:00:00\",\"2023-01-26T00:00:00\",\"2023-01-27T00:00:00\",\"2023-01-30T00:00:00\",\"2023-01-31T00:00:00\",\"2023-02-01T00:00:00\",\"2023-02-02T00:00:00\",\"2023-02-03T00:00:00\",\"2023-02-06T00:00:00\",\"2023-02-07T00:00:00\",\"2023-02-08T00:00:00\",\"2023-02-09T00:00:00\",\"2023-02-10T00:00:00\",\"2023-02-13T00:00:00\",\"2023-02-14T00:00:00\",\"2023-02-15T00:00:00\",\"2023-02-16T00:00:00\",\"2023-02-17T00:00:00\",\"2023-02-22T00:00:00\",\"2023-02-23T00:00:00\",\"2023-02-24T00:00:00\",\"2023-02-27T00:00:00\",\"2023-02-28T00:00:00\",\"2023-03-01T00:00:00\",\"2023-03-02T00:00:00\",\"2023-03-03T00:00:00\",\"2023-03-06T00:00:00\",\"2023-03-07T00:00:00\",\"2023-03-08T00:00:00\",\"2023-03-09T00:00:00\",\"2023-03-10T00:00:00\",\"2023-03-13T00:00:00\",\"2023-03-14T00:00:00\",\"2023-03-15T00:00:00\",\"2023-03-16T00:00:00\",\"2023-03-17T00:00:00\",\"2023-03-20T00:00:00\",\"2023-03-21T00:00:00\",\"2023-03-22T00:00:00\",\"2023-03-23T00:00:00\",\"2023-03-24T00:00:00\",\"2023-03-27T00:00:00\",\"2023-03-28T00:00:00\",\"2023-03-29T00:00:00\",\"2023-03-30T00:00:00\",\"2023-03-31T00:00:00\",\"2023-04-03T00:00:00\",\"2023-04-04T00:00:00\",\"2023-04-05T00:00:00\",\"2023-04-06T00:00:00\",\"2023-04-10T00:00:00\",\"2023-04-11T00:00:00\",\"2023-04-12T00:00:00\",\"2023-04-13T00:00:00\",\"2023-04-14T00:00:00\",\"2023-04-17T00:00:00\",\"2023-04-18T00:00:00\",\"2023-04-19T00:00:00\",\"2023-04-20T00:00:00\",\"2023-04-24T00:00:00\",\"2023-04-25T00:00:00\",\"2023-04-26T00:00:00\",\"2023-04-27T00:00:00\",\"2023-04-28T00:00:00\",\"2023-05-02T00:00:00\",\"2023-05-03T00:00:00\",\"2023-05-04T00:00:00\",\"2023-05-05T00:00:00\",\"2023-05-08T00:00:00\",\"2023-05-09T00:00:00\",\"2023-05-10T00:00:00\",\"2023-05-11T00:00:00\",\"2023-05-12T00:00:00\",\"2023-05-15T00:00:00\",\"2023-05-16T00:00:00\",\"2023-05-17T00:00:00\"],\"y\":[null,-0.26139813726066063,0.0003853522819215714,-1.7022941430827845,-0.4097345683468244,0.7766142054920112,-3.4282646929771046,-3.9454267716611273,-4.84710077932526,-2.868180947548501,-2.83230555923341,-4.817103121065284,-8.396430907487886,-7.6456543943823645,-8.567438778447203,-7.89065656576554,-6.948335727656624,-5.372231409582039,-5.847009838244608,-8.190761853617971,-8.707233468181903,-9.278539585316434,-11.444597041049853,-10.721050008783854,-8.675897914788507,-9.50819868424905,-10.581742370155183,-11.386639341204553,-12.083594701177585,-9.48485066278305,-8.875317548843414,-8.415948527287947,-11.48246256391144,-8.321322677671805,-7.012228730937643,-7.105716806766334,-6.211463125417552,-5.940470817689628,-7.045285681699075,-6.395902494435794,-7.43210685936382,-2.4208824366001434,-2.276120212200654,-0.13515736917272364,0.5038533701574711,-2.4753701146003366,-3.8339743164383364,-6.403823627291063,-12.866819940828844,-12.944041577553026,-13.262188184019003,-10.85115748139716,-8.061623349843448,-8.270958389514647,-12.686169746828305,-13.855611099569224,-11.250121392040983,-13.429770639801633,-14.790445910651018,-11.117813520593327,-9.70356104931393,-8.589292477871671,-7.114936998451958,-8.090097808605755,-7.519909981859994,-6.748583969056036,-1.7046483279964817,-2.234839268307401,-3.707000911494736,-3.100310115397536,-7.260641079313446,-6.44408503208089,-8.795794741947102,-7.8962265094261115,-7.01355152133068,-7.313515439085914,-5.370087495574281,-6.990439274298491,-7.103634517372782,-6.659632672900624,-7.330094107983906,-4.434696882587963,-5.825312305197361,-5.554307857331864,-4.977980422239782,-6.180309803357889,-6.738349859433633,-5.375727356150021,-3.1550380709614663,-1.79753434539887,-0.5352252144262557,0.07939831162889749,-0.057791932840215755,-3.1845125617133876,-3.4864359947907637,-5.2475387724034315,-6.2311719667669605,-9.989145102793634,-10.689673515362726,-10.013722274072373,-11.54012120359014,-9.996067931728673,-6.086988437488251,-7.825071755809236,-7.750090761432612,-10.610890750135333,-6.848682081752116,-5.713341568524578,-3.5150025434259886,-3.9917557882829238,-4.909872881591104,-3.7367918895585825,-2.3298606614703736,-2.3298606614703736,-4.261220926593717,-4.261220926593717,-4.261220926593717,-4.261220926593717,-4.261220926593717,-4.261220926593717,-5.818052359748075,-10.982787316593923,-11.12159652860626,-10.650320790771167,-10.72052841191367,-8.79562483914642,-9.190420846226562,-6.470344336455868,-9.316551125168559,-9.254827219664923,-9.650685102617485,-10.770138824828315,-14.861431757074527,-13.038709498031317,-10.568355674522946,-10.953680858992108,-12.194180020802213,-9.86672996770603,-7.673033615953793,-6.547243826211273,-6.82322653355605,-6.45703793070359,-5.466821722904455,-5.466821722904455,-5.466821722904455,-7.923853815980721,-10.590035830738195,-9.34331089721261,-8.313155662178401,-8.238383847679739,-6.697499865100993,-8.36573397156904,-5.728625894983994,-5.810133183383201,-6.892368653259551,-6.527272153871044,-6.102326353750781,-6.102326353750781,-9.267378502382666,-8.725088791186456,-8.110624169313231,-8.627848239258048,-7.399410194581492,-7.399410194581492,-7.399410194581492,-7.399410194581492,-7.399410194581492,-8.449650463363218,-11.331922358534188,-13.738971551857803,-14.801587367879577,-12.413097329364462,-12.780685060429233,-13.385366843119748,-8.407936068117476,-8.407936068117476,-8.407936068117476,-8.407936068117476,-8.407936068117476,-8.407936068117476,-8.407936068117476,-8.407936068117476,-8.407936068117476,-8.407936068117476,-8.407936068117476,-8.407936068117476,-8.407936068117476,-8.407936068117476,-8.407936068117476,-8.407936068117476,-8.407936068117476,-8.407936068117476,-8.407936068117476,-8.407936068117476,-8.407936068117476,-8.407936068117476,-8.407936068117476,-8.407936068117476,-8.407936068117476,-8.407936068117476,-8.407936068117476,-8.407936068117476,-8.407936068117476,-8.407936068117476,-8.407936068117476,-8.407936068117476,-8.407936068117476,-8.407936068117476,-8.407936068117476,-8.407936068117476,-8.407936068117476,-8.407936068117476,-8.407936068117476,-8.407936068117476,-8.407936068117476,-8.407936068117476,-8.407936068117476,-8.407936068117476,-8.407936068117476,-13.932522404613302,-14.37568152021607,-14.835020230249796,-13.291271722243527,-10.69282906951453,-11.202866012194072,-11.812069721887212,-11.812069721887212,-11.812069721887212,-11.812069721887212,-11.812069721887212,-14.538837844347041,-16.464609123184555,-13.853998569076223,-13.853998569076223,-13.853998569076223,-13.853998569076223,-13.853998569076223,-13.853998569076223,-13.853998569076223,-13.853998569076223,-13.853998569076223,-13.853998569076223,-13.853998569076223,-13.853998569076223,-13.853998569076223,-13.853998569076223,-13.853998569076223,-13.853998569076223,-13.853998569076223,-13.853998569076223,-13.853998569076223,-13.853998569076223,-13.853998569076223,-13.853998569076223,-13.853998569076223,-19.047155840949667,-21.792309518647503,-25.288651319361144,-25.295597226573648,-26.21184276554418,-26.52474491161176,-26.838458321387836,-22.652921425420107,-24.25434969298741,-27.513776294376026,-26.415781407122047,-26.84638030385177,-26.282973561420757,-25.60234654410241,-27.616401247963335,-33.301503682913626,-32.66650479212688,-33.042423284920766,-33.71652739343774,-31.742371457272444,-33.934131777697054,-34.29347700232913,-35.44815008743608,-37.48265040941939,-38.33887292125935,-38.811667428577664,-41.14226330659664,-38.11388699449781,-37.98442407598802,-39.757730125222466,-40.986581429650485,-34.387167750826094,-35.553549590610686,-38.28829945612057,-36.162830218329134,-37.203503822104324,-40.84696329757777,-40.42584814114304,-39.487151645704394,-37.46403577065172,-38.11848397944348,-39.65759083731592,-38.58237293099728,-35.882157968573516,-37.05044161072832,-38.3405658601589,-38.9479609415207,-36.76940841083302,-37.696821268066024,-37.88800516902249,-39.455298963487635,-40.17834639488443,-38.97498402763189,-41.45610373981713,-40.44412436323122,-42.41405881647487,-43.15310044773047,-41.280631392620414,-38.84068233722819,-38.91519084265494,-42.094018117565085,-40.86358918481337,-41.887175859996226,-39.263832537523086,-36.337987423453576,-36.79373178553581,-38.29934548832784,-38.90457110022699,-38.83152042683582,-37.57313767078159,-36.712936027164325,-37.935109452352286,-36.501717515989974,-33.79615152231137,-32.31875225020443,-31.849728560872986,-30.358427816163836,-34.795818017624455,-37.266340826389346,-37.3380053925281,-36.88848122355644,-33.30026046247329,-33.233770863848875,-31.416503529453998,-30.568470287685674,-30.2213728715026,-26.833633407883394,-28.18871676932026,-29.088201420414983,-30.33484180105683,-30.66275799339997,-29.839938065801014,-32.92624907289774,-32.01303042285407,-30.70947163474813,-31.25932686326076,-29.640619112518753,-26.983013501818476,-27.821708323527655,-27.619269873559777,-28.638311369210168,-26.68584748187622,-30.26687335472688,-30.94345409710561,-31.257545229961202,-32.00870589725366,-30.927576286147062,-30.77642451034071,-29.688557193538006,-30.432921630955345,-32.314155320020355,-32.90183944390118,-32.63377100321813,-33.95494843992032,-34.59118654718614,-31.73254435264629,-29.066500791074912,-29.717930253220914,-26.748610400033357,-23.368819586850016,-22.356255711483243,-23.262272786555428,-23.659782630323654,-23.39518296496602,-24.20889012961606,-25.547923539550165,-19.414219677045548,-20.952412083954343,-19.817116230290193],\"type\":\"scatter\",\"xaxis\":\"x\",\"yaxis\":\"y\"}],                        {\"template\":{\"data\":{\"histogram2dcontour\":[{\"type\":\"histogram2dcontour\",\"colorbar\":{\"outlinewidth\":0,\"ticks\":\"\"},\"colorscale\":[[0.0,\"#0d0887\"],[0.1111111111111111,\"#46039f\"],[0.2222222222222222,\"#7201a8\"],[0.3333333333333333,\"#9c179e\"],[0.4444444444444444,\"#bd3786\"],[0.5555555555555556,\"#d8576b\"],[0.6666666666666666,\"#ed7953\"],[0.7777777777777778,\"#fb9f3a\"],[0.8888888888888888,\"#fdca26\"],[1.0,\"#f0f921\"]]}],\"choropleth\":[{\"type\":\"choropleth\",\"colorbar\":{\"outlinewidth\":0,\"ticks\":\"\"}}],\"histogram2d\":[{\"type\":\"histogram2d\",\"colorbar\":{\"outlinewidth\":0,\"ticks\":\"\"},\"colorscale\":[[0.0,\"#0d0887\"],[0.1111111111111111,\"#46039f\"],[0.2222222222222222,\"#7201a8\"],[0.3333333333333333,\"#9c179e\"],[0.4444444444444444,\"#bd3786\"],[0.5555555555555556,\"#d8576b\"],[0.6666666666666666,\"#ed7953\"],[0.7777777777777778,\"#fb9f3a\"],[0.8888888888888888,\"#fdca26\"],[1.0,\"#f0f921\"]]}],\"heatmap\":[{\"type\":\"heatmap\",\"colorbar\":{\"outlinewidth\":0,\"ticks\":\"\"},\"colorscale\":[[0.0,\"#0d0887\"],[0.1111111111111111,\"#46039f\"],[0.2222222222222222,\"#7201a8\"],[0.3333333333333333,\"#9c179e\"],[0.4444444444444444,\"#bd3786\"],[0.5555555555555556,\"#d8576b\"],[0.6666666666666666,\"#ed7953\"],[0.7777777777777778,\"#fb9f3a\"],[0.8888888888888888,\"#fdca26\"],[1.0,\"#f0f921\"]]}],\"heatmapgl\":[{\"type\":\"heatmapgl\",\"colorbar\":{\"outlinewidth\":0,\"ticks\":\"\"},\"colorscale\":[[0.0,\"#0d0887\"],[0.1111111111111111,\"#46039f\"],[0.2222222222222222,\"#7201a8\"],[0.3333333333333333,\"#9c179e\"],[0.4444444444444444,\"#bd3786\"],[0.5555555555555556,\"#d8576b\"],[0.6666666666666666,\"#ed7953\"],[0.7777777777777778,\"#fb9f3a\"],[0.8888888888888888,\"#fdca26\"],[1.0,\"#f0f921\"]]}],\"contourcarpet\":[{\"type\":\"contourcarpet\",\"colorbar\":{\"outlinewidth\":0,\"ticks\":\"\"}}],\"contour\":[{\"type\":\"contour\",\"colorbar\":{\"outlinewidth\":0,\"ticks\":\"\"},\"colorscale\":[[0.0,\"#0d0887\"],[0.1111111111111111,\"#46039f\"],[0.2222222222222222,\"#7201a8\"],[0.3333333333333333,\"#9c179e\"],[0.4444444444444444,\"#bd3786\"],[0.5555555555555556,\"#d8576b\"],[0.6666666666666666,\"#ed7953\"],[0.7777777777777778,\"#fb9f3a\"],[0.8888888888888888,\"#fdca26\"],[1.0,\"#f0f921\"]]}],\"surface\":[{\"type\":\"surface\",\"colorbar\":{\"outlinewidth\":0,\"ticks\":\"\"},\"colorscale\":[[0.0,\"#0d0887\"],[0.1111111111111111,\"#46039f\"],[0.2222222222222222,\"#7201a8\"],[0.3333333333333333,\"#9c179e\"],[0.4444444444444444,\"#bd3786\"],[0.5555555555555556,\"#d8576b\"],[0.6666666666666666,\"#ed7953\"],[0.7777777777777778,\"#fb9f3a\"],[0.8888888888888888,\"#fdca26\"],[1.0,\"#f0f921\"]]}],\"mesh3d\":[{\"type\":\"mesh3d\",\"colorbar\":{\"outlinewidth\":0,\"ticks\":\"\"}}],\"scatter\":[{\"fillpattern\":{\"fillmode\":\"overlay\",\"size\":10,\"solidity\":0.2},\"type\":\"scatter\"}],\"parcoords\":[{\"type\":\"parcoords\",\"line\":{\"colorbar\":{\"outlinewidth\":0,\"ticks\":\"\"}}}],\"scatterpolargl\":[{\"type\":\"scatterpolargl\",\"marker\":{\"colorbar\":{\"outlinewidth\":0,\"ticks\":\"\"}}}],\"bar\":[{\"error_x\":{\"color\":\"#2a3f5f\"},\"error_y\":{\"color\":\"#2a3f5f\"},\"marker\":{\"line\":{\"color\":\"#E5ECF6\",\"width\":0.5},\"pattern\":{\"fillmode\":\"overlay\",\"size\":10,\"solidity\":0.2}},\"type\":\"bar\"}],\"scattergeo\":[{\"type\":\"scattergeo\",\"marker\":{\"colorbar\":{\"outlinewidth\":0,\"ticks\":\"\"}}}],\"scatterpolar\":[{\"type\":\"scatterpolar\",\"marker\":{\"colorbar\":{\"outlinewidth\":0,\"ticks\":\"\"}}}],\"histogram\":[{\"marker\":{\"pattern\":{\"fillmode\":\"overlay\",\"size\":10,\"solidity\":0.2}},\"type\":\"histogram\"}],\"scattergl\":[{\"type\":\"scattergl\",\"marker\":{\"colorbar\":{\"outlinewidth\":0,\"ticks\":\"\"}}}],\"scatter3d\":[{\"type\":\"scatter3d\",\"line\":{\"colorbar\":{\"outlinewidth\":0,\"ticks\":\"\"}},\"marker\":{\"colorbar\":{\"outlinewidth\":0,\"ticks\":\"\"}}}],\"scattermapbox\":[{\"type\":\"scattermapbox\",\"marker\":{\"colorbar\":{\"outlinewidth\":0,\"ticks\":\"\"}}}],\"scatterternary\":[{\"type\":\"scatterternary\",\"marker\":{\"colorbar\":{\"outlinewidth\":0,\"ticks\":\"\"}}}],\"scattercarpet\":[{\"type\":\"scattercarpet\",\"marker\":{\"colorbar\":{\"outlinewidth\":0,\"ticks\":\"\"}}}],\"carpet\":[{\"aaxis\":{\"endlinecolor\":\"#2a3f5f\",\"gridcolor\":\"white\",\"linecolor\":\"white\",\"minorgridcolor\":\"white\",\"startlinecolor\":\"#2a3f5f\"},\"baxis\":{\"endlinecolor\":\"#2a3f5f\",\"gridcolor\":\"white\",\"linecolor\":\"white\",\"minorgridcolor\":\"white\",\"startlinecolor\":\"#2a3f5f\"},\"type\":\"carpet\"}],\"table\":[{\"cells\":{\"fill\":{\"color\":\"#EBF0F8\"},\"line\":{\"color\":\"white\"}},\"header\":{\"fill\":{\"color\":\"#C8D4E3\"},\"line\":{\"color\":\"white\"}},\"type\":\"table\"}],\"barpolar\":[{\"marker\":{\"line\":{\"color\":\"#E5ECF6\",\"width\":0.5},\"pattern\":{\"fillmode\":\"overlay\",\"size\":10,\"solidity\":0.2}},\"type\":\"barpolar\"}],\"pie\":[{\"automargin\":true,\"type\":\"pie\"}]},\"layout\":{\"autotypenumbers\":\"strict\",\"colorway\":[\"#636efa\",\"#EF553B\",\"#00cc96\",\"#ab63fa\",\"#FFA15A\",\"#19d3f3\",\"#FF6692\",\"#B6E880\",\"#FF97FF\",\"#FECB52\"],\"font\":{\"color\":\"#2a3f5f\"},\"hovermode\":\"closest\",\"hoverlabel\":{\"align\":\"left\"},\"paper_bgcolor\":\"white\",\"plot_bgcolor\":\"#E5ECF6\",\"polar\":{\"bgcolor\":\"#E5ECF6\",\"angularaxis\":{\"gridcolor\":\"white\",\"linecolor\":\"white\",\"ticks\":\"\"},\"radialaxis\":{\"gridcolor\":\"white\",\"linecolor\":\"white\",\"ticks\":\"\"}},\"ternary\":{\"bgcolor\":\"#E5ECF6\",\"aaxis\":{\"gridcolor\":\"white\",\"linecolor\":\"white\",\"ticks\":\"\"},\"baxis\":{\"gridcolor\":\"white\",\"linecolor\":\"white\",\"ticks\":\"\"},\"caxis\":{\"gridcolor\":\"white\",\"linecolor\":\"white\",\"ticks\":\"\"}},\"coloraxis\":{\"colorbar\":{\"outlinewidth\":0,\"ticks\":\"\"}},\"colorscale\":{\"sequential\":[[0.0,\"#0d0887\"],[0.1111111111111111,\"#46039f\"],[0.2222222222222222,\"#7201a8\"],[0.3333333333333333,\"#9c179e\"],[0.4444444444444444,\"#bd3786\"],[0.5555555555555556,\"#d8576b\"],[0.6666666666666666,\"#ed7953\"],[0.7777777777777778,\"#fb9f3a\"],[0.8888888888888888,\"#fdca26\"],[1.0,\"#f0f921\"]],\"sequentialminus\":[[0.0,\"#0d0887\"],[0.1111111111111111,\"#46039f\"],[0.2222222222222222,\"#7201a8\"],[0.3333333333333333,\"#9c179e\"],[0.4444444444444444,\"#bd3786\"],[0.5555555555555556,\"#d8576b\"],[0.6666666666666666,\"#ed7953\"],[0.7777777777777778,\"#fb9f3a\"],[0.8888888888888888,\"#fdca26\"],[1.0,\"#f0f921\"]],\"diverging\":[[0,\"#8e0152\"],[0.1,\"#c51b7d\"],[0.2,\"#de77ae\"],[0.3,\"#f1b6da\"],[0.4,\"#fde0ef\"],[0.5,\"#f7f7f7\"],[0.6,\"#e6f5d0\"],[0.7,\"#b8e186\"],[0.8,\"#7fbc41\"],[0.9,\"#4d9221\"],[1,\"#276419\"]]},\"xaxis\":{\"gridcolor\":\"white\",\"linecolor\":\"white\",\"ticks\":\"\",\"title\":{\"standoff\":15},\"zerolinecolor\":\"white\",\"automargin\":true,\"zerolinewidth\":2},\"yaxis\":{\"gridcolor\":\"white\",\"linecolor\":\"white\",\"ticks\":\"\",\"title\":{\"standoff\":15},\"zerolinecolor\":\"white\",\"automargin\":true,\"zerolinewidth\":2},\"scene\":{\"xaxis\":{\"backgroundcolor\":\"#E5ECF6\",\"gridcolor\":\"white\",\"linecolor\":\"white\",\"showbackground\":true,\"ticks\":\"\",\"zerolinecolor\":\"white\",\"gridwidth\":2},\"yaxis\":{\"backgroundcolor\":\"#E5ECF6\",\"gridcolor\":\"white\",\"linecolor\":\"white\",\"showbackground\":true,\"ticks\":\"\",\"zerolinecolor\":\"white\",\"gridwidth\":2},\"zaxis\":{\"backgroundcolor\":\"#E5ECF6\",\"gridcolor\":\"white\",\"linecolor\":\"white\",\"showbackground\":true,\"ticks\":\"\",\"zerolinecolor\":\"white\",\"gridwidth\":2}},\"shapedefaults\":{\"line\":{\"color\":\"#2a3f5f\"}},\"annotationdefaults\":{\"arrowcolor\":\"#2a3f5f\",\"arrowhead\":0,\"arrowwidth\":1},\"geo\":{\"bgcolor\":\"white\",\"landcolor\":\"#E5ECF6\",\"subunitcolor\":\"white\",\"showland\":true,\"showlakes\":true,\"lakecolor\":\"white\"},\"title\":{\"x\":0.05},\"mapbox\":{\"style\":\"light\"}}},\"xaxis\":{\"anchor\":\"y\",\"domain\":[0.0,1.0],\"title\":{\"text\":\"Tempo\"}},\"yaxis\":{\"anchor\":\"x\",\"domain\":[0.0,1.0],\"title\":{\"text\":\"Retorno (%)\"}},\"title\":{\"font\":{\"color\":\"black\"},\"text\":\"Resultado - Long & Short por cointegra\\u00e7\\u00e3o MULT3.SA - BBSE3.SA\"},\"font\":{\"color\":\"Black\",\"size\":13},\"height\":600,\"width\":800,\"showlegend\":false,\"legend\":{\"title\":{\"text\":\"Carteira\"}},\"hovermode\":\"x unified\"},                        {\"responsive\": true}                    ).then(function(){\n",
       "                            \n",
       "var gd = document.getElementById('b8c6a513-6c34-42a1-8c8e-bd4cd101c9f0');\n",
       "var x = new MutationObserver(function (mutations, observer) {{\n",
       "        var display = window.getComputedStyle(gd).display;\n",
       "        if (!display || display === 'none') {{\n",
       "            console.log([gd, 'removed!']);\n",
       "            Plotly.purge(gd);\n",
       "            observer.disconnect();\n",
       "        }}\n",
       "}});\n",
       "\n",
       "// Listen for the removal of the full notebook cells\n",
       "var notebookContainer = gd.closest('#notebook-container');\n",
       "if (notebookContainer) {{\n",
       "    x.observe(notebookContainer, {childList: true});\n",
       "}}\n",
       "\n",
       "// Listen for the clearing of the current output cell\n",
       "var outputEl = gd.closest('.output');\n",
       "if (outputEl) {{\n",
       "    x.observe(outputEl, {childList: true});\n",
       "}}\n",
       "\n",
       "                        })                };                });            </script>        </div>"
      ]
     },
     "metadata": {},
     "output_type": "display_data"
    }
   ],
   "source": [
    "#Visualiza o resultado do L&S por cointegração\n",
    "\n",
    "fig = make_subplots(rows = 1, cols = 1,\n",
    "                    shared_xaxes = True,\n",
    "                    vertical_spacing = 0.08)\n",
    "\n",
    "fig.add_trace(go.Scatter(x = resultados.index\n",
    "                         , y = resultados[\"retornos_acc\"]*100\n",
    "                         , name = \"Z Score\"\n",
    "                         ,line = dict(color = \"black\"))\n",
    "              , row = 1, col = 1)\n",
    "\n",
    "fig.update_layout(height = 600, width = 800\n",
    "                  , title_text = \"Resultado - Long & Short por cointegração \" + a1 + \" - \"+ a2\n",
    "                  , font_color = \"blue\"\n",
    "                  , title_font_color = \"black\"\n",
    "                  , xaxis_title = \"Tempo\"\n",
    "                  , yaxis_title = \"Retorno (%)\"\n",
    "                  , showlegend = False\n",
    "                  , legend_title = \"Carteira\"\n",
    "                  , font = dict(size = 13, color = \"Black\")\n",
    "                 )\n",
    "fig.update_layout(hovermode = \"x unified\")\n",
    "\n",
    "fig.show()"
   ]
  },
  {
   "cell_type": "code",
   "execution_count": null,
   "id": "5b82ac99",
   "metadata": {},
   "outputs": [],
   "source": []
  },
  {
   "cell_type": "code",
   "execution_count": null,
   "id": "0f3868b3",
   "metadata": {},
   "outputs": [],
   "source": []
  }
 ],
 "metadata": {
  "kernelspec": {
   "display_name": "Python 3 (ipykernel)",
   "language": "python",
   "name": "python3"
  },
  "language_info": {
   "codemirror_mode": {
    "name": "ipython",
    "version": 3
   },
   "file_extension": ".py",
   "mimetype": "text/x-python",
   "name": "python",
   "nbconvert_exporter": "python",
   "pygments_lexer": "ipython3",
   "version": "3.9.13"
  }
 },
 "nbformat": 4,
 "nbformat_minor": 5
}
