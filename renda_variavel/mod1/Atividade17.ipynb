{
  "nbformat": 4,
  "nbformat_minor": 0,
  "metadata": {
    "colab": {
      "provenance": []
    },
    "kernelspec": {
      "name": "python3",
      "display_name": "Python 3"
    },
    "language_info": {
      "name": "python"
    }
  },
  "cells": [
    {
      "cell_type": "code",
      "execution_count": 5,
      "metadata": {
        "id": "OWadBFsfFG13"
      },
      "outputs": [],
      "source": [
        "import pandas as pd\n",
        "import openpyxl\n",
        "import os"
      ]
    },
    {
      "cell_type": "code",
      "source": [
        "# Ler arquivo Excel\n",
        "\n",
        "df = pd.read_excel('/opt/transformados/acoes.xlsx')"
      ],
      "metadata": {
        "id": "3gm3TGScFR88"
      },
      "execution_count": 4,
      "outputs": []
    },
    {
      "cell_type": "code",
      "source": [
        "#@title Listar as 10 ações com maior Liquidez Média Diária e mostrar o resultado em um gráfico de colunas, sendo o eixo X os nomes dos ativos e o eixo Y o valor da Liquidez Média Diária\n",
        "\n",
        "import matplotlib.pyplot as plt\n",
        "\n",
        "df_temp = df.sort_values(by=' LIQUIDEZ MEDIA DIARIA', ascending=False).head(10)\n",
        "\n",
        "plt.bar(df_temp['TICKER'], df_temp[' LIQUIDEZ MEDIA DIARIA'])\n",
        "\n",
        "# Configurando os eixos e o título do gráfico\n",
        "plt.xlabel('Ações')\n",
        "plt.xticks(rotation=45, ha=\"right\")\n",
        "plt.ylabel('Liquidez Media Diaria')\n",
        "plt.title('Maior Liquedez Diaria')\n",
        "\n",
        "# Local onde será salvo a imagem\n",
        "path_file = \"/opt/saida/\"\n",
        "if os.path.exists(path_file) is False:\n",
        "  os.makedirs(path_file)  \n",
        "\n",
        "# Salvando imagem\n",
        "plt.savefig(f'{path_file} plot.png')\n",
        "# Mostrando o gráfico\n",
        "plt.show()"
      ],
      "metadata": {
        "colab": {
          "base_uri": "https://localhost:8080/",
          "height": 317
        },
        "id": "KrSPJK4tGjnC",
        "outputId": "03eaaa24-97f0-43b1-de1f-6dec259b41b3"
      },
      "execution_count": 7,
      "outputs": [
        {
          "output_type": "display_data",
          "data": {
            "text/plain": [
              "<Figure size 432x288 with 1 Axes>"
            ],
            "image/png": "[encoded data removed]"
          },
          "metadata": {
            "needs_background": "light"
          }
        }
      ]
    },
    {
      "cell_type": "code",
      "source": [
        "#@title Metodo para pegar o segmento\n",
        "#Fonte planilha https://www.b3.com.br/pt_br/produtos-e-servicos/negociacao/renda-variavel/empresas-listadas.htm\n",
        "\n",
        "def get_segment(ticker_name):\n",
        "\n",
        "  #Planilha da B3\n",
        "  workbook = openpyxl.load_workbook('/opt/transformados/Setorial B3 27-02-2023 (original).xlsx')\n",
        "\n",
        "  sheet = workbook['Plan3']\n",
        "\n",
        "  registros = []\n",
        "  segment = \"\"\n",
        "  for row in sheet.iter_rows(min_row=2, values_only=True):    \n",
        "      if row[1] is not None:\n",
        "        segment = row[1]\n",
        "      if row[3] == ticker_name:\n",
        "        return segment"
      ],
      "metadata": {
        "id": "78qLPQBiG0qB"
      },
      "execution_count": 28,
      "outputs": []
    },
    {
      "cell_type": "code",
      "source": [
        "#@title Qual setor não aparece na lista das 10 ações com maior liquidez média diária (Atividade do Gráfico)?\n",
        "\n",
        "df_temp = df.sort_values(by=' LIQUIDEZ MEDIA DIARIA', ascending=False).head(10)\n",
        "\n",
        "list_group = []\n",
        "count = 0\n",
        "for ticker_name in df_temp['TICKER']:\n",
        "  segment = get_segment(ticker_name[:4])\n",
        "  if segment is not None:\n",
        "    count = count + 1\n",
        "    print(f\"{count} - {segment}\")\n",
        "    if segment not in list_group:\n",
        "      list_group.append(segment)\n",
        "  else:    \n",
        "    print(f\"{count} - {ticker_name} sem informação\")\n",
        "\n",
        "print(f\"\\n Segmento Agrupado: {list_group}\")"
      ],
      "metadata": {
        "colab": {
          "base_uri": "https://localhost:8080/"
        },
        "id": "gg1m7R7-GlM0",
        "outputId": "910a9892-05b3-4f63-9948-b74642a8fa54"
      },
      "execution_count": 27,
      "outputs": [
        {
          "output_type": "stream",
          "name": "stdout",
          "text": [
            "1 - Mineração\n",
            "2 - Petróleo, Gás e Biocombustíveis\n",
            "3 - Intermediários Financeiros\n",
            "4 - Intermediários Financeiros\n",
            "5 - Intermediários Financeiros\n",
            "6 - Serviços Financeiros Diversos\n",
            "7 - Petróleo, Gás e Biocombustíveis\n",
            "8 - Comércio\n",
            "9 - Bebidas\n",
            "10 - Energia Elétrica\n",
            "\n",
            " Segmento Agrupado: ['Mineração', 'Petróleo, Gás e Biocombustíveis', 'Intermediários Financeiros', 'Serviços Financeiros Diversos', 'Comércio', 'Bebidas', 'Energia Elétrica']\n"
          ]
        }
      ]
    }
  ]
}