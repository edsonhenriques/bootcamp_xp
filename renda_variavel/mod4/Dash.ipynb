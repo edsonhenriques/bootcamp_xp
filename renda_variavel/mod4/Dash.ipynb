{
 "cells": [
  {
   "cell_type": "code",
   "execution_count": 1,
   "id": "9f92c368",
   "metadata": {
    "scrolled": true
   },
   "outputs": [],
   "source": [
    "# Instale as bibliotecas necessárias\n",
    "#pip install dash plotly pandas jupyter-dash\n",
    "#pip install dash\n",
    "#pip install pandas_market_calendars"
   ]
  },
  {
   "cell_type": "code",
   "execution_count": 3,
   "id": "c132b3ff",
   "metadata": {},
   "outputs": [],
   "source": [
    "# Carregue o aplicativo em uma janela separada\n",
    "\n",
    "from jupyter_dash import JupyterDash\n",
    "JupyterDash.infer_jupyter_proxy_config()"
   ]
  },
  {
   "cell_type": "code",
   "execution_count": 4,
   "id": "b81e5eda",
   "metadata": {
    "scrolled": true
   },
   "outputs": [],
   "source": [
    "# Importe as bibliotecas necessárias\n",
    "\n",
    "from dash import Dash, html, dcc, Input, Output\n",
    "import plotly.express as px\n",
    "import pandas as pd\n",
    "import numpy as np\n",
    "from datetime import datetime, timedelta, date\n",
    "import pandas_market_calendars as mcal\n",
    "\n",
    "import warnings\n",
    "warnings.filterwarnings('ignore')"
   ]
  },
  {
   "cell_type": "code",
   "execution_count": 5,
   "id": "2b343760",
   "metadata": {},
   "outputs": [],
   "source": [
    "# Lendo os arquivos xlsx\n",
    "\n",
    "preLast = pd.read_excel(\"dados/Risco_Retorno_Base.xlsx\",sheet_name=2,index_col = 0, header = 1)\n",
    "Portifolios = pd.read_excel(\"dados/Risco_Retorno_Base.xlsx\",sheet_name=1,index_col = None)\n",
    "Volume = pd.read_excel(\"dados/Risco_Retorno_Base.xlsx\",sheet_name=3,index_col = None)"
   ]
  },
  {
   "cell_type": "code",
   "execution_count": 6,
   "id": "968a3ff0",
   "metadata": {},
   "outputs": [
    {
     "name": "stdout",
     "output_type": "stream",
     "text": [
      "-----------------------------------------\n",
      "Tipos de carteiras: Blue Chips, Mid Caps, Small Caps, Micro Caps, High Return, Low Return, High Volatility, Low Volatility, High Liquidity, Low Liquidity, High Beta, Market Beta, Low Beta, High Alpha, Low Alpha, High Sharpe, Low Sharpe, High P/E, Low P/E, High P/B, Low P/B, High Debt, Low Debt, Banks\n",
      "\n",
      "Selecione a carteira:  High Debt\n",
      "\n",
      "-----------------------------------------\n",
      "Insira a data de aquisição (formato YYYY-MM-DD): 2022-01-01\n",
      "\n",
      "-----------------------------------------\n",
      "Insira o valor inicial da carteira: 10000\n",
      "\n",
      "-----------------------------------------\n",
      "Insira o período em dias para o controle de posição (ADTV).\n",
      "Período: 30\n",
      "\n",
      "-----------------------------------------\n",
      "Benchmark: DI_INDEX, .BVSP\n",
      "Escolha o Benchmark: .BVSP\n"
     ]
    }
   ],
   "source": [
    "# Entrada de Variáveis\n",
    "\n",
    "lista_1 = Portifolios.columns.tolist()\n",
    "lista_2 = [preLast.columns[-1], preLast.columns[-2]]\n",
    "print(\"-----------------------------------------\")\n",
    "print(f\"Tipos de carteiras: {', '.join(lista_1)}\")\n",
    "print(\"\")\n",
    "selecao_carteira = input(\"Selecione a carteira:  \")\n",
    "print(\"\")\n",
    "print(\"-----------------------------------------\")\n",
    "data_inicial = str(input(\"Insira a data de aquisição (formato YYYY-MM-DD): \"))\n",
    "print(\"\")\n",
    "print(\"-----------------------------------------\")\n",
    "valor_inicial = float(input(\"Insira o valor inicial da carteira: \"))\n",
    "print(\"\")\n",
    "print(\"-----------------------------------------\")\n",
    "print(\"Insira o período em dias para o controle de posição (ADTV).\")\n",
    "periodo = int(input(\"Período: \"))\n",
    "print(\"\")\n",
    "print(\"-----------------------------------------\")\n",
    "print(f\"Benchmark: {', '.join(lista_2)}\")\n",
    "benchmark = str(input(\"Escolha o Benchmark: \"))\n",
    "\n",
    "# Data final (para o trabalho será considerada 2023-03-31)\n",
    "data_final = \"2023-03-31\"\n",
    "\n",
    "# Data final para último dia útil\n",
    "#cal = mcal.get_calendar('B3')\n",
    "#today = date.today()\n",
    "#last_business_day = cal.schedule(start_date=today - timedelta(days=365), end_date=today).index[-1].date()\n",
    "#data_final = last_business_day.strftime('%Y-%m-%d')"
   ]
  },
  {
   "cell_type": "code",
   "execution_count": 9,
   "id": "f4078b85",
   "metadata": {},
   "outputs": [
    {
     "ename": "KeyError",
     "evalue": "'Data'",
     "output_type": "error",
     "traceback": [
      "\u001b[1;31m---------------------------------------------------------------------------\u001b[0m",
      "\u001b[1;31mKeyError\u001b[0m                                  Traceback (most recent call last)",
      "\u001b[1;32m~\\AppData\\Roaming\\Python\\Python39\\site-packages\\pandas\\core\\indexes\\base.py\u001b[0m in \u001b[0;36mget_loc\u001b[1;34m(self, key, method, tolerance)\u001b[0m\n\u001b[0;32m   3802\u001b[0m             \u001b[1;32mtry\u001b[0m\u001b[1;33m:\u001b[0m\u001b[1;33m\u001b[0m\u001b[1;33m\u001b[0m\u001b[0m\n\u001b[1;32m-> 3803\u001b[1;33m                 \u001b[1;32mreturn\u001b[0m \u001b[0mself\u001b[0m\u001b[1;33m.\u001b[0m\u001b[0m_engine\u001b[0m\u001b[1;33m.\u001b[0m\u001b[0mget_loc\u001b[0m\u001b[1;33m(\u001b[0m\u001b[0mcasted_key\u001b[0m\u001b[1;33m)\u001b[0m\u001b[1;33m\u001b[0m\u001b[1;33m\u001b[0m\u001b[0m\n\u001b[0m\u001b[0;32m   3804\u001b[0m             \u001b[1;32mexcept\u001b[0m \u001b[0mKeyError\u001b[0m \u001b[1;32mas\u001b[0m \u001b[0merr\u001b[0m\u001b[1;33m:\u001b[0m\u001b[1;33m\u001b[0m\u001b[1;33m\u001b[0m\u001b[0m\n",
      "\u001b[1;32m~\\AppData\\Roaming\\Python\\Python39\\site-packages\\pandas\\_libs\\index.pyx\u001b[0m in \u001b[0;36mpandas._libs.index.IndexEngine.get_loc\u001b[1;34m()\u001b[0m\n",
      "\u001b[1;32m~\\AppData\\Roaming\\Python\\Python39\\site-packages\\pandas\\_libs\\index.pyx\u001b[0m in \u001b[0;36mpandas._libs.index.IndexEngine.get_loc\u001b[1;34m()\u001b[0m\n",
      "\u001b[1;32mpandas\\_libs\\index_class_helper.pxi\u001b[0m in \u001b[0;36mpandas._libs.index.Float64Engine._check_type\u001b[1;34m()\u001b[0m\n",
      "\u001b[1;31mKeyError\u001b[0m: 'Data'",
      "\nThe above exception was the direct cause of the following exception:\n",
      "\u001b[1;31mKeyError\u001b[0m                                  Traceback (most recent call last)",
      "\u001b[1;32m~\\AppData\\Local\\Temp\\ipykernel_39752\\2457607178.py\u001b[0m in \u001b[0;36m<module>\u001b[1;34m\u001b[0m\n\u001b[0;32m     11\u001b[0m \u001b[1;33m\u001b[0m\u001b[0m\n\u001b[0;32m     12\u001b[0m \u001b[1;31m# converter a coluna \"Data\" para o tipo \"datetime\"\u001b[0m\u001b[1;33m\u001b[0m\u001b[1;33m\u001b[0m\u001b[0m\n\u001b[1;32m---> 13\u001b[1;33m \u001b[0mVolume\u001b[0m\u001b[1;33m[\u001b[0m\u001b[1;34m'Data'\u001b[0m\u001b[1;33m]\u001b[0m \u001b[1;33m=\u001b[0m \u001b[0mpd\u001b[0m\u001b[1;33m.\u001b[0m\u001b[0mto_datetime\u001b[0m\u001b[1;33m(\u001b[0m\u001b[0mVolume\u001b[0m\u001b[1;33m[\u001b[0m\u001b[1;34m'Data'\u001b[0m\u001b[1;33m]\u001b[0m\u001b[1;33m,\u001b[0m \u001b[0mformat\u001b[0m\u001b[1;33m=\u001b[0m\u001b[1;34m'%Y-%m-%d'\u001b[0m\u001b[1;33m)\u001b[0m\u001b[1;33m\u001b[0m\u001b[1;33m\u001b[0m\u001b[0m\n\u001b[0m\u001b[0;32m     14\u001b[0m \u001b[1;33m\u001b[0m\u001b[0m\n\u001b[0;32m     15\u001b[0m \u001b[1;31m# Transformando a coluna data no índice\u001b[0m\u001b[1;33m\u001b[0m\u001b[1;33m\u001b[0m\u001b[0m\n",
      "\u001b[1;32m~\\AppData\\Roaming\\Python\\Python39\\site-packages\\pandas\\core\\frame.py\u001b[0m in \u001b[0;36m__getitem__\u001b[1;34m(self, key)\u001b[0m\n\u001b[0;32m   3803\u001b[0m             \u001b[1;32mif\u001b[0m \u001b[0mself\u001b[0m\u001b[1;33m.\u001b[0m\u001b[0mcolumns\u001b[0m\u001b[1;33m.\u001b[0m\u001b[0mnlevels\u001b[0m \u001b[1;33m>\u001b[0m \u001b[1;36m1\u001b[0m\u001b[1;33m:\u001b[0m\u001b[1;33m\u001b[0m\u001b[1;33m\u001b[0m\u001b[0m\n\u001b[0;32m   3804\u001b[0m                 \u001b[1;32mreturn\u001b[0m \u001b[0mself\u001b[0m\u001b[1;33m.\u001b[0m\u001b[0m_getitem_multilevel\u001b[0m\u001b[1;33m(\u001b[0m\u001b[0mkey\u001b[0m\u001b[1;33m)\u001b[0m\u001b[1;33m\u001b[0m\u001b[1;33m\u001b[0m\u001b[0m\n\u001b[1;32m-> 3805\u001b[1;33m             \u001b[0mindexer\u001b[0m \u001b[1;33m=\u001b[0m \u001b[0mself\u001b[0m\u001b[1;33m.\u001b[0m\u001b[0mcolumns\u001b[0m\u001b[1;33m.\u001b[0m\u001b[0mget_loc\u001b[0m\u001b[1;33m(\u001b[0m\u001b[0mkey\u001b[0m\u001b[1;33m)\u001b[0m\u001b[1;33m\u001b[0m\u001b[1;33m\u001b[0m\u001b[0m\n\u001b[0m\u001b[0;32m   3806\u001b[0m             \u001b[1;32mif\u001b[0m \u001b[0mis_integer\u001b[0m\u001b[1;33m(\u001b[0m\u001b[0mindexer\u001b[0m\u001b[1;33m)\u001b[0m\u001b[1;33m:\u001b[0m\u001b[1;33m\u001b[0m\u001b[1;33m\u001b[0m\u001b[0m\n\u001b[0;32m   3807\u001b[0m                 \u001b[0mindexer\u001b[0m \u001b[1;33m=\u001b[0m \u001b[1;33m[\u001b[0m\u001b[0mindexer\u001b[0m\u001b[1;33m]\u001b[0m\u001b[1;33m\u001b[0m\u001b[1;33m\u001b[0m\u001b[0m\n",
      "\u001b[1;32m~\\AppData\\Roaming\\Python\\Python39\\site-packages\\pandas\\core\\indexes\\base.py\u001b[0m in \u001b[0;36mget_loc\u001b[1;34m(self, key, method, tolerance)\u001b[0m\n\u001b[0;32m   3803\u001b[0m                 \u001b[1;32mreturn\u001b[0m \u001b[0mself\u001b[0m\u001b[1;33m.\u001b[0m\u001b[0m_engine\u001b[0m\u001b[1;33m.\u001b[0m\u001b[0mget_loc\u001b[0m\u001b[1;33m(\u001b[0m\u001b[0mcasted_key\u001b[0m\u001b[1;33m)\u001b[0m\u001b[1;33m\u001b[0m\u001b[1;33m\u001b[0m\u001b[0m\n\u001b[0;32m   3804\u001b[0m             \u001b[1;32mexcept\u001b[0m \u001b[0mKeyError\u001b[0m \u001b[1;32mas\u001b[0m \u001b[0merr\u001b[0m\u001b[1;33m:\u001b[0m\u001b[1;33m\u001b[0m\u001b[1;33m\u001b[0m\u001b[0m\n\u001b[1;32m-> 3805\u001b[1;33m                 \u001b[1;32mraise\u001b[0m \u001b[0mKeyError\u001b[0m\u001b[1;33m(\u001b[0m\u001b[0mkey\u001b[0m\u001b[1;33m)\u001b[0m \u001b[1;32mfrom\u001b[0m \u001b[0merr\u001b[0m\u001b[1;33m\u001b[0m\u001b[1;33m\u001b[0m\u001b[0m\n\u001b[0m\u001b[0;32m   3806\u001b[0m             \u001b[1;32mexcept\u001b[0m \u001b[0mTypeError\u001b[0m\u001b[1;33m:\u001b[0m\u001b[1;33m\u001b[0m\u001b[1;33m\u001b[0m\u001b[0m\n\u001b[0;32m   3807\u001b[0m                 \u001b[1;31m# If we have a listlike key, _check_indexing_error will raise\u001b[0m\u001b[1;33m\u001b[0m\u001b[1;33m\u001b[0m\u001b[0m\n",
      "\u001b[1;31mKeyError\u001b[0m: 'Data'"
     ]
    }
   ],
   "source": [
    "# Organizando o Dataframe Volume\n",
    "\n",
    "# Remover os nomes das colunas\n",
    "Volume.columns = ['' for c in Volume.columns]\n",
    "\n",
    "# usar a primeira linha como nome das colunas\n",
    "Volume.columns = Volume.iloc[0]\n",
    "\n",
    "# remover a primeira linha\n",
    "Volume= Volume[1:]\n",
    "\n",
    "# converter a coluna \"Data\" para o tipo \"datetime\"\n",
    "Volume['Data'] = pd.to_datetime(Volume['Data'], format='%Y-%m-%d')\n",
    "\n",
    "# Transformando a coluna data no índice\n",
    "Volume = Volume.set_index('Data')"
   ]
  },
  {
   "cell_type": "markdown",
   "id": "0ce69455",
   "metadata": {},
   "source": [
    "## Ativo"
   ]
  },
  {
   "cell_type": "code",
   "execution_count": 8,
   "id": "672a0625",
   "metadata": {},
   "outputs": [
    {
     "name": "stdout",
     "output_type": "stream",
     "text": [
      "\n",
      "Data de inicio:  2022-01-01\n",
      "\n",
      "Data final:  2023-03-31\n"
     ]
    }
   ],
   "source": [
    "ativo = \"PETR4.SA\"\n",
    "print(\"\")\n",
    "print(\"Data de inicio: \", data_inicial)\n",
    "print(\"\")\n",
    "print(\"Data final: \", data_final)"
   ]
  },
  {
   "cell_type": "code",
   "execution_count": null,
   "id": "e3af5d30",
   "metadata": {},
   "outputs": [],
   "source": [
    "# Retorno Simples Esperado do Ativo\n",
    "\n",
    "def returns(preLast, ativo, data_inicial, data_final):\n",
    "    \"\"\"\"\n",
    "    Descrição:\n",
    "    Calcula o retorno simples esperado para determinado ativo com base em uma data inicial e uma data final.\n",
    "    \n",
    "    Parâmetros:\n",
    "    preLast: Pandas DataFrame já importado\n",
    "    ativo: str\n",
    "    data_inicial: str (no formato de data AAAA-MM-DD)\n",
    "    data_final: str (no formato de data AAAA-MM-DD)\n",
    "    \n",
    "    Resultado:\n",
    "    retorno : float\n",
    "    \"\"\"\n",
    "    \n",
    "    prices = preLast[ativo].loc[data_inicial:data_final]\n",
    "    retorno = prices.pct_change().dropna()\n",
    "    returns = round(sum(retorno) * 100,2)\n",
    "          \n",
    "    return returns"
   ]
  },
  {
   "cell_type": "code",
   "execution_count": null,
   "id": "407c0cbf",
   "metadata": {},
   "outputs": [],
   "source": [
    "returns(preLast, ativo, data_inicial, data_final)"
   ]
  },
  {
   "cell_type": "code",
   "execution_count": null,
   "id": "0bdb15cc",
   "metadata": {},
   "outputs": [],
   "source": [
    "# Volatilidade Simples do Ativo\n",
    "\n",
    "def volatilidade(preLast, ativo, data_inicial, data_final):\n",
    "    \"\"\"\"\n",
    "    Descrição:\n",
    "    Calcula a volatilidade simples para determinado ativo com base em uma data inicial e uma data final.\n",
    "    \n",
    "    Parâmetros:\n",
    "    preLast: Pandas DataFrame já importado\n",
    "    ativo: str\n",
    "    data_inicial: str (no formato de data AAAA-MM-DD)\n",
    "    data_final: str (no formato de data AAAA-MM-DD)\n",
    "    \n",
    "    Resultado:\n",
    "    retorno : float\n",
    "    \"\"\"\n",
    "    \n",
    "    prices = preLast[ativo].loc[data_inicial:data_final]\n",
    "    retorno = prices.pct_change().dropna()\n",
    "    volatilidade = round(np.std(retorno)*100, 2)\n",
    "             \n",
    "    return volatilidade"
   ]
  },
  {
   "cell_type": "code",
   "execution_count": 102,
   "id": "ee14fbd7",
   "metadata": {},
   "outputs": [
    {
     "data": {
      "text/plain": [
       "3.23"
      ]
     },
     "execution_count": 102,
     "metadata": {},
     "output_type": "execute_result"
    }
   ],
   "source": [
    "volatilidade(preLast, ativo, data_inicial, data_final)"
   ]
  },
  {
   "cell_type": "code",
   "execution_count": 95,
   "id": "f564d6f7",
   "metadata": {},
   "outputs": [],
   "source": [
    "# Retorno Logarítmo Esperado do Ativo\n",
    "\n",
    "def returns_log(preLast, ativo, data_inicial, data_final):\n",
    "    \"\"\"\"\n",
    "    Descrição:\n",
    "    Calcula o retorno logarítmo esperado para determinado ativo com base em uma data inicial e uma data final.\n",
    "    \n",
    "    Parâmetros:\n",
    "    preLast: Pandas DataFrame já importado\n",
    "    ativo: str\n",
    "    data_inicial: str (no formato de data AAAA-MM-DD)\n",
    "    data_final: str (no formato de data AAAA-MM-DD)\n",
    "    \n",
    "    Resultado:\n",
    "    retorno : float\n",
    "    \"\"\"\n",
    "    \n",
    "    prices = preLast[ativo].loc[data_inicial:data_final]\n",
    "    retorno = np.log(prices / prices.shift(1)).dropna()\n",
    "    returns_log = round(sum(retorno)*100,2)\n",
    "          \n",
    "    return returns_log"
   ]
  },
  {
   "cell_type": "code",
   "execution_count": 96,
   "id": "10b6a636",
   "metadata": {},
   "outputs": [
    {
     "data": {
      "text/plain": [
       "43.51"
      ]
     },
     "execution_count": 96,
     "metadata": {},
     "output_type": "execute_result"
    }
   ],
   "source": [
    "returns_log(preLast, ativo, data_inicial, data_final)"
   ]
  },
  {
   "cell_type": "code",
   "execution_count": 97,
   "id": "f6d35636",
   "metadata": {},
   "outputs": [],
   "source": [
    "# Volatilidade Logarítma do Ativo\n",
    "\n",
    "def volatilidade_log(preLast, ativo, data_inicial, data_final):\n",
    "    \"\"\"\"\n",
    "    Descrição:\n",
    "    Calcula a volatilidade logarítma para determinado ativo com base em uma data inicial e uma data final.\n",
    "    \n",
    "    Parâmetros:\n",
    "    preLast: Pandas DataFrame já importado\n",
    "    ativo: str\n",
    "    data_inicial: str (no formato de data AAAA-MM-DD)\n",
    "    data_final: str (no formato de data AAAA-MM-DD)\n",
    "    \n",
    "    Resultado:\n",
    "    retorno : float\n",
    "    \"\"\"\n",
    "    \n",
    "    prices = preLast[ativo].loc[data_inicial:data_final]\n",
    "    retorno = np.log(prices / prices.shift(1)).dropna()\n",
    "    volatilidade_log = round(np.std(retorno)*100, 2)\n",
    "             \n",
    "    return volatilidade_log"
   ]
  },
  {
   "cell_type": "code",
   "execution_count": 98,
   "id": "9466e4ae",
   "metadata": {},
   "outputs": [
    {
     "data": {
      "text/plain": [
       "3.33"
      ]
     },
     "execution_count": 98,
     "metadata": {},
     "output_type": "execute_result"
    }
   ],
   "source": [
    "volatilidade_log(preLast, ativo, data_inicial, data_final)"
   ]
  },
  {
   "cell_type": "code",
   "execution_count": 105,
   "id": "d0fb482e",
   "metadata": {},
   "outputs": [],
   "source": [
    "# Beta\n",
    "\n",
    "def beta(preLast, ativo, data_inicial, data_final):\n",
    "    \"\"\"\"\n",
    "    Descrição:\n",
    "    Calcula o Beta para um determinado ativo com base em uma data inicial e uma data final.\n",
    "    \n",
    "    Parâmetros:\n",
    "    preLast: Pandas DataFrame já importado\n",
    "    ativo: str\n",
    "    data_inicial: str (no formato de data AAAA-MM-DD)\n",
    "    data_final: str (no formato de data AAAA-MM-DD)\n",
    "    \n",
    "    Resultado:\n",
    "    beta : float\n",
    "    \"\"\"\n",
    "    \n",
    "    prices = preLast[ativo].loc[data_inicial:data_final]\n",
    "    returns = np.log(prices / prices.shift(1)).dropna()\n",
    "    \n",
    "    rm_prices = preLast[\".BVSP\"].loc[data_inicial:data_final]\n",
    "    rm_returns = np.log(rm_prices / rm_prices.shift(1)).dropna()\n",
    "    \n",
    "    covariance = np.cov(returns, rm_returns)[0][1]\n",
    "    variance = np.var(rm_returns)\n",
    "    beta = round(covariance / variance, 2)\n",
    "            \n",
    "    return beta"
   ]
  },
  {
   "cell_type": "code",
   "execution_count": 106,
   "id": "21f6ce01",
   "metadata": {},
   "outputs": [
    {
     "data": {
      "text/plain": [
       "1.35"
      ]
     },
     "execution_count": 106,
     "metadata": {},
     "output_type": "execute_result"
    }
   ],
   "source": [
    "beta(preLast, ativo, data_inicial, data_final)"
   ]
  },
  {
   "cell_type": "code",
   "execution_count": 107,
   "id": "3658bee2",
   "metadata": {},
   "outputs": [],
   "source": [
    "# Índice de correlação\n",
    "\n",
    "def correlacao(preLast, ativo, data_inicial, data_final):\n",
    "    \"\"\"\"\n",
    "    Descrição:\n",
    "    Calcula a correlação para determinado ativo com base em uma data inicial e uma data final em relação ao Índice Bovespa.\n",
    "    \n",
    "    Parâmetros:\n",
    "    preLast: Pandas DataFrame já importado\n",
    "    ativo: str\n",
    "    data_inicial: str (no formato de data AAAA-MM-DD)\n",
    "    data_final: str (no formato de data AAAA-MM-DD)\n",
    "    \n",
    "    Resultado:\n",
    "    correlacao : float\n",
    "    \"\"\"\n",
    "    prices = preLast[ativo].loc[data_inicial:data_final]\n",
    "    returns = np.log(prices / prices.shift(1)).dropna()\n",
    "        \n",
    "    rm = preLast[\".BVSP\"].loc[data_inicial:data_final]\n",
    "    rm_returns = np.log(rm / rm.shift(1)).dropna()\n",
    "        \n",
    "    corr_matrix = np.corrcoef(returns, rm_returns)\n",
    "    correlacao = round(corr_matrix[0, 1], 2)\n",
    "    \n",
    "    return correlacao"
   ]
  },
  {
   "cell_type": "code",
   "execution_count": 108,
   "id": "8ee4297e",
   "metadata": {},
   "outputs": [
    {
     "data": {
      "text/plain": [
       "0.78"
      ]
     },
     "execution_count": 108,
     "metadata": {},
     "output_type": "execute_result"
    }
   ],
   "source": [
    "correlacao(preLast, ativo, data_inicial, data_final)"
   ]
  },
  {
   "cell_type": "code",
   "execution_count": 109,
   "id": "af0ff574",
   "metadata": {},
   "outputs": [],
   "source": [
    "# Índice Alpha\n",
    "\n",
    "def alpha_ratio(preLast, ativo, data_inicial, data_final):\n",
    "    \"\"\"\"\n",
    "    Descrição:\n",
    "    Calcula o Índice de Alpha para um determinado ativo com base em uma data inicial e uma data final usando a o CDI como\n",
    "    ativo livre de risco, Beta e o Retorno do mercado.\n",
    "    \n",
    "    Parâmetros:\n",
    "    preLast: Pandas DataFrame já importado\n",
    "    ativo: str\n",
    "    data_inicial: str (no formato de data AAAA-MM-DD)\n",
    "    data_final: str (no formato de data AAAA-MM-DD)\n",
    "    \n",
    "    Resultado:\n",
    "    alpha_ratio : float\n",
    "    \"\"\"\n",
    "    \n",
    "    prices = preLast[ativo].loc[data_inicial:data_final]\n",
    "    returns = np.log(prices / prices.shift(1)).dropna()\n",
    "    ret_ativo = sum(returns)\n",
    "        \n",
    "    rf = preLast[\"DI_INDEX\"].loc[data_inicial:data_final]\n",
    "    rf_returns = np.log(rf / rf.shift(1)).dropna()\n",
    "    ret_rf = sum(rf_returns)\n",
    "    \n",
    "    rm = preLast[\".BVSP\"].loc[data_inicial:data_final]\n",
    "    rm_returns = np.log(rm / rm.shift(1)).dropna()\n",
    "    ret_rm = sum(rm_returns)\n",
    "    \n",
    "    covariance = np.cov(returns, rm_returns)[0][1]\n",
    "    std_rm = np.std(rm_returns)\n",
    "    beta = covariance / (std_rm ** 2) \n",
    "        \n",
    "    alpha_ratio = round((ret_ativo - ret_rf) - beta*(ret_rm - ret_rf),2)\n",
    "    \n",
    "    return alpha_ratio"
   ]
  },
  {
   "cell_type": "code",
   "execution_count": 110,
   "id": "7669d840",
   "metadata": {},
   "outputs": [
    {
     "data": {
      "text/plain": [
       "0.72"
      ]
     },
     "execution_count": 110,
     "metadata": {},
     "output_type": "execute_result"
    }
   ],
   "source": [
    "alpha_ratio(preLast, ativo, data_inicial, data_final)"
   ]
  },
  {
   "cell_type": "code",
   "execution_count": 111,
   "id": "9f4161f2",
   "metadata": {},
   "outputs": [],
   "source": [
    "# Índice Sharpe\n",
    "\n",
    "def sharpe_ratio(preLast, ativo, data_inicial, data_final):\n",
    "    \"\"\"\"\n",
    "    Descrição:\n",
    "    Calcula o Índice de Sharpe para um determinado ativo com base em uma data inicial e uma data final usando a o CDI como\n",
    "    ativo livre de risco e a volatilidade.\n",
    "    \n",
    "    Parâmetros:\n",
    "    preLast: Pandas DataFrame já importado\n",
    "    ativo: str\n",
    "    data_inicial: str (no formato de data AAAA-MM-DD)\n",
    "    data_final: str (no formato de data AAAA-MM-DD)\n",
    "    \n",
    "    Resultado:\n",
    "    sharpe_ratio : float\n",
    "    \"\"\"\n",
    "    \n",
    "    prices = preLast[ativo].loc[data_inicial:data_final]\n",
    "    returns = np.log(prices / prices.shift(1)).dropna()\n",
    "    ret_ativo = sum(returns)\n",
    "    std_ativo = np.std(returns)\n",
    "    \n",
    "    rf = preLast[\"DI_INDEX\"].loc[data_inicial:data_final]\n",
    "    rf_returns = np.log(rf / rf.shift(1)).dropna()\n",
    "    ret_rf = sum(rf_returns)\n",
    "    \n",
    "    sharpe_ratio = round((ret_ativo - ret_rf) / std_ativo, 2)\n",
    "    \n",
    "    return sharpe_ratio"
   ]
  },
  {
   "cell_type": "code",
   "execution_count": 112,
   "id": "29deeef4",
   "metadata": {},
   "outputs": [
    {
     "data": {
      "text/plain": [
       "6.5"
      ]
     },
     "execution_count": 112,
     "metadata": {},
     "output_type": "execute_result"
    }
   ],
   "source": [
    "sharpe_ratio(preLast, ativo, data_inicial, data_final)"
   ]
  },
  {
   "cell_type": "code",
   "execution_count": 113,
   "id": "0ba67b77",
   "metadata": {},
   "outputs": [],
   "source": [
    "# Índice Sortino\n",
    "\n",
    "def sortino_ratio(preLast, ativo, data_inicial, data_final):\n",
    "    \"\"\"\"\n",
    "    Descrição:\n",
    "    Calcula o Índice de Sortino para um determinado ativo com base em uma data inicial e uma data final usando a variação do CDI.\n",
    "    \n",
    "    Parâmetros:\n",
    "    preLast: Pandas DataFrame já importado\n",
    "    ativo: str\n",
    "    data_inicial: str (no formato de data AAAA-MM-DD)\n",
    "    data_final: str (no formato de data AAAA-MM-DD)\n",
    "    \n",
    "    Resultado:\n",
    "    sortino_ratio : float\n",
    "    \"\"\"\n",
    "    \n",
    "    prices = preLast[ativo].loc[data_inicial:data_final]\n",
    "    returns = np.log(prices / prices.shift(1)).dropna()\n",
    "    ret_ativo = sum(returns)\n",
    "        \n",
    "    rf = preLast[\"DI_INDEX\"].loc[data_inicial:data_final]\n",
    "    rf_returns = np.log(rf / rf.shift(1)).dropna()\n",
    "    ret_rf = sum(rf_returns)\n",
    "    \n",
    "    express_returns = ret_ativo - ret_rf\n",
    "    returns_std = returns[returns<0].std()\n",
    "    sortino_ratio = round(express_returns / returns_std, 2)\n",
    "    \n",
    "    return sortino_ratio"
   ]
  },
  {
   "cell_type": "code",
   "execution_count": 114,
   "id": "dbb49214",
   "metadata": {},
   "outputs": [
    {
     "data": {
      "text/plain": [
       "7.08"
      ]
     },
     "execution_count": 114,
     "metadata": {},
     "output_type": "execute_result"
    }
   ],
   "source": [
    "sortino_ratio(preLast, ativo, data_inicial, data_final)"
   ]
  },
  {
   "cell_type": "code",
   "execution_count": 115,
   "id": "e7794dcb",
   "metadata": {},
   "outputs": [],
   "source": [
    "# ADTV - Average Daily Traded Volume  \n",
    "# É uma métrica usada no mercado financeiro para medir a quantidade média de ações ou títulos negociados em\n",
    "# um determinado período de tempo, normalmente um dia.\n",
    "\n",
    "def adtv(Volume, ativo, data_final, periodo):\n",
    "    \"\"\"\n",
    "    Descrição:\n",
    "    Calcula o ADTV para determinado ativo com base em uma data final e a quantidade de períodos.\n",
    "    \n",
    "    Parâmetros:\n",
    "    Volume: Pandas DataFrame já importado\n",
    "    ativo: str\n",
    "    data_final: str (no formato de data AAAA-MM-DD)\n",
    "    dia: int (no formato de número inteiro)\n",
    "    \n",
    "    Resultado:\n",
    "    adtv : float\n",
    "      \"\"\"\n",
    "    \n",
    "    data_final = pd.to_datetime(data_final)\n",
    "    data_inicial = data_final - timedelta(days=periodo)\n",
    "    Volume_periodo = Volume.loc[(Volume.index.values.astype('datetime64') >= np.datetime64(data_inicial)) & (Volume.index.values.astype('datetime64') <= np.datetime64(data_final)), ativo].fillna(0)\n",
    "    adtv = round(Volume_periodo.mean(),2)\n",
    "    \n",
    "    return adtv"
   ]
  },
  {
   "cell_type": "code",
   "execution_count": 116,
   "id": "9ac86cfe",
   "metadata": {},
   "outputs": [
    {
     "data": {
      "text/plain": [
       "1562901200.87"
      ]
     },
     "execution_count": 116,
     "metadata": {},
     "output_type": "execute_result"
    }
   ],
   "source": [
    "adtv(Volume, ativo, data_final, periodo)"
   ]
  },
  {
   "cell_type": "code",
   "execution_count": 117,
   "id": "693a0877",
   "metadata": {},
   "outputs": [],
   "source": [
    "# Drawdown \n",
    "\n",
    "def drawdown(preLast, ativo, data_inicial, data_final):\n",
    "    \"\"\"\n",
    "    Descrição:\n",
    "    Calcula o drawdown para determinado ativo com base em uma data inicial e uma data final.\n",
    "    \n",
    "    Parâmetros:\n",
    "    preLast: Pandas DataFrame já importado\n",
    "    ativo: str\n",
    "    data_inicial: str (no formato de data AAAA-MM-DD)\n",
    "    data_final: str (no formato de data AAAA-MM-DD)\n",
    "    \n",
    "    Resultado:\n",
    "    drawdowns : Pandas DataFrame\n",
    "      DataFrame com os drawdowns do ativo em relação a data final e inicial.\n",
    "    \"\"\"\n",
    "    prices = preLast[ativo].loc[data_inicial:data_final]\n",
    "    retorno = np.log(prices / prices.shift(1)).dropna()\n",
    "    cum_returns = (1 + retorno).cumprod()   \n",
    "    running_max = cum_returns.cummax()  \n",
    "    drawdown = (cum_returns - running_max) / running_max *100 \n",
    "\n",
    "    return round(drawdown,2)"
   ]
  },
  {
   "cell_type": "code",
   "execution_count": 118,
   "id": "e0adc4c1",
   "metadata": {},
   "outputs": [
    {
     "data": {
      "text/plain": [
       "Data\n",
       "2020-01-03     0.00\n",
       "2020-01-06     0.00\n",
       "2020-01-07    -0.39\n",
       "2020-01-08    -1.01\n",
       "2020-01-09    -1.33\n",
       "              ...  \n",
       "2023-03-27   -32.62\n",
       "2023-03-28   -31.44\n",
       "2023-03-29   -30.54\n",
       "2023-03-30   -30.34\n",
       "2023-03-31   -31.87\n",
       "Name: PETR4.SA, Length: 808, dtype: float64"
      ]
     },
     "execution_count": 118,
     "metadata": {},
     "output_type": "execute_result"
    }
   ],
   "source": [
    "drawdown(preLast, ativo, data_inicial, data_final)"
   ]
  },
  {
   "cell_type": "markdown",
   "id": "e48e4285",
   "metadata": {},
   "source": [
    "## Portfólio de ativos"
   ]
  },
  {
   "cell_type": "code",
   "execution_count": 123,
   "id": "8f636e8e",
   "metadata": {},
   "outputs": [
    {
     "name": "stdout",
     "output_type": "stream",
     "text": [
      "O portfolio escolhido:  Banks\n",
      "\n",
      "Data de inicio:  2020-01-02\n",
      "\n",
      "Data final:  2023-03-31\n",
      "\n",
      "Valor inicial investido: R$ 100000.0\n"
     ]
    }
   ],
   "source": [
    "print(\"O portfolio escolhido: \", selecao_carteira)\n",
    "print(\"\")\n",
    "print(\"Data de inicio: \", data_inicial)\n",
    "print(\"\")\n",
    "print(\"Data final: \", data_final)\n",
    "print(\"\")\n",
    "print(\"Valor inicial investido: R$\",valor_inicial)"
   ]
  },
  {
   "cell_type": "code",
   "execution_count": 85,
   "id": "ae185097",
   "metadata": {},
   "outputs": [],
   "source": [
    "# Cálculo do Retorno e Risco do Portfólio\n",
    "\n",
    "def portfolio(preLast, Portifolios, selecao_carteira, data_inicial, data_final):\n",
    "    \"\"\"\n",
    "    Descrição:\n",
    "    Calcula o retorno esperado e a volatilidade do portfólio com base em uma data inicial e uma data final.\n",
    "\n",
    "    Parâmetros:\n",
    "    preLast: Pandas DataFrame já importado\n",
    "    Portifolios: Pandas DataFrame já importado\n",
    "    selecao_carteira: str (nome da carteira)\n",
    "    data_inicial: str (no formato de data AAAA-MM-DD)\n",
    "    data_final: str (no formato de data AAAA-MM-DD)\n",
    "\n",
    "    Resultado:\n",
    "    mu: float (retorno esperado do portfólio em percentual)\n",
    "    sigma: float (volatilidade do portfólio em percentual)\n",
    "    \"\"\"\n",
    "    \n",
    "    if selecao_carteira in Portifolios.columns:\n",
    "        quantidade_ativos = len(Portifolios[selecao_carteira].sort_values().values)\n",
    "        pesos = (100/quantidade_ativos) * np.ones((quantidade_ativos,))\n",
    "        returns = []\n",
    "        for ativo in Portifolios[selecao_carteira]:\n",
    "            returns.append(np.log(preLast[ativo].loc[data_inicial:data_final] / preLast[ativo].loc[data_inicial:data_final].shift(1)))\n",
    "        returns = pd.concat(returns, axis=1).dropna()\n",
    "        w = pesos.reshape((-1,1))\n",
    "        p = np.mean(returns, axis=0).values.reshape((-1, 1))\n",
    "        C = np.asmatrix(np.cov(returns.T))\n",
    "        mu = round((w.T.dot(p)).item()*100,2)\n",
    "        sigma = round(np.sqrt(w.T.dot(C).dot(w)).item()*100, 2)\n",
    "        return mu, sigma\n",
    "    else:\n",
    "        raise ValueError(\"Carteira não encontrada.\")"
   ]
  },
  {
   "cell_type": "code",
   "execution_count": 86,
   "id": "b83eee3a",
   "metadata": {},
   "outputs": [
    {
     "data": {
      "text/plain": [
       "(0.5, 169.65)"
      ]
     },
     "execution_count": 86,
     "metadata": {},
     "output_type": "execute_result"
    }
   ],
   "source": [
    "portfolio(preLast, Portifolios, selecao_carteira, data_inicial, data_final)"
   ]
  },
  {
   "cell_type": "code",
   "execution_count": 78,
   "id": "55622899",
   "metadata": {},
   "outputs": [],
   "source": [
    "# Beta do portfólio\n",
    "\n",
    "def beta_portfolio(preLast, Portifolios, selecao_carteira, data_inicial, data_final):\n",
    "    \"\"\"\"\n",
    "    Descrição:\n",
    "    Calcula o Beta do portfólio com base em uma data inicial e uma data final.\n",
    "    \n",
    "    Parâmetros:\n",
    "    preLast: Pandas DataFrame já importado\n",
    "    Portifolios: Pandas DataFrame já importado\n",
    "    selecao_carteira: str (nome da carteira)\n",
    "    data_inicial: str (no formato de data AAAA-MM-DD)\n",
    "    data_final: str (no formato de data AAAA-MM-DD)\n",
    "    \n",
    "    Resultado:\n",
    "    beta : float\n",
    "    \"\"\"\n",
    "    \n",
    "    if selecao_carteira in Portifolios.columns:\n",
    "        quantidade_ativos = len(Portifolios[selecao_carteira].sort_values().values)\n",
    "        pesos = (100/quantidade_ativos) * np.ones((quantidade_ativos,))\n",
    "        returns = []\n",
    "        for ativo in Portifolios[selecao_carteira]:\n",
    "            returns.append(np.log(preLast[ativo].loc[data_inicial:data_final] / preLast[ativo].loc[data_inicial:data_final].shift(1)))\n",
    "        returns = pd.concat(returns, axis=1).dropna()\n",
    "        w = pesos.reshape((-1,1))\n",
    "        returns_portfolio = returns * w.T\n",
    "        \n",
    "        rm_prices = preLast[\".BVSP\"].loc[data_inicial:data_final]\n",
    "        rm_returns = np.log(rm_prices / rm_prices.shift(1)).dropna()\n",
    "        \n",
    "        covariance = np.cov(returns_portfolio.values.T, rm_returns.values)[0][1]\n",
    "        variance = np.var(rm_returns)\n",
    "        beta = round(covariance / variance, 2)\n",
    "            \n",
    "        return beta"
   ]
  },
  {
   "cell_type": "code",
   "execution_count": 79,
   "id": "01646587",
   "metadata": {},
   "outputs": [
    {
     "data": {
      "text/plain": [
       "4.16"
      ]
     },
     "execution_count": 79,
     "metadata": {},
     "output_type": "execute_result"
    }
   ],
   "source": [
    "beta_portfolio(preLast, Portifolios, selecao_carteira, data_inicial, data_final)"
   ]
  },
  {
   "cell_type": "code",
   "execution_count": 52,
   "id": "4acef27c",
   "metadata": {},
   "outputs": [],
   "source": [
    "## REVER!!!\n",
    "\n",
    "# Cálculo da correlação do portfólio\n",
    "\n",
    "def correlacao_portfolio(preLast, Portifolios, selecao_carteira, data_inicial, data_final):\n",
    "    \"\"\"\"\n",
    "    Descrição:\n",
    "    Calcula a correlação para determinado portfólio com base em uma data inicial e uma data final em relação ao Índice Bovespa.\n",
    "    \n",
    "    Parâmetros:\n",
    "    preLast: Pandas DataFrame já importado\n",
    "    Portfolios: Pandas DataFrame já importado\n",
    "    selecao_carteira: str (nome da carteira)\n",
    "    data_inicial: str (no formato de data AAAA-MM-DD)\n",
    "    data_final: str (no formato de data AAAA-MM-DD)\n",
    "    \n",
    "    Resultado:\n",
    "    correlacao : float\n",
    "    \"\"\"\n",
    "    if selecao_carteira in Portifolios.columns:\n",
    "        quantidade_ativos = len(Portifolios[selecao_carteira].sort_values().values)\n",
    "        pesos = (100/quantidade_ativos) * np.ones((quantidade_ativos,))\n",
    "        returns = []\n",
    "        for ativo in Portifolios[selecao_carteira]:\n",
    "            returns.append(np.log(preLast[ativo].loc[data_inicial:data_final] / preLast[ativo].loc[data_inicial:data_final].shift(1)))\n",
    "        returns = pd.concat(returns, axis=1).dropna()\n",
    "        w = pesos.reshape((-1,1))\n",
    "        returns_portfolio = returns * w.T\n",
    "        \n",
    "    rm = preLast[\".BVSP\"].loc[data_inicial:data_final]\n",
    "    rm_returns = np.log(rm / rm.shift(1)).dropna()\n",
    "            \n",
    "    corr_matrix = np.corrcoef(returns_portfolio, rm_returns)\n",
    "    correlacao = round(corr_matrix[0, 1], 2)\n",
    "    \n",
    "    return correlacao"
   ]
  },
  {
   "cell_type": "code",
   "execution_count": 53,
   "id": "151f8773",
   "metadata": {},
   "outputs": [
    {
     "ename": "ValueError",
     "evalue": "all the input array dimensions for the concatenation axis must match exactly, but along dimension 1, the array at index 0 has size 15 and the array at index 1 has size 808",
     "output_type": "error",
     "traceback": [
      "\u001b[1;31m---------------------------------------------------------------------------\u001b[0m",
      "\u001b[1;31mValueError\u001b[0m                                Traceback (most recent call last)",
      "Cell \u001b[1;32mIn[53], line 1\u001b[0m\n\u001b[1;32m----> 1\u001b[0m \u001b[43mcorrelacao_portfolio\u001b[49m\u001b[43m(\u001b[49m\u001b[43mpreLast\u001b[49m\u001b[43m,\u001b[49m\u001b[43m \u001b[49m\u001b[43mPortifolios\u001b[49m\u001b[43m,\u001b[49m\u001b[43m \u001b[49m\u001b[43mselecao_carteira\u001b[49m\u001b[43m,\u001b[49m\u001b[43m \u001b[49m\u001b[43mdata_inicial\u001b[49m\u001b[43m,\u001b[49m\u001b[43m \u001b[49m\u001b[43mdata_final\u001b[49m\u001b[43m)\u001b[49m\n",
      "Cell \u001b[1;32mIn[52], line 33\u001b[0m, in \u001b[0;36mcorrelacao_portfolio\u001b[1;34m(preLast, Portifolios, selecao_carteira, data_inicial, data_final)\u001b[0m\n\u001b[0;32m     30\u001b[0m rm \u001b[38;5;241m=\u001b[39m preLast[\u001b[38;5;124m\"\u001b[39m\u001b[38;5;124m.BVSP\u001b[39m\u001b[38;5;124m\"\u001b[39m]\u001b[38;5;241m.\u001b[39mloc[data_inicial:data_final]\n\u001b[0;32m     31\u001b[0m rm_returns \u001b[38;5;241m=\u001b[39m np\u001b[38;5;241m.\u001b[39mlog(rm \u001b[38;5;241m/\u001b[39m rm\u001b[38;5;241m.\u001b[39mshift(\u001b[38;5;241m1\u001b[39m))\u001b[38;5;241m.\u001b[39mdropna()\n\u001b[1;32m---> 33\u001b[0m corr_matrix \u001b[38;5;241m=\u001b[39m \u001b[43mnp\u001b[49m\u001b[38;5;241;43m.\u001b[39;49m\u001b[43mcorrcoef\u001b[49m\u001b[43m(\u001b[49m\u001b[43mreturns_portfolio\u001b[49m\u001b[43m,\u001b[49m\u001b[43m \u001b[49m\u001b[43mrm_returns\u001b[49m\u001b[43m)\u001b[49m\n\u001b[0;32m     34\u001b[0m correlacao \u001b[38;5;241m=\u001b[39m \u001b[38;5;28mround\u001b[39m(corr_matrix[\u001b[38;5;241m0\u001b[39m, \u001b[38;5;241m1\u001b[39m], \u001b[38;5;241m2\u001b[39m)\n\u001b[0;32m     36\u001b[0m \u001b[38;5;28;01mreturn\u001b[39;00m correlacao\n",
      "File \u001b[1;32m<__array_function__ internals>:180\u001b[0m, in \u001b[0;36mcorrcoef\u001b[1;34m(*args, **kwargs)\u001b[0m\n",
      "File \u001b[1;32m~\\anaconda3\\lib\\site-packages\\numpy\\lib\\function_base.py:2845\u001b[0m, in \u001b[0;36mcorrcoef\u001b[1;34m(x, y, rowvar, bias, ddof, dtype)\u001b[0m\n\u001b[0;32m   2841\u001b[0m \u001b[38;5;28;01mif\u001b[39;00m bias \u001b[38;5;129;01mis\u001b[39;00m \u001b[38;5;129;01mnot\u001b[39;00m np\u001b[38;5;241m.\u001b[39m_NoValue \u001b[38;5;129;01mor\u001b[39;00m ddof \u001b[38;5;129;01mis\u001b[39;00m \u001b[38;5;129;01mnot\u001b[39;00m np\u001b[38;5;241m.\u001b[39m_NoValue:\n\u001b[0;32m   2842\u001b[0m     \u001b[38;5;66;03m# 2015-03-15, 1.10\u001b[39;00m\n\u001b[0;32m   2843\u001b[0m     warnings\u001b[38;5;241m.\u001b[39mwarn(\u001b[38;5;124m'\u001b[39m\u001b[38;5;124mbias and ddof have no effect and are deprecated\u001b[39m\u001b[38;5;124m'\u001b[39m,\n\u001b[0;32m   2844\u001b[0m                   \u001b[38;5;167;01mDeprecationWarning\u001b[39;00m, stacklevel\u001b[38;5;241m=\u001b[39m\u001b[38;5;241m3\u001b[39m)\n\u001b[1;32m-> 2845\u001b[0m c \u001b[38;5;241m=\u001b[39m \u001b[43mcov\u001b[49m\u001b[43m(\u001b[49m\u001b[43mx\u001b[49m\u001b[43m,\u001b[49m\u001b[43m \u001b[49m\u001b[43my\u001b[49m\u001b[43m,\u001b[49m\u001b[43m \u001b[49m\u001b[43mrowvar\u001b[49m\u001b[43m,\u001b[49m\u001b[43m \u001b[49m\u001b[43mdtype\u001b[49m\u001b[38;5;241;43m=\u001b[39;49m\u001b[43mdtype\u001b[49m\u001b[43m)\u001b[49m\n\u001b[0;32m   2846\u001b[0m \u001b[38;5;28;01mtry\u001b[39;00m:\n\u001b[0;32m   2847\u001b[0m     d \u001b[38;5;241m=\u001b[39m diag(c)\n",
      "File \u001b[1;32m<__array_function__ internals>:180\u001b[0m, in \u001b[0;36mcov\u001b[1;34m(*args, **kwargs)\u001b[0m\n",
      "File \u001b[1;32m~\\anaconda3\\lib\\site-packages\\numpy\\lib\\function_base.py:2639\u001b[0m, in \u001b[0;36mcov\u001b[1;34m(m, y, rowvar, bias, ddof, fweights, aweights, dtype)\u001b[0m\n\u001b[0;32m   2637\u001b[0m     \u001b[38;5;28;01mif\u001b[39;00m \u001b[38;5;129;01mnot\u001b[39;00m rowvar \u001b[38;5;129;01mand\u001b[39;00m y\u001b[38;5;241m.\u001b[39mshape[\u001b[38;5;241m0\u001b[39m] \u001b[38;5;241m!=\u001b[39m \u001b[38;5;241m1\u001b[39m:\n\u001b[0;32m   2638\u001b[0m         y \u001b[38;5;241m=\u001b[39m y\u001b[38;5;241m.\u001b[39mT\n\u001b[1;32m-> 2639\u001b[0m     X \u001b[38;5;241m=\u001b[39m \u001b[43mnp\u001b[49m\u001b[38;5;241;43m.\u001b[39;49m\u001b[43mconcatenate\u001b[49m\u001b[43m(\u001b[49m\u001b[43m(\u001b[49m\u001b[43mX\u001b[49m\u001b[43m,\u001b[49m\u001b[43m \u001b[49m\u001b[43my\u001b[49m\u001b[43m)\u001b[49m\u001b[43m,\u001b[49m\u001b[43m \u001b[49m\u001b[43maxis\u001b[49m\u001b[38;5;241;43m=\u001b[39;49m\u001b[38;5;241;43m0\u001b[39;49m\u001b[43m)\u001b[49m\n\u001b[0;32m   2641\u001b[0m \u001b[38;5;28;01mif\u001b[39;00m ddof \u001b[38;5;129;01mis\u001b[39;00m \u001b[38;5;28;01mNone\u001b[39;00m:\n\u001b[0;32m   2642\u001b[0m     \u001b[38;5;28;01mif\u001b[39;00m bias \u001b[38;5;241m==\u001b[39m \u001b[38;5;241m0\u001b[39m:\n",
      "File \u001b[1;32m<__array_function__ internals>:180\u001b[0m, in \u001b[0;36mconcatenate\u001b[1;34m(*args, **kwargs)\u001b[0m\n",
      "\u001b[1;31mValueError\u001b[0m: all the input array dimensions for the concatenation axis must match exactly, but along dimension 1, the array at index 0 has size 15 and the array at index 1 has size 808"
     ]
    }
   ],
   "source": [
    "correlacao_portfolio(preLast, Portifolios, selecao_carteira, data_inicial, data_final)"
   ]
  },
  {
   "cell_type": "code",
   "execution_count": 126,
   "id": "4203c51a",
   "metadata": {},
   "outputs": [],
   "source": [
    "# Índice Alpha\n",
    "\n",
    "def alpha_portfolio(preLast, Portifolios, selecao_carteira, data_inicial, data_final):\n",
    "    \"\"\"\"\n",
    "    Descrição:\n",
    "    Calcula o Índice de Alpha para um determinado portfólio com base em uma data inicial e uma data final usando a o CDI como\n",
    "    ativo livre de risco, Beta e o Retorno do mercado.\n",
    "    \n",
    "    Parâmetros:\n",
    "    preLast: Pandas DataFrame já importado\n",
    "    Portfolios: Pandas DataFrame já importado\n",
    "    selecao_carteira: str (nome da carteira)\n",
    "    data_inicial: str (no formato de data AAAA-MM-DD)\n",
    "    data_final: str (no formato de data AAAA-MM-DD)\n",
    "    \n",
    "    Resultado:\n",
    "    alpha_ratio : float (em percentual)\n",
    "    \"\"\"\n",
    "    \n",
    "    if selecao_carteira in Portifolios.columns:\n",
    "        quantidade_ativos = len(Portifolios[selecao_carteira].sort_values().values)\n",
    "        pesos = (100/quantidade_ativos) * np.ones((quantidade_ativos,))\n",
    "        returns = []\n",
    "        for ativo in Portifolios[selecao_carteira]:\n",
    "            returns.append(np.log(preLast[ativo].loc[data_inicial:data_final] / preLast[ativo].loc[data_inicial:data_final].shift(1)))\n",
    "        returns = pd.concat(returns, axis=1).dropna()\n",
    "        w = pesos.reshape((-1,1))\n",
    "        p = np.mean(returns, axis=0).values.reshape((-1, 1))\n",
    "        returns_portfolio = returns * w.T\n",
    "        mu = round((w.T.dot(p)).item(),2)\n",
    "        \n",
    "    rf = preLast[\"DI_INDEX\"].loc[data_inicial:data_final]\n",
    "    rf_returns = np.log(rf / rf.shift(1)).dropna()\n",
    "    ret_rf = sum(rf_returns)\n",
    "    \n",
    "    rm = preLast[\".BVSP\"].loc[data_inicial:data_final]\n",
    "    rm_returns = np.log(rm / rm.shift(1)).dropna()\n",
    "    ret_rm = sum(rm_returns)\n",
    "    \n",
    "    covariance = np.cov(returns_portfolio.values.T, rm_returns.values)[0][1]\n",
    "    std_rm = np.std(rm_returns)\n",
    "    beta = covariance / (std_rm ** 2) \n",
    "        \n",
    "    alpha_ratio = round((mu - ret_rf) - beta*(ret_rm - ret_rf) *100,2)\n",
    "    \n",
    "    return alpha_ratio"
   ]
  },
  {
   "cell_type": "code",
   "execution_count": 127,
   "id": "108f6d99",
   "metadata": {},
   "outputs": [
    {
     "data": {
      "text/plain": [
       "154.05"
      ]
     },
     "execution_count": 127,
     "metadata": {},
     "output_type": "execute_result"
    }
   ],
   "source": [
    "alpha_portfolio(preLast, Portifolios, selecao_carteira, data_inicial, data_final)"
   ]
  },
  {
   "cell_type": "code",
   "execution_count": 70,
   "id": "6cf696ce",
   "metadata": {},
   "outputs": [],
   "source": [
    "# Índice Sharpe\n",
    "\n",
    "def sharpe_portfolio(preLast, Portifolios, selecao_carteira, data_inicial, data_final):\n",
    "    \"\"\"\"\n",
    "    Descrição:\n",
    "    Calcula o Índice de Sharpe para um determinado portfolio de ativos com base em uma data inicial e uma data final usando a o CDI como\n",
    "    ativo livre de risco e a volatilidade.\n",
    "    \n",
    "    Parâmetros:\n",
    "    preLast: Pandas DataFrame já importado\n",
    "    Portfolios: Pandas DataFrame já importado\n",
    "    selecao_carteira: str (nome da carteira)\n",
    "    data_inicial: str (no formato de data AAAA-MM-DD)\n",
    "    data_final: str (no formato de data AAAA-MM-DD)\n",
    "    \n",
    "    Resultado:\n",
    "    sharpe_ratio : float (em percentual)\n",
    "    \"\"\"\n",
    "    \n",
    "    mu, sigma = portfolio(preLast, Portifolios, selecao_carteira, data_inicial, data_final)\n",
    "        \n",
    "    rf = preLast[\"DI_INDEX\"].loc[data_inicial:data_final]\n",
    "    rf_returns = np.log(rf / rf.shift(1)).dropna()\n",
    "    ret_rf = sum(rf_returns)\n",
    "    \n",
    "    sharpe_ratio = (mu - ret_rf) / sigma * 100\n",
    "    \n",
    "    return round(sharpe_ratio, 2)"
   ]
  },
  {
   "cell_type": "code",
   "execution_count": 74,
   "id": "f366d483",
   "metadata": {},
   "outputs": [
    {
     "data": {
      "text/plain": [
       "0.17"
      ]
     },
     "execution_count": 74,
     "metadata": {},
     "output_type": "execute_result"
    }
   ],
   "source": [
    "sharpe_portfolio(preLast, Portifolios, selecao_carteira, data_inicial, data_final)"
   ]
  },
  {
   "cell_type": "code",
   "execution_count": 128,
   "id": "7b37bc7d",
   "metadata": {},
   "outputs": [],
   "source": [
    "# Índice Sortino\n",
    "\n",
    "def sortino_portfolio(preLast, Portifolios, selecao_carteira, data_inicial, data_final):\n",
    "    \"\"\"\"\n",
    "    Descrição:\n",
    "    Calcula o Índice de Sortino para um portfolio de ativos com base em uma data inicial e uma data final usando a variação do CDI.\n",
    "    \n",
    "    Parâmetros:\n",
    "    preLast: Pandas DataFrame já importado\n",
    "    Portfolios: Pandas DataFrame já importado\n",
    "    selecao_carteira: str (nome da carteira)\n",
    "    data_inicial: str (no formato de data AAAA-MM-DD)\n",
    "    data_final: str (no formato de data AAAA-MM-DD)\n",
    "    \n",
    "    Resultado:\n",
    "    sortino_ratio : float (em percentual)\n",
    "    \"\"\"\n",
    "    \n",
    "    if selecao_carteira in Portifolios.columns:\n",
    "        quantidade_ativos = len(Portifolios[selecao_carteira].sort_values().values)\n",
    "        pesos = (100/quantidade_ativos) * np.ones((quantidade_ativos,))\n",
    "        returns = []\n",
    "        for ativo in Portifolios[selecao_carteira]:\n",
    "            returns.append(np.log(preLast[ativo].loc[data_inicial:data_final] / preLast[ativo].loc[data_inicial:data_final].shift(1)))\n",
    "        returns = pd.concat(returns, axis=1).dropna()\n",
    "        w = pesos.reshape((-1,1))\n",
    "        returns_portfolio = returns * w.T\n",
    "        p = np.mean(returns, axis=0).values.reshape((-1, 1))\n",
    "        C = np.asmatrix(np.cov(returns.T))\n",
    "        mu = round((w.T.dot(p)).item(),2)\n",
    "            \n",
    "    rf = preLast[\"DI_INDEX\"].loc[data_inicial:data_final]\n",
    "    rf_returns = np.log(rf / rf.shift(1)).dropna()\n",
    "    ret_rf = sum(rf_returns)\n",
    "    \n",
    "    express_returns = mu - ret_rf\n",
    "    returns_std = returns_portfolio[returns_portfolio<0]\n",
    "    sigma = np.sqrt(w.T.dot(C).dot(w)).item()\n",
    "    sortino_ratio = express_returns / sigma\n",
    "    \n",
    "    return round(sortino_ratio*100,2)"
   ]
  },
  {
   "cell_type": "code",
   "execution_count": 129,
   "id": "e65e0bbd",
   "metadata": {},
   "outputs": [
    {
     "data": {
      "text/plain": [
       "-12.31"
      ]
     },
     "execution_count": 129,
     "metadata": {},
     "output_type": "execute_result"
    }
   ],
   "source": [
    "sortino_portfolio(preLast, Portifolios, selecao_carteira, data_inicial, data_final)"
   ]
  },
  {
   "cell_type": "code",
   "execution_count": 145,
   "id": "96faa0d8",
   "metadata": {},
   "outputs": [],
   "source": [
    "# ADTV - Average Daily Traded Volume  \n",
    "\n",
    "\n",
    "def adtv_portfolio(preLast, Portifolios, selecao_carteira, data_inicial, data_final):\n",
    "    \"\"\"\n",
    "    Descrição:\n",
    "    Calcula o ADTV para determinado grupo de ativos contidos no porfólio com base em uma data final e a quantidade de períodos.\n",
    "    \n",
    "    Parâmetros:\n",
    "    Volume: Pandas DataFrame já importado\n",
    "    Portfolios: Pandas DataFrame já importado\n",
    "    selecao_carteira: str (nome da carteira)\n",
    "    data_final: str (no formato de data AAAA-MM-DD)\n",
    "    dia: int (no formato de número inteiro)\n",
    "    \n",
    "    Resultado:\n",
    "    adtv : float\n",
    "      \"\"\"\n",
    "    \n",
    "    data_final = pd.to_datetime(data_final)\n",
    "    data_inicial = data_final - timedelta(days=periodo)\n",
    "    Volume_periodo = []\n",
    "    for ativo in Portifolios[selecao_carteira]:\n",
    "        volume_ativo = Volume.loc[(Volume.index >= data_inicial) & (Volume.index <= data_final), ativo].fillna(0)\n",
    "        Volume_periodo.append(volume_ativo)\n",
    "    Volume_periodo = pd.concat(Volume_periodo, axis=1)\n",
    "    adtv = round(Volume_periodo.mean(), 2)\n",
    "    \n",
    "    return adtv"
   ]
  },
  {
   "cell_type": "code",
   "execution_count": 146,
   "id": "ea2603e9",
   "metadata": {},
   "outputs": [
    {
     "data": {
      "text/plain": [
       "BEES4.SA     2.755013e+04\n",
       "BRIV3.SA     1.956670e+03\n",
       "ABCB4.SA     1.339018e+07\n",
       "BBAS3.SA     4.773420e+08\n",
       "BNBR3.SA     2.149960e+03\n",
       "ITUB4.SA     9.169755e+08\n",
       "BPAC11.SA    2.540856e+08\n",
       "BAZA3.SA     2.372892e+05\n",
       "BBDC4.SA     6.648318e+08\n",
       "SANB4.SA     3.194497e+06\n",
       "BPAN4.SA     1.580258e+07\n",
       "BRSR6.SA     1.699138e+07\n",
       "BMEB4.SA     7.022767e+04\n",
       "MOAR3.SA     1.858026e+05\n",
       "ITSA4.SA     1.999536e+08\n",
       "dtype: float64"
      ]
     },
     "execution_count": 146,
     "metadata": {},
     "output_type": "execute_result"
    }
   ],
   "source": [
    "adtv_portfolio(preLast, Portifolios, selecao_carteira, data_inicial, data_final)"
   ]
  },
  {
   "cell_type": "code",
   "execution_count": 151,
   "id": "76be2937",
   "metadata": {},
   "outputs": [],
   "source": [
    "# Drawdown \n",
    "\n",
    "def drawdown_portfolio(preLast, Portifolios, selecao_carteira, data_inicial, data_final):\n",
    "    \"\"\"\n",
    "    Descrição:\n",
    "    Calcula o drawdown para determinado portfolio com base em uma data inicial e uma data final.\n",
    "    \n",
    "    Parâmetros:\n",
    "    preLast: Pandas DataFrame já importado\n",
    "    Portifolios: Pandas DataFrame já importado\n",
    "    selecao_carteira: str (nome da carteira)\n",
    "    data_inicial: str (no formato de data AAAA-MM-DD)\n",
    "    data_final: str (no formato de data AAAA-MM-DD)\n",
    "    \n",
    "    Resultado:\n",
    "    drawdowns : float (O drawdown máximo do portfólio, em percentual.)\n",
    "    \"\"\"\n",
    "    \n",
    "    if selecao_carteira in Portifolios.columns:\n",
    "        quantidade_ativos = len(Portifolios[selecao_carteira].sort_values().values)\n",
    "        pesos = (100/quantidade_ativos) * np.ones((quantidade_ativos,))\n",
    "        returns = []\n",
    "        for ativo in Portifolios[selecao_carteira]:\n",
    "            returns.append(np.log(preLast[ativo].loc[data_inicial:data_final] / preLast[ativo].loc[data_inicial:data_final].shift(1)))\n",
    "        returns = pd.concat(returns, axis=1).dropna()\n",
    "        port_rets = np.dot(returns, pesos)\n",
    "        cum_returns = (1 + port_rets).cumprod() \n",
    "        running_max = pd.Series(cum_returns).cummax() \n",
    "        drawdown = (cum_returns - running_max) / running_max *100\n",
    "    \n",
    "    return round(drawdown,2)"
   ]
  },
  {
   "cell_type": "code",
   "execution_count": 152,
   "id": "496ad937",
   "metadata": {},
   "outputs": [
    {
     "data": {
      "text/plain": [
       "0      -0.00\n",
       "1       9.73\n",
       "2     127.54\n",
       "3     254.17\n",
       "4     890.77\n",
       "5     591.79\n",
       "6       0.00\n",
       "7     -85.11\n",
       "8     -92.08\n",
       "9     -93.94\n",
       "10    -84.79\n",
       "11   -114.26\n",
       "12   -104.75\n",
       "13   -105.95\n",
       "14   -101.79\n",
       "15    -99.36\n",
       "16    -98.68\n",
       "17    -97.62\n",
       "18    -96.22\n",
       "19    -95.41\n",
       "20    -86.13\n",
       "21    -79.54\n",
       "dtype: float64"
      ]
     },
     "execution_count": 152,
     "metadata": {},
     "output_type": "execute_result"
    }
   ],
   "source": [
    "drawdown_portfolio(preLast, Portifolios, selecao_carteira, data_inicial, data_final)"
   ]
  },
  {
   "cell_type": "code",
   "execution_count": 147,
   "id": "dbaa9328",
   "metadata": {},
   "outputs": [],
   "source": [
    "## REVER!!!\n",
    "\n",
    "# Cálculo da quantidade monetária inicial do Portfólio\n",
    "\n",
    "def quantidade(preLast, Portifolios, selecao_carteira, valor_inicial, data_inicial):\n",
    "    \"\"\"\n",
    "    Descrição:\n",
    "    Calcula a quantidade monetária do portfólio com base no valor inicial e nos preços dos ativos na data inicial.\n",
    "\n",
    "    Parâmetros:\n",
    "    preLast: Pandas DataFrame já importado\n",
    "    Portfolios: Pandas DataFrame já importado\n",
    "    selecao_carteira: str (nome da carteira)\n",
    "    valor_inicial: float(valor monetário)\n",
    "    data_inicial: str (no formato de data AAAA-MM-DD)\n",
    "    \n",
    "    Resultado:\n",
    "    quantidade: float (retorna uma lista de valores monetários)\n",
    "    \"\"\"\n",
    "    q = valor_inicial / Portifolios[selecao_carteira].count()\n",
    "    lista_quantidade = []\n",
    "    for ativo in Portifolios[selecao_carteira]:\n",
    "        preco_ativo = preLast.loc[data_inicial, ativo]\n",
    "        q = round(q / preco_ativo, 2)\n",
    "        lista_quantidade.append(q)\n",
    "    return lista_quantidade"
   ]
  },
  {
   "cell_type": "code",
   "execution_count": 148,
   "id": "e96f128c",
   "metadata": {},
   "outputs": [
    {
     "data": {
      "text/plain": [
       "[923.36,\n",
       " 100.69,\n",
       " 5.56,\n",
       " 0.14,\n",
       " 0.0,\n",
       " 0.0,\n",
       " 0.0,\n",
       " 0.0,\n",
       " 0.0,\n",
       " 0.0,\n",
       " 0.0,\n",
       " 0.0,\n",
       " 0.0,\n",
       " 0.0,\n",
       " 0.0]"
      ]
     },
     "execution_count": 148,
     "metadata": {},
     "output_type": "execute_result"
    }
   ],
   "source": [
    "quantidade(preLast, Portifolios, selecao_carteira, valor_inicial, data_inicial)"
   ]
  },
  {
   "cell_type": "code",
   "execution_count": 149,
   "id": "2972ee09",
   "metadata": {},
   "outputs": [
    {
     "ename": "SyntaxError",
     "evalue": "expected ':' (3785207591.py, line 22)",
     "output_type": "error",
     "traceback": [
      "\u001b[1;36m  Cell \u001b[1;32mIn[149], line 22\u001b[1;36m\u001b[0m\n\u001b[1;33m    def cota_final()\u001b[0m\n\u001b[1;37m                    ^\u001b[0m\n\u001b[1;31mSyntaxError\u001b[0m\u001b[1;31m:\u001b[0m expected ':'\n"
     ]
    }
   ],
   "source": [
    "## REVER!!!\n",
    "\n",
    "# Cálculo da cota\n",
    "\n",
    "def cota_inicial(preLast, Portifolios, selecao_carteira, valor_inicial, data_inicial):\n",
    "    \"\"\"\n",
    "    Descrição:\n",
    "    Calcula a cota inicial do portfólio com base em uma data inicial e no valor inicial.\n",
    "\n",
    "    Parâmetros:\n",
    "    preLast: Pandas DataFrame já importado\n",
    "    Portfolios: Pandas DataFrame já importado\n",
    "    valor_inicial: float (valor monetário)\n",
    "    data_inicial: str (no formato de data AAAA-MM-DD)\n",
    "    \n",
    "\n",
    "    Resultado:\n",
    "    cota: float \n",
    "    \"\"\"\n",
    "    \n",
    "\n",
    "def cota_final()"
   ]
  },
  {
   "cell_type": "code",
   "execution_count": null,
   "id": "8edb46f5",
   "metadata": {},
   "outputs": [],
   "source": [
    "# Falta calcular o índice de concentração"
   ]
  },
  {
   "cell_type": "code",
   "execution_count": null,
   "id": "2be2c6e2",
   "metadata": {},
   "outputs": [],
   "source": [
    "# Falta o percentual de ADTV no portfólio"
   ]
  },
  {
   "cell_type": "code",
   "execution_count": null,
   "id": "1af87b16",
   "metadata": {},
   "outputs": [],
   "source": [
    "# Falta calcular a variação do portfólio"
   ]
  },
  {
   "cell_type": "code",
   "execution_count": null,
   "id": "09cb7df8",
   "metadata": {},
   "outputs": [],
   "source": []
  },
  {
   "cell_type": "markdown",
   "id": "15fd286d",
   "metadata": {},
   "source": [
    "## Construção do dashboard"
   ]
  },
  {
   "cell_type": "code",
   "execution_count": 103,
   "id": "b0f41e56",
   "metadata": {},
   "outputs": [
    {
     "name": "stdout",
     "output_type": "stream",
     "text": [
      "Dash is running on http://127.0.0.1:8050/\n",
      "\n"
     ]
    },
    {
     "data": {
      "text/html": [
       "\n",
       "        <iframe\n",
       "            width=\"100%\"\n",
       "            height=\"650\"\n",
       "            src=\"http://127.0.0.1:8050/\"\n",
       "            frameborder=\"0\"\n",
       "            allowfullscreen\n",
       "            \n",
       "        ></iframe>\n",
       "        "
      ],
      "text/plain": [
       "<IPython.lib.display.IFrame at 0x1a531c7e410>"
      ]
     },
     "metadata": {},
     "output_type": "display_data"
    }
   ],
   "source": [
    "# Crie o aplicativo Dash\n",
    "app = JupyterDash(__name__)\n",
    "\n",
    "# Defina o conjunto de dados\n",
    "df = pd.DataFrame({\n",
    "    \"Fruit\": [\"Apples\", \"Oranges\", \"Bananas\", \"Apples\", \"Oranges\", \"Bananas\"],\n",
    "    \"Amount\": [4, 1, 2, 2, 4, 5],\n",
    "    \"City\": [\"SF\", \"SF\", \"SF\", \"Montreal\", \"Montreal\", \"Montreal\"]\n",
    "})\n",
    "\n",
    "# Crie o gráfico usando o Plotly Express\n",
    "fig = px.bar(df, x=\"Fruit\", y=\"Amount\", color=\"City\", barmode=\"group\")\n",
    "\n",
    "# Defina o layout do aplicativo\n",
    "app.layout = html.Div(children=[\n",
    "    html.H1(children='Análise de Rendas Variáveis - Trabalho Prático'),\n",
    "\n",
    "    html.Div(children='''\n",
    "        Dash: A web application framework for your data.\n",
    "    '''),\n",
    "    \n",
    "    html.Div([\n",
    "        dcc.Dropdown(\n",
    "            id='carteira-dropdown',\n",
    "            options=[{'label': 'Carteira 1', 'value': 'carteira_1'},\n",
    "                     {'label': 'Carteira 2', 'value': 'carteira_2'},\n",
    "                     {'label': 'Carteira 3', 'value': 'carteira_3'}],\n",
    "            value='carteira_1'\n",
    "        ),\n",
    "        html.Button('Enviar', id='carteira-submit', n_clicks=0),\n",
    "        html.Div(id='carteira-output')\n",
    "    ]),\n",
    "    \n",
    "    html.Div([\n",
    "        dcc.Input(\n",
    "            id='data-inicial-input',\n",
    "            type='text',\n",
    "            placeholder='Insira a data de aquisição (formato YYYY-MM-DD)',\n",
    "            value=''\n",
    "        ),\n",
    "        html.Button('Enviar', id='data-inicial-submit', n_clicks=0),\n",
    "        html.Div(id='data-inicial-output')\n",
    "    ])\n",
    "])\n",
    "\n",
    "@app.callback(\n",
    "    Output('carteira-output', 'children'),\n",
    "    Input('carteira-submit', 'n_clicks'),\n",
    "    Input('carteira-dropdown', 'value')\n",
    ")\n",
    "\n",
    "def update_carteira_output(n_clicks, carteira):\n",
    "    if n_clicks > 0:\n",
    "        return f'A carteira selecionada foi {carteira}'\n",
    "    else:\n",
    "        return ''\n",
    "\n",
    "@app.callback(\n",
    "    Output('data-inicial-output', 'children'),\n",
    "    Input('data-inicial-submit', 'n_clicks'),\n",
    "    Input('data-inicial-input', 'value')\n",
    ")\n",
    "def update_data_inicial_output(n_clicks, data_inicial):\n",
    "    if n_clicks > 0:\n",
    "        return f'A data inicial selecionada foi {data_inicial}'\n",
    "    else:\n",
    "        return ''\n",
    "\n",
    "# Inicie o aplicativo no modo inline\n",
    "app.run_server(mode='inline')\n"
   ]
  },
  {
   "cell_type": "code",
   "execution_count": null,
   "id": "d349b65a",
   "metadata": {},
   "outputs": [],
   "source": []
  }
 ],
 "metadata": {
  "kernelspec": {
   "display_name": "Python 3 (ipykernel)",
   "language": "python",
   "name": "python3"
  },
  "language_info": {
   "codemirror_mode": {
    "name": "ipython",
    "version": 3
   },
   "file_extension": ".py",
   "mimetype": "text/x-python",
   "name": "python",
   "nbconvert_exporter": "python",
   "pygments_lexer": "ipython3",
   "version": "3.9.13"
  }
 },
 "nbformat": 4,
 "nbformat_minor": 5
}
