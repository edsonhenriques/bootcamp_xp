{
 "cells": [
  {
   "cell_type": "code",
   "execution_count": 12,
   "metadata": {
    "id": "WhVLHOSjiWmq"
   },
   "outputs": [],
   "source": [
    "# Importe as bibliotecas necessárias\n",
    "\n",
    "from plotly.subplots import make_subplots\n",
    "import plotly.graph_objects as go\n",
    "import plotly.express as px\n",
    "import pandas as pd\n",
    "import numpy as np\n",
    "from datetime import datetime, timedelta, date\n",
    "import pandas_market_calendars as mcal\n",
    "import math\n",
    "\n",
    "import warnings\n",
    "warnings.filterwarnings('ignore')"
   ]
  },
  {
   "cell_type": "code",
   "execution_count": 13,
   "metadata": {
    "id": "_wby4Z9vipYy"
   },
   "outputs": [],
   "source": [
    "preLast = pd.read_excel(\"dados/Risco_Retorno_Base.xlsx\",sheet_name=2,index_col = 0, header = 1)"
   ]
  },
  {
   "cell_type": "code",
   "execution_count": 14,
   "metadata": {
    "colab": {
     "base_uri": "https://localhost:8080/"
    },
    "id": "457lXbn5i6nK",
    "outputId": "eee34dc0-78c8-48dd-fe01-6fa4a1e1dc20"
   },
   "outputs": [
    {
     "ename": "KeyboardInterrupt",
     "evalue": "Interrupted by user",
     "output_type": "error",
     "traceback": [
      "\u001b[1;31m---------------------------------------------------------------------------\u001b[0m",
      "\u001b[1;31mKeyboardInterrupt\u001b[0m                         Traceback (most recent call last)",
      "\u001b[1;32m~\\AppData\\Local\\Temp\\ipykernel_40404\\3782114191.py\u001b[0m in \u001b[0;36m<module>\u001b[1;34m\u001b[0m\n\u001b[0;32m      1\u001b[0m \u001b[1;31m# Declarando varíaveis de estudo\u001b[0m\u001b[1;33m\u001b[0m\u001b[1;33m\u001b[0m\u001b[0m\n\u001b[0;32m      2\u001b[0m \u001b[1;33m\u001b[0m\u001b[0m\n\u001b[1;32m----> 3\u001b[1;33m \u001b[0mativo\u001b[0m \u001b[1;33m=\u001b[0m \u001b[0mstr\u001b[0m\u001b[1;33m(\u001b[0m\u001b[0minput\u001b[0m\u001b[1;33m(\u001b[0m\u001b[1;34m\"Selecione o ativo:  \"\u001b[0m\u001b[1;33m)\u001b[0m\u001b[1;33m)\u001b[0m\u001b[1;33m\u001b[0m\u001b[1;33m\u001b[0m\u001b[0m\n\u001b[0m\u001b[0;32m      4\u001b[0m \u001b[0mprint\u001b[0m\u001b[1;33m(\u001b[0m\u001b[1;34m\"\"\u001b[0m\u001b[1;33m)\u001b[0m\u001b[1;33m\u001b[0m\u001b[1;33m\u001b[0m\u001b[0m\n\u001b[0;32m      5\u001b[0m \u001b[0mprint\u001b[0m\u001b[1;33m(\u001b[0m\u001b[1;34m\"-----------------------------------------\"\u001b[0m\u001b[1;33m)\u001b[0m\u001b[1;33m\u001b[0m\u001b[1;33m\u001b[0m\u001b[0m\n",
      "\u001b[1;32m~\\anaconda3\\lib\\site-packages\\ipykernel\\kernelbase.py\u001b[0m in \u001b[0;36mraw_input\u001b[1;34m(self, prompt)\u001b[0m\n\u001b[0;32m   1175\u001b[0m                 \u001b[1;34m\"raw_input was called, but this frontend does not support input requests.\"\u001b[0m\u001b[1;33m\u001b[0m\u001b[1;33m\u001b[0m\u001b[0m\n\u001b[0;32m   1176\u001b[0m             )\n\u001b[1;32m-> 1177\u001b[1;33m         return self._input_request(\n\u001b[0m\u001b[0;32m   1178\u001b[0m             \u001b[0mstr\u001b[0m\u001b[1;33m(\u001b[0m\u001b[0mprompt\u001b[0m\u001b[1;33m)\u001b[0m\u001b[1;33m,\u001b[0m\u001b[1;33m\u001b[0m\u001b[1;33m\u001b[0m\u001b[0m\n\u001b[0;32m   1179\u001b[0m             \u001b[0mself\u001b[0m\u001b[1;33m.\u001b[0m\u001b[0m_parent_ident\u001b[0m\u001b[1;33m[\u001b[0m\u001b[1;34m\"shell\"\u001b[0m\u001b[1;33m]\u001b[0m\u001b[1;33m,\u001b[0m\u001b[1;33m\u001b[0m\u001b[1;33m\u001b[0m\u001b[0m\n",
      "\u001b[1;32m~\\anaconda3\\lib\\site-packages\\ipykernel\\kernelbase.py\u001b[0m in \u001b[0;36m_input_request\u001b[1;34m(self, prompt, ident, parent, password)\u001b[0m\n\u001b[0;32m   1217\u001b[0m             \u001b[1;32mexcept\u001b[0m \u001b[0mKeyboardInterrupt\u001b[0m\u001b[1;33m:\u001b[0m\u001b[1;33m\u001b[0m\u001b[1;33m\u001b[0m\u001b[0m\n\u001b[0;32m   1218\u001b[0m                 \u001b[1;31m# re-raise KeyboardInterrupt, to truncate traceback\u001b[0m\u001b[1;33m\u001b[0m\u001b[1;33m\u001b[0m\u001b[0m\n\u001b[1;32m-> 1219\u001b[1;33m                 \u001b[1;32mraise\u001b[0m \u001b[0mKeyboardInterrupt\u001b[0m\u001b[1;33m(\u001b[0m\u001b[1;34m\"Interrupted by user\"\u001b[0m\u001b[1;33m)\u001b[0m \u001b[1;32mfrom\u001b[0m \u001b[1;32mNone\u001b[0m\u001b[1;33m\u001b[0m\u001b[1;33m\u001b[0m\u001b[0m\n\u001b[0m\u001b[0;32m   1220\u001b[0m             \u001b[1;32mexcept\u001b[0m \u001b[0mException\u001b[0m\u001b[1;33m:\u001b[0m\u001b[1;33m\u001b[0m\u001b[1;33m\u001b[0m\u001b[0m\n\u001b[0;32m   1221\u001b[0m                 \u001b[0mself\u001b[0m\u001b[1;33m.\u001b[0m\u001b[0mlog\u001b[0m\u001b[1;33m.\u001b[0m\u001b[0mwarning\u001b[0m\u001b[1;33m(\u001b[0m\u001b[1;34m\"Invalid Message:\"\u001b[0m\u001b[1;33m,\u001b[0m \u001b[0mexc_info\u001b[0m\u001b[1;33m=\u001b[0m\u001b[1;32mTrue\u001b[0m\u001b[1;33m)\u001b[0m\u001b[1;33m\u001b[0m\u001b[1;33m\u001b[0m\u001b[0m\n",
      "\u001b[1;31mKeyboardInterrupt\u001b[0m: Interrupted by user"
     ]
    }
   ],
   "source": [
    "# Declarando varíaveis de estudo\n",
    "\n",
    "ativo = str(input(\"Selecione o ativo:  \"))\n",
    "print(\"\")\n",
    "print(\"-----------------------------------------\")\n",
    "data_inicial = str(input(\"Insira a data de aquisição (formato YYYY-MM-DD): \"))\n",
    "\n",
    "# Data final (para o trabalho será considerada 2023-03-31)\n",
    "data_final = \"2023-03-31\"\n",
    "\n",
    "# Data final para último dia útil\n",
    "#cal = mcal.get_calendar('B3')\n",
    "#today = date.today()\n",
    "#last_business_day = cal.schedule(start_date=today - timedelta(days=365), end_date=today).index[-1].date()\n",
    "#data_final = last_business_day.strftime('%Y-%m-%d')"
   ]
  },
  {
   "cell_type": "code",
   "execution_count": null,
   "metadata": {
    "id": "bv8aCZzWjKZo"
   },
   "outputs": [],
   "source": [
    "# Organizando o DataFrame preLast\n",
    "\n",
    "# Criando um Dataframe preLast_1\n",
    "preLast_1 = pd.DataFrame() # Contém o Índice Bovespa e Índice DI\n",
    "\n",
    "# Remover as colunas .BVSP e INDEX_DI do primeiro dataframe e adicioná-las ao segundo dataframe\n",
    "preLast_1.insert(loc=len(preLast_1.columns), column='.BVSP', value=preLast.pop('.BVSP'))\n",
    "preLast_1.insert(loc=len(preLast_1.columns), column='DI_INDEX', value=preLast.pop('DI_INDEX'))"
   ]
  },
  {
   "cell_type": "code",
   "execution_count": null,
   "metadata": {
    "id": "DAbmQFb2mEiM"
   },
   "outputs": [],
   "source": [
    "# Dados Financeiro\n",
    "\n",
    "# declarando capital próprio e de terceiros\n",
    "capital_proprio = 1000\n",
    "capital_terceiro = 1000\n",
    "capital_total = capital_proprio + capital_terceiro\n",
    "\n",
    "# Declarando a taxa de juros a.a e cálculo da taxa equivalente a.d\n",
    "taxa_juros_a_a = 0.12\n",
    "taxa_juros_a_d = (1+taxa_juros_a_a) ** (1/252) - 1\n",
    "\n",
    "# Composição de capital\n",
    "peso_capital_proprio = round((capital_proprio / capital_total) * 100,2)\n",
    "peso_capital_terceiro = round((capital_terceiro / capital_total) * 100,2)\n",
    "\n",
    "# Calculo da alavancagem\n",
    "alavancagem = round(peso_capital_terceiro / peso_capital_proprio,2)\n",
    "exposicao = str(1 + alavancagem) + \"x\""
   ]
  },
  {
   "cell_type": "code",
   "execution_count": null,
   "metadata": {
    "id": "r3CDqWfEjY0I"
   },
   "outputs": [],
   "source": [
    "# Dados da operação\n",
    "\n",
    "preco_compra = 10\n",
    "preco_venda = 12\n",
    "numero_dias = 252\n",
    "oscilacao_preco = round((preco_venda - preco_compra) / preco_venda * 100,2)"
   ]
  },
  {
   "cell_type": "code",
   "execution_count": null,
   "metadata": {},
   "outputs": [],
   "source": [
    "# DataFrame para apresentação dos dados financeiros\n",
    "\n",
    "df_dados_financeiro = pd.DataFrame({\n",
    "    'Capital Próprio': [capital_proprio],\n",
    "    'Capital de Terceiros': [capital_terceiro],\n",
    "    'Taxa de juros ao a.a': [taxa_juros_a_a],\n",
    "    'Taxa de juros ao a.d':[taxa_juros_a_d],\n",
    "    'Capital Total':[capital_total],\n",
    "    'Peso Capital Próprio': [peso_capital_proprio],\n",
    "    'Peso Capital Terceiro':[peso_capital_terceiro],\n",
    "}).T\n",
    "\n",
    "df_dados_financeiro.columns = [\"Dados Financeiros\"]"
   ]
  },
  {
   "cell_type": "code",
   "execution_count": null,
   "metadata": {
    "id": "bc--PPurj-HP"
   },
   "outputs": [],
   "source": [
    "# Cálculo da Operação sem Alavancagem\n",
    "\n",
    "# Calculo da quantidade de compra\n",
    "quantidade = int(capital_proprio / preco_compra)\n",
    "\n",
    "# Cálculo valor de compra e venda\n",
    "valor_posicao_data_compra = quantidade * preco_compra\n",
    "valor_posicao_data_venda = quantidade * preco_venda\n",
    "\n",
    "# Calculo do resultado da operação\n",
    "resultado_operacao_sem_alavancagem = valor_posicao_data_venda - valor_posicao_data_compra\n",
    "retorno_operacao_sem_alavancagem = round(((valor_posicao_data_venda / capital_proprio) - 1)*100,2)\n",
    "\n",
    "\n",
    "\n",
    "# Cálculo da Operação com Alavancagem\n",
    "\n",
    "# Calculo da quantidade de compra\n",
    "quantidade_alavancado = int(capital_total / preco_compra)\n",
    "\n",
    "# Cálculo valor de compra e venda\n",
    "valor_posicao_data_compra_alavancado = quantidade_alavancado * preco_compra\n",
    "valor_posicao_data_venda_alavancado = quantidade_alavancado * preco_venda\n",
    "\n",
    "# Cálculo dos juros do capital de terceiros\n",
    "juros = round(capital_terceiro * (1 + taxa_juros_a_d) ** (numero_dias) - capital_terceiro,2)\n",
    "\n",
    "# Calculo do resultado da operação\n",
    "resultado_operacao_com_alavancagem = valor_posicao_data_venda_alavancado - valor_posicao_data_compra_alavancado\n",
    "\n",
    "# Cálculo do montante\n",
    "montante_alavancado = capital_total + resultado_operacao_com_alavancagem - capital_terceiro - juros\n",
    "\n",
    "# Calculo do retorno - resultado da operação\n",
    "retorno_operacao_com_alavancagem = round(((montante_alavancado / capital_proprio) - 1)*100,2)\n",
    "\n",
    "# Cálculo do lucro / prejuízo\n",
    "lucro = resultado_operacao_com_alavancagem - juros\n",
    "\n",
    "# DataFrame para apresentação da operação\n",
    "df_operação = pd.DataFrame({\n",
    "    \"Capital Próprio\": [capital_proprio, capital_proprio],\n",
    "    \"Capital Terceiro\":[0, capital_terceiro],\n",
    "    \"Capital total\": [capital_proprio, capital_total],\n",
    "    \"Exposição\": ['1.0x', exposicao],\n",
    "    \"Quantidade\": [quantidade, quantidade_alavancado],\n",
    "    \"Valor Posição Data Compra\": [valor_posicao_data_compra, valor_posicao_data_compra_alavancado],\n",
    "    \"Valor Posição Data Venda\":[valor_posicao_data_venda, valor_posicao_data_venda_alavancado],\n",
    "    \"Resultado da Operação\":[resultado_operacao_sem_alavancagem, resultado_operacao_com_alavancagem],\n",
    "    \"Devolução do Princial\":[0, capital_terceiro],\n",
    "    \"Juros\": [0, juros],\n",
    "    \"Montante final\": [valor_posicao_data_venda, montante_alavancado],\n",
    "    \"Lucro / Prejuízo\": [resultado_operacao_sem_alavancagem,lucro],\n",
    "    \"Retorno sobre o K próprio (%)\": [retorno_operacao_sem_alavancagem, retorno_operacao_com_alavancagem]\n",
    "}).T\n",
    "\n",
    "df_operação.reset_index()\n",
    "df_operação.columns = ['Sem Alavancagem', 'Com Alavancagem']"
   ]
  },
  {
   "cell_type": "code",
   "execution_count": null,
   "metadata": {},
   "outputs": [],
   "source": [
    "# Construção do DataFrame de dados da operação\n",
    "\n",
    "df_dados_operacao = pd.DataFrame({\n",
    "    'Preço de Compra': [preco_compra],\n",
    "    'Preço de Venda': [preco_venda],\n",
    "    'Número de dias': [numero_dias],\n",
    "    'Oscilação de Preço': [oscilacao_preco],\n",
    "    \"Oscilação de Preço c/ Alavancagem\": [retorno_operacao_com_alavancagem]\n",
    "}).T\n",
    "\n",
    "df_dados_operacao.columns = ['Dados da Operação']"
   ]
  },
  {
   "cell_type": "code",
   "execution_count": null,
   "metadata": {
    "id": "fugaMojp_oSS"
   },
   "outputs": [],
   "source": [
    "# Cálculo do Retorno esperado e Volatilidade do ativo \n",
    "\n",
    "# Cálculo sem alavancagem\n",
    "\n",
    "# Quantidade comprada inicial\n",
    "preco_compra_inicial = preLast[ativo].loc[data_inicial]\n",
    "quant = capital_proprio / preco_compra_inicial\n",
    "\n",
    "# Cálculo do retorno, retorno esperado e volatilidade\n",
    "price = preLast[ativo].loc[data_inicial:data_final]\n",
    "price_initial = price * quant\n",
    "returns = np.log(price_initial / price_initial.shift(1)).dropna()\n",
    "retorno_esperado = round((returns.mean() * 252)*100,2)\n",
    "volatilidade = round((returns.std() * 252 ** 0.5)*100,2)\n",
    "\n",
    "\n",
    "# Cálculo com alavancagem\n",
    "\n",
    "# Quantidade comprada inicial\n",
    "quant_alavancado = capital_total / preco_compra_inicial\n",
    "\n",
    "# Cálculo do preço diário * quantidade\n",
    "price_modificado_1 = price * quant_alavancado\n",
    "  \n",
    "# Cálculo da diferença de preço diário\n",
    "price_ajustado =  price_modificado_1 - price_modificado_1.shift(1).dropna()\n",
    "\n",
    "# Valor de juros diário referente ao capital de terceiros\n",
    "juros_diario = taxa_juros_a_d * capital_terceiro\n",
    "\n",
    "# Cálculo do valor diário líquido\n",
    "valor_liquido = price_ajustado - juros_diario\n",
    "\n",
    "# Cálculo do retorno, retorno esperado e volatilidade considerando o valor diário líquido\n",
    "# OBS.: Nesta parte que é considerado os retornos alavancados \n",
    "price_initial_1 = price * quant_alavancado\n",
    "returns_oficial = np.log(price_initial_1 / price_initial_1.shift(1)).dropna()\n",
    "retorno_esperado_oficial = round((returns_oficial.mean() * 252)*100,2)\n",
    "volatilidade_oficial = round((returns_oficial.std() * 252 ** 0.5) * 100,2)\n"
   ]
  },
  {
   "cell_type": "code",
   "execution_count": null,
   "metadata": {
    "id": "A3a2XHmVMgxz"
   },
   "outputs": [],
   "source": [
    "# Organizando as informações no DataFrame para a plotagem do gráfico\n",
    "\n",
    "df_operacao_2 = pd.DataFrame()\n",
    "df_operacao_2[\"Sem Alavancagem\"] = price_sucessora\n",
    "df_operacao_2[\"Com Alavancagem\"] = price_initial_1"
   ]
  },
  {
   "cell_type": "code",
   "execution_count": null,
   "metadata": {},
   "outputs": [],
   "source": [
    "# Cálculo para condição\n",
    "\n",
    "# Retorno Esperado\n",
    "try:\n",
    "    resultado_1 = retorno_esperado_oficial\n",
    "except:\n",
    "    resultado_1 = \"Quebrou\"\n",
    "\n",
    "# Desvio Padrão\n",
    "try:\n",
    "    resultado_2 = volatilidade_oficial\n",
    "except:\n",
    "    resultado_2 = \"Quebrou\"\n",
    "    \n",
    "# Resultado da alavancagem\n",
    "try:\n",
    "    resultado_3 = str(math.floor(retorno_esperado_oficial / retorno_esperado * 10) / 10) + \"x\"\n",
    "except:\n",
    "    resultado_3 = \"Quebrou\"\n",
    "    \n",
    "try:\n",
    "    resultado_4 = str(math.floor(volatilidade_oficial / volatilidade * 10) / 10) + \"x\"\n",
    "except:\n",
    "    resultado_4 = \"Quebrou\"    "
   ]
  },
  {
   "cell_type": "code",
   "execution_count": null,
   "metadata": {
    "colab": {
     "base_uri": "https://localhost:8080/",
     "height": 455
    },
    "id": "IrTKW4HrMifj",
    "outputId": "967c6c8f-1902-4016-ca0d-899265740331"
   },
   "outputs": [],
   "source": [
    "# Organizando o Dataframe para a plotagem da tabela\n",
    "\n",
    "df_tabela=pd.DataFrame({\n",
    "    \"Ln Retorno anualizado\": [retorno_esperado, resultado_1, resultado_3],\n",
    "    \"Desvio Padrão anualizado\": [volatilidade, resultado_2, resultado_4],\n",
    "}).T\n",
    "\n",
    "df_tabela.columns = [f\"{ativo} sem Alavancado\", f\"{ativo} com alavancagem\", 'Resultado da Alavancagem']"
   ]
  },
  {
   "cell_type": "markdown",
   "metadata": {},
   "source": [
    "## Alavancagem - apresentação"
   ]
  },
  {
   "cell_type": "markdown",
   "metadata": {},
   "source": [
    "## Dados Financeiros"
   ]
  },
  {
   "cell_type": "code",
   "execution_count": null,
   "metadata": {},
   "outputs": [],
   "source": [
    "df_dados_financeiro"
   ]
  },
  {
   "cell_type": "markdown",
   "metadata": {},
   "source": [
    "## Dados da Operação"
   ]
  },
  {
   "cell_type": "code",
   "execution_count": null,
   "metadata": {},
   "outputs": [],
   "source": [
    "df_dados_operacao"
   ]
  },
  {
   "cell_type": "markdown",
   "metadata": {},
   "source": [
    "## Resumo da Operação"
   ]
  },
  {
   "cell_type": "code",
   "execution_count": null,
   "metadata": {
    "scrolled": true
   },
   "outputs": [],
   "source": [
    "df_operação"
   ]
  },
  {
   "cell_type": "markdown",
   "metadata": {},
   "source": [
    "## Visualização Gráfica"
   ]
  },
  {
   "cell_type": "code",
   "execution_count": null,
   "metadata": {},
   "outputs": [],
   "source": [
    "# Construção do Gráfico\n",
    "fig = make_subplots(rows = 1, cols = 1,\n",
    "                   shared_xaxes = True,\n",
    "                   vertical_spacing = 0.08)\n",
    "\n",
    "fig.add_trace(go.Scatter(x = df_operacao_2.index\n",
    "                        , y = df_operacao_2[\"Sem Alavancagem\"]\n",
    "                        , name = \"sem alavancagem\"\n",
    "                        , line = dict(color = \"black\"))\n",
    "             , row = 1, col = 1)\n",
    "\n",
    "fig.add_trace(go.Scatter(x = df_operacao_2.index\n",
    "                        , y = df_operacao_2[\"Com Alavancagem\"]\n",
    "                        , name = \"com alavancagem\"\n",
    "                        , line = dict(color = \"red\"))\n",
    "             , row = 1, col = 1)\n",
    "\n",
    "fig.update_layout(height = 600, width = 800\n",
    "                 , title_text = f\"{ativo} - Sem Alavancagem x Com Alacangagem\"\n",
    "                 , font_color = \"blue\"\n",
    "                 , title_font_color = \"black\"\n",
    "                 , xaxis_title = \"Tempo\"\n",
    "                 , yaxis_title = \"R $\"\n",
    "                 , showlegend = False\n",
    "                 , legend_title = \"Carteira\"\n",
    "                 , font = dict(size = 15, color = \"Black\")\n",
    "                 \n",
    "                 )\n",
    "fig.update_layout(hovermode = \"x\")\n",
    "fig.show()"
   ]
  },
  {
   "cell_type": "code",
   "execution_count": null,
   "metadata": {
    "scrolled": true
   },
   "outputs": [],
   "source": [
    "df_tabela"
   ]
  },
  {
   "cell_type": "code",
   "execution_count": null,
   "metadata": {},
   "outputs": [],
   "source": []
  }
 ],
 "metadata": {
  "colab": {
   "provenance": []
  },
  "kernelspec": {
   "display_name": "Python 3 (ipykernel)",
   "language": "python",
   "name": "python3"
  },
  "language_info": {
   "codemirror_mode": {
    "name": "ipython",
    "version": 3
   },
   "file_extension": ".py",
   "mimetype": "text/x-python",
   "name": "python",
   "nbconvert_exporter": "python",
   "pygments_lexer": "ipython3",
   "version": "3.9.13"
  }
 },
 "nbformat": 4,
 "nbformat_minor": 1
}
