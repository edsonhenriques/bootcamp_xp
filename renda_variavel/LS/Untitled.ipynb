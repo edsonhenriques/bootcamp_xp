{
 "cells": [
  {
   "cell_type": "code",
   "execution_count": 9,
   "id": "830034fe",
   "metadata": {},
   "outputs": [],
   "source": [
    "import om_quant_fin as mql\n",
    "\n"
   ]
  },
  {
   "cell_type": "code",
   "execution_count": 10,
   "id": "5596ac81",
   "metadata": {},
   "outputs": [
    {
     "name": "stdout",
     "output_type": "stream",
     "text": [
      "[*********************100%***********************]  1 of 1 completed\n"
     ]
    }
   ],
   "source": [
    "#Download stock data:\n",
    "data = mql.download_data(\"AAPL\", \"2020-01-01\", \"2022-12-31\")"
   ]
  },
  {
   "cell_type": "code",
   "execution_count": 14,
   "id": "865a3788",
   "metadata": {},
   "outputs": [
    {
     "data": {
      "text/plain": [
       "Date\n",
       "2020-01-02         NaN\n",
       "2020-01-03         NaN\n",
       "2020-01-06         NaN\n",
       "2020-01-07         NaN\n",
       "2020-01-08         NaN\n",
       "                ...   \n",
       "2022-12-23   -1.865158\n",
       "2022-12-27   -2.000435\n",
       "2022-12-28   -2.319299\n",
       "2022-12-29   -1.938546\n",
       "2022-12-30   -1.869741\n",
       "Name: Adj Close, Length: 756, dtype: float64"
      ]
     },
     "execution_count": 14,
     "metadata": {},
     "output_type": "execute_result"
    }
   ],
   "source": [
    "#Calculate rolling Z-score:\n",
    "z_score = mql.rolling_z_score(data[\"Adj Close\"], window = 120)\n",
    "z_score"
   ]
  },
  {
   "cell_type": "code",
   "execution_count": 16,
   "id": "98d50d02",
   "metadata": {},
   "outputs": [
    {
     "data": {
      "text/plain": [
       "Date\n",
       "2020-01-02     NaN\n",
       "2020-01-03     NaN\n",
       "2020-01-06     NaN\n",
       "2020-01-07     NaN\n",
       "2020-01-08     NaN\n",
       "              ... \n",
       "2022-12-23   -12.5\n",
       "2022-12-27   -13.6\n",
       "2022-12-28   -16.2\n",
       "2022-12-29   -13.7\n",
       "2022-12-30   -13.5\n",
       "Name: Adj Close, Length: 756, dtype: float64"
      ]
     },
     "execution_count": 16,
     "metadata": {},
     "output_type": "execute_result"
    }
   ],
   "source": [
    "#Calculate rolling ratio:\n",
    "ratio = mql.rolling_ratio(data[\"Adj Close\"], window = 120)\n",
    "ratio"
   ]
  },
  {
   "cell_type": "code",
   "execution_count": 20,
   "id": "a738456f",
   "metadata": {},
   "outputs": [
    {
     "ename": "TypeError",
     "evalue": "calculate_returns() got an unexpected keyword argument 'period'",
     "output_type": "error",
     "traceback": [
      "\u001b[1;31m---------------------------------------------------------------------------\u001b[0m",
      "\u001b[1;31mTypeError\u001b[0m                                 Traceback (most recent call last)",
      "\u001b[1;32m~\\AppData\\Local\\Temp\\ipykernel_34248\\1685137203.py\u001b[0m in \u001b[0;36m<module>\u001b[1;34m\u001b[0m\n\u001b[0;32m      1\u001b[0m \u001b[1;31m#Calculate returns:\u001b[0m\u001b[1;33m\u001b[0m\u001b[1;33m\u001b[0m\u001b[0m\n\u001b[1;32m----> 2\u001b[1;33m \u001b[0mreturns\u001b[0m \u001b[1;33m=\u001b[0m \u001b[0mmql\u001b[0m\u001b[1;33m.\u001b[0m\u001b[0mcalculate_returns\u001b[0m\u001b[1;33m(\u001b[0m\u001b[0mdata\u001b[0m\u001b[1;33m[\u001b[0m\u001b[1;34m\"Adj Close\"\u001b[0m\u001b[1;33m]\u001b[0m\u001b[1;33m,\u001b[0m \u001b[0mperiod\u001b[0m \u001b[1;33m=\u001b[0m \u001b[1;34m'd'\u001b[0m\u001b[1;33m)\u001b[0m\u001b[1;33m\u001b[0m\u001b[1;33m\u001b[0m\u001b[0m\n\u001b[0m",
      "\u001b[1;31mTypeError\u001b[0m: calculate_returns() got an unexpected keyword argument 'period'"
     ]
    }
   ],
   "source": [
    "\n",
    "#Calculate returns:\n",
    "returns = mql.calculate_returns(data[\"Adj Close\"], period = 'd')"
   ]
  },
  {
   "cell_type": "code",
   "execution_count": 21,
   "id": "0e503669",
   "metadata": {},
   "outputs": [
    {
     "ename": "IndentationError",
     "evalue": "unexpected indent (601802121.py, line 2)",
     "output_type": "error",
     "traceback": [
      "\u001b[1;36m  File \u001b[1;32m\"C:\\Users\\edson\\AppData\\Local\\Temp\\ipykernel_34248\\601802121.py\"\u001b[1;36m, line \u001b[1;32m2\u001b[0m\n\u001b[1;33m    window_size = 52 #rolling window for the pain index\u001b[0m\n\u001b[1;37m    ^\u001b[0m\n\u001b[1;31mIndentationError\u001b[0m\u001b[1;31m:\u001b[0m unexpected indent\n"
     ]
    }
   ],
   "source": [
    "\n",
    "\n",
    "\n",
    "\n",
    "\n",
    "\n",
    "\n",
    "\n",
    "#Pain index\n",
    "  window_size = 52 #rolling window for the pain index\n",
    "  data[\"Pain_index\"] = data[\"Adj Close\"].rolling(window_size).apply(mql.pain_index, raw = True)\n",
    "  mql.plot_pain_index(ticker1, data.index, data[\"Adj Close\"], data[\"Pain_index\"])\n",
    "\n",
    "#Bootstrapping\n",
    "  bs = mql.model_bs(model, x_train, y_train, x_test, y_test, n_iterations = 1000, range_bs = 0.1)\n",
    "  mql.plot_bs(bs[\"accuracy_train\"])\n",
    "  mql.plot_bs(bs[\"accuracy_test\"])\n",
    "\n",
    "#qcut fit and transformer\n",
    "labels = [\"bin1\", \"bin2\", \"bin3\", \"bin4\", \"bin5\", \"bin6\", \"bin7\", \"bin8\", \"bin9\", \"bin10\"\n",
    "          ,\"bin11\", \"bin12\", \"bin13\", \"bin14\", \"bin15\", \"bin16\", \"bin17\", \"bin18\", \"bin19\", \"bin20\"]\n",
    "qcut_transformer = mql.QCutTransformer(q = 20, labels = labels)\n",
    "qcut_transformer.fit(data[\"column\"])\n",
    "qcut_transformer.transform(data[\"column\"])\n",
    "\n",
    "\n",
    "\n"
   ]
  },
  {
   "cell_type": "code",
   "execution_count": 3,
   "id": "91cdbfa1",
   "metadata": {},
   "outputs": [],
   "source": [
    "\n"
   ]
  },
  {
   "cell_type": "code",
   "execution_count": 4,
   "id": "f5fcd112",
   "metadata": {},
   "outputs": [],
   "source": [
    "\n"
   ]
  },
  {
   "cell_type": "code",
   "execution_count": 5,
   "id": "4cd529fd",
   "metadata": {},
   "outputs": [
    {
     "name": "stdout",
     "output_type": "stream",
     "text": [
      "A tabela não foi encontrada.\n"
     ]
    }
   ],
   "source": []
  },
  {
   "cell_type": "code",
   "execution_count": 6,
   "id": "11ece430",
   "metadata": {},
   "outputs": [
    {
     "name": "stdout",
     "output_type": "stream",
     "text": [
      "A tabela não foi encontrada.\n"
     ]
    }
   ],
   "source": [
    "\n"
   ]
  },
  {
   "cell_type": "code",
   "execution_count": null,
   "id": "986c7e53",
   "metadata": {},
   "outputs": [],
   "source": []
  }
 ],
 "metadata": {
  "kernelspec": {
   "display_name": "Python 3 (ipykernel)",
   "language": "python",
   "name": "python3"
  },
  "language_info": {
   "codemirror_mode": {
    "name": "ipython",
    "version": 3
   },
   "file_extension": ".py",
   "mimetype": "text/x-python",
   "name": "python",
   "nbconvert_exporter": "python",
   "pygments_lexer": "ipython3",
   "version": "3.9.13"
  }
 },
 "nbformat": 4,
 "nbformat_minor": 5
}
