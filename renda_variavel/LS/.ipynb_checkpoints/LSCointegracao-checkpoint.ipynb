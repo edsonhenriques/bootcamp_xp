{
 "cells": [
  {
   "cell_type": "code",
   "execution_count": 1,
   "id": "e2ad56f5",
   "metadata": {},
   "outputs": [],
   "source": [
    "import pandas as pd\n",
    "import pandas_datareader.data as pdr\n",
    "import numpy as np\n",
    "import statsmodels.api as sm\n",
    "from statsmodels.tsa.stattools import adfuller\n",
    "from statsmodels.tsa.stattools import coint\n",
    "from statsmodels.regression.rolling import RollingOLS\n",
    "import yfinance as yf\n",
    "import seaborn\n",
    "import matplotlib.pyplot as plt\n",
    "from itertools import combinations     # biblioteca para realizar iterações ou looping\n",
    "from tqdm import tqdm                  # biblioteca que gerar display de progresso de cargas ou processamentos\n",
    "import seaborn as sns\n",
    "from plotly.subplots import make_subplots\n",
    "import plotly.graph_objects as go\n",
    "from math import sqrt\n",
    "\n",
    "import warnings as wrn\n",
    "wrn.filterwarnings('ignore', category = DeprecationWarning) \n",
    "wrn.filterwarnings('ignore', category = FutureWarning) \n",
    "get_ipython().run_line_magic(\"matplotlib\", \"inline\")\n"
   ]
  },
  {
   "cell_type": "code",
   "execution_count": 2,
   "id": "cb55c476",
   "metadata": {},
   "outputs": [],
   "source": [
    "#Carrega dados do Excel no daframe pandas\n",
    "df_ibov = pd.read_excel(\"IBOV.xlsx\")"
   ]
  },
  {
   "cell_type": "code",
   "execution_count": 3,
   "id": "7a3edc38",
   "metadata": {},
   "outputs": [],
   "source": [
    "# Obtém a primeira coluna e adiciona \".SA\" ao final dos valores\n",
    "yh_ticker = df_ibov.iloc[:,0].astype(str) + \".SA\""
   ]
  },
  {
   "cell_type": "code",
   "execution_count": 4,
   "id": "efbf80db",
   "metadata": {},
   "outputs": [],
   "source": [
    "lst_ativos = yh_ticker.tolist()"
   ]
  },
  {
   "cell_type": "code",
   "execution_count": 5,
   "id": "26d836a9",
   "metadata": {},
   "outputs": [],
   "source": [
    "inicio=\"2014-12-31\"\n",
    "fim=\"2023-05-19\""
   ]
  },
  {
   "cell_type": "code",
   "execution_count": 6,
   "id": "9a968125",
   "metadata": {},
   "outputs": [
    {
     "name": "stdout",
     "output_type": "stream",
     "text": [
      "[*********************100%***********************]  87 of 87 completed\n"
     ]
    }
   ],
   "source": [
    "dados = yf.download(lst_ativos, inicio, fim)[\"Adj Close\"]\n"
   ]
  },
  {
   "cell_type": "code",
   "execution_count": 22,
   "id": "0f59048b",
   "metadata": {},
   "outputs": [
    {
     "data": {
      "text/plain": [
       "Index(['ABEV3.SA', 'ALPA4.SA', 'ALSO3.SA', 'ARZZ3.SA', 'ASAI3.SA', 'AZUL4.SA',\n",
       "       'B3SA3.SA', 'BBAS3.SA', 'BBDC3.SA', 'BBDC4.SA', 'BBSE3.SA', 'BEEF3.SA',\n",
       "       'BOVA11.SA', 'BPAC11.SA', 'BRAP4.SA', 'BRFS3.SA', 'BRKM5.SA',\n",
       "       'CASH3.SA', 'CCRO3.SA', 'CIEL3.SA', 'CMIG4.SA', 'CMIN3.SA', 'COGN3.SA',\n",
       "       'CPFE3.SA', 'CPLE6.SA', 'CRFB3.SA', 'CSAN3.SA', 'CSNA3.SA', 'CVCB3.SA',\n",
       "       'CYRE3.SA', 'DXCO3.SA', 'EGIE3.SA', 'ELET3.SA', 'ELET6.SA', 'EMBR3.SA',\n",
       "       'ENBR3.SA', 'ENEV3.SA', 'ENGI11.SA', 'EQTL3.SA', 'EZTC3.SA', 'FLRY3.SA',\n",
       "       'GGBR4.SA', 'GOAU4.SA', 'GOLL4.SA', 'HAPV3.SA', 'HYPE3.SA', 'IGTI11.SA',\n",
       "       'IRBR3.SA', 'ITSA4.SA', 'ITUB4.SA', 'JBSS3.SA', 'KLBN11.SA', 'LREN3.SA',\n",
       "       'LWSA3.SA', 'MGLU3.SA', 'MRFG3.SA', 'MRVE3.SA', 'MULT3.SA', 'NTCO3.SA',\n",
       "       'PCAR3.SA', 'PETR3.SA', 'PETR4.SA', 'PETZ3.SA', 'PRIO3.SA', 'RADL3.SA',\n",
       "       'RAIL3.SA', 'RAIZ4.SA', 'RDOR3.SA', 'RENT3.SA', 'RRRP3.SA', 'SANB11.SA',\n",
       "       'SBSP3.SA', 'SLCE3.SA', 'SMTO3.SA', 'SOMA3.SA', 'SUZB3.SA', 'TAEE11.SA',\n",
       "       'TIMS3.SA', 'TOTS3.SA', 'UGPA3.SA', 'USIM5.SA', 'VALE3.SA', 'VBBR3.SA',\n",
       "       'VIIA3.SA', 'VIVT3.SA', 'WEGE3.SA', 'YDUQ3.SA'],\n",
       "      dtype='object')"
      ]
     },
     "execution_count": 22,
     "metadata": {},
     "output_type": "execute_result"
    }
   ],
   "source": []
  },
  {
   "cell_type": "code",
   "execution_count": 7,
   "id": "6d9b4a7e",
   "metadata": {},
   "outputs": [],
   "source": [
    "base_ativos.keys()"
   ]
  },
  {
   "cell_type": "code",
   "execution_count": 8,
   "id": "460a1019",
   "metadata": {},
   "outputs": [],
   "source": [
    "#Calcula os retornos das ações\n",
    "returns = np.log(dados / dados.shift(1))\n",
    "returns = returns.dropna()\n"
   ]
  },
  {
   "cell_type": "code",
   "execution_count": 40,
   "id": "97638192",
   "metadata": {},
   "outputs": [],
   "source": []
  },
  {
   "cell_type": "code",
   "execution_count": 41,
   "id": "41a522ce",
   "metadata": {},
   "outputs": [],
   "source": []
  },
  {
   "cell_type": "code",
   "execution_count": null,
   "id": "eea91a2c",
   "metadata": {},
   "outputs": [],
   "source": []
  },
  {
   "cell_type": "code",
   "execution_count": 21,
   "id": "c3a96aa9",
   "metadata": {},
   "outputs": [
    {
     "name": "stdout",
     "output_type": "stream",
     "text": [
      "erro ASAI3.SA\n",
      "erro AZUL4.SA\n",
      "erro BOVA11.SA\n",
      "erro BPAC11.SA\n",
      "erro CASH3.SA\n",
      "erro CMIN3.SA\n",
      "erro CRFB3.SA\n",
      "erro ENGI11.SA\n",
      "erro HAPV3.SA\n",
      "erro IGTI11.SA\n",
      "erro IRBR3.SA\n",
      "erro JBSS3.SA\n",
      "erro KLBN11.SA\n",
      "erro LWSA3.SA\n",
      "erro NTCO3.SA\n",
      "erro PETZ3.SA\n",
      "erro RAIL3.SA\n",
      "erro RAIZ4.SA\n",
      "erro RDOR3.SA\n",
      "erro RRRP3.SA\n",
      "erro SANB11.SA\n",
      "erro SOMA3.SA\n",
      "erro TAEE11.SA\n",
      "erro VBBR3.SA\n",
      "1) Percentual de Ativos Não Estacionários: 67.82 %\n"
     ]
    }
   ],
   "source": [
    "#Primeira Abordagem para Identificar os Pares Cointegrados\n",
    "columns=dados.columns #coleta dados das colunas (ações)\n",
    "ativos=[]\n",
    "for col in columns:\n",
    "    try:\n",
    "        X = dados[col].values\n",
    "        result = adfuller(X)\n",
    "        #print(\"Adf:\" , result)\n",
    "        if result[1]>0.1 and result[0]>list(result[4].values())[1]:\n",
    "            ativos.append(col)\n",
    "    except:\n",
    "        print(\"erro\",col)\n",
    "print(\"1) Percentual de Ativos Não Estacionários: %.2f\" % (100*len(ativos)/len(columns)),'%')"
   ]
  },
  {
   "cell_type": "code",
   "execution_count": null,
   "id": "d073b1d5",
   "metadata": {},
   "outputs": [],
   "source": []
  },
  {
   "cell_type": "code",
   "execution_count": 44,
   "id": "f9a43538",
   "metadata": {},
   "outputs": [
    {
     "name": "stdout",
     "output_type": "stream",
     "text": [
      "2) Foram 0 ativos Não Estacionários, de um total de 87, com a formação 0 Pares para avaliação de cointegração\n"
     ]
    }
   ],
   "source": [
    "#Realiza combinações de pares\n",
    "from itertools import combinations \n",
    "comb_ativos = list(combinations(ativos, 2)) #criar lista de pares de ativos combinados\n",
    "print(\"2) Foram \"+str(len(ativos))+\" ativos Não Estacionários, de um total de \"+str(len(columns))+\n",
    "      \", com a formação \"+str(len(comb_ativos))+\" Pares para avaliação de cointegração\")"
   ]
  },
  {
   "cell_type": "code",
   "execution_count": 45,
   "id": "39b834b9",
   "metadata": {},
   "outputs": [
    {
     "name": "stderr",
     "output_type": "stream",
     "text": [
      "0it [00:00, ?it/s]\n"
     ]
    },
    {
     "ename": "ZeroDivisionError",
     "evalue": "division by zero",
     "output_type": "error",
     "traceback": [
      "\u001b[1;31m---------------------------------------------------------------------------\u001b[0m",
      "\u001b[1;31mZeroDivisionError\u001b[0m                         Traceback (most recent call last)",
      "\u001b[1;32m~\\AppData\\Local\\Temp\\ipykernel_26776\\2498099198.py\u001b[0m in \u001b[0;36m<module>\u001b[1;34m\u001b[0m\n\u001b[0;32m     12\u001b[0m         \u001b[0mpairs_coint_1\u001b[0m\u001b[1;33m.\u001b[0m\u001b[0mappend\u001b[0m\u001b[1;33m(\u001b[0m\u001b[0mcomb\u001b[0m\u001b[1;33m)\u001b[0m\u001b[1;33m\u001b[0m\u001b[1;33m\u001b[0m\u001b[0m\n\u001b[0;32m     13\u001b[0m print(\"3) Foram encontrados \"+str(len(pairs_coint_1))+\" pares cointegrados entre um total de \"+str(len(comb_ativos))+\n\u001b[1;32m---> 14\u001b[1;33m       \" pares de avaliação, perfazendo \"+str(round(100*len(pairs_coint_1)/len(comb_ativos),2))+' % da amostra')\n\u001b[0m",
      "\u001b[1;31mZeroDivisionError\u001b[0m: division by zero"
     ]
    }
   ],
   "source": [
    "#Encontra pares cointegrados\n",
    "import statsmodels.api as sm\n",
    "\n",
    "pairs_coint_1=[]\n",
    "\n",
    "for comb in tqdm(comb_ativos):\n",
    "    \n",
    "    model = sm.OLS(exog=dados[comb[0]],endog=dados[comb[1]]).fit()\n",
    "    result = adfuller(model.resid)\n",
    "    \n",
    "    if result[1]<0.02:# and result[0]>list(result[4].values())[1]:\n",
    "        pairs_coint_1.append(comb)     \n",
    "print(\"3) Foram encontrados \"+str(len(pairs_coint_1))+\" pares cointegrados entre um total de \"+str(len(comb_ativos))+\n",
    "      \" pares de avaliação, perfazendo \"+str(round(100*len(pairs_coint_1)/len(comb_ativos),2))+' % da amostra')"
   ]
  },
  {
   "cell_type": "code",
   "execution_count": null,
   "id": "250818be",
   "metadata": {},
   "outputs": [],
   "source": [
    "# 2.2) Segunda Abordagem para Identificar os Pares Cointegrados"
   ]
  },
  {
   "cell_type": "code",
   "execution_count": null,
   "id": "cae8deb8",
   "metadata": {},
   "outputs": [],
   "source": [
    "from statsmodels.tsa.stattools import coint\n",
    "def find_cointegrated_pairs(data):\n",
    "    n = data.shape[1]\n",
    "    score_matrix = np.zeros((n, n))\n",
    "    pvalue_matrix = np.ones((n, n))\n",
    "    keys = data.keys()\n",
    "    pairs = []\n",
    "    for i in tqdm(range(n)):\n",
    "        for j in range(i+1, n):\n",
    "            X = data[keys[i]]\n",
    "            Y = data[keys[j]]\n",
    "            result = coint(X, Y)\n",
    "            score = result[0]\n",
    "            pvalue = result[1]\n",
    "            score_matrix[i, j] = score\n",
    "            pvalue_matrix[i, j] = pvalue\n",
    "            if pvalue < 0.02:\n",
    "                pairs.append((keys[i], keys[j]))\n",
    "    return score_matrix, pvalue_matrix, pairs\n",
    "\n",
    "score_matrix, pvalue_matrix, pairs_coint_2 = find_cointegrated_pairs(dados[ativos])\n",
    "\n",
    "print(\"Foram encontrados \"+str(len(pairs_coint_2))+\" pares cointegrados em um total de \"+str(len(comb_ativos))+\n",
    "      \" pares possíveis, perfazendo \"+str(round(100*len(pairs_coint_2)/len(comb_ativos),2))+' % da amostra')\n",
    "\n",
    "#https://medium.com/auquan/pairs-trading-data-science-7dbedafcfe5a"
   ]
  },
  {
   "cell_type": "code",
   "execution_count": null,
   "id": "5cc62bab",
   "metadata": {},
   "outputs": [],
   "source": [
    "# 2.3) Identificação dos Pares Cointegrados Comuns às duas Abordagens\n",
    "ativos_LS=list(set(pairs_coint_1)&set(pairs_coint_2))\n",
    "(ativos_LS)"
   ]
  },
  {
   "cell_type": "code",
   "execution_count": null,
   "id": "b3af8721",
   "metadata": {},
   "outputs": [],
   "source": [
    "#2.5) Ordenação dos Pares quanto ao Indice de Correlação"
   ]
  },
  {
   "cell_type": "code",
   "execution_count": null,
   "id": "1f2a9207",
   "metadata": {},
   "outputs": [],
   "source": []
  },
  {
   "cell_type": "code",
   "execution_count": null,
   "id": "b4124890",
   "metadata": {},
   "outputs": [],
   "source": [
    "def cointegrated_pairs(data,lista):\n",
    "    res=[]\n",
    "    for pair in lista:\n",
    "        X = data[pair[0]]\n",
    "        Y = data[pair[1]]\n",
    "        result = coint(X, Y)\n",
    "        res.append([result[0],result[1]])\n",
    "    return res\n",
    "\n",
    "score_pvalues=pd.DataFrame(cointegrated_pairs(dados,ativos_LS))\n",
    "fig = plt.subplots(figsize=(15,5))\n",
    "plt.style.use('seaborn-whitegrid')\n",
    "\n",
    "ax1 = plt.subplot(111)\n",
    "ax1.plot(score_pvalues[1],c='g',label='p-values')\n",
    "ax1.set_ylabel('p-values',fontsize=15)\n",
    "ax1.set_xlabel(\"Número de Pares\",fontsize=15)\n",
    "ax1.set_title(\"Estatísticas de Cointegração\",fontsize=15)\n",
    "ax12 = ax1.twinx()\n",
    "ax12.plot(score_pvalues[0],label='score')\n",
    "ax12.set_ylabel(\"Score\",fontsize=15)\n",
    "ax1.legend(loc='upper left')\n",
    "ax12.legend(loc='upper right')"
   ]
  },
  {
   "cell_type": "code",
   "execution_count": null,
   "id": "04bd21ca",
   "metadata": {},
   "outputs": [],
   "source": [
    "#2.5) Ordenação dos Pares quanto ao Indice de Correlação"
   ]
  },
  {
   "cell_type": "code",
   "execution_count": null,
   "id": "307bfa8d",
   "metadata": {},
   "outputs": [],
   "source": [
    "from scipy.stats.stats import pearsonr   \n",
    "ip=[]\n",
    "for par in ativos_LS:\n",
    "    X = dados[par[0]]\n",
    "    Y = dados[par[1]]\n",
    "    ip.append([pearsonr(X,Y)[0],par])"
   ]
  },
  {
   "cell_type": "code",
   "execution_count": null,
   "id": "2fd34ee8",
   "metadata": {},
   "outputs": [],
   "source": [
    "pd.DataFrame(ip).sort_values(by=0, ascending=False)"
   ]
  },
  {
   "cell_type": "code",
   "execution_count": null,
   "id": "7663cb08",
   "metadata": {},
   "outputs": [],
   "source": [
    "ativos_LS=(pd.DataFrame(ip).sort_values(by=0, ascending=False)[1].values)\n",
    "ativos_LS"
   ]
  },
  {
   "cell_type": "code",
   "execution_count": null,
   "id": "cc871cbb",
   "metadata": {},
   "outputs": [],
   "source": [
    "# 2.6) Apresentação do Residos dos PAres Cointegrados"
   ]
  },
  {
   "cell_type": "code",
   "execution_count": null,
   "id": "641c5a00",
   "metadata": {},
   "outputs": [],
   "source": [
    "fig = plt.subplots(figsize=(20,60))\n",
    "plt.style.use('seaborn-whitegrid')\n",
    "\n",
    "for i in tqdm(range(0,len(ativos_LS))):\n",
    " #   print(i)\n",
    "    #ax1 = plt.subplot(len(ativos_LS)+len(ativos_LS)%3,3,i+1)\n",
    "    ax1 = plt.subplot(len(ativos_LS),1,i+1)\n",
    "    X = dados[ativos_LS[i][0]]\n",
    "    Y = dados[ativos_LS[i][1]]\n",
    "\n",
    " #   score, pvalue, _ = coint(S1, S2)\n",
    " #   print(pvalue)\n",
    "    \n",
    "    model = sm.OLS(endog=Y,exog=X).fit()\n",
    "    resid=model.resid   \n",
    "    \n",
    "    p = adfuller(model.resid)[1]\n",
    "    residzc=(resid-resid.mean())/resid.std()\n",
    "    residzc.plot(label='P-value = '+str(round(p,5)))\n",
    "    plt.axhline(residzc.mean(),color=\"k\")\n",
    "   # ratios = S1 / S2\n",
    "   # ratios.plot()\n",
    "   # plt.axhline(ratios.mean())\n",
    "    plt.legend(loc=\"upper left\",fontsize=30) \n",
    " #   plt.show()\n",
    "   \n",
    "    plt.ylabel('Z-Score', fontsize=30) \n",
    "    plt.xlabel('Dias', fontsize=30) \n",
    "    plt.title(\"Endógena = \"+ ativos_LS[i][1]+\", Exógena = \"+ativos_LS[i][0]+\" e Betha = \"+str(round(model.params.values[0],2)), fontsize=30) \n",
    "plt.tight_layout()"
   ]
  },
  {
   "cell_type": "code",
   "execution_count": null,
   "id": "8d6d7766",
   "metadata": {},
   "outputs": [],
   "source": [
    "#Identificação dos Resultados de Trades Long & Short dentro da Amostra"
   ]
  },
  {
   "cell_type": "code",
   "execution_count": null,
   "id": "bbc35730",
   "metadata": {
    "scrolled": false
   },
   "outputs": [],
   "source": [
    "fig, ax = plt.subplots(figsize=(40, 60))\n",
    "down_profit=[]\n",
    "up_profit=[]\n",
    "perna = 100000\n",
    "for i in tqdm(range(0,len(ativos_LS))):\n",
    "    \n",
    "    X = dados[ativos_LS[i][0]]\n",
    "    Y = dados[ativos_LS[i][1]]\n",
    "    model = sm.OLS(exog=X,endog=Y).fit()\n",
    "    resid=model.resid \n",
    "    LS = pd.DataFrame(index=dados.index)\n",
    "    LS[\"X\"]=X\n",
    "    LS[\"Y\"]=Y\n",
    "    betha=model.params[0]\n",
    "    LS[\"residuo\"]=(resid-resid.mean())/resid.std()\n",
    "\n",
    "    LS['signal_open_down']=0\n",
    "    LS['signal_open_up']=0\n",
    "    desvio=1.0\n",
    "    sinal_open_down=[]\n",
    "    sinal_open_up=[]\n",
    "    open_down=0\n",
    "    open_up=0\n",
    "    for day in range(1,len(LS)): \n",
    "        \n",
    "\n",
    "        open_down_1  = LS['residuo'].iloc[day-1] > -desvio\n",
    "        open_down_2  = LS['residuo'].iloc[day]   < -desvio\n",
    "        close_down_1 = LS['residuo'].iloc[day-1] < 0\n",
    "        close_down_2 = LS['residuo'].iloc[day]   > 0\n",
    "\n",
    "        if open_down_1 & open_down_2:\n",
    "            open_down = -1\n",
    "        if (open_down == -1) & close_down_1 & close_down_2:\n",
    "            open_down = 0        \n",
    "        sinal_open_down.append(open_down)    \n",
    "\n",
    "        open_up_1  = LS['residuo'].iloc[day-1] < desvio\n",
    "        open_up_2  = LS['residuo'].iloc[day]   > desvio\n",
    "        close_up_1 = LS['residuo'].iloc[day-1] > 0\n",
    "        close_up_2 = LS['residuo'].iloc[day]   < 0\n",
    "\n",
    "        if open_up_1 & open_up_2:\n",
    "            open_up = 1\n",
    "        if (open_up == 1) & close_up_1 & close_up_2:\n",
    "            open_up = 0        \n",
    "        sinal_open_up.append(open_up)       \n",
    "        \n",
    "    LS.loc[1:,'signal_open_down']=sinal_open_down\n",
    "    LS.loc[1:,'signal_open_up']=sinal_open_up\n",
    "        \n",
    " #   LS['signal_open_down'].iloc[1:]=sinal_open_down\n",
    " #   LS['signal_open_up'].iloc[1:]=sinal_open_up\n",
    "\n",
    "    Pos_start_down=np.where(LS[\"signal_open_down\"].diff()<0)[0]\n",
    "    Pos_close_down=np.where(LS[\"signal_open_down\"].diff()>0)[0]\n",
    "    len_down=np.min([len(Pos_start_down),len(Pos_close_down)])\n",
    "\n",
    "    if betha>0:\n",
    "        Y_down_profit=+(LS[\"Y\"].iloc[Pos_close_down].values[:len_down]-LS[\"Y\"].iloc[Pos_start_down].values[:len_down])\n",
    "        X_down_profit=-(LS[\"X\"].iloc[Pos_close_down].values[:len_down]-LS[\"X\"].iloc[Pos_start_down].values[:len_down])\n",
    "    else:\n",
    "        Y_down_profit=+(LS[\"Y\"].iloc[Pos_close_down].values[:len_down]-LS[\"Y\"].iloc[Pos_start_down].values[:len_down])\n",
    "        X_down_profit=+(LS[\"X\"].iloc[Pos_close_down].values[:len_down]-LS[\"X\"].iloc[Pos_start_down].values[:len_down])\n",
    "\n",
    "    perna_y_açoes_down=[int(peso-peso%100) for peso in perna/LS[\"Y\"].iloc[Pos_start_down].values[:len_down]]\n",
    "    perna_x_açoes_down=[int(peso-peso%100) for peso in perna/LS[\"X\"].iloc[Pos_start_down].values[:len_down]]\n",
    "\n",
    "    down_profit.append([ativos_LS[i][0],ativos_LS[i][1],\n",
    "                        X_down_profit,Y_down_profit,\n",
    "                        perna_x_açoes_down,perna_y_açoes_down,\n",
    "                        Pos_start_down,Pos_close_down,\n",
    "                        LS[\"X\"],LS[\"Y\"],\n",
    "                        LS['residuo'],betha])\n",
    "\n",
    "    Pos_start_up=np.where(LS[\"signal_open_up\"].diff()>0)[0]\n",
    "    Pos_close_up=np.where(LS[\"signal_open_up\"].diff()<0)[0]\n",
    "    len_up=np.min([len(Pos_start_up),len(Pos_close_up)])\n",
    "\n",
    "    if betha>0:\n",
    "        Y_up_profit=-(LS[\"Y\"].iloc[Pos_close_up].values[:len_up]-LS[\"Y\"].iloc[Pos_start_up].values[:len_up])\n",
    "        X_up_profit=+(LS[\"X\"].iloc[Pos_close_up].values[:len_up]-LS[\"X\"].iloc[Pos_start_up].values[:len_up])\n",
    "    else:\n",
    "        Y_up_profit=-(LS[\"Y\"].iloc[Pos_close_up].values[:len_up]-LS[\"Y\"].iloc[Pos_start_up].values[:len_up])\n",
    "        X_up_profit=-(LS[\"X\"].iloc[Pos_close_up].values[:len_up]-LS[\"X\"].iloc[Pos_start_up].values[:len_up])\n",
    "        \n",
    "\n",
    "    perna_y_açoes_up=[int(peso-peso%100) for peso in perna/LS[\"Y\"].iloc[Pos_start_up].values[:len_up]]\n",
    "    perna_x_açoes_up=[int(peso-peso%100) for peso in perna/LS[\"X\"].iloc[Pos_start_up].values[:len_up]]\n",
    "\n",
    "    up_profit.append([ativos_LS[i][0],ativos_LS[i][1],\n",
    "                      X_up_profit,Y_up_profit,\n",
    "                      perna_x_açoes_up,perna_y_açoes_up,\n",
    "                      Pos_start_up,Pos_close_up,\n",
    "                      LS[\"X\"],LS[\"Y\"],\n",
    "                      LS['residuo'],betha])\n",
    "    \n",
    "    plt.style.use('seaborn-whitegrid')\n",
    "    #ax1 = plt.subplot(len(ativos_LS)+len(ativos_LS)%3,3,i+1)\n",
    "    ax1 = plt.subplot(len(ativos_LS),2,2*i+1)\n",
    "    #values = Y_down_profit*perna_y_açoes_down+X_down_profit*perna_x_açoes_down\n",
    "    #values = Y_down_profit+betha*X_down_profit\n",
    "    values = Y_down_profit+X_down_profit\n",
    "    idx = np.array(list(range(len(values)))) \n",
    "    clrs = ['red' if (x < 0) else 'blue' for x in values]\n",
    "    sns.barplot(x=idx, y=values, palette=clrs,label=ativos_LS[i][0]+\"/\"+ativos_LS[i][1]) \n",
    "    plt.ylabel('Retorno R$', fontsize=30)\n",
    "    plt.xlabel('Trades R$', fontsize=30)\n",
    "    plt.title(\"Down_profit para \"+ativos_LS[i][0]+\"/\"+ativos_LS[i][1], fontsize=30) \n",
    "\n",
    "    ax1 = plt.subplot(len(ativos_LS),2,2*i+2)\n",
    "    #ax1 = plt.subplot(len(ativos_LS)+len(ativos_LS)%3,3,i+1)\n",
    "    #values = Y_up_profit*perna_y_açoes_up+X_up_profit*perna_x_açoes_up\n",
    "    #values = Y_up_profit+betha*X_up_profit \n",
    "    values = Y_up_profit+X_up_profit \n",
    "    idx = np.array(list(range(len(values)))) \n",
    "    clrs = ['red' if (x < 0) else 'blue' for x in values]\n",
    "    sns.barplot(x=idx, y=values, palette=clrs,label=ativos_LS[i][0]+\"/\"+ativos_LS[i][1]) \n",
    "    plt.ylabel('Retorno R$', fontsize=30)\n",
    "    plt.xlabel('Trades R$', fontsize=30)\n",
    "    plt.title(\"Up_profit para \"+ativos_LS[i][0]+\"/\"+ativos_LS[i][1], fontsize=30) \n",
    "    \n",
    "plt.tight_layout()  "
   ]
  },
  {
   "cell_type": "code",
   "execution_count": null,
   "id": "1f2ee016",
   "metadata": {},
   "outputs": [],
   "source": [
    "fig, ax1 = plt.subplots(figsize=(20, 80))\n",
    "i=1\n",
    "for i in tqdm(range(len(down_profit))):\n",
    "    ax1 = plt.subplot(len(ativos_LS),2,2*i+1)\n",
    "    ax1.bar(down_profit[i][8].iloc[down_profit[i][7]].index[:len(down_profit[i][2])], down_profit[i][2],width=6) \n",
    "    ax1.plot(down_profit[i][10].index,down_profit[i][10],\"g:\")\n",
    "    ax1.axhline(y=-1.0, color='r', linestyle='-')\n",
    "    ax1.axhline(y=1.0, color='b', linestyle='-')\n",
    "    ax1.axhline(y=0.0, color='k', linestyle='-')\n",
    "    plt.ylabel(\"residuo e Profit [R$]\", fontsize=20)\n",
    "    ax2 = ax1.twinx() \n",
    "    ax2.plot(down_profit[i][8].index,down_profit[i][8])\n",
    "    ax2.plot(down_profit[i][8].iloc[down_profit[i][6]].index, down_profit[i][8].iloc[down_profit[i][6]],'v', markersize=10, color='k',label='Sell')\n",
    "    ax2.plot(down_profit[i][8].iloc[down_profit[i][7]].index, down_profit[i][8].iloc[down_profit[i][7]],'^', markersize=10, color='m',label='Buy') \n",
    "    ax2.axhline(y=0.0, color='k', linestyle='-')\n",
    "    plt.ylabel(\"Preço e Posições [R$]\", fontsize=20)\n",
    "    plt.legend()\n",
    "    plt.title(\"DOWN: Betha =\"+str(round(down_profit[i][-1],2))+\", \"+down_profit[i][0]+\" [X-Vendido]\"+\", soma R$ \"+str(round(np.sum(down_profit[i][2]),2)), fontsize=20)\n",
    "\n",
    "    ax1 = plt.subplot(len(ativos_LS),2,2*i+2)\n",
    "    ax1.bar(down_profit[i][9].iloc[down_profit[i][7]].index[:len(down_profit[i][3])], down_profit[i][3],width=6) \n",
    "    ax1.plot(down_profit[i][10].index,down_profit[i][10],\"g:\")\n",
    "    ax1.axhline(y=-1.0, color='r', linestyle='-')\n",
    "    ax1.axhline(y=1.0, color='b', linestyle='-')\n",
    "    ax1.axhline(y=0.0, color='k', linestyle='-')\n",
    "    plt.ylabel(\"residuo e Profit [R$]\", fontsize=20)\n",
    "    ax2 = ax1.twinx() \n",
    "    ax2.plot(down_profit[i][9].index,down_profit[i][9])\n",
    "    ax2.plot(down_profit[i][9].iloc[down_profit[i][6]].index, down_profit[i][9].iloc[down_profit[i][6]],'^', markersize=10, color='m',label='Buy')\n",
    "    ax2.plot(down_profit[i][9].iloc[down_profit[i][7]].index, down_profit[i][9].iloc[down_profit[i][7]],'v', markersize=10, color='k',label='Sell') \n",
    "    ax2.axhline(y=0.0, color='k', linestyle='-')\n",
    "    plt.ylabel(\"Preço e Posições [R$]\", fontsize=20)\n",
    "    plt.legend()\n",
    "    plt.title(\"DOWN: \"+down_profit[i][1]+\" [Y-Comprado]\"+\", soma R$ \"+str(round(np.sum(down_profit[i][3]),2)), fontsize=20)"
   ]
  },
  {
   "cell_type": "code",
   "execution_count": null,
   "id": "55725913",
   "metadata": {
    "scrolled": false
   },
   "outputs": [],
   "source": [
    "fig, ax1 = plt.subplots(figsize=(20, 80))\n",
    "i=1\n",
    "for i in tqdm(range(len(up_profit))):\n",
    "    ax1 = plt.subplot(len(ativos_LS),2,2*i+1)\n",
    "    ax1.bar(up_profit[i][8].iloc[up_profit[i][7]].index[:len(up_profit[i][2])], up_profit[i][2],width=6) \n",
    "    ax1.plot(up_profit[i][10].index,up_profit[i][10],\"g:\")\n",
    "    ax1.axhline(y=-1.0, color='r', linestyle='-')\n",
    "    ax1.axhline(y=1.0, color='b', linestyle='-')\n",
    "    ax1.axhline(y=0.0, color='k', linestyle='-')\n",
    "    plt.ylabel(\"residuo e Profit [R$]\", fontsize=20)\n",
    "    ax2 = ax1.twinx() \n",
    "    ax2.plot(up_profit[i][8].index,up_profit[i][8])\n",
    "    ax2.plot(up_profit[i][8].iloc[up_profit[i][6]].index, up_profit[i][8].iloc[up_profit[i][6]],'^', markersize=10, color='m',label='Buy')\n",
    "    ax2.plot(up_profit[i][8].iloc[up_profit[i][7]].index, up_profit[i][8].iloc[up_profit[i][7]],'v', markersize=10, color='k',label='Sell') \n",
    "    ax2.axhline(y=0.0, color='k', linestyle='-')\n",
    "    plt.ylabel(\"Preço e Posições [R$]\", fontsize=20)\n",
    "    plt.legend()\n",
    "    plt.title(\"UP: Betha =\"+str(round(up_profit[i][-1],2))+\", \"+up_profit[i][0]+\" [X-Comprado]\"+\", soma R$ \"+str(round(np.sum(up_profit[i][2]),2)), fontsize=20)\n",
    "\n",
    "    ax1 = plt.subplot(len(ativos_LS),2,2*i+2)\n",
    "    ax1.bar(up_profit[i][9].iloc[up_profit[i][7]].index[:len(up_profit[i][3])], up_profit[i][3],width=6) \n",
    "    ax1.plot(up_profit[i][10].index,up_profit[i][10],\"g:\")\n",
    "    ax1.axhline(y=-1.0, color='r', linestyle='-')\n",
    "    ax1.axhline(y=1.0, color='b', linestyle='-')\n",
    "    ax1.axhline(y=0.0, color='k', linestyle='-')\n",
    "    plt.ylabel(\"residuo e Profit [R$]\", fontsize=20)\n",
    "    ax2 = ax1.twinx() \n",
    "    ax2.plot(up_profit[i][9].index,up_profit[i][9])\n",
    "    ax2.plot(up_profit[i][9].iloc[up_profit[i][6]].index, up_profit[i][9].iloc[up_profit[i][6]],'v', markersize=10, color='k',label='Sell')\n",
    "    ax2.plot(up_profit[i][9].iloc[up_profit[i][7]].index, up_profit[i][9].iloc[up_profit[i][7]],'^', markersize=10, color='m',label='Buy') \n",
    "    ax2.axhline(y=0.0, color='k', linestyle='-')\n",
    "    plt.ylabel(\"Preço e Posições [R$]\", fontsize=20)\n",
    "    plt.legend()\n",
    "    plt.title(\"UP: \"+up_profit[i][1]+\"UP: [Y-Vendido]\"+\", soma R$ \"+str(round(np.sum(up_profit[i][3]),2)), fontsize=20)"
   ]
  },
  {
   "cell_type": "code",
   "execution_count": null,
   "id": "bff54ead",
   "metadata": {},
   "outputs": [],
   "source": [
    "#3.1) Assumindo Ajuste com o Betha"
   ]
  },
  {
   "cell_type": "code",
   "execution_count": null,
   "id": "963feb89",
   "metadata": {
    "scrolled": true
   },
   "outputs": [],
   "source": [
    "result=[]\n",
    "for i in range(len(down_profit)):\n",
    "    #pf_down=np.sum(down_profit[i][2]*down_profit[i][4]+down_profit[i][3]*down_profit[i][5])\n",
    "    #pf_up=np.sum(up_profit[i][2]*up_profit[i][4]+up_profit[i][3]*up_profit[i][5])\n",
    "    pf_down=np.sum(down_profit[i][3]+down_profit[i][-1]*down_profit[i][2])\n",
    "    pf_up=np.sum(up_profit[i][3]+up_profit[i][-1]*up_profit[i][2])\n",
    "    \n",
    "    result.append([down_profit[i][0]+\"/\"+down_profit[i][1],pf_down,pf_up])\n",
    "result=pd.DataFrame(result,columns=[\"Par\",\"Profit Down\", \"Profit Up\"]).set_index(\"Par\")    \n",
    "result.plot(kind='bar',figsize=(20, 5))\n",
    "plt.xlabel(\"Pares Cointegrados\",fontsize=30) \n",
    "plt.ylabel(\"Profit R$\",fontsize=30) \n",
    "plt.title(\"Valores de Profit na Entradas Down e Up \"+str(dados.index[0])[:10]+\" até \"+str(dados.index[-1])[:10],fontsize=30) \n",
    "plt.show()    "
   ]
  },
  {
   "cell_type": "code",
   "execution_count": null,
   "id": "5601521e",
   "metadata": {},
   "outputs": [],
   "source": []
  },
  {
   "cell_type": "code",
   "execution_count": null,
   "id": "6b5608a3",
   "metadata": {},
   "outputs": [],
   "source": []
  },
  {
   "cell_type": "code",
   "execution_count": null,
   "id": "8dc8246d",
   "metadata": {},
   "outputs": [],
   "source": [
    "#Executa teste de cointegrações e detecta pares cointegrados\n",
    "pairs = []\n",
    "num_acoes = len(lst_ativos)\n",
    "\n",
    "for i in range(num_acoes):\n",
    "    for j in range(i + 1, num_acoes):\n",
    "        stock1 = returns.iloc[:, i]\n",
    "        stock2 = returns.iloc[:, j]\n",
    "        result = sm.OLS(stock1, stock2).fit()\n",
    "        pvalue = sm.tsa.stattools.adfuller(result.resid)[1]\n",
    "        \n",
    "        if pvalue < 0.05:\n",
    "            pairs.append((lst_ativos[i], lst_ativos[j]))\n"
   ]
  },
  {
   "cell_type": "code",
   "execution_count": null,
   "id": "9ff7dc9b",
   "metadata": {},
   "outputs": [],
   "source": []
  },
  {
   "cell_type": "code",
   "execution_count": null,
   "id": "0652ff14",
   "metadata": {},
   "outputs": [],
   "source": [
    "#lista pares cointegrados e indica quem comprar e quem vender\n",
    "for pair in pairs:\n",
    "    stock1 = pair[0]\n",
    "    stock2 = pair[1]\n",
    "    \n",
    "    price1 = dados[stock1]\n",
    "    price2 = dados[stock2]\n",
    "    \n",
    "    spread = price1 - price2\n",
    "    zscore = (spread - spread.mean()) / spread.std()\n",
    "    \n",
    "    # Aplicar as regras de negociação (exemplo):\n",
    "    if zscore[-1] > 1.0:\n",
    "        # Realizar uma operação de venda curta no par\n",
    "        print(f\"Venda curta: {stock1} e compra: {stock2}\")\n",
    "    elif zscore[-1] < -1.0:\n",
    "        # Realizar uma operação de compra no par\n",
    "        print(f\"Compra: {stock1} e venda curta: {stock2}\")\n"
   ]
  },
  {
   "cell_type": "code",
   "execution_count": null,
   "id": "f2e9ebc6",
   "metadata": {},
   "outputs": [],
   "source": [
    "import statsmodels.api as sm\n",
    "from statsmodels.tsa.stattools import coint\n",
    "from statsmodels.regression.rolling import RollingOLS\n",
    "import yfinance as yf\n",
    "import seaborn\n",
    "import matplotlib.pyplot as plt"
   ]
  },
  {
   "cell_type": "code",
   "execution_count": null,
   "id": "563d500b",
   "metadata": {},
   "outputs": [],
   "source": [
    "symbol_list = ['ABEV3.SA', 'GGBR4.SA', 'ARZZ3.SA', 'MGLU3.SA', 'LREN3.SA', 'PETR3.SA', 'PETR4.SA','VALE3.SA', 'BRAP4.SA']\n",
    "symbol_list = ['META', 'AMZN', 'AAPL', 'NFLX', 'GOOG']\n",
    "data = yf.download(\n",
    "    symbol_list, \n",
    "    start='2014-01-01', \n",
    "    end='2015-01-01'\n",
    ")['Adj Close']"
   ]
  },
  {
   "cell_type": "markdown",
   "id": "fef2fe35",
   "metadata": {},
   "source": [
    "### Encontra pares cointegrados\n"
   ]
  },
  {
   "cell_type": "code",
   "execution_count": null,
   "id": "797fad05",
   "metadata": {},
   "outputs": [],
   "source": [
    "\n",
    "def find_cointegrated_pairs(data):\n",
    "    n = data.shape[1]\n",
    "    score_matrix = np.zeros((n, n))\n",
    "    pvalue_matrix = np.ones((n, n))\n",
    "    keys = data.keys()\n",
    "    pairs = []\n",
    "    for i in range(n):\n",
    "        for j in range(i+1, n):\n",
    "            S1 = data[keys[i]]\n",
    "            S2 = data[keys[j]]\n",
    "            result = coint(S1, S2, maxlag=1)\n",
    "            score = result[0]\n",
    "            pvalue = result[1]\n",
    "            score_matrix[i, j] = score\n",
    "            pvalue_matrix[i, j] = pvalue\n",
    "            if pvalue < 0.05:\n",
    "                pairs.append((keys[i], keys[j]))\n",
    "    return score_matrix, pvalue_matrix, pairs"
   ]
  },
  {
   "cell_type": "code",
   "execution_count": null,
   "id": "d2eb7a62",
   "metadata": {},
   "outputs": [],
   "source": [
    "# Executa a função que encontra os pares cointegrados\n",
    "scores, pvalues, pairs = find_cointegrated_pairs(data)"
   ]
  },
  {
   "cell_type": "code",
   "execution_count": null,
   "id": "c156a8d9",
   "metadata": {},
   "outputs": [],
   "source": [
    "seaborn.heatmap(\n",
    "    pvalues, \n",
    "    xticklabels=symbol_list, \n",
    "    yticklabels=symbol_list, \n",
    "    cmap='RdYlGn_r', \n",
    "    mask = (pvalues >= 0.05)\n",
    ")"
   ]
  },
  {
   "cell_type": "code",
   "execution_count": null,
   "id": "b5a3fef5",
   "metadata": {},
   "outputs": [],
   "source": []
  },
  {
   "cell_type": "code",
   "execution_count": null,
   "id": "51ebaaa8",
   "metadata": {},
   "outputs": [],
   "source": [
    "S1 = data.AMZN\n",
    "S2 = data.AAPL\n",
    "\n",
    "S1 = sm.add_constant(S1)\n",
    "results = sm.OLS(S2, S1).fit()\n",
    "S1 = S1.AMZN\n",
    "b = results.params['AMZN']\n",
    "spread = S2 - b * S1"
   ]
  },
  {
   "cell_type": "code",
   "execution_count": null,
   "id": "988a8ef5",
   "metadata": {},
   "outputs": [],
   "source": [
    "S1"
   ]
  },
  {
   "cell_type": "code",
   "execution_count": null,
   "id": "3a319642",
   "metadata": {},
   "outputs": [],
   "source": [
    "spread.plot()\n",
    "plt.axhline(spread.mean(), color='black')\n",
    "plt.legend(['Spread']);"
   ]
  },
  {
   "cell_type": "code",
   "execution_count": null,
   "id": "62e2db1f",
   "metadata": {},
   "outputs": [],
   "source": [
    "def zscore(series):\n",
    "    return (series - series.mean()) / np.std(series)\n",
    "\n",
    "zscore(spread).plot()\n",
    "plt.axhline(zscore(spread).mean(), color='black')\n",
    "plt.axhline(2.0, color='red', linestyle='--')\n",
    "plt.axhline(-2.0, color='green', linestyle='--')\n",
    "plt.legend(['Spread z-score', 'Mean', '+2', '-2']);"
   ]
  },
  {
   "cell_type": "code",
   "execution_count": null,
   "id": "8576a9fb",
   "metadata": {},
   "outputs": [],
   "source": []
  }
 ],
 "metadata": {
  "kernelspec": {
   "display_name": "Python 3 (ipykernel)",
   "language": "python",
   "name": "python3"
  },
  "language_info": {
   "codemirror_mode": {
    "name": "ipython",
    "version": 3
   },
   "file_extension": ".py",
   "mimetype": "text/x-python",
   "name": "python",
   "nbconvert_exporter": "python",
   "pygments_lexer": "ipython3",
   "version": "3.9.13"
  }
 },
 "nbformat": 4,
 "nbformat_minor": 5
}
