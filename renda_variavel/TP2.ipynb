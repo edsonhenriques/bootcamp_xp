{
  "cells": [
    {
      "cell_type": "markdown",
      "id": "04203156-2a1f-4a32-868a-a1492408d5e0",
      "metadata": {
        "id": "04203156-2a1f-4a32-868a-a1492408d5e0"
      },
      "source": [
        "# Bootcamp Ciência de Dados em Renda Variável\n",
        "\n",
        "---\n",
        "\n",
        "### **Trabalho Prático**\n",
        "#### **Módulo 2 - Coleta e armazenamento de dados de renda variável**\n",
        "\\\n",
        "#### **Objetivos de ensino**\n",
        "##### Exercitar os seguintes conceitos:\n",
        "- Implementar processos para coleta e armazenamento de dados em Renda Variável, usando a linguagem Python;\n",
        "- Reconhecer e explorar fontes de dados públicas;\n",
        "- Seguir boas práticas de programação ao coletar dados da web.\n"
      ]
    },
    {
      "cell_type": "code",
      "execution_count": null,
      "id": "953a5010-b800-4b21-a530-9e8cf0ae0c6d",
      "metadata": {
        "id": "953a5010-b800-4b21-a530-9e8cf0ae0c6d"
      },
      "outputs": [],
      "source": [
        "# Importação das bibliotecas python\n",
        "import pandas as pd\n",
        "import numpy as np\n",
        "import matplotlib.pyplot as plt\n",
        "%matplotlib inline"
      ]
    },
    {
      "cell_type": "markdown",
      "source": [
        "**Conectar google drive**"
      ],
      "metadata": {
        "id": "MourP5scBzQw"
      },
      "id": "MourP5scBzQw"
    },
    {
      "cell_type": "code",
      "source": [
        "#from google.colab import drive\n",
        "#drive.mount('/content/drive')"
      ],
      "metadata": {
        "colab": {
          "base_uri": "https://localhost:8080/"
        },
        "id": "-F-YAo5gEIHd",
        "outputId": "fec6a78f-d5ac-4495-a412-510f083d48a3"
      },
      "execution_count": null,
      "outputs": [
        {
          "output_type": "stream",
          "name": "stdout",
          "text": [
            "Mounted at /content/drive\n"
          ]
        }
      ],
      "id": "-F-YAo5gEIHd"
    },
    {
      "cell_type": "markdown",
      "source": [
        "### **Atividade**\n",
        "\n",
        "\n",
        "---\n",
        "###### 1.Colete a série histórica dos dados de inflação de bebidas do IBGE usando a API sidra;\n"
      ],
      "metadata": {
        "id": "MRfgI_Kq69OG"
      },
      "id": "MRfgI_Kq69OG"
    },
    {
      "cell_type": "code",
      "source": [
        "# Uso da api do banco central para coletar dados de IPCA de alimentos e bebidas para análise de informações para ABEV3\n",
        "\n",
        "def consulta_bc(codigo_bcb):\n",
        "    url = 'http://api.bcb.gov.br/dados/serie/bcdata.sgs.{}/dados?formato=json'.format(codigo_bcb)\n",
        "    df = pd.read_json(url)\n",
        "    df['data'] = pd.to_datetime(df['data'], dayfirst=True)\n",
        "    df.set_index('data', inplace=True)\n",
        "    return df"
      ],
      "metadata": {
        "id": "BK7C8rAs7OTQ"
      },
      "id": "BK7C8rAs7OTQ",
      "execution_count": null,
      "outputs": []
    },
    {
      "cell_type": "code",
      "source": [
        "# índice nacional de preços de alimentação e bebidas do IBGE\n",
        "ipca = consulta_bc(1635) \n",
        "ipca.head(7)"
      ],
      "metadata": {
        "colab": {
          "base_uri": "https://localhost:8080/",
          "height": 300
        },
        "id": "L-5pRiJX85lN",
        "outputId": "6c47c584-15ed-4907-8cbc-4f4f0988f7c3"
      },
      "id": "L-5pRiJX85lN",
      "execution_count": null,
      "outputs": [
        {
          "output_type": "execute_result",
          "data": {
            "text/plain": [
              "            valor\n",
              "data             \n",
              "1991-01-01  21.94\n",
              "1991-02-01  18.49\n",
              "1991-03-01   3.87\n",
              "1991-04-01   5.28\n",
              "1991-05-01   4.60\n",
              "1991-06-01  11.23\n",
              "1991-07-01  12.79"
            ],
            "text/html": [
              "\n",
              "  <div id=\"df-2592bb63-f041-4ec3-9ff6-2df525ad1b8e\">\n",
              "    <div class=\"colab-df-container\">\n",
              "      <div>\n",
              "<style scoped>\n",
              "    .dataframe tbody tr th:only-of-type {\n",
              "        vertical-align: middle;\n",
              "    }\n",
              "\n",
              "    .dataframe tbody tr th {\n",
              "        vertical-align: top;\n",
              "    }\n",
              "\n",
              "    .dataframe thead th {\n",
              "        text-align: right;\n",
              "    }\n",
              "</style>\n",
              "<table border=\"1\" class=\"dataframe\">\n",
              "  <thead>\n",
              "    <tr style=\"text-align: right;\">\n",
              "      <th></th>\n",
              "      <th>valor</th>\n",
              "    </tr>\n",
              "    <tr>\n",
              "      <th>data</th>\n",
              "      <th></th>\n",
              "    </tr>\n",
              "  </thead>\n",
              "  <tbody>\n",
              "    <tr>\n",
              "      <th>1991-01-01</th>\n",
              "      <td>21.94</td>\n",
              "    </tr>\n",
              "    <tr>\n",
              "      <th>1991-02-01</th>\n",
              "      <td>18.49</td>\n",
              "    </tr>\n",
              "    <tr>\n",
              "      <th>1991-03-01</th>\n",
              "      <td>3.87</td>\n",
              "    </tr>\n",
              "    <tr>\n",
              "      <th>1991-04-01</th>\n",
              "      <td>5.28</td>\n",
              "    </tr>\n",
              "    <tr>\n",
              "      <th>1991-05-01</th>\n",
              "      <td>4.60</td>\n",
              "    </tr>\n",
              "    <tr>\n",
              "      <th>1991-06-01</th>\n",
              "      <td>11.23</td>\n",
              "    </tr>\n",
              "    <tr>\n",
              "      <th>1991-07-01</th>\n",
              "      <td>12.79</td>\n",
              "    </tr>\n",
              "  </tbody>\n",
              "</table>\n",
              "</div>\n",
              "      <button class=\"colab-df-convert\" onclick=\"convertToInteractive('df-2592bb63-f041-4ec3-9ff6-2df525ad1b8e')\"\n",
              "              title=\"Convert this dataframe to an interactive table.\"\n",
              "              style=\"display:none;\">\n",
              "        \n",
              "  <svg xmlns=\"http://www.w3.org/2000/svg\" height=\"24px\"viewBox=\"0 0 24 24\"\n",
              "       width=\"24px\">\n",
              "    <path d=\"M0 0h24v24H0V0z\" fill=\"none\"/>\n",
              "    <path d=\"M18.56 5.44l.94 2.06.94-2.06 2.06-.94-2.06-.94-.94-2.06-.94 2.06-2.06.94zm-11 1L8.5 8.5l.94-2.06 2.06-.94-2.06-.94L8.5 2.5l-.94 2.06-2.06.94zm10 10l.94 2.06.94-2.06 2.06-.94-2.06-.94-.94-2.06-.94 2.06-2.06.94z\"/><path d=\"M17.41 7.96l-1.37-1.37c-.4-.4-.92-.59-1.43-.59-.52 0-1.04.2-1.43.59L10.3 9.45l-7.72 7.72c-.78.78-.78 2.05 0 2.83L4 21.41c.39.39.9.59 1.41.59.51 0 1.02-.2 1.41-.59l7.78-7.78 2.81-2.81c.8-.78.8-2.07 0-2.86zM5.41 20L4 18.59l7.72-7.72 1.47 1.35L5.41 20z\"/>\n",
              "  </svg>\n",
              "      </button>\n",
              "      \n",
              "  <style>\n",
              "    .colab-df-container {\n",
              "      display:flex;\n",
              "      flex-wrap:wrap;\n",
              "      gap: 12px;\n",
              "    }\n",
              "\n",
              "    .colab-df-convert {\n",
              "      background-color: #E8F0FE;\n",
              "      border: none;\n",
              "      border-radius: 50%;\n",
              "      cursor: pointer;\n",
              "      display: none;\n",
              "      fill: #1967D2;\n",
              "      height: 32px;\n",
              "      padding: 0 0 0 0;\n",
              "      width: 32px;\n",
              "    }\n",
              "\n",
              "    .colab-df-convert:hover {\n",
              "      background-color: #E2EBFA;\n",
              "      box-shadow: 0px 1px 2px rgba(60, 64, 67, 0.3), 0px 1px 3px 1px rgba(60, 64, 67, 0.15);\n",
              "      fill: #174EA6;\n",
              "    }\n",
              "\n",
              "    [theme=dark] .colab-df-convert {\n",
              "      background-color: #3B4455;\n",
              "      fill: #D2E3FC;\n",
              "    }\n",
              "\n",
              "    [theme=dark] .colab-df-convert:hover {\n",
              "      background-color: #434B5C;\n",
              "      box-shadow: 0px 1px 3px 1px rgba(0, 0, 0, 0.15);\n",
              "      filter: drop-shadow(0px 1px 2px rgba(0, 0, 0, 0.3));\n",
              "      fill: #FFFFFF;\n",
              "    }\n",
              "  </style>\n",
              "\n",
              "      <script>\n",
              "        const buttonEl =\n",
              "          document.querySelector('#df-2592bb63-f041-4ec3-9ff6-2df525ad1b8e button.colab-df-convert');\n",
              "        buttonEl.style.display =\n",
              "          google.colab.kernel.accessAllowed ? 'block' : 'none';\n",
              "\n",
              "        async function convertToInteractive(key) {\n",
              "          const element = document.querySelector('#df-2592bb63-f041-4ec3-9ff6-2df525ad1b8e');\n",
              "          const dataTable =\n",
              "            await google.colab.kernel.invokeFunction('convertToInteractive',\n",
              "                                                     [key], {});\n",
              "          if (!dataTable) return;\n",
              "\n",
              "          const docLinkHtml = 'Like what you see? Visit the ' +\n",
              "            '<a target=\"_blank\" href=https://colab.research.google.com/notebooks/data_table.ipynb>data table notebook</a>'\n",
              "            + ' to learn more about interactive tables.';\n",
              "          element.innerHTML = '';\n",
              "          dataTable['output_type'] = 'display_data';\n",
              "          await google.colab.output.renderOutput(dataTable, element);\n",
              "          const docLink = document.createElement('div');\n",
              "          docLink.innerHTML = docLinkHtml;\n",
              "          element.appendChild(docLink);\n",
              "        }\n",
              "      </script>\n",
              "    </div>\n",
              "  </div>\n",
              "  "
            ]
          },
          "metadata": {},
          "execution_count": 16
        }
      ]
    }
  ],
  "metadata": {
    "kernelspec": {
      "display_name": "Python 3 (ipykernel)",
      "language": "python",
      "name": "python3"
    },
    "language_info": {
      "codemirror_mode": {
        "name": "ipython",
        "version": 3
      },
      "file_extension": ".py",
      "mimetype": "text/x-python",
      "name": "python",
      "nbconvert_exporter": "python",
      "pygments_lexer": "ipython3",
      "version": "3.9.13"
    },
    "colab": {
      "provenance": []
    }
  },
  "nbformat": 4,
  "nbformat_minor": 5
}