{
  "nbformat": 4,
  "nbformat_minor": 0,
  "metadata": {
    "colab": {
      "provenance": [],
      "include_colab_link": true
    },
    "kernelspec": {
      "name": "python3",
      "display_name": "Python 3"
    }
  },
  "cells": [
    {
      "cell_type": "markdown",
      "metadata": {
        "id": "view-in-github",
        "colab_type": "text"
      },
      "source": [
        "<a href=\"https://colab.research.google.com/github/edsonhenriques/bootcamp_xp/blob/main/C%C3%B3pia_de_20_Tesouro_Direto_com_Python.ipynb\" target=\"_parent\"><img src=\"https://colab.research.google.com/assets/colab-badge.svg\" alt=\"Open In Colab\"/></a>"
      ]
    },
    {
      "cell_type": "markdown",
      "metadata": {
        "id": "MMSB_xB51av1"
      },
      "source": [
        "##Base de Dados: https://www.tesourotransparente.gov.br/ckan/dataset"
      ]
    },
    {
      "cell_type": "markdown",
      "metadata": {
        "id": "q9eCjHMJoX_l"
      },
      "source": [
        "###Python para Investimentos - Tesouro Direto"
      ]
    },
    {
      "cell_type": "markdown",
      "metadata": {
        "id": "rSq3QWFToqf-"
      },
      "source": [
        "**Python para Investimentos** é um conjunto de códigos e vídeos em que mostro como utilizar a linguagem de programação PYTHON através da ferramenta online Google Colab para fazer estudos no mercado financeiro."
      ]
    },
    {
      "cell_type": "markdown",
      "metadata": {
        "id": "WNVn7q76os1p"
      },
      "source": [
        "**Canal no Youtube:** https://www.youtube.com/ricospeloacaso?sub_confirmation=1"
      ]
    },
    {
      "cell_type": "markdown",
      "metadata": {
        "id": "KXP7vhJroyKK"
      },
      "source": [
        "---\n"
      ]
    },
    {
      "cell_type": "code",
      "metadata": {
        "id": "T5-qfr8RWggk",
        "cellView": "form",
        "outputId": "4445b3fc-a066-4ef9-ece1-9040d0d6ec90",
        "colab": {
          "base_uri": "https://localhost:8080/",
          "height": 501
        }
      },
      "source": [
        "#@title Vídeo\n",
        "from IPython.display import YouTubeVideo\n",
        "YouTubeVideo('U3zuklVH6k4', width=854, height=480)"
      ],
      "execution_count": null,
      "outputs": [
        {
          "output_type": "execute_result",
          "data": {
            "text/html": [
              "\n",
              "        <iframe\n",
              "            width=\"854\"\n",
              "            height=\"480\"\n",
              "            src=\"https://www.youtube.com/embed/U3zuklVH6k4\"\n",
              "            frameborder=\"0\"\n",
              "            allowfullscreen\n",
              "        ></iframe>\n",
              "        "
            ],
            "text/plain": [
              "<IPython.lib.display.YouTubeVideo at 0x7fa36b7be9e8>"
            ]
          },
          "metadata": {
            "tags": []
          },
          "execution_count": 54
        }
      ]
    },
    {
      "cell_type": "markdown",
      "metadata": {
        "id": "sW9B8WZkpAMS"
      },
      "source": [
        "##Importações e Configurações Iniciais"
      ]
    },
    {
      "cell_type": "code",
      "metadata": {
        "id": "PS36vQlK4bBg"
      },
      "source": [
        "import pandas as pd\n",
        "pd.set_option(\"display.max_colwidth\", 150)\n",
        "pd.set_option(\"display.min_rows\", 20)\n",
        "\n",
        "import matplotlib\n",
        "matplotlib.style.use('seaborn-darkgrid')\n",
        "matplotlib.rcParams['figure.figsize'] = (18,8)\n",
        "\n",
        "import plotly.graph_objects as go\n",
        "import plotly.express as px"
      ],
      "execution_count": null,
      "outputs": []
    },
    {
      "cell_type": "code",
      "metadata": {
        "id": "wi7BbglxMChO"
      },
      "source": [
        "!pip install yfinance\n",
        "import yfinance as yf"
      ],
      "execution_count": null,
      "outputs": []
    },
    {
      "cell_type": "code",
      "metadata": {
        "id": "5x_nO4F_zSBS"
      },
      "source": [
        "import ssl\n",
        "ssl._create_default_https_context = ssl._create_unverified_context"
      ],
      "execution_count": null,
      "outputs": []
    },
    {
      "cell_type": "markdown",
      "metadata": {
        "id": "9Owdsrfdi0yS"
      },
      "source": [
        "##1. Funções para Busca e Tratamento de  Dados do Tesouro Direto"
      ]
    },
    {
      "cell_type": "code",
      "metadata": {
        "id": "4KAzrb_a416b"
      },
      "source": [
        "def busca_titulos_tesouro_direto():\n",
        "  url = 'https://www.tesourotransparente.gov.br/ckan/dataset/df56aa42-484a-4a59-8184-7676580c81e3/resource/796d2059-14e9-44e3-80c9-2d9e30b405c1/download/PrecoTaxaTesouroDireto.csv'\n",
        "  df  = pd.read_csv(url, sep=';', decimal=',')\n",
        "  df['Data Vencimento'] = pd.to_datetime(df['Data Vencimento'], dayfirst=True)\n",
        "  df['Data Base']       = pd.to_datetime(df['Data Base'], dayfirst=True)\n",
        "  multi_indice = pd.MultiIndex.from_frame(df.iloc[:, :3])\n",
        "  df = df.set_index(multi_indice).iloc[: , 3:]\n",
        "  return df"
      ],
      "execution_count": null,
      "outputs": []
    },
    {
      "cell_type": "code",
      "metadata": {
        "id": "XJVV3Jb0ti-m"
      },
      "source": [
        "def busca_vendas_tesouro():\n",
        "  url = \"https://www.tesourotransparente.gov.br/ckan/dataset/f0468ecc-ae97-4287-89c2-6d8139fb4343/resource/e5f90e3a-8f8d-4895-9c56-4bb2f7877920/download/VendasTesouroDireto.csv\"\n",
        "  df  = pd.read_csv(url, sep=';', decimal=',')\n",
        "  df['Vencimento do Titulo'] = pd.to_datetime(df['Vencimento do Titulo'], dayfirst=True)\n",
        "  df['Data Venda']       = pd.to_datetime(df['Data Venda'], dayfirst=True)\n",
        "  multi_indice = pd.MultiIndex.from_frame(df.iloc[:, :3])\n",
        "  df = df.set_index(multi_indice).iloc[: , 3:]\n",
        "  return df"
      ],
      "execution_count": null,
      "outputs": []
    },
    {
      "cell_type": "code",
      "metadata": {
        "id": "ILnM7B4FxQrt"
      },
      "source": [
        "def busca_recompras_tesouro():\n",
        "  url = \"https://www.tesourotransparente.gov.br/ckan/dataset/f30db6e4-6123-416c-b094-be8dfc823601/resource/30c2b3f5-6edd-499a-8514-062bfda0f61a/download/RecomprasTesouroDireto.csv\"\n",
        "  df  = pd.read_csv(url, sep=';', decimal=',')\n",
        "  df['Vencimento do Titulo'] = pd.to_datetime(df['Vencimento do Titulo'], dayfirst=True)\n",
        "  df['Data Resgate']       = pd.to_datetime(df['Data Resgate'], dayfirst=True)\n",
        "  multi_indice = pd.MultiIndex.from_frame(df.iloc[:, :3])\n",
        "  df = df.set_index(multi_indice).iloc[: , 3:]\n",
        "  return df"
      ],
      "execution_count": null,
      "outputs": []
    },
    {
      "cell_type": "markdown",
      "metadata": {
        "id": "0qtErNrkIxCC"
      },
      "source": [
        "##2.Preços e Taxas Históricas dos Títulos Negociados\n",
        "\n",
        "Essa conjunto de dados contém as taxas e preços dos títulos ofertados pelo Tesouro Direto. Refletem o mercado secundário de títulos públicos federais."
      ]
    },
    {
      "cell_type": "markdown",
      "metadata": {
        "id": "11f9GSu3oLEQ"
      },
      "source": [
        "###2.1 Buscando dados"
      ]
    },
    {
      "cell_type": "code",
      "metadata": {
        "id": "G0QXEIKV419C"
      },
      "source": [
        "titulos = busca_titulos_tesouro_direto()"
      ],
      "execution_count": null,
      "outputs": []
    },
    {
      "cell_type": "code",
      "metadata": {
        "id": "8_KFgYvs5WjB",
        "outputId": "cf0da748-3ce3-4aee-c54e-a7aca84d79c7",
        "colab": {
          "base_uri": "https://localhost:8080/",
          "height": 760
        }
      },
      "source": [
        "titulos.sort_index(inplace=True)\n",
        "titulos"
      ],
      "execution_count": null,
      "outputs": [
        {
          "output_type": "execute_result",
          "data": {
            "text/html": [
              "<div>\n",
              "<style scoped>\n",
              "    .dataframe tbody tr th:only-of-type {\n",
              "        vertical-align: middle;\n",
              "    }\n",
              "\n",
              "    .dataframe tbody tr th {\n",
              "        vertical-align: top;\n",
              "    }\n",
              "\n",
              "    .dataframe thead th {\n",
              "        text-align: right;\n",
              "    }\n",
              "</style>\n",
              "<table border=\"1\" class=\"dataframe\">\n",
              "  <thead>\n",
              "    <tr style=\"text-align: right;\">\n",
              "      <th></th>\n",
              "      <th></th>\n",
              "      <th></th>\n",
              "      <th>Taxa Compra Manha</th>\n",
              "      <th>Taxa Venda Manha</th>\n",
              "      <th>PU Compra Manha</th>\n",
              "      <th>PU Venda Manha</th>\n",
              "      <th>PU Base Manha</th>\n",
              "    </tr>\n",
              "    <tr>\n",
              "      <th>Tipo Titulo</th>\n",
              "      <th>Data Vencimento</th>\n",
              "      <th>Data Base</th>\n",
              "      <th></th>\n",
              "      <th></th>\n",
              "      <th></th>\n",
              "      <th></th>\n",
              "      <th></th>\n",
              "    </tr>\n",
              "  </thead>\n",
              "  <tbody>\n",
              "    <tr>\n",
              "      <th rowspan=\"10\" valign=\"top\">Tesouro IGPM+ com Juros Semestrais</th>\n",
              "      <th rowspan=\"10\" valign=\"top\">2005-07-01</th>\n",
              "      <th>2004-12-31</th>\n",
              "      <td>9.23</td>\n",
              "      <td>9.25</td>\n",
              "      <td>1776.67</td>\n",
              "      <td>1776.51</td>\n",
              "      <td>1827.87</td>\n",
              "    </tr>\n",
              "    <tr>\n",
              "      <th>2005-01-03</th>\n",
              "      <td>9.23</td>\n",
              "      <td>9.25</td>\n",
              "      <td>1777.71</td>\n",
              "      <td>1777.55</td>\n",
              "      <td>1776.51</td>\n",
              "    </tr>\n",
              "    <tr>\n",
              "      <th>2005-01-04</th>\n",
              "      <td>9.26</td>\n",
              "      <td>9.28</td>\n",
              "      <td>1778.52</td>\n",
              "      <td>1778.36</td>\n",
              "      <td>1777.32</td>\n",
              "    </tr>\n",
              "    <tr>\n",
              "      <th>2005-01-05</th>\n",
              "      <td>9.28</td>\n",
              "      <td>9.30</td>\n",
              "      <td>1779.40</td>\n",
              "      <td>1779.25</td>\n",
              "      <td>1778.20</td>\n",
              "    </tr>\n",
              "    <tr>\n",
              "      <th>2005-01-06</th>\n",
              "      <td>9.31</td>\n",
              "      <td>9.33</td>\n",
              "      <td>1780.21</td>\n",
              "      <td>1780.06</td>\n",
              "      <td>1779.01</td>\n",
              "    </tr>\n",
              "    <tr>\n",
              "      <th>2005-01-07</th>\n",
              "      <td>9.87</td>\n",
              "      <td>9.89</td>\n",
              "      <td>1777.80</td>\n",
              "      <td>1777.65</td>\n",
              "      <td>1775.73</td>\n",
              "    </tr>\n",
              "    <tr>\n",
              "      <th>2005-01-10</th>\n",
              "      <td>10.14</td>\n",
              "      <td>10.16</td>\n",
              "      <td>1776.84</td>\n",
              "      <td>1776.69</td>\n",
              "      <td>1775.59</td>\n",
              "    </tr>\n",
              "    <tr>\n",
              "      <th>2005-01-11</th>\n",
              "      <td>10.26</td>\n",
              "      <td>10.28</td>\n",
              "      <td>1777.04</td>\n",
              "      <td>1776.89</td>\n",
              "      <td>1775.79</td>\n",
              "    </tr>\n",
              "    <tr>\n",
              "      <th>2005-01-12</th>\n",
              "      <td>10.89</td>\n",
              "      <td>10.91</td>\n",
              "      <td>1772.67</td>\n",
              "      <td>1772.52</td>\n",
              "      <td>1771.45</td>\n",
              "    </tr>\n",
              "    <tr>\n",
              "      <th>2005-01-13</th>\n",
              "      <td>10.89</td>\n",
              "      <td>10.91</td>\n",
              "      <td>1773.75</td>\n",
              "      <td>1773.60</td>\n",
              "      <td>1772.52</td>\n",
              "    </tr>\n",
              "    <tr>\n",
              "      <th>...</th>\n",
              "      <th>...</th>\n",
              "      <th>...</th>\n",
              "      <td>...</td>\n",
              "      <td>...</td>\n",
              "      <td>...</td>\n",
              "      <td>...</td>\n",
              "      <td>...</td>\n",
              "    </tr>\n",
              "    <tr>\n",
              "      <th rowspan=\"10\" valign=\"top\">Tesouro Selic</th>\n",
              "      <th rowspan=\"10\" valign=\"top\">2025-03-01</th>\n",
              "      <th>2020-05-08</th>\n",
              "      <td>0.03</td>\n",
              "      <td>0.04</td>\n",
              "      <td>10599.69</td>\n",
              "      <td>10594.61</td>\n",
              "      <td>10593.34</td>\n",
              "    </tr>\n",
              "    <tr>\n",
              "      <th>2020-05-11</th>\n",
              "      <td>0.03</td>\n",
              "      <td>0.04</td>\n",
              "      <td>10600.91</td>\n",
              "      <td>10595.82</td>\n",
              "      <td>10594.57</td>\n",
              "    </tr>\n",
              "    <tr>\n",
              "      <th>2020-05-12</th>\n",
              "      <td>0.03</td>\n",
              "      <td>0.04</td>\n",
              "      <td>10602.12</td>\n",
              "      <td>10597.04</td>\n",
              "      <td>10595.78</td>\n",
              "    </tr>\n",
              "    <tr>\n",
              "      <th>2020-05-13</th>\n",
              "      <td>0.03</td>\n",
              "      <td>0.04</td>\n",
              "      <td>10603.34</td>\n",
              "      <td>10598.26</td>\n",
              "      <td>10597.00</td>\n",
              "    </tr>\n",
              "    <tr>\n",
              "      <th>2020-05-14</th>\n",
              "      <td>0.03</td>\n",
              "      <td>0.04</td>\n",
              "      <td>10604.56</td>\n",
              "      <td>10599.48</td>\n",
              "      <td>10598.22</td>\n",
              "    </tr>\n",
              "    <tr>\n",
              "      <th>2020-05-15</th>\n",
              "      <td>0.03</td>\n",
              "      <td>0.04</td>\n",
              "      <td>10605.77</td>\n",
              "      <td>10600.69</td>\n",
              "      <td>10599.44</td>\n",
              "    </tr>\n",
              "    <tr>\n",
              "      <th>2020-05-18</th>\n",
              "      <td>0.03</td>\n",
              "      <td>0.04</td>\n",
              "      <td>10606.98</td>\n",
              "      <td>10601.92</td>\n",
              "      <td>10600.65</td>\n",
              "    </tr>\n",
              "    <tr>\n",
              "      <th>2020-05-19</th>\n",
              "      <td>0.03</td>\n",
              "      <td>0.04</td>\n",
              "      <td>10608.20</td>\n",
              "      <td>10603.14</td>\n",
              "      <td>10601.88</td>\n",
              "    </tr>\n",
              "    <tr>\n",
              "      <th>2020-05-20</th>\n",
              "      <td>0.03</td>\n",
              "      <td>0.04</td>\n",
              "      <td>10609.42</td>\n",
              "      <td>10604.36</td>\n",
              "      <td>10603.10</td>\n",
              "    </tr>\n",
              "    <tr>\n",
              "      <th>2020-05-21</th>\n",
              "      <td>0.03</td>\n",
              "      <td>0.04</td>\n",
              "      <td>10610.64</td>\n",
              "      <td>10605.58</td>\n",
              "      <td>10604.31</td>\n",
              "    </tr>\n",
              "  </tbody>\n",
              "</table>\n",
              "<p>108759 rows × 5 columns</p>\n",
              "</div>"
            ],
            "text/plain": [
              "                                                               Taxa Compra Manha  ...  PU Base Manha\n",
              "Tipo Titulo                        Data Vencimento Data Base                      ...               \n",
              "Tesouro IGPM+ com Juros Semestrais 2005-07-01      2004-12-31               9.23  ...        1827.87\n",
              "                                                   2005-01-03               9.23  ...        1776.51\n",
              "                                                   2005-01-04               9.26  ...        1777.32\n",
              "                                                   2005-01-05               9.28  ...        1778.20\n",
              "                                                   2005-01-06               9.31  ...        1779.01\n",
              "                                                   2005-01-07               9.87  ...        1775.73\n",
              "                                                   2005-01-10              10.14  ...        1775.59\n",
              "                                                   2005-01-11              10.26  ...        1775.79\n",
              "                                                   2005-01-12              10.89  ...        1771.45\n",
              "                                                   2005-01-13              10.89  ...        1772.52\n",
              "...                                                                          ...  ...            ...\n",
              "Tesouro Selic                      2025-03-01      2020-05-08               0.03  ...       10593.34\n",
              "                                                   2020-05-11               0.03  ...       10594.57\n",
              "                                                   2020-05-12               0.03  ...       10595.78\n",
              "                                                   2020-05-13               0.03  ...       10597.00\n",
              "                                                   2020-05-14               0.03  ...       10598.22\n",
              "                                                   2020-05-15               0.03  ...       10599.44\n",
              "                                                   2020-05-18               0.03  ...       10600.65\n",
              "                                                   2020-05-19               0.03  ...       10601.88\n",
              "                                                   2020-05-20               0.03  ...       10603.10\n",
              "                                                   2020-05-21               0.03  ...       10604.31\n",
              "\n",
              "[108759 rows x 5 columns]"
            ]
          },
          "metadata": {
            "tags": []
          },
          "execution_count": 8
        }
      ]
    },
    {
      "cell_type": "code",
      "metadata": {
        "id": "4lfFLimYnWPo",
        "outputId": "50017c5f-ad9e-4c24-f76c-4472e62ad926",
        "colab": {
          "base_uri": "https://localhost:8080/",
          "height": 119
        }
      },
      "source": [
        "tipos_titulos = titulos.index.droplevel(level=1).droplevel(level=1).drop_duplicates().to_list()\n",
        "tipos_titulos"
      ],
      "execution_count": null,
      "outputs": [
        {
          "output_type": "execute_result",
          "data": {
            "text/plain": [
              "['Tesouro IGPM+ com Juros Semestrais',\n",
              " 'Tesouro IPCA+',\n",
              " 'Tesouro IPCA+ com Juros Semestrais',\n",
              " 'Tesouro Prefixado',\n",
              " 'Tesouro Prefixado com Juros Semestrais',\n",
              " 'Tesouro Selic']"
            ]
          },
          "metadata": {
            "tags": []
          },
          "execution_count": 9
        }
      ]
    },
    {
      "cell_type": "markdown",
      "metadata": {
        "id": "mhdHl66wjFwt"
      },
      "source": [
        "###2.2 Tesouro Selic"
      ]
    },
    {
      "cell_type": "code",
      "metadata": {
        "id": "SMwUgbT2-QXM",
        "outputId": "ee080e52-2575-4c7d-bad3-4860dcb3b1f0",
        "colab": {
          "base_uri": "https://localhost:8080/",
          "height": 760
        }
      },
      "source": [
        "selic2025 = titulos.loc[('Tesouro Selic', '2025-03-01')]\n",
        "selic2025"
      ],
      "execution_count": null,
      "outputs": [
        {
          "output_type": "execute_result",
          "data": {
            "text/html": [
              "<div>\n",
              "<style scoped>\n",
              "    .dataframe tbody tr th:only-of-type {\n",
              "        vertical-align: middle;\n",
              "    }\n",
              "\n",
              "    .dataframe tbody tr th {\n",
              "        vertical-align: top;\n",
              "    }\n",
              "\n",
              "    .dataframe thead th {\n",
              "        text-align: right;\n",
              "    }\n",
              "</style>\n",
              "<table border=\"1\" class=\"dataframe\">\n",
              "  <thead>\n",
              "    <tr style=\"text-align: right;\">\n",
              "      <th></th>\n",
              "      <th>Taxa Compra Manha</th>\n",
              "      <th>Taxa Venda Manha</th>\n",
              "      <th>PU Compra Manha</th>\n",
              "      <th>PU Venda Manha</th>\n",
              "      <th>PU Base Manha</th>\n",
              "    </tr>\n",
              "    <tr>\n",
              "      <th>Data Base</th>\n",
              "      <th></th>\n",
              "      <th></th>\n",
              "      <th></th>\n",
              "      <th></th>\n",
              "      <th></th>\n",
              "    </tr>\n",
              "  </thead>\n",
              "  <tbody>\n",
              "    <tr>\n",
              "      <th>2019-02-01</th>\n",
              "      <td>0.02</td>\n",
              "      <td>0.06</td>\n",
              "      <td>9926.99</td>\n",
              "      <td>9902.94</td>\n",
              "      <td>9900.45</td>\n",
              "    </tr>\n",
              "    <tr>\n",
              "      <th>2019-02-04</th>\n",
              "      <td>0.02</td>\n",
              "      <td>0.06</td>\n",
              "      <td>9929.43</td>\n",
              "      <td>9905.40</td>\n",
              "      <td>9902.91</td>\n",
              "    </tr>\n",
              "    <tr>\n",
              "      <th>2019-02-05</th>\n",
              "      <td>0.02</td>\n",
              "      <td>0.06</td>\n",
              "      <td>9931.88</td>\n",
              "      <td>9907.87</td>\n",
              "      <td>9905.36</td>\n",
              "    </tr>\n",
              "    <tr>\n",
              "      <th>2019-02-06</th>\n",
              "      <td>0.02</td>\n",
              "      <td>0.06</td>\n",
              "      <td>9934.34</td>\n",
              "      <td>9910.33</td>\n",
              "      <td>9907.83</td>\n",
              "    </tr>\n",
              "    <tr>\n",
              "      <th>2019-02-07</th>\n",
              "      <td>0.02</td>\n",
              "      <td>0.06</td>\n",
              "      <td>9936.79</td>\n",
              "      <td>9912.80</td>\n",
              "      <td>9910.29</td>\n",
              "    </tr>\n",
              "    <tr>\n",
              "      <th>2019-02-08</th>\n",
              "      <td>0.02</td>\n",
              "      <td>0.06</td>\n",
              "      <td>9939.25</td>\n",
              "      <td>9915.26</td>\n",
              "      <td>9912.76</td>\n",
              "    </tr>\n",
              "    <tr>\n",
              "      <th>2019-02-11</th>\n",
              "      <td>0.02</td>\n",
              "      <td>0.06</td>\n",
              "      <td>9941.70</td>\n",
              "      <td>9917.72</td>\n",
              "      <td>9915.22</td>\n",
              "    </tr>\n",
              "    <tr>\n",
              "      <th>2019-02-12</th>\n",
              "      <td>0.02</td>\n",
              "      <td>0.06</td>\n",
              "      <td>9944.16</td>\n",
              "      <td>9920.19</td>\n",
              "      <td>9917.68</td>\n",
              "    </tr>\n",
              "    <tr>\n",
              "      <th>2019-02-13</th>\n",
              "      <td>0.02</td>\n",
              "      <td>0.06</td>\n",
              "      <td>9946.61</td>\n",
              "      <td>9922.65</td>\n",
              "      <td>9920.15</td>\n",
              "    </tr>\n",
              "    <tr>\n",
              "      <th>2019-02-14</th>\n",
              "      <td>0.02</td>\n",
              "      <td>0.06</td>\n",
              "      <td>9949.07</td>\n",
              "      <td>9925.12</td>\n",
              "      <td>9922.62</td>\n",
              "    </tr>\n",
              "    <tr>\n",
              "      <th>...</th>\n",
              "      <td>...</td>\n",
              "      <td>...</td>\n",
              "      <td>...</td>\n",
              "      <td>...</td>\n",
              "      <td>...</td>\n",
              "    </tr>\n",
              "    <tr>\n",
              "      <th>2020-05-08</th>\n",
              "      <td>0.03</td>\n",
              "      <td>0.04</td>\n",
              "      <td>10599.69</td>\n",
              "      <td>10594.61</td>\n",
              "      <td>10593.34</td>\n",
              "    </tr>\n",
              "    <tr>\n",
              "      <th>2020-05-11</th>\n",
              "      <td>0.03</td>\n",
              "      <td>0.04</td>\n",
              "      <td>10600.91</td>\n",
              "      <td>10595.82</td>\n",
              "      <td>10594.57</td>\n",
              "    </tr>\n",
              "    <tr>\n",
              "      <th>2020-05-12</th>\n",
              "      <td>0.03</td>\n",
              "      <td>0.04</td>\n",
              "      <td>10602.12</td>\n",
              "      <td>10597.04</td>\n",
              "      <td>10595.78</td>\n",
              "    </tr>\n",
              "    <tr>\n",
              "      <th>2020-05-13</th>\n",
              "      <td>0.03</td>\n",
              "      <td>0.04</td>\n",
              "      <td>10603.34</td>\n",
              "      <td>10598.26</td>\n",
              "      <td>10597.00</td>\n",
              "    </tr>\n",
              "    <tr>\n",
              "      <th>2020-05-14</th>\n",
              "      <td>0.03</td>\n",
              "      <td>0.04</td>\n",
              "      <td>10604.56</td>\n",
              "      <td>10599.48</td>\n",
              "      <td>10598.22</td>\n",
              "    </tr>\n",
              "    <tr>\n",
              "      <th>2020-05-15</th>\n",
              "      <td>0.03</td>\n",
              "      <td>0.04</td>\n",
              "      <td>10605.77</td>\n",
              "      <td>10600.69</td>\n",
              "      <td>10599.44</td>\n",
              "    </tr>\n",
              "    <tr>\n",
              "      <th>2020-05-18</th>\n",
              "      <td>0.03</td>\n",
              "      <td>0.04</td>\n",
              "      <td>10606.98</td>\n",
              "      <td>10601.92</td>\n",
              "      <td>10600.65</td>\n",
              "    </tr>\n",
              "    <tr>\n",
              "      <th>2020-05-19</th>\n",
              "      <td>0.03</td>\n",
              "      <td>0.04</td>\n",
              "      <td>10608.20</td>\n",
              "      <td>10603.14</td>\n",
              "      <td>10601.88</td>\n",
              "    </tr>\n",
              "    <tr>\n",
              "      <th>2020-05-20</th>\n",
              "      <td>0.03</td>\n",
              "      <td>0.04</td>\n",
              "      <td>10609.42</td>\n",
              "      <td>10604.36</td>\n",
              "      <td>10603.10</td>\n",
              "    </tr>\n",
              "    <tr>\n",
              "      <th>2020-05-21</th>\n",
              "      <td>0.03</td>\n",
              "      <td>0.04</td>\n",
              "      <td>10610.64</td>\n",
              "      <td>10605.58</td>\n",
              "      <td>10604.31</td>\n",
              "    </tr>\n",
              "  </tbody>\n",
              "</table>\n",
              "<p>324 rows × 5 columns</p>\n",
              "</div>"
            ],
            "text/plain": [
              "            Taxa Compra Manha  Taxa Venda Manha  ...  PU Venda Manha  PU Base Manha\n",
              "Data Base                                        ...                               \n",
              "2019-02-01               0.02              0.06  ...         9902.94        9900.45\n",
              "2019-02-04               0.02              0.06  ...         9905.40        9902.91\n",
              "2019-02-05               0.02              0.06  ...         9907.87        9905.36\n",
              "2019-02-06               0.02              0.06  ...         9910.33        9907.83\n",
              "2019-02-07               0.02              0.06  ...         9912.80        9910.29\n",
              "2019-02-08               0.02              0.06  ...         9915.26        9912.76\n",
              "2019-02-11               0.02              0.06  ...         9917.72        9915.22\n",
              "2019-02-12               0.02              0.06  ...         9920.19        9917.68\n",
              "2019-02-13               0.02              0.06  ...         9922.65        9920.15\n",
              "2019-02-14               0.02              0.06  ...         9925.12        9922.62\n",
              "...                       ...               ...  ...             ...            ...\n",
              "2020-05-08               0.03              0.04  ...        10594.61       10593.34\n",
              "2020-05-11               0.03              0.04  ...        10595.82       10594.57\n",
              "2020-05-12               0.03              0.04  ...        10597.04       10595.78\n",
              "2020-05-13               0.03              0.04  ...        10598.26       10597.00\n",
              "2020-05-14               0.03              0.04  ...        10599.48       10598.22\n",
              "2020-05-15               0.03              0.04  ...        10600.69       10599.44\n",
              "2020-05-18               0.03              0.04  ...        10601.92       10600.65\n",
              "2020-05-19               0.03              0.04  ...        10603.14       10601.88\n",
              "2020-05-20               0.03              0.04  ...        10604.36       10603.10\n",
              "2020-05-21               0.03              0.04  ...        10605.58       10604.31\n",
              "\n",
              "[324 rows x 5 columns]"
            ]
          },
          "metadata": {
            "tags": []
          },
          "execution_count": 10
        }
      ]
    },
    {
      "cell_type": "code",
      "metadata": {
        "id": "m4dh6Sdb0P29",
        "outputId": "32ba20c2-c61e-45ba-d731-b2a70206edf1",
        "colab": {
          "base_uri": "https://localhost:8080/",
          "height": 271
        }
      },
      "source": [
        "selic2025['PU Base Manha'].plot();"
      ],
      "execution_count": null,
      "outputs": [
        {
          "output_type": "display_data",
          "data": {
            "image/png": "[encoded data removed]",
            "text/plain": [
              "<Figure size 432x288 with 1 Axes>"
            ]
          },
          "metadata": {
            "tags": [],
            "needs_background": "light"
          }
        }
      ]
    },
    {
      "cell_type": "markdown",
      "metadata": {
        "id": "OR4tdcehkjgQ"
      },
      "source": [
        "###2.3 Pré-fixado 2023"
      ]
    },
    {
      "cell_type": "code",
      "metadata": {
        "id": "jSnWgtSrknVp",
        "outputId": "89cd4f60-2978-4a67-ac52-64cb57b748a3",
        "colab": {
          "base_uri": "https://localhost:8080/",
          "height": 760
        }
      },
      "source": [
        "pre2023 = titulos.loc[('Tesouro Prefixado', '2023-01-01')]\n",
        "pre2023"
      ],
      "execution_count": null,
      "outputs": [
        {
          "output_type": "execute_result",
          "data": {
            "text/html": [
              "<div>\n",
              "<style scoped>\n",
              "    .dataframe tbody tr th:only-of-type {\n",
              "        vertical-align: middle;\n",
              "    }\n",
              "\n",
              "    .dataframe tbody tr th {\n",
              "        vertical-align: top;\n",
              "    }\n",
              "\n",
              "    .dataframe thead th {\n",
              "        text-align: right;\n",
              "    }\n",
              "</style>\n",
              "<table border=\"1\" class=\"dataframe\">\n",
              "  <thead>\n",
              "    <tr style=\"text-align: right;\">\n",
              "      <th></th>\n",
              "      <th>Taxa Compra Manha</th>\n",
              "      <th>Taxa Venda Manha</th>\n",
              "      <th>PU Compra Manha</th>\n",
              "      <th>PU Venda Manha</th>\n",
              "      <th>PU Base Manha</th>\n",
              "    </tr>\n",
              "    <tr>\n",
              "      <th>Data Base</th>\n",
              "      <th></th>\n",
              "      <th></th>\n",
              "      <th></th>\n",
              "      <th></th>\n",
              "      <th></th>\n",
              "    </tr>\n",
              "  </thead>\n",
              "  <tbody>\n",
              "    <tr>\n",
              "      <th>2016-01-26</th>\n",
              "      <td>16.59</td>\n",
              "      <td>16.65</td>\n",
              "      <td>346.72</td>\n",
              "      <td>345.49</td>\n",
              "      <td>345.28</td>\n",
              "    </tr>\n",
              "    <tr>\n",
              "      <th>2016-01-27</th>\n",
              "      <td>16.32</td>\n",
              "      <td>16.38</td>\n",
              "      <td>352.52</td>\n",
              "      <td>351.27</td>\n",
              "      <td>351.06</td>\n",
              "    </tr>\n",
              "    <tr>\n",
              "      <th>2016-01-28</th>\n",
              "      <td>16.42</td>\n",
              "      <td>16.48</td>\n",
              "      <td>350.65</td>\n",
              "      <td>349.41</td>\n",
              "      <td>349.20</td>\n",
              "    </tr>\n",
              "    <tr>\n",
              "      <th>2016-01-29</th>\n",
              "      <td>15.93</td>\n",
              "      <td>15.99</td>\n",
              "      <td>361.21</td>\n",
              "      <td>359.92</td>\n",
              "      <td>359.71</td>\n",
              "    </tr>\n",
              "    <tr>\n",
              "      <th>2016-02-01</th>\n",
              "      <td>15.89</td>\n",
              "      <td>15.95</td>\n",
              "      <td>362.28</td>\n",
              "      <td>360.99</td>\n",
              "      <td>360.78</td>\n",
              "    </tr>\n",
              "    <tr>\n",
              "      <th>2016-02-02</th>\n",
              "      <td>15.62</td>\n",
              "      <td>15.68</td>\n",
              "      <td>368.36</td>\n",
              "      <td>367.04</td>\n",
              "      <td>366.83</td>\n",
              "    </tr>\n",
              "    <tr>\n",
              "      <th>2016-02-03</th>\n",
              "      <td>15.90</td>\n",
              "      <td>15.96</td>\n",
              "      <td>362.49</td>\n",
              "      <td>361.20</td>\n",
              "      <td>360.99</td>\n",
              "    </tr>\n",
              "    <tr>\n",
              "      <th>2016-02-04</th>\n",
              "      <td>15.73</td>\n",
              "      <td>15.79</td>\n",
              "      <td>366.38</td>\n",
              "      <td>365.07</td>\n",
              "      <td>364.86</td>\n",
              "    </tr>\n",
              "    <tr>\n",
              "      <th>2016-02-05</th>\n",
              "      <td>15.99</td>\n",
              "      <td>16.05</td>\n",
              "      <td>360.98</td>\n",
              "      <td>359.70</td>\n",
              "      <td>359.49</td>\n",
              "    </tr>\n",
              "    <tr>\n",
              "      <th>2016-02-10</th>\n",
              "      <td>15.97</td>\n",
              "      <td>16.03</td>\n",
              "      <td>361.62</td>\n",
              "      <td>360.34</td>\n",
              "      <td>360.13</td>\n",
              "    </tr>\n",
              "    <tr>\n",
              "      <th>...</th>\n",
              "      <td>...</td>\n",
              "      <td>...</td>\n",
              "      <td>...</td>\n",
              "      <td>...</td>\n",
              "      <td>...</td>\n",
              "    </tr>\n",
              "    <tr>\n",
              "      <th>2020-05-08</th>\n",
              "      <td>4.56</td>\n",
              "      <td>4.68</td>\n",
              "      <td>888.83</td>\n",
              "      <td>886.14</td>\n",
              "      <td>885.98</td>\n",
              "    </tr>\n",
              "    <tr>\n",
              "      <th>2020-05-11</th>\n",
              "      <td>4.55</td>\n",
              "      <td>4.67</td>\n",
              "      <td>889.21</td>\n",
              "      <td>886.52</td>\n",
              "      <td>886.36</td>\n",
              "    </tr>\n",
              "    <tr>\n",
              "      <th>2020-05-12</th>\n",
              "      <td>4.41</td>\n",
              "      <td>4.53</td>\n",
              "      <td>892.51</td>\n",
              "      <td>889.81</td>\n",
              "      <td>889.66</td>\n",
              "    </tr>\n",
              "    <tr>\n",
              "      <th>2020-05-13</th>\n",
              "      <td>4.62</td>\n",
              "      <td>4.74</td>\n",
              "      <td>887.96</td>\n",
              "      <td>885.28</td>\n",
              "      <td>885.12</td>\n",
              "    </tr>\n",
              "    <tr>\n",
              "      <th>2020-05-14</th>\n",
              "      <td>4.99</td>\n",
              "      <td>5.11</td>\n",
              "      <td>879.92</td>\n",
              "      <td>877.28</td>\n",
              "      <td>877.11</td>\n",
              "    </tr>\n",
              "    <tr>\n",
              "      <th>2020-05-15</th>\n",
              "      <td>4.79</td>\n",
              "      <td>4.91</td>\n",
              "      <td>884.50</td>\n",
              "      <td>881.85</td>\n",
              "      <td>881.68</td>\n",
              "    </tr>\n",
              "    <tr>\n",
              "      <th>2020-05-18</th>\n",
              "      <td>4.66</td>\n",
              "      <td>4.78</td>\n",
              "      <td>887.55</td>\n",
              "      <td>884.89</td>\n",
              "      <td>884.72</td>\n",
              "    </tr>\n",
              "    <tr>\n",
              "      <th>2020-05-19</th>\n",
              "      <td>4.56</td>\n",
              "      <td>4.68</td>\n",
              "      <td>889.93</td>\n",
              "      <td>887.26</td>\n",
              "      <td>887.10</td>\n",
              "    </tr>\n",
              "    <tr>\n",
              "      <th>2020-05-20</th>\n",
              "      <td>4.54</td>\n",
              "      <td>4.66</td>\n",
              "      <td>890.53</td>\n",
              "      <td>887.87</td>\n",
              "      <td>887.71</td>\n",
              "    </tr>\n",
              "    <tr>\n",
              "      <th>2020-05-21</th>\n",
              "      <td>4.62</td>\n",
              "      <td>4.74</td>\n",
              "      <td>888.91</td>\n",
              "      <td>886.26</td>\n",
              "      <td>886.10</td>\n",
              "    </tr>\n",
              "  </tbody>\n",
              "</table>\n",
              "<p>1074 rows × 5 columns</p>\n",
              "</div>"
            ],
            "text/plain": [
              "            Taxa Compra Manha  Taxa Venda Manha  ...  PU Venda Manha  PU Base Manha\n",
              "Data Base                                        ...                               \n",
              "2016-01-26              16.59             16.65  ...          345.49         345.28\n",
              "2016-01-27              16.32             16.38  ...          351.27         351.06\n",
              "2016-01-28              16.42             16.48  ...          349.41         349.20\n",
              "2016-01-29              15.93             15.99  ...          359.92         359.71\n",
              "2016-02-01              15.89             15.95  ...          360.99         360.78\n",
              "2016-02-02              15.62             15.68  ...          367.04         366.83\n",
              "2016-02-03              15.90             15.96  ...          361.20         360.99\n",
              "2016-02-04              15.73             15.79  ...          365.07         364.86\n",
              "2016-02-05              15.99             16.05  ...          359.70         359.49\n",
              "2016-02-10              15.97             16.03  ...          360.34         360.13\n",
              "...                       ...               ...  ...             ...            ...\n",
              "2020-05-08               4.56              4.68  ...          886.14         885.98\n",
              "2020-05-11               4.55              4.67  ...          886.52         886.36\n",
              "2020-05-12               4.41              4.53  ...          889.81         889.66\n",
              "2020-05-13               4.62              4.74  ...          885.28         885.12\n",
              "2020-05-14               4.99              5.11  ...          877.28         877.11\n",
              "2020-05-15               4.79              4.91  ...          881.85         881.68\n",
              "2020-05-18               4.66              4.78  ...          884.89         884.72\n",
              "2020-05-19               4.56              4.68  ...          887.26         887.10\n",
              "2020-05-20               4.54              4.66  ...          887.87         887.71\n",
              "2020-05-21               4.62              4.74  ...          886.26         886.10\n",
              "\n",
              "[1074 rows x 5 columns]"
            ]
          },
          "metadata": {
            "tags": []
          },
          "execution_count": 12
        }
      ]
    },
    {
      "cell_type": "code",
      "metadata": {
        "id": "ry13P316k1ge",
        "outputId": "5e030c96-828c-42d5-db00-a9d7102bc63f",
        "colab": {
          "base_uri": "https://localhost:8080/",
          "height": 271
        }
      },
      "source": [
        "pre2023['PU Compra Manha'].plot();"
      ],
      "execution_count": null,
      "outputs": [
        {
          "output_type": "display_data",
          "data": {
            "image/png": "[encoded data removed]",
            "text/plain": [
              "<Figure size 432x288 with 1 Axes>"
            ]
          },
          "metadata": {
            "tags": [],
            "needs_background": "light"
          }
        }
      ]
    },
    {
      "cell_type": "code",
      "metadata": {
        "id": "uzCzj07dlXAp",
        "outputId": "b38d2857-8523-4c50-90f6-71e860a539db",
        "colab": {
          "base_uri": "https://localhost:8080/",
          "height": 271
        }
      },
      "source": [
        "pre2023['Taxa Compra Manha'].plot();"
      ],
      "execution_count": null,
      "outputs": [
        {
          "output_type": "display_data",
          "data": {
            "image/png": "[encoded data removed]",
            "text/plain": [
              "<Figure size 432x288 with 1 Axes>"
            ]
          },
          "metadata": {
            "tags": [],
            "needs_background": "light"
          }
        }
      ]
    },
    {
      "cell_type": "code",
      "metadata": {
        "id": "0QsjNJxDlc0w",
        "outputId": "8c646df4-230d-4469-d81f-455077ee7957",
        "colab": {
          "base_uri": "https://localhost:8080/",
          "height": 271
        }
      },
      "source": [
        "(pre2023['Taxa Compra Manha'] / pre2023['Taxa Compra Manha'].iloc[0]).plot();\n",
        "(pre2023['PU Compra Manha'] / pre2023['PU Compra Manha'].iloc[0]).plot();"
      ],
      "execution_count": null,
      "outputs": [
        {
          "output_type": "display_data",
          "data": {
            "image/png": "[encoded data removed]",
            "text/plain": [
              "<Figure size 432x288 with 1 Axes>"
            ]
          },
          "metadata": {
            "tags": [],
            "needs_background": "light"
          }
        }
      ]
    },
    {
      "cell_type": "markdown",
      "metadata": {
        "id": "Fg7BqufZpaNA"
      },
      "source": [
        "###2.4 Pré-fixado 2026"
      ]
    },
    {
      "cell_type": "code",
      "metadata": {
        "outputId": "f953fabd-f9a7-4034-f151-6cc5b8cdfcf4",
        "id": "Gv0U9UQApaND",
        "colab": {
          "base_uri": "https://localhost:8080/",
          "height": 760
        }
      },
      "source": [
        "pre2026 = titulos.loc[('Tesouro Prefixado', '2026-01-01')]\n",
        "pre2026"
      ],
      "execution_count": null,
      "outputs": [
        {
          "output_type": "execute_result",
          "data": {
            "text/html": [
              "<div>\n",
              "<style scoped>\n",
              "    .dataframe tbody tr th:only-of-type {\n",
              "        vertical-align: middle;\n",
              "    }\n",
              "\n",
              "    .dataframe tbody tr th {\n",
              "        vertical-align: top;\n",
              "    }\n",
              "\n",
              "    .dataframe thead th {\n",
              "        text-align: right;\n",
              "    }\n",
              "</style>\n",
              "<table border=\"1\" class=\"dataframe\">\n",
              "  <thead>\n",
              "    <tr style=\"text-align: right;\">\n",
              "      <th></th>\n",
              "      <th>Taxa Compra Manha</th>\n",
              "      <th>Taxa Venda Manha</th>\n",
              "      <th>PU Compra Manha</th>\n",
              "      <th>PU Venda Manha</th>\n",
              "      <th>PU Base Manha</th>\n",
              "    </tr>\n",
              "    <tr>\n",
              "      <th>Data Base</th>\n",
              "      <th></th>\n",
              "      <th></th>\n",
              "      <th></th>\n",
              "      <th></th>\n",
              "      <th></th>\n",
              "    </tr>\n",
              "  </thead>\n",
              "  <tbody>\n",
              "    <tr>\n",
              "      <th>2020-02-10</th>\n",
              "      <td>6.36</td>\n",
              "      <td>6.48</td>\n",
              "      <td>696.02</td>\n",
              "      <td>691.42</td>\n",
              "      <td>691.25</td>\n",
              "    </tr>\n",
              "    <tr>\n",
              "      <th>2020-02-11</th>\n",
              "      <td>6.26</td>\n",
              "      <td>6.38</td>\n",
              "      <td>700.05</td>\n",
              "      <td>695.42</td>\n",
              "      <td>695.25</td>\n",
              "    </tr>\n",
              "    <tr>\n",
              "      <th>2020-02-12</th>\n",
              "      <td>6.22</td>\n",
              "      <td>6.34</td>\n",
              "      <td>701.76</td>\n",
              "      <td>697.13</td>\n",
              "      <td>696.96</td>\n",
              "    </tr>\n",
              "    <tr>\n",
              "      <th>2020-02-13</th>\n",
              "      <td>6.28</td>\n",
              "      <td>6.40</td>\n",
              "      <td>699.61</td>\n",
              "      <td>695.00</td>\n",
              "      <td>694.82</td>\n",
              "    </tr>\n",
              "    <tr>\n",
              "      <th>2020-02-14</th>\n",
              "      <td>6.23</td>\n",
              "      <td>6.35</td>\n",
              "      <td>701.71</td>\n",
              "      <td>697.08</td>\n",
              "      <td>696.91</td>\n",
              "    </tr>\n",
              "    <tr>\n",
              "      <th>2020-02-17</th>\n",
              "      <td>6.19</td>\n",
              "      <td>6.31</td>\n",
              "      <td>703.43</td>\n",
              "      <td>698.79</td>\n",
              "      <td>698.62</td>\n",
              "    </tr>\n",
              "    <tr>\n",
              "      <th>2020-02-18</th>\n",
              "      <td>6.21</td>\n",
              "      <td>6.33</td>\n",
              "      <td>702.82</td>\n",
              "      <td>698.19</td>\n",
              "      <td>698.02</td>\n",
              "    </tr>\n",
              "    <tr>\n",
              "      <th>2020-02-19</th>\n",
              "      <td>6.24</td>\n",
              "      <td>6.36</td>\n",
              "      <td>701.83</td>\n",
              "      <td>697.21</td>\n",
              "      <td>697.04</td>\n",
              "    </tr>\n",
              "    <tr>\n",
              "      <th>2020-02-20</th>\n",
              "      <td>6.21</td>\n",
              "      <td>6.33</td>\n",
              "      <td>703.16</td>\n",
              "      <td>698.53</td>\n",
              "      <td>698.36</td>\n",
              "    </tr>\n",
              "    <tr>\n",
              "      <th>2020-02-21</th>\n",
              "      <td>6.28</td>\n",
              "      <td>6.40</td>\n",
              "      <td>700.63</td>\n",
              "      <td>696.02</td>\n",
              "      <td>695.85</td>\n",
              "    </tr>\n",
              "    <tr>\n",
              "      <th>...</th>\n",
              "      <td>...</td>\n",
              "      <td>...</td>\n",
              "      <td>...</td>\n",
              "      <td>...</td>\n",
              "      <td>...</td>\n",
              "    </tr>\n",
              "    <tr>\n",
              "      <th>2020-05-08</th>\n",
              "      <td>7.09</td>\n",
              "      <td>7.21</td>\n",
              "      <td>679.40</td>\n",
              "      <td>675.12</td>\n",
              "      <td>674.94</td>\n",
              "    </tr>\n",
              "    <tr>\n",
              "      <th>2020-05-11</th>\n",
              "      <td>7.14</td>\n",
              "      <td>7.26</td>\n",
              "      <td>677.80</td>\n",
              "      <td>673.54</td>\n",
              "      <td>673.35</td>\n",
              "    </tr>\n",
              "    <tr>\n",
              "      <th>2020-05-12</th>\n",
              "      <td>6.93</td>\n",
              "      <td>7.05</td>\n",
              "      <td>685.52</td>\n",
              "      <td>681.21</td>\n",
              "      <td>681.02</td>\n",
              "    </tr>\n",
              "    <tr>\n",
              "      <th>2020-05-13</th>\n",
              "      <td>7.23</td>\n",
              "      <td>7.35</td>\n",
              "      <td>674.97</td>\n",
              "      <td>670.74</td>\n",
              "      <td>670.55</td>\n",
              "    </tr>\n",
              "    <tr>\n",
              "      <th>2020-05-14</th>\n",
              "      <td>7.57</td>\n",
              "      <td>7.69</td>\n",
              "      <td>663.24</td>\n",
              "      <td>659.09</td>\n",
              "      <td>658.90</td>\n",
              "    </tr>\n",
              "    <tr>\n",
              "      <th>2020-05-15</th>\n",
              "      <td>7.36</td>\n",
              "      <td>7.48</td>\n",
              "      <td>670.76</td>\n",
              "      <td>666.56</td>\n",
              "      <td>666.37</td>\n",
              "    </tr>\n",
              "    <tr>\n",
              "      <th>2020-05-18</th>\n",
              "      <td>7.26</td>\n",
              "      <td>7.38</td>\n",
              "      <td>674.47</td>\n",
              "      <td>670.25</td>\n",
              "      <td>670.06</td>\n",
              "    </tr>\n",
              "    <tr>\n",
              "      <th>2020-05-19</th>\n",
              "      <td>7.17</td>\n",
              "      <td>7.29</td>\n",
              "      <td>677.85</td>\n",
              "      <td>673.60</td>\n",
              "      <td>673.42</td>\n",
              "    </tr>\n",
              "    <tr>\n",
              "      <th>2020-05-20</th>\n",
              "      <td>7.14</td>\n",
              "      <td>7.26</td>\n",
              "      <td>679.10</td>\n",
              "      <td>674.85</td>\n",
              "      <td>674.66</td>\n",
              "    </tr>\n",
              "    <tr>\n",
              "      <th>2020-05-21</th>\n",
              "      <td>7.19</td>\n",
              "      <td>7.31</td>\n",
              "      <td>677.51</td>\n",
              "      <td>673.28</td>\n",
              "      <td>673.09</td>\n",
              "    </tr>\n",
              "  </tbody>\n",
              "</table>\n",
              "<p>69 rows × 5 columns</p>\n",
              "</div>"
            ],
            "text/plain": [
              "            Taxa Compra Manha  Taxa Venda Manha  ...  PU Venda Manha  PU Base Manha\n",
              "Data Base                                        ...                               \n",
              "2020-02-10               6.36              6.48  ...          691.42         691.25\n",
              "2020-02-11               6.26              6.38  ...          695.42         695.25\n",
              "2020-02-12               6.22              6.34  ...          697.13         696.96\n",
              "2020-02-13               6.28              6.40  ...          695.00         694.82\n",
              "2020-02-14               6.23              6.35  ...          697.08         696.91\n",
              "2020-02-17               6.19              6.31  ...          698.79         698.62\n",
              "2020-02-18               6.21              6.33  ...          698.19         698.02\n",
              "2020-02-19               6.24              6.36  ...          697.21         697.04\n",
              "2020-02-20               6.21              6.33  ...          698.53         698.36\n",
              "2020-02-21               6.28              6.40  ...          696.02         695.85\n",
              "...                       ...               ...  ...             ...            ...\n",
              "2020-05-08               7.09              7.21  ...          675.12         674.94\n",
              "2020-05-11               7.14              7.26  ...          673.54         673.35\n",
              "2020-05-12               6.93              7.05  ...          681.21         681.02\n",
              "2020-05-13               7.23              7.35  ...          670.74         670.55\n",
              "2020-05-14               7.57              7.69  ...          659.09         658.90\n",
              "2020-05-15               7.36              7.48  ...          666.56         666.37\n",
              "2020-05-18               7.26              7.38  ...          670.25         670.06\n",
              "2020-05-19               7.17              7.29  ...          673.60         673.42\n",
              "2020-05-20               7.14              7.26  ...          674.85         674.66\n",
              "2020-05-21               7.19              7.31  ...          673.28         673.09\n",
              "\n",
              "[69 rows x 5 columns]"
            ]
          },
          "metadata": {
            "tags": []
          },
          "execution_count": 16
        }
      ]
    },
    {
      "cell_type": "code",
      "metadata": {
        "outputId": "7af84b26-d90f-4a12-a711-c9b8abce85f8",
        "id": "CVUnVNlppaNL",
        "colab": {
          "base_uri": "https://localhost:8080/",
          "height": 279
        }
      },
      "source": [
        "pre2026['PU Compra Manha'].plot();"
      ],
      "execution_count": null,
      "outputs": [
        {
          "output_type": "display_data",
          "data": {
            "image/png": "[encoded data removed]",
            "text/plain": [
              "<Figure size 432x288 with 1 Axes>"
            ]
          },
          "metadata": {
            "tags": [],
            "needs_background": "light"
          }
        }
      ]
    },
    {
      "cell_type": "code",
      "metadata": {
        "outputId": "f7a83e91-3ed7-4091-adb3-fe089412b6e5",
        "id": "ZNKFAikepaNQ",
        "colab": {
          "base_uri": "https://localhost:8080/",
          "height": 279
        }
      },
      "source": [
        "pre2026['Taxa Compra Manha'].plot();"
      ],
      "execution_count": null,
      "outputs": [
        {
          "output_type": "display_data",
          "data": {
            "image/png": "[encoded data removed]",
            "text/plain": [
              "<Figure size 432x288 with 1 Axes>"
            ]
          },
          "metadata": {
            "tags": [],
            "needs_background": "light"
          }
        }
      ]
    },
    {
      "cell_type": "code",
      "metadata": {
        "outputId": "3c3b655e-30f7-497d-ec8f-e04f24be6601",
        "id": "_keYUBW5paNW",
        "colab": {
          "base_uri": "https://localhost:8080/",
          "height": 279
        }
      },
      "source": [
        "(pre2026['Taxa Compra Manha'] / pre2026['Taxa Compra Manha'].iloc[0]).plot();\n",
        "(pre2026['PU Compra Manha'] / pre2026['PU Compra Manha'].iloc[0]).plot();"
      ],
      "execution_count": null,
      "outputs": [
        {
          "output_type": "display_data",
          "data": {
            "image/png": "[encoded data removed]",
            "text/plain": [
              "<Figure size 432x288 with 1 Axes>"
            ]
          },
          "metadata": {
            "tags": [],
            "needs_background": "light"
          }
        }
      ]
    },
    {
      "cell_type": "markdown",
      "metadata": {
        "id": "RXjAU-kBp9WE"
      },
      "source": [
        "###2.5 Pré-fixado 2031 com Juros Semestrais"
      ]
    },
    {
      "cell_type": "code",
      "metadata": {
        "id": "dMMGhHQkp9WG",
        "outputId": "3fea6358-15fa-4837-cb09-ef9d77e37c22",
        "colab": {
          "base_uri": "https://localhost:8080/",
          "height": 760
        }
      },
      "source": [
        "pre2031 = titulos.loc[('Tesouro Prefixado com Juros Semestrais', '2031-01-01')]\n",
        "pre2031"
      ],
      "execution_count": null,
      "outputs": [
        {
          "output_type": "execute_result",
          "data": {
            "text/html": [
              "<div>\n",
              "<style scoped>\n",
              "    .dataframe tbody tr th:only-of-type {\n",
              "        vertical-align: middle;\n",
              "    }\n",
              "\n",
              "    .dataframe tbody tr th {\n",
              "        vertical-align: top;\n",
              "    }\n",
              "\n",
              "    .dataframe thead th {\n",
              "        text-align: right;\n",
              "    }\n",
              "</style>\n",
              "<table border=\"1\" class=\"dataframe\">\n",
              "  <thead>\n",
              "    <tr style=\"text-align: right;\">\n",
              "      <th></th>\n",
              "      <th>Taxa Compra Manha</th>\n",
              "      <th>Taxa Venda Manha</th>\n",
              "      <th>PU Compra Manha</th>\n",
              "      <th>PU Venda Manha</th>\n",
              "      <th>PU Base Manha</th>\n",
              "    </tr>\n",
              "    <tr>\n",
              "      <th>Data Base</th>\n",
              "      <th></th>\n",
              "      <th></th>\n",
              "      <th></th>\n",
              "      <th></th>\n",
              "      <th></th>\n",
              "    </tr>\n",
              "  </thead>\n",
              "  <tbody>\n",
              "    <tr>\n",
              "      <th>2020-02-10</th>\n",
              "      <td>6.69</td>\n",
              "      <td>6.81</td>\n",
              "      <td>1257.57</td>\n",
              "      <td>1247.33</td>\n",
              "      <td>1247.00</td>\n",
              "    </tr>\n",
              "    <tr>\n",
              "      <th>2020-02-11</th>\n",
              "      <td>6.57</td>\n",
              "      <td>6.69</td>\n",
              "      <td>1268.26</td>\n",
              "      <td>1257.90</td>\n",
              "      <td>1257.57</td>\n",
              "    </tr>\n",
              "    <tr>\n",
              "      <th>2020-02-12</th>\n",
              "      <td>6.56</td>\n",
              "      <td>6.68</td>\n",
              "      <td>1269.45</td>\n",
              "      <td>1259.08</td>\n",
              "      <td>1258.76</td>\n",
              "    </tr>\n",
              "    <tr>\n",
              "      <th>2020-02-13</th>\n",
              "      <td>6.64</td>\n",
              "      <td>6.76</td>\n",
              "      <td>1262.85</td>\n",
              "      <td>1252.56</td>\n",
              "      <td>1252.23</td>\n",
              "    </tr>\n",
              "    <tr>\n",
              "      <th>2020-02-14</th>\n",
              "      <td>6.56</td>\n",
              "      <td>6.68</td>\n",
              "      <td>1270.09</td>\n",
              "      <td>1259.73</td>\n",
              "      <td>1259.40</td>\n",
              "    </tr>\n",
              "    <tr>\n",
              "      <th>2020-02-17</th>\n",
              "      <td>6.54</td>\n",
              "      <td>6.66</td>\n",
              "      <td>1272.15</td>\n",
              "      <td>1261.77</td>\n",
              "      <td>1261.45</td>\n",
              "    </tr>\n",
              "    <tr>\n",
              "      <th>2020-02-18</th>\n",
              "      <td>6.59</td>\n",
              "      <td>6.71</td>\n",
              "      <td>1268.13</td>\n",
              "      <td>1257.80</td>\n",
              "      <td>1257.48</td>\n",
              "    </tr>\n",
              "    <tr>\n",
              "      <th>2020-02-19</th>\n",
              "      <td>6.63</td>\n",
              "      <td>6.75</td>\n",
              "      <td>1265.00</td>\n",
              "      <td>1254.71</td>\n",
              "      <td>1254.39</td>\n",
              "    </tr>\n",
              "    <tr>\n",
              "      <th>2020-02-20</th>\n",
              "      <td>6.62</td>\n",
              "      <td>6.74</td>\n",
              "      <td>1266.18</td>\n",
              "      <td>1255.89</td>\n",
              "      <td>1255.56</td>\n",
              "    </tr>\n",
              "    <tr>\n",
              "      <th>2020-02-21</th>\n",
              "      <td>6.74</td>\n",
              "      <td>6.86</td>\n",
              "      <td>1256.21</td>\n",
              "      <td>1246.04</td>\n",
              "      <td>1245.71</td>\n",
              "    </tr>\n",
              "    <tr>\n",
              "      <th>...</th>\n",
              "      <td>...</td>\n",
              "      <td>...</td>\n",
              "      <td>...</td>\n",
              "      <td>...</td>\n",
              "      <td>...</td>\n",
              "    </tr>\n",
              "    <tr>\n",
              "      <th>2020-05-08</th>\n",
              "      <td>8.00</td>\n",
              "      <td>8.12</td>\n",
              "      <td>1172.74</td>\n",
              "      <td>1163.82</td>\n",
              "      <td>1163.46</td>\n",
              "    </tr>\n",
              "    <tr>\n",
              "      <th>2020-05-11</th>\n",
              "      <td>8.08</td>\n",
              "      <td>8.20</td>\n",
              "      <td>1167.14</td>\n",
              "      <td>1158.30</td>\n",
              "      <td>1157.94</td>\n",
              "    </tr>\n",
              "    <tr>\n",
              "      <th>2020-05-12</th>\n",
              "      <td>7.95</td>\n",
              "      <td>8.07</td>\n",
              "      <td>1177.19</td>\n",
              "      <td>1168.24</td>\n",
              "      <td>1167.88</td>\n",
              "    </tr>\n",
              "    <tr>\n",
              "      <th>2020-05-13</th>\n",
              "      <td>8.25</td>\n",
              "      <td>8.37</td>\n",
              "      <td>1155.37</td>\n",
              "      <td>1146.67</td>\n",
              "      <td>1146.30</td>\n",
              "    </tr>\n",
              "    <tr>\n",
              "      <th>2020-05-14</th>\n",
              "      <td>8.54</td>\n",
              "      <td>8.66</td>\n",
              "      <td>1134.87</td>\n",
              "      <td>1126.40</td>\n",
              "      <td>1126.02</td>\n",
              "    </tr>\n",
              "    <tr>\n",
              "      <th>2020-05-15</th>\n",
              "      <td>8.27</td>\n",
              "      <td>8.39</td>\n",
              "      <td>1154.64</td>\n",
              "      <td>1145.96</td>\n",
              "      <td>1145.59</td>\n",
              "    </tr>\n",
              "    <tr>\n",
              "      <th>2020-05-18</th>\n",
              "      <td>8.17</td>\n",
              "      <td>8.29</td>\n",
              "      <td>1162.31</td>\n",
              "      <td>1153.55</td>\n",
              "      <td>1153.19</td>\n",
              "    </tr>\n",
              "    <tr>\n",
              "      <th>2020-05-19</th>\n",
              "      <td>8.05</td>\n",
              "      <td>8.17</td>\n",
              "      <td>1171.53</td>\n",
              "      <td>1162.67</td>\n",
              "      <td>1162.31</td>\n",
              "    </tr>\n",
              "    <tr>\n",
              "      <th>2020-05-20</th>\n",
              "      <td>7.99</td>\n",
              "      <td>8.11</td>\n",
              "      <td>1176.35</td>\n",
              "      <td>1167.45</td>\n",
              "      <td>1167.09</td>\n",
              "    </tr>\n",
              "    <tr>\n",
              "      <th>2020-05-21</th>\n",
              "      <td>7.91</td>\n",
              "      <td>8.03</td>\n",
              "      <td>1182.70</td>\n",
              "      <td>1173.73</td>\n",
              "      <td>1173.37</td>\n",
              "    </tr>\n",
              "  </tbody>\n",
              "</table>\n",
              "<p>69 rows × 5 columns</p>\n",
              "</div>"
            ],
            "text/plain": [
              "            Taxa Compra Manha  Taxa Venda Manha  ...  PU Venda Manha  PU Base Manha\n",
              "Data Base                                        ...                               \n",
              "2020-02-10               6.69              6.81  ...         1247.33        1247.00\n",
              "2020-02-11               6.57              6.69  ...         1257.90        1257.57\n",
              "2020-02-12               6.56              6.68  ...         1259.08        1258.76\n",
              "2020-02-13               6.64              6.76  ...         1252.56        1252.23\n",
              "2020-02-14               6.56              6.68  ...         1259.73        1259.40\n",
              "2020-02-17               6.54              6.66  ...         1261.77        1261.45\n",
              "2020-02-18               6.59              6.71  ...         1257.80        1257.48\n",
              "2020-02-19               6.63              6.75  ...         1254.71        1254.39\n",
              "2020-02-20               6.62              6.74  ...         1255.89        1255.56\n",
              "2020-02-21               6.74              6.86  ...         1246.04        1245.71\n",
              "...                       ...               ...  ...             ...            ...\n",
              "2020-05-08               8.00              8.12  ...         1163.82        1163.46\n",
              "2020-05-11               8.08              8.20  ...         1158.30        1157.94\n",
              "2020-05-12               7.95              8.07  ...         1168.24        1167.88\n",
              "2020-05-13               8.25              8.37  ...         1146.67        1146.30\n",
              "2020-05-14               8.54              8.66  ...         1126.40        1126.02\n",
              "2020-05-15               8.27              8.39  ...         1145.96        1145.59\n",
              "2020-05-18               8.17              8.29  ...         1153.55        1153.19\n",
              "2020-05-19               8.05              8.17  ...         1162.67        1162.31\n",
              "2020-05-20               7.99              8.11  ...         1167.45        1167.09\n",
              "2020-05-21               7.91              8.03  ...         1173.73        1173.37\n",
              "\n",
              "[69 rows x 5 columns]"
            ]
          },
          "metadata": {
            "tags": []
          },
          "execution_count": 20
        }
      ]
    },
    {
      "cell_type": "code",
      "metadata": {
        "id": "RmhBMONap9WQ",
        "outputId": "fefcf783-4bba-40d8-9135-310b59b44bd5",
        "colab": {
          "base_uri": "https://localhost:8080/",
          "height": 279
        }
      },
      "source": [
        "pre2031['PU Compra Manha'].plot();"
      ],
      "execution_count": null,
      "outputs": [
        {
          "output_type": "display_data",
          "data": {
            "image/png": "[encoded data removed]",
            "text/plain": [
              "<Figure size 432x288 with 1 Axes>"
            ]
          },
          "metadata": {
            "tags": [],
            "needs_background": "light"
          }
        }
      ]
    },
    {
      "cell_type": "code",
      "metadata": {
        "id": "n0uGuOnLp9WY",
        "outputId": "e869f470-c50a-4ff8-8b0b-562149383132",
        "colab": {
          "base_uri": "https://localhost:8080/",
          "height": 279
        }
      },
      "source": [
        "pre2031['Taxa Compra Manha'].plot();"
      ],
      "execution_count": null,
      "outputs": [
        {
          "output_type": "display_data",
          "data": {
            "image/png": "[encoded data removed]",
            "text/plain": [
              "<Figure size 432x288 with 1 Axes>"
            ]
          },
          "metadata": {
            "tags": [],
            "needs_background": "light"
          }
        }
      ]
    },
    {
      "cell_type": "code",
      "metadata": {
        "id": "JRBBwh7Up9Wh",
        "outputId": "018b2763-764e-400a-d848-800566746581",
        "colab": {
          "base_uri": "https://localhost:8080/",
          "height": 279
        }
      },
      "source": [
        "(pre2031['Taxa Compra Manha'] / pre2031['Taxa Compra Manha'].iloc[0]).plot();\n",
        "(pre2031['PU Compra Manha'] / pre2031['PU Compra Manha'].iloc[0]).plot();"
      ],
      "execution_count": null,
      "outputs": [
        {
          "output_type": "display_data",
          "data": {
            "image/png": "[encoded data removed]",
            "text/plain": [
              "<Figure size 432x288 with 1 Axes>"
            ]
          },
          "metadata": {
            "tags": [],
            "needs_background": "light"
          }
        }
      ]
    },
    {
      "cell_type": "markdown",
      "metadata": {
        "id": "eiv2w-LEqXwF"
      },
      "source": [
        "###2.6 Tesouro IPCA+ 2026"
      ]
    },
    {
      "cell_type": "code",
      "metadata": {
        "id": "YjVUP7NHqXwY",
        "outputId": "b20a50ca-b223-4d27-a3c5-a5440dcc0ff2",
        "colab": {
          "base_uri": "https://localhost:8080/",
          "height": 760
        }
      },
      "source": [
        "ipca2026 = titulos.loc[('Tesouro IPCA+', '2026-08-15')]\n",
        "ipca2026"
      ],
      "execution_count": null,
      "outputs": [
        {
          "output_type": "execute_result",
          "data": {
            "text/html": [
              "<div>\n",
              "<style scoped>\n",
              "    .dataframe tbody tr th:only-of-type {\n",
              "        vertical-align: middle;\n",
              "    }\n",
              "\n",
              "    .dataframe tbody tr th {\n",
              "        vertical-align: top;\n",
              "    }\n",
              "\n",
              "    .dataframe thead th {\n",
              "        text-align: right;\n",
              "    }\n",
              "</style>\n",
              "<table border=\"1\" class=\"dataframe\">\n",
              "  <thead>\n",
              "    <tr style=\"text-align: right;\">\n",
              "      <th></th>\n",
              "      <th>Taxa Compra Manha</th>\n",
              "      <th>Taxa Venda Manha</th>\n",
              "      <th>PU Compra Manha</th>\n",
              "      <th>PU Venda Manha</th>\n",
              "      <th>PU Base Manha</th>\n",
              "    </tr>\n",
              "    <tr>\n",
              "      <th>Data Base</th>\n",
              "      <th></th>\n",
              "      <th></th>\n",
              "      <th></th>\n",
              "      <th></th>\n",
              "      <th></th>\n",
              "    </tr>\n",
              "  </thead>\n",
              "  <tbody>\n",
              "    <tr>\n",
              "      <th>2020-02-10</th>\n",
              "      <td>2.65</td>\n",
              "      <td>2.77</td>\n",
              "      <td>2785.55</td>\n",
              "      <td>2764.50</td>\n",
              "      <td>2764.01</td>\n",
              "    </tr>\n",
              "    <tr>\n",
              "      <th>2020-02-11</th>\n",
              "      <td>2.58</td>\n",
              "      <td>2.70</td>\n",
              "      <td>2798.39</td>\n",
              "      <td>2777.24</td>\n",
              "      <td>2776.76</td>\n",
              "    </tr>\n",
              "    <tr>\n",
              "      <th>2020-02-12</th>\n",
              "      <td>2.56</td>\n",
              "      <td>2.68</td>\n",
              "      <td>2802.40</td>\n",
              "      <td>2781.23</td>\n",
              "      <td>2780.75</td>\n",
              "    </tr>\n",
              "    <tr>\n",
              "      <th>2020-02-13</th>\n",
              "      <td>2.58</td>\n",
              "      <td>2.70</td>\n",
              "      <td>2799.33</td>\n",
              "      <td>2778.20</td>\n",
              "      <td>2777.72</td>\n",
              "    </tr>\n",
              "    <tr>\n",
              "      <th>2020-02-14</th>\n",
              "      <td>2.54</td>\n",
              "      <td>2.66</td>\n",
              "      <td>2807.15</td>\n",
              "      <td>2785.97</td>\n",
              "      <td>2785.22</td>\n",
              "    </tr>\n",
              "    <tr>\n",
              "      <th>2020-02-17</th>\n",
              "      <td>2.49</td>\n",
              "      <td>2.61</td>\n",
              "      <td>2816.44</td>\n",
              "      <td>2795.20</td>\n",
              "      <td>2794.77</td>\n",
              "    </tr>\n",
              "    <tr>\n",
              "      <th>2020-02-18</th>\n",
              "      <td>2.53</td>\n",
              "      <td>2.65</td>\n",
              "      <td>2809.76</td>\n",
              "      <td>2788.58</td>\n",
              "      <td>2788.15</td>\n",
              "    </tr>\n",
              "    <tr>\n",
              "      <th>2020-02-19</th>\n",
              "      <td>2.56</td>\n",
              "      <td>2.68</td>\n",
              "      <td>2804.86</td>\n",
              "      <td>2783.74</td>\n",
              "      <td>2783.31</td>\n",
              "    </tr>\n",
              "    <tr>\n",
              "      <th>2020-02-20</th>\n",
              "      <td>2.50</td>\n",
              "      <td>2.62</td>\n",
              "      <td>2815.90</td>\n",
              "      <td>2794.70</td>\n",
              "      <td>2794.28</td>\n",
              "    </tr>\n",
              "    <tr>\n",
              "      <th>2020-02-21</th>\n",
              "      <td>2.55</td>\n",
              "      <td>2.67</td>\n",
              "      <td>2808.11</td>\n",
              "      <td>2786.99</td>\n",
              "      <td>2785.97</td>\n",
              "    </tr>\n",
              "    <tr>\n",
              "      <th>...</th>\n",
              "      <td>...</td>\n",
              "      <td>...</td>\n",
              "      <td>...</td>\n",
              "      <td>...</td>\n",
              "      <td>...</td>\n",
              "    </tr>\n",
              "    <tr>\n",
              "      <th>2020-05-08</th>\n",
              "      <td>3.53</td>\n",
              "      <td>3.65</td>\n",
              "      <td>2658.94</td>\n",
              "      <td>2639.73</td>\n",
              "      <td>2640.17</td>\n",
              "    </tr>\n",
              "    <tr>\n",
              "      <th>2020-05-11</th>\n",
              "      <td>3.53</td>\n",
              "      <td>3.65</td>\n",
              "      <td>2659.02</td>\n",
              "      <td>2639.83</td>\n",
              "      <td>2639.73</td>\n",
              "    </tr>\n",
              "    <tr>\n",
              "      <th>2020-05-12</th>\n",
              "      <td>3.42</td>\n",
              "      <td>3.54</td>\n",
              "      <td>2676.84</td>\n",
              "      <td>2657.51</td>\n",
              "      <td>2657.42</td>\n",
              "    </tr>\n",
              "    <tr>\n",
              "      <th>2020-05-13</th>\n",
              "      <td>3.56</td>\n",
              "      <td>3.68</td>\n",
              "      <td>2654.40</td>\n",
              "      <td>2635.27</td>\n",
              "      <td>2635.16</td>\n",
              "    </tr>\n",
              "    <tr>\n",
              "      <th>2020-05-14</th>\n",
              "      <td>3.69</td>\n",
              "      <td>3.81</td>\n",
              "      <td>2633.79</td>\n",
              "      <td>2614.84</td>\n",
              "      <td>2614.72</td>\n",
              "    </tr>\n",
              "    <tr>\n",
              "      <th>2020-05-15</th>\n",
              "      <td>3.53</td>\n",
              "      <td>3.65</td>\n",
              "      <td>2658.71</td>\n",
              "      <td>2639.57</td>\n",
              "      <td>2640.14</td>\n",
              "    </tr>\n",
              "    <tr>\n",
              "      <th>2020-05-18</th>\n",
              "      <td>3.43</td>\n",
              "      <td>3.55</td>\n",
              "      <td>2674.82</td>\n",
              "      <td>2655.56</td>\n",
              "      <td>2655.51</td>\n",
              "    </tr>\n",
              "    <tr>\n",
              "      <th>2020-05-19</th>\n",
              "      <td>3.35</td>\n",
              "      <td>3.47</td>\n",
              "      <td>2687.79</td>\n",
              "      <td>2668.43</td>\n",
              "      <td>2668.39</td>\n",
              "    </tr>\n",
              "    <tr>\n",
              "      <th>2020-05-20</th>\n",
              "      <td>3.31</td>\n",
              "      <td>3.43</td>\n",
              "      <td>2694.30</td>\n",
              "      <td>2674.90</td>\n",
              "      <td>2674.86</td>\n",
              "    </tr>\n",
              "    <tr>\n",
              "      <th>2020-05-21</th>\n",
              "      <td>3.25</td>\n",
              "      <td>3.37</td>\n",
              "      <td>2704.09</td>\n",
              "      <td>2684.62</td>\n",
              "      <td>2684.58</td>\n",
              "    </tr>\n",
              "  </tbody>\n",
              "</table>\n",
              "<p>69 rows × 5 columns</p>\n",
              "</div>"
            ],
            "text/plain": [
              "            Taxa Compra Manha  Taxa Venda Manha  ...  PU Venda Manha  PU Base Manha\n",
              "Data Base                                        ...                               \n",
              "2020-02-10               2.65              2.77  ...         2764.50        2764.01\n",
              "2020-02-11               2.58              2.70  ...         2777.24        2776.76\n",
              "2020-02-12               2.56              2.68  ...         2781.23        2780.75\n",
              "2020-02-13               2.58              2.70  ...         2778.20        2777.72\n",
              "2020-02-14               2.54              2.66  ...         2785.97        2785.22\n",
              "2020-02-17               2.49              2.61  ...         2795.20        2794.77\n",
              "2020-02-18               2.53              2.65  ...         2788.58        2788.15\n",
              "2020-02-19               2.56              2.68  ...         2783.74        2783.31\n",
              "2020-02-20               2.50              2.62  ...         2794.70        2794.28\n",
              "2020-02-21               2.55              2.67  ...         2786.99        2785.97\n",
              "...                       ...               ...  ...             ...            ...\n",
              "2020-05-08               3.53              3.65  ...         2639.73        2640.17\n",
              "2020-05-11               3.53              3.65  ...         2639.83        2639.73\n",
              "2020-05-12               3.42              3.54  ...         2657.51        2657.42\n",
              "2020-05-13               3.56              3.68  ...         2635.27        2635.16\n",
              "2020-05-14               3.69              3.81  ...         2614.84        2614.72\n",
              "2020-05-15               3.53              3.65  ...         2639.57        2640.14\n",
              "2020-05-18               3.43              3.55  ...         2655.56        2655.51\n",
              "2020-05-19               3.35              3.47  ...         2668.43        2668.39\n",
              "2020-05-20               3.31              3.43  ...         2674.90        2674.86\n",
              "2020-05-21               3.25              3.37  ...         2684.62        2684.58\n",
              "\n",
              "[69 rows x 5 columns]"
            ]
          },
          "metadata": {
            "tags": []
          },
          "execution_count": 24
        }
      ]
    },
    {
      "cell_type": "code",
      "metadata": {
        "id": "aMi_NTxuqXwg",
        "outputId": "7a5ea394-c91d-4f2a-910b-1aebe63bc984",
        "colab": {
          "base_uri": "https://localhost:8080/",
          "height": 282
        }
      },
      "source": [
        "ipca2026['PU Compra Manha'].plot();"
      ],
      "execution_count": null,
      "outputs": [
        {
          "output_type": "display_data",
          "data": {
            "image/png": "[encoded data removed]",
            "text/plain": [
              "<Figure size 432x288 with 1 Axes>"
            ]
          },
          "metadata": {
            "tags": [],
            "needs_background": "light"
          }
        }
      ]
    },
    {
      "cell_type": "code",
      "metadata": {
        "id": "l4GdX1IHqXwk",
        "outputId": "aaf3bb8c-ced2-48ec-f6b6-ef51159b2940",
        "colab": {
          "base_uri": "https://localhost:8080/",
          "height": 282
        }
      },
      "source": [
        "ipca2026['Taxa Compra Manha'].plot();"
      ],
      "execution_count": null,
      "outputs": [
        {
          "output_type": "display_data",
          "data": {
            "image/png": "[encoded data removed]",
            "text/plain": [
              "<Figure size 432x288 with 1 Axes>"
            ]
          },
          "metadata": {
            "tags": [],
            "needs_background": "light"
          }
        }
      ]
    },
    {
      "cell_type": "code",
      "metadata": {
        "id": "ELGAXRiCqXwo",
        "outputId": "66d05c1a-6bb3-4855-f053-f1fbd3f99562",
        "colab": {
          "base_uri": "https://localhost:8080/",
          "height": 282
        }
      },
      "source": [
        "(ipca2026['Taxa Compra Manha'] / ipca2026['Taxa Compra Manha'].iloc[0]).plot();\n",
        "(ipca2026['PU Compra Manha'] / ipca2026['PU Compra Manha'].iloc[0]).plot();"
      ],
      "execution_count": null,
      "outputs": [
        {
          "output_type": "display_data",
          "data": {
            "image/png": "[encoded data removed]",
            "text/plain": [
              "<Figure size 432x288 with 1 Axes>"
            ]
          },
          "metadata": {
            "tags": [],
            "needs_background": "light"
          }
        }
      ]
    },
    {
      "cell_type": "markdown",
      "metadata": {
        "id": "TvmMW2f5rUQL"
      },
      "source": [
        "###2.7 Tesouro IPCA+ 2035"
      ]
    },
    {
      "cell_type": "code",
      "metadata": {
        "id": "g6qXY2D7rUQR",
        "outputId": "7afea3fb-5e26-4862-acc5-80466be756a1",
        "colab": {
          "base_uri": "https://localhost:8080/",
          "height": 760
        }
      },
      "source": [
        "ipca2035 = titulos.loc[('Tesouro IPCA+', '2035-05-15')]\n",
        "ipca2035"
      ],
      "execution_count": null,
      "outputs": [
        {
          "output_type": "execute_result",
          "data": {
            "text/html": [
              "<div>\n",
              "<style scoped>\n",
              "    .dataframe tbody tr th:only-of-type {\n",
              "        vertical-align: middle;\n",
              "    }\n",
              "\n",
              "    .dataframe tbody tr th {\n",
              "        vertical-align: top;\n",
              "    }\n",
              "\n",
              "    .dataframe thead th {\n",
              "        text-align: right;\n",
              "    }\n",
              "</style>\n",
              "<table border=\"1\" class=\"dataframe\">\n",
              "  <thead>\n",
              "    <tr style=\"text-align: right;\">\n",
              "      <th></th>\n",
              "      <th>Taxa Compra Manha</th>\n",
              "      <th>Taxa Venda Manha</th>\n",
              "      <th>PU Compra Manha</th>\n",
              "      <th>PU Venda Manha</th>\n",
              "      <th>PU Base Manha</th>\n",
              "    </tr>\n",
              "    <tr>\n",
              "      <th>Data Base</th>\n",
              "      <th></th>\n",
              "      <th></th>\n",
              "      <th></th>\n",
              "      <th></th>\n",
              "      <th></th>\n",
              "    </tr>\n",
              "  </thead>\n",
              "  <tbody>\n",
              "    <tr>\n",
              "      <th>2010-03-08</th>\n",
              "      <td>6.23</td>\n",
              "      <td>6.33</td>\n",
              "      <td>415.52</td>\n",
              "      <td>405.82</td>\n",
              "      <td>405.61</td>\n",
              "    </tr>\n",
              "    <tr>\n",
              "      <th>2010-03-09</th>\n",
              "      <td>6.25</td>\n",
              "      <td>6.35</td>\n",
              "      <td>413.78</td>\n",
              "      <td>404.12</td>\n",
              "      <td>403.91</td>\n",
              "    </tr>\n",
              "    <tr>\n",
              "      <th>2010-03-10</th>\n",
              "      <td>6.25</td>\n",
              "      <td>6.35</td>\n",
              "      <td>413.99</td>\n",
              "      <td>404.33</td>\n",
              "      <td>404.12</td>\n",
              "    </tr>\n",
              "    <tr>\n",
              "      <th>2010-03-11</th>\n",
              "      <td>6.25</td>\n",
              "      <td>6.35</td>\n",
              "      <td>414.20</td>\n",
              "      <td>404.54</td>\n",
              "      <td>404.33</td>\n",
              "    </tr>\n",
              "    <tr>\n",
              "      <th>2010-03-12</th>\n",
              "      <td>6.27</td>\n",
              "      <td>6.37</td>\n",
              "      <td>412.69</td>\n",
              "      <td>403.07</td>\n",
              "      <td>402.82</td>\n",
              "    </tr>\n",
              "    <tr>\n",
              "      <th>2010-03-15</th>\n",
              "      <td>6.28</td>\n",
              "      <td>6.38</td>\n",
              "      <td>411.87</td>\n",
              "      <td>402.27</td>\n",
              "      <td>402.12</td>\n",
              "    </tr>\n",
              "    <tr>\n",
              "      <th>2010-03-16</th>\n",
              "      <td>6.27</td>\n",
              "      <td>6.37</td>\n",
              "      <td>413.00</td>\n",
              "      <td>403.37</td>\n",
              "      <td>403.22</td>\n",
              "    </tr>\n",
              "    <tr>\n",
              "      <th>2010-03-17</th>\n",
              "      <td>6.26</td>\n",
              "      <td>6.36</td>\n",
              "      <td>414.13</td>\n",
              "      <td>404.47</td>\n",
              "      <td>404.32</td>\n",
              "    </tr>\n",
              "    <tr>\n",
              "      <th>2010-03-18</th>\n",
              "      <td>6.26</td>\n",
              "      <td>6.36</td>\n",
              "      <td>414.28</td>\n",
              "      <td>404.62</td>\n",
              "      <td>404.47</td>\n",
              "    </tr>\n",
              "    <tr>\n",
              "      <th>2010-03-19</th>\n",
              "      <td>6.22</td>\n",
              "      <td>6.32</td>\n",
              "      <td>418.46</td>\n",
              "      <td>408.71</td>\n",
              "      <td>408.46</td>\n",
              "    </tr>\n",
              "    <tr>\n",
              "      <th>...</th>\n",
              "      <td>...</td>\n",
              "      <td>...</td>\n",
              "      <td>...</td>\n",
              "      <td>...</td>\n",
              "      <td>...</td>\n",
              "    </tr>\n",
              "    <tr>\n",
              "      <th>2020-05-08</th>\n",
              "      <td>4.47</td>\n",
              "      <td>4.59</td>\n",
              "      <td>1717.10</td>\n",
              "      <td>1687.85</td>\n",
              "      <td>1688.08</td>\n",
              "    </tr>\n",
              "    <tr>\n",
              "      <th>2020-05-11</th>\n",
              "      <td>4.52</td>\n",
              "      <td>4.64</td>\n",
              "      <td>1704.97</td>\n",
              "      <td>1675.95</td>\n",
              "      <td>1675.82</td>\n",
              "    </tr>\n",
              "    <tr>\n",
              "      <th>2020-05-12</th>\n",
              "      <td>4.43</td>\n",
              "      <td>4.55</td>\n",
              "      <td>1727.20</td>\n",
              "      <td>1697.79</td>\n",
              "      <td>1697.66</td>\n",
              "    </tr>\n",
              "    <tr>\n",
              "      <th>2020-05-13</th>\n",
              "      <td>4.61</td>\n",
              "      <td>4.73</td>\n",
              "      <td>1683.41</td>\n",
              "      <td>1654.80</td>\n",
              "      <td>1654.67</td>\n",
              "    </tr>\n",
              "    <tr>\n",
              "      <th>2020-05-14</th>\n",
              "      <td>4.77</td>\n",
              "      <td>4.89</td>\n",
              "      <td>1645.51</td>\n",
              "      <td>1617.59</td>\n",
              "      <td>1617.45</td>\n",
              "    </tr>\n",
              "    <tr>\n",
              "      <th>2020-05-15</th>\n",
              "      <td>4.62</td>\n",
              "      <td>4.74</td>\n",
              "      <td>1680.83</td>\n",
              "      <td>1652.28</td>\n",
              "      <td>1652.57</td>\n",
              "    </tr>\n",
              "    <tr>\n",
              "      <th>2020-05-18</th>\n",
              "      <td>4.52</td>\n",
              "      <td>4.64</td>\n",
              "      <td>1705.12</td>\n",
              "      <td>1676.14</td>\n",
              "      <td>1676.04</td>\n",
              "    </tr>\n",
              "    <tr>\n",
              "      <th>2020-05-19</th>\n",
              "      <td>4.47</td>\n",
              "      <td>4.59</td>\n",
              "      <td>1717.45</td>\n",
              "      <td>1688.25</td>\n",
              "      <td>1688.15</td>\n",
              "    </tr>\n",
              "    <tr>\n",
              "      <th>2020-05-20</th>\n",
              "      <td>4.42</td>\n",
              "      <td>4.54</td>\n",
              "      <td>1729.86</td>\n",
              "      <td>1700.44</td>\n",
              "      <td>1700.35</td>\n",
              "    </tr>\n",
              "    <tr>\n",
              "      <th>2020-05-21</th>\n",
              "      <td>4.40</td>\n",
              "      <td>4.52</td>\n",
              "      <td>1734.91</td>\n",
              "      <td>1705.40</td>\n",
              "      <td>1705.31</td>\n",
              "    </tr>\n",
              "  </tbody>\n",
              "</table>\n",
              "<p>2548 rows × 5 columns</p>\n",
              "</div>"
            ],
            "text/plain": [
              "            Taxa Compra Manha  Taxa Venda Manha  ...  PU Venda Manha  PU Base Manha\n",
              "Data Base                                        ...                               \n",
              "2010-03-08               6.23              6.33  ...          405.82         405.61\n",
              "2010-03-09               6.25              6.35  ...          404.12         403.91\n",
              "2010-03-10               6.25              6.35  ...          404.33         404.12\n",
              "2010-03-11               6.25              6.35  ...          404.54         404.33\n",
              "2010-03-12               6.27              6.37  ...          403.07         402.82\n",
              "2010-03-15               6.28              6.38  ...          402.27         402.12\n",
              "2010-03-16               6.27              6.37  ...          403.37         403.22\n",
              "2010-03-17               6.26              6.36  ...          404.47         404.32\n",
              "2010-03-18               6.26              6.36  ...          404.62         404.47\n",
              "2010-03-19               6.22              6.32  ...          408.71         408.46\n",
              "...                       ...               ...  ...             ...            ...\n",
              "2020-05-08               4.47              4.59  ...         1687.85        1688.08\n",
              "2020-05-11               4.52              4.64  ...         1675.95        1675.82\n",
              "2020-05-12               4.43              4.55  ...         1697.79        1697.66\n",
              "2020-05-13               4.61              4.73  ...         1654.80        1654.67\n",
              "2020-05-14               4.77              4.89  ...         1617.59        1617.45\n",
              "2020-05-15               4.62              4.74  ...         1652.28        1652.57\n",
              "2020-05-18               4.52              4.64  ...         1676.14        1676.04\n",
              "2020-05-19               4.47              4.59  ...         1688.25        1688.15\n",
              "2020-05-20               4.42              4.54  ...         1700.44        1700.35\n",
              "2020-05-21               4.40              4.52  ...         1705.40        1705.31\n",
              "\n",
              "[2548 rows x 5 columns]"
            ]
          },
          "metadata": {
            "tags": []
          },
          "execution_count": 28
        }
      ]
    },
    {
      "cell_type": "code",
      "metadata": {
        "id": "AabkQEEfrUQc",
        "outputId": "0eecf086-dce5-47a1-8b4b-ae54fce88056",
        "colab": {
          "base_uri": "https://localhost:8080/",
          "height": 264
        }
      },
      "source": [
        "ipca2035['PU Compra Manha'].plot();"
      ],
      "execution_count": null,
      "outputs": [
        {
          "output_type": "display_data",
          "data": {
            "image/png": "[encoded data removed]",
            "text/plain": [
              "<Figure size 432x288 with 1 Axes>"
            ]
          },
          "metadata": {
            "tags": [],
            "needs_background": "light"
          }
        }
      ]
    },
    {
      "cell_type": "code",
      "metadata": {
        "id": "lej_7QE1rUQl",
        "outputId": "5a1b5174-8197-4534-df9f-0338878a894c",
        "colab": {
          "base_uri": "https://localhost:8080/",
          "height": 267
        }
      },
      "source": [
        "ipca2035['Taxa Compra Manha'].plot();"
      ],
      "execution_count": null,
      "outputs": [
        {
          "output_type": "display_data",
          "data": {
            "image/png": "[encoded data removed]",
            "text/plain": [
              "<Figure size 432x288 with 1 Axes>"
            ]
          },
          "metadata": {
            "tags": [],
            "needs_background": "light"
          }
        }
      ]
    },
    {
      "cell_type": "code",
      "metadata": {
        "id": "73ofcAx1rUQs",
        "outputId": "2a4fe58e-0dfd-4466-9bf6-f8e6472fdff5",
        "colab": {
          "base_uri": "https://localhost:8080/",
          "height": 264
        }
      },
      "source": [
        "(ipca2035['Taxa Compra Manha'] / ipca2035['Taxa Compra Manha'].iloc[0]).plot();\n",
        "(ipca2035['PU Compra Manha'] / ipca2035['PU Compra Manha'].iloc[0]).plot();"
      ],
      "execution_count": null,
      "outputs": [
        {
          "output_type": "display_data",
          "data": {
            "image/png": "[encoded data removed]",
            "text/plain": [
              "<Figure size 432x288 with 1 Axes>"
            ]
          },
          "metadata": {
            "tags": [],
            "needs_background": "light"
          }
        }
      ]
    },
    {
      "cell_type": "markdown",
      "metadata": {
        "id": "tnBoxOI1jLbd"
      },
      "source": [
        "###2.8 Tesouro IPCA+ 2045"
      ]
    },
    {
      "cell_type": "code",
      "metadata": {
        "id": "P0nkysgBc6TU",
        "outputId": "40362ecb-d415-4ac0-9b76-24d0ee41a7f3",
        "colab": {
          "base_uri": "https://localhost:8080/",
          "height": 760
        }
      },
      "source": [
        "ipca2045 = titulos.loc[('Tesouro IPCA+', '2045-05-15')]\n",
        "ipca2045"
      ],
      "execution_count": null,
      "outputs": [
        {
          "output_type": "execute_result",
          "data": {
            "text/html": [
              "<div>\n",
              "<style scoped>\n",
              "    .dataframe tbody tr th:only-of-type {\n",
              "        vertical-align: middle;\n",
              "    }\n",
              "\n",
              "    .dataframe tbody tr th {\n",
              "        vertical-align: top;\n",
              "    }\n",
              "\n",
              "    .dataframe thead th {\n",
              "        text-align: right;\n",
              "    }\n",
              "</style>\n",
              "<table border=\"1\" class=\"dataframe\">\n",
              "  <thead>\n",
              "    <tr style=\"text-align: right;\">\n",
              "      <th></th>\n",
              "      <th>Taxa Compra Manha</th>\n",
              "      <th>Taxa Venda Manha</th>\n",
              "      <th>PU Compra Manha</th>\n",
              "      <th>PU Venda Manha</th>\n",
              "      <th>PU Base Manha</th>\n",
              "    </tr>\n",
              "    <tr>\n",
              "      <th>Data Base</th>\n",
              "      <th></th>\n",
              "      <th></th>\n",
              "      <th></th>\n",
              "      <th></th>\n",
              "      <th></th>\n",
              "    </tr>\n",
              "  </thead>\n",
              "  <tbody>\n",
              "    <tr>\n",
              "      <th>2017-02-08</th>\n",
              "      <td>5.34</td>\n",
              "      <td>5.46</td>\n",
              "      <td>685.78</td>\n",
              "      <td>664.14</td>\n",
              "      <td>663.92</td>\n",
              "    </tr>\n",
              "    <tr>\n",
              "      <th>2017-02-09</th>\n",
              "      <td>5.27</td>\n",
              "      <td>5.39</td>\n",
              "      <td>698.96</td>\n",
              "      <td>676.90</td>\n",
              "      <td>676.67</td>\n",
              "    </tr>\n",
              "    <tr>\n",
              "      <th>2017-02-10</th>\n",
              "      <td>5.21</td>\n",
              "      <td>5.33</td>\n",
              "      <td>710.67</td>\n",
              "      <td>688.23</td>\n",
              "      <td>687.84</td>\n",
              "    </tr>\n",
              "    <tr>\n",
              "      <th>2017-02-13</th>\n",
              "      <td>5.21</td>\n",
              "      <td>5.33</td>\n",
              "      <td>710.90</td>\n",
              "      <td>688.46</td>\n",
              "      <td>688.23</td>\n",
              "    </tr>\n",
              "    <tr>\n",
              "      <th>2017-02-14</th>\n",
              "      <td>5.22</td>\n",
              "      <td>5.34</td>\n",
              "      <td>709.23</td>\n",
              "      <td>686.85</td>\n",
              "      <td>686.62</td>\n",
              "    </tr>\n",
              "    <tr>\n",
              "      <th>2017-02-15</th>\n",
              "      <td>5.22</td>\n",
              "      <td>5.34</td>\n",
              "      <td>709.49</td>\n",
              "      <td>687.10</td>\n",
              "      <td>686.85</td>\n",
              "    </tr>\n",
              "    <tr>\n",
              "      <th>2017-02-16</th>\n",
              "      <td>5.25</td>\n",
              "      <td>5.37</td>\n",
              "      <td>704.09</td>\n",
              "      <td>681.88</td>\n",
              "      <td>681.62</td>\n",
              "    </tr>\n",
              "    <tr>\n",
              "      <th>2017-02-17</th>\n",
              "      <td>5.32</td>\n",
              "      <td>5.44</td>\n",
              "      <td>691.53</td>\n",
              "      <td>669.73</td>\n",
              "      <td>669.25</td>\n",
              "    </tr>\n",
              "    <tr>\n",
              "      <th>2017-02-20</th>\n",
              "      <td>5.27</td>\n",
              "      <td>5.39</td>\n",
              "      <td>701.09</td>\n",
              "      <td>678.98</td>\n",
              "      <td>678.73</td>\n",
              "    </tr>\n",
              "    <tr>\n",
              "      <th>2017-02-21</th>\n",
              "      <td>5.25</td>\n",
              "      <td>5.37</td>\n",
              "      <td>705.11</td>\n",
              "      <td>682.87</td>\n",
              "      <td>682.62</td>\n",
              "    </tr>\n",
              "    <tr>\n",
              "      <th>...</th>\n",
              "      <td>...</td>\n",
              "      <td>...</td>\n",
              "      <td>...</td>\n",
              "      <td>...</td>\n",
              "      <td>...</td>\n",
              "    </tr>\n",
              "    <tr>\n",
              "      <th>2020-05-08</th>\n",
              "      <td>4.47</td>\n",
              "      <td>4.59</td>\n",
              "      <td>1110.21</td>\n",
              "      <td>1078.88</td>\n",
              "      <td>1079.02</td>\n",
              "    </tr>\n",
              "    <tr>\n",
              "      <th>2020-05-11</th>\n",
              "      <td>4.52</td>\n",
              "      <td>4.64</td>\n",
              "      <td>1097.12</td>\n",
              "      <td>1066.18</td>\n",
              "      <td>1066.10</td>\n",
              "    </tr>\n",
              "    <tr>\n",
              "      <th>2020-05-12</th>\n",
              "      <td>4.43</td>\n",
              "      <td>4.55</td>\n",
              "      <td>1121.02</td>\n",
              "      <td>1089.38</td>\n",
              "      <td>1089.30</td>\n",
              "    </tr>\n",
              "    <tr>\n",
              "      <th>2020-05-13</th>\n",
              "      <td>4.61</td>\n",
              "      <td>4.73</td>\n",
              "      <td>1073.99</td>\n",
              "      <td>1043.74</td>\n",
              "      <td>1043.65</td>\n",
              "    </tr>\n",
              "    <tr>\n",
              "      <th>2020-05-14</th>\n",
              "      <td>4.77</td>\n",
              "      <td>4.89</td>\n",
              "      <td>1033.93</td>\n",
              "      <td>1004.86</td>\n",
              "      <td>1004.77</td>\n",
              "    </tr>\n",
              "    <tr>\n",
              "      <th>2020-05-15</th>\n",
              "      <td>4.62</td>\n",
              "      <td>4.74</td>\n",
              "      <td>1071.32</td>\n",
              "      <td>1041.16</td>\n",
              "      <td>1041.34</td>\n",
              "    </tr>\n",
              "    <tr>\n",
              "      <th>2020-05-18</th>\n",
              "      <td>4.52</td>\n",
              "      <td>4.64</td>\n",
              "      <td>1097.22</td>\n",
              "      <td>1066.30</td>\n",
              "      <td>1066.23</td>\n",
              "    </tr>\n",
              "    <tr>\n",
              "      <th>2020-05-19</th>\n",
              "      <td>4.47</td>\n",
              "      <td>4.59</td>\n",
              "      <td>1110.44</td>\n",
              "      <td>1079.13</td>\n",
              "      <td>1079.07</td>\n",
              "    </tr>\n",
              "    <tr>\n",
              "      <th>2020-05-20</th>\n",
              "      <td>4.42</td>\n",
              "      <td>4.54</td>\n",
              "      <td>1123.82</td>\n",
              "      <td>1092.12</td>\n",
              "      <td>1092.06</td>\n",
              "    </tr>\n",
              "    <tr>\n",
              "      <th>2020-05-21</th>\n",
              "      <td>4.40</td>\n",
              "      <td>4.52</td>\n",
              "      <td>1129.25</td>\n",
              "      <td>1097.40</td>\n",
              "      <td>1097.34</td>\n",
              "    </tr>\n",
              "  </tbody>\n",
              "</table>\n",
              "<p>813 rows × 5 columns</p>\n",
              "</div>"
            ],
            "text/plain": [
              "            Taxa Compra Manha  Taxa Venda Manha  ...  PU Venda Manha  PU Base Manha\n",
              "Data Base                                        ...                               \n",
              "2017-02-08               5.34              5.46  ...          664.14         663.92\n",
              "2017-02-09               5.27              5.39  ...          676.90         676.67\n",
              "2017-02-10               5.21              5.33  ...          688.23         687.84\n",
              "2017-02-13               5.21              5.33  ...          688.46         688.23\n",
              "2017-02-14               5.22              5.34  ...          686.85         686.62\n",
              "2017-02-15               5.22              5.34  ...          687.10         686.85\n",
              "2017-02-16               5.25              5.37  ...          681.88         681.62\n",
              "2017-02-17               5.32              5.44  ...          669.73         669.25\n",
              "2017-02-20               5.27              5.39  ...          678.98         678.73\n",
              "2017-02-21               5.25              5.37  ...          682.87         682.62\n",
              "...                       ...               ...  ...             ...            ...\n",
              "2020-05-08               4.47              4.59  ...         1078.88        1079.02\n",
              "2020-05-11               4.52              4.64  ...         1066.18        1066.10\n",
              "2020-05-12               4.43              4.55  ...         1089.38        1089.30\n",
              "2020-05-13               4.61              4.73  ...         1043.74        1043.65\n",
              "2020-05-14               4.77              4.89  ...         1004.86        1004.77\n",
              "2020-05-15               4.62              4.74  ...         1041.16        1041.34\n",
              "2020-05-18               4.52              4.64  ...         1066.30        1066.23\n",
              "2020-05-19               4.47              4.59  ...         1079.13        1079.07\n",
              "2020-05-20               4.42              4.54  ...         1092.12        1092.06\n",
              "2020-05-21               4.40              4.52  ...         1097.40        1097.34\n",
              "\n",
              "[813 rows x 5 columns]"
            ]
          },
          "metadata": {
            "tags": []
          },
          "execution_count": 32
        }
      ]
    },
    {
      "cell_type": "code",
      "metadata": {
        "id": "67ygtxYhdF27",
        "outputId": "9f9c2546-88d5-44f7-aa36-71076e6878c8",
        "colab": {
          "base_uri": "https://localhost:8080/",
          "height": 272
        }
      },
      "source": [
        "ipca2045['PU Compra Manha'].plot();"
      ],
      "execution_count": null,
      "outputs": [
        {
          "output_type": "display_data",
          "data": {
            "image/png": "[encoded data removed]",
            "text/plain": [
              "<Figure size 432x288 with 1 Axes>"
            ]
          },
          "metadata": {
            "tags": [],
            "needs_background": "light"
          }
        }
      ]
    },
    {
      "cell_type": "code",
      "metadata": {
        "id": "WPMXy7qRdW5E",
        "outputId": "73709ded-3090-4e50-8756-a77c3e1d3d3e",
        "colab": {
          "base_uri": "https://localhost:8080/",
          "height": 271
        }
      },
      "source": [
        "ipca2045['Taxa Compra Manha'].plot();"
      ],
      "execution_count": null,
      "outputs": [
        {
          "output_type": "display_data",
          "data": {
            "image/png": "[encoded data removed]",
            "text/plain": [
              "<Figure size 432x288 with 1 Axes>"
            ]
          },
          "metadata": {
            "tags": [],
            "needs_background": "light"
          }
        }
      ]
    },
    {
      "cell_type": "code",
      "metadata": {
        "id": "OwbZ74W0gswp",
        "outputId": "5039bcb2-56fa-431c-c49d-2dce08e64881",
        "colab": {
          "base_uri": "https://localhost:8080/",
          "height": 271
        }
      },
      "source": [
        "(ipca2045['Taxa Compra Manha'] / ipca2045['Taxa Compra Manha'].iloc[0]).plot();\n",
        "(ipca2045['PU Compra Manha'] / ipca2045['PU Compra Manha'].iloc[0]).plot();"
      ],
      "execution_count": null,
      "outputs": [
        {
          "output_type": "display_data",
          "data": {
            "image/png": "[encoded data removed]",
            "text/plain": [
              "<Figure size 432x288 with 1 Axes>"
            ]
          },
          "metadata": {
            "tags": [],
            "needs_background": "light"
          }
        }
      ]
    },
    {
      "cell_type": "markdown",
      "metadata": {
        "id": "kbgBrJR7rsVf"
      },
      "source": [
        "###2.9 Tesouro IPCA+ 2055 com Juros Semestrais"
      ]
    },
    {
      "cell_type": "code",
      "metadata": {
        "id": "RRqyc89hrsVj",
        "outputId": "90011dfc-0387-45fe-ad9c-f1eb8b689f1a",
        "colab": {
          "base_uri": "https://localhost:8080/",
          "height": 760
        }
      },
      "source": [
        "ipca2055 = titulos.loc[('Tesouro IPCA+ com Juros Semestrais', '2055-05-15')]\n",
        "ipca2055"
      ],
      "execution_count": null,
      "outputs": [
        {
          "output_type": "execute_result",
          "data": {
            "text/html": [
              "<div>\n",
              "<style scoped>\n",
              "    .dataframe tbody tr th:only-of-type {\n",
              "        vertical-align: middle;\n",
              "    }\n",
              "\n",
              "    .dataframe tbody tr th {\n",
              "        vertical-align: top;\n",
              "    }\n",
              "\n",
              "    .dataframe thead th {\n",
              "        text-align: right;\n",
              "    }\n",
              "</style>\n",
              "<table border=\"1\" class=\"dataframe\">\n",
              "  <thead>\n",
              "    <tr style=\"text-align: right;\">\n",
              "      <th></th>\n",
              "      <th>Taxa Compra Manha</th>\n",
              "      <th>Taxa Venda Manha</th>\n",
              "      <th>PU Compra Manha</th>\n",
              "      <th>PU Venda Manha</th>\n",
              "      <th>PU Base Manha</th>\n",
              "    </tr>\n",
              "    <tr>\n",
              "      <th>Data Base</th>\n",
              "      <th></th>\n",
              "      <th></th>\n",
              "      <th></th>\n",
              "      <th></th>\n",
              "      <th></th>\n",
              "    </tr>\n",
              "  </thead>\n",
              "  <tbody>\n",
              "    <tr>\n",
              "      <th>2020-02-10</th>\n",
              "      <td>3.42</td>\n",
              "      <td>3.54</td>\n",
              "      <td>5063.37</td>\n",
              "      <td>4956.73</td>\n",
              "      <td>4955.71</td>\n",
              "    </tr>\n",
              "    <tr>\n",
              "      <th>2020-02-11</th>\n",
              "      <td>3.36</td>\n",
              "      <td>3.48</td>\n",
              "      <td>5119.00</td>\n",
              "      <td>5010.64</td>\n",
              "      <td>5009.63</td>\n",
              "    </tr>\n",
              "    <tr>\n",
              "      <th>2020-02-12</th>\n",
              "      <td>3.36</td>\n",
              "      <td>3.48</td>\n",
              "      <td>5120.02</td>\n",
              "      <td>5011.66</td>\n",
              "      <td>5010.64</td>\n",
              "    </tr>\n",
              "    <tr>\n",
              "      <th>2020-02-13</th>\n",
              "      <td>3.40</td>\n",
              "      <td>3.52</td>\n",
              "      <td>5084.54</td>\n",
              "      <td>4977.32</td>\n",
              "      <td>4976.30</td>\n",
              "    </tr>\n",
              "    <tr>\n",
              "      <th>2020-02-14</th>\n",
              "      <td>3.37</td>\n",
              "      <td>3.49</td>\n",
              "      <td>5113.38</td>\n",
              "      <td>5005.31</td>\n",
              "      <td>5003.81</td>\n",
              "    </tr>\n",
              "    <tr>\n",
              "      <th>2020-02-17</th>\n",
              "      <td>3.34</td>\n",
              "      <td>3.46</td>\n",
              "      <td>5141.86</td>\n",
              "      <td>5032.93</td>\n",
              "      <td>5032.01</td>\n",
              "    </tr>\n",
              "    <tr>\n",
              "      <th>2020-02-18</th>\n",
              "      <td>3.37</td>\n",
              "      <td>3.49</td>\n",
              "      <td>5115.22</td>\n",
              "      <td>5007.16</td>\n",
              "      <td>5006.23</td>\n",
              "    </tr>\n",
              "    <tr>\n",
              "      <th>2020-02-19</th>\n",
              "      <td>3.37</td>\n",
              "      <td>3.49</td>\n",
              "      <td>5116.14</td>\n",
              "      <td>5008.08</td>\n",
              "      <td>5007.16</td>\n",
              "    </tr>\n",
              "    <tr>\n",
              "      <th>2020-02-20</th>\n",
              "      <td>3.34</td>\n",
              "      <td>3.46</td>\n",
              "      <td>5144.62</td>\n",
              "      <td>5035.70</td>\n",
              "      <td>5034.77</td>\n",
              "    </tr>\n",
              "    <tr>\n",
              "      <th>2020-02-21</th>\n",
              "      <td>3.43</td>\n",
              "      <td>3.55</td>\n",
              "      <td>5064.69</td>\n",
              "      <td>4958.31</td>\n",
              "      <td>4956.35</td>\n",
              "    </tr>\n",
              "    <tr>\n",
              "      <th>...</th>\n",
              "      <td>...</td>\n",
              "      <td>...</td>\n",
              "      <td>...</td>\n",
              "      <td>...</td>\n",
              "      <td>...</td>\n",
              "    </tr>\n",
              "    <tr>\n",
              "      <th>2020-05-08</th>\n",
              "      <td>4.50</td>\n",
              "      <td>4.62</td>\n",
              "      <td>4260.68</td>\n",
              "      <td>4180.23</td>\n",
              "      <td>4180.78</td>\n",
              "    </tr>\n",
              "    <tr>\n",
              "      <th>2020-05-11</th>\n",
              "      <td>4.52</td>\n",
              "      <td>4.64</td>\n",
              "      <td>4247.41</td>\n",
              "      <td>4167.37</td>\n",
              "      <td>4167.05</td>\n",
              "    </tr>\n",
              "    <tr>\n",
              "      <th>2020-05-12</th>\n",
              "      <td>4.42</td>\n",
              "      <td>4.54</td>\n",
              "      <td>4316.27</td>\n",
              "      <td>4234.21</td>\n",
              "      <td>4233.90</td>\n",
              "    </tr>\n",
              "    <tr>\n",
              "      <th>2020-05-13</th>\n",
              "      <td>4.50</td>\n",
              "      <td>4.62</td>\n",
              "      <td>4261.59</td>\n",
              "      <td>4181.18</td>\n",
              "      <td>4180.86</td>\n",
              "    </tr>\n",
              "    <tr>\n",
              "      <th>2020-05-14</th>\n",
              "      <td>4.67</td>\n",
              "      <td>4.79</td>\n",
              "      <td>4051.08</td>\n",
              "      <td>3974.03</td>\n",
              "      <td>4071.31</td>\n",
              "    </tr>\n",
              "    <tr>\n",
              "      <th>2020-05-15</th>\n",
              "      <td>4.55</td>\n",
              "      <td>4.67</td>\n",
              "      <td>4129.72</td>\n",
              "      <td>4050.36</td>\n",
              "      <td>4051.08</td>\n",
              "    </tr>\n",
              "    <tr>\n",
              "      <th>2020-05-18</th>\n",
              "      <td>4.48</td>\n",
              "      <td>4.60</td>\n",
              "      <td>4177.36</td>\n",
              "      <td>4096.61</td>\n",
              "      <td>4096.36</td>\n",
              "    </tr>\n",
              "    <tr>\n",
              "      <th>2020-05-19</th>\n",
              "      <td>4.45</td>\n",
              "      <td>4.57</td>\n",
              "      <td>4198.16</td>\n",
              "      <td>4116.80</td>\n",
              "      <td>4116.57</td>\n",
              "    </tr>\n",
              "    <tr>\n",
              "      <th>2020-05-20</th>\n",
              "      <td>4.44</td>\n",
              "      <td>4.56</td>\n",
              "      <td>4205.27</td>\n",
              "      <td>4123.73</td>\n",
              "      <td>4123.49</td>\n",
              "    </tr>\n",
              "    <tr>\n",
              "      <th>2020-05-21</th>\n",
              "      <td>4.43</td>\n",
              "      <td>4.55</td>\n",
              "      <td>4212.40</td>\n",
              "      <td>4130.66</td>\n",
              "      <td>4130.43</td>\n",
              "    </tr>\n",
              "  </tbody>\n",
              "</table>\n",
              "<p>69 rows × 5 columns</p>\n",
              "</div>"
            ],
            "text/plain": [
              "            Taxa Compra Manha  Taxa Venda Manha  ...  PU Venda Manha  PU Base Manha\n",
              "Data Base                                        ...                               \n",
              "2020-02-10               3.42              3.54  ...         4956.73        4955.71\n",
              "2020-02-11               3.36              3.48  ...         5010.64        5009.63\n",
              "2020-02-12               3.36              3.48  ...         5011.66        5010.64\n",
              "2020-02-13               3.40              3.52  ...         4977.32        4976.30\n",
              "2020-02-14               3.37              3.49  ...         5005.31        5003.81\n",
              "2020-02-17               3.34              3.46  ...         5032.93        5032.01\n",
              "2020-02-18               3.37              3.49  ...         5007.16        5006.23\n",
              "2020-02-19               3.37              3.49  ...         5008.08        5007.16\n",
              "2020-02-20               3.34              3.46  ...         5035.70        5034.77\n",
              "2020-02-21               3.43              3.55  ...         4958.31        4956.35\n",
              "...                       ...               ...  ...             ...            ...\n",
              "2020-05-08               4.50              4.62  ...         4180.23        4180.78\n",
              "2020-05-11               4.52              4.64  ...         4167.37        4167.05\n",
              "2020-05-12               4.42              4.54  ...         4234.21        4233.90\n",
              "2020-05-13               4.50              4.62  ...         4181.18        4180.86\n",
              "2020-05-14               4.67              4.79  ...         3974.03        4071.31\n",
              "2020-05-15               4.55              4.67  ...         4050.36        4051.08\n",
              "2020-05-18               4.48              4.60  ...         4096.61        4096.36\n",
              "2020-05-19               4.45              4.57  ...         4116.80        4116.57\n",
              "2020-05-20               4.44              4.56  ...         4123.73        4123.49\n",
              "2020-05-21               4.43              4.55  ...         4130.66        4130.43\n",
              "\n",
              "[69 rows x 5 columns]"
            ]
          },
          "metadata": {
            "tags": []
          },
          "execution_count": 36
        }
      ]
    },
    {
      "cell_type": "code",
      "metadata": {
        "id": "H_GEk93hrsVr",
        "outputId": "e9f01440-d2fd-4fa3-9c9a-75c8b2a3d95e",
        "colab": {
          "base_uri": "https://localhost:8080/",
          "height": 281
        }
      },
      "source": [
        "ipca2055['PU Compra Manha'].plot();"
      ],
      "execution_count": null,
      "outputs": [
        {
          "output_type": "display_data",
          "data": {
            "image/png": "[encoded data removed]",
            "text/plain": [
              "<Figure size 432x288 with 1 Axes>"
            ]
          },
          "metadata": {
            "tags": [],
            "needs_background": "light"
          }
        }
      ]
    },
    {
      "cell_type": "code",
      "metadata": {
        "id": "SFZUM-5_rsVw",
        "outputId": "a4a90500-ba9a-4dd4-b153-6178d4c3855b",
        "colab": {
          "base_uri": "https://localhost:8080/",
          "height": 282
        }
      },
      "source": [
        "ipca2055['Taxa Compra Manha'].plot();"
      ],
      "execution_count": null,
      "outputs": [
        {
          "output_type": "display_data",
          "data": {
            "image/png": "[encoded data removed]",
            "text/plain": [
              "<Figure size 432x288 with 1 Axes>"
            ]
          },
          "metadata": {
            "tags": [],
            "needs_background": "light"
          }
        }
      ]
    },
    {
      "cell_type": "code",
      "metadata": {
        "id": "dwYEUEjVrsV1",
        "outputId": "9e24b1c2-fe0e-4ba9-cc05-007f3c613bb2",
        "colab": {
          "base_uri": "https://localhost:8080/",
          "height": 279
        }
      },
      "source": [
        "(ipca2055['Taxa Compra Manha'] / ipca2055['Taxa Compra Manha'].iloc[0]).plot();\n",
        "(ipca2055['PU Compra Manha'] / ipca2055['PU Compra Manha'].iloc[0]).plot();"
      ],
      "execution_count": null,
      "outputs": [
        {
          "output_type": "display_data",
          "data": {
            "image/png": "[encoded data removed]",
            "text/plain": [
              "<Figure size 432x288 with 1 Axes>"
            ]
          },
          "metadata": {
            "tags": [],
            "needs_background": "light"
          }
        }
      ]
    },
    {
      "cell_type": "markdown",
      "metadata": {
        "id": "XHnHI2ArtaEC"
      },
      "source": [
        "##3. Vendas Tesouro Direto\n",
        "\n",
        "Este conjunto de dados traz o volume de vendas diário do programa Tesouro Direto."
      ]
    },
    {
      "cell_type": "markdown",
      "metadata": {
        "id": "wzHdH5bxoTTQ"
      },
      "source": [
        "###3.1 Buscando Dados"
      ]
    },
    {
      "cell_type": "code",
      "metadata": {
        "id": "8wAaC_3Et2n-"
      },
      "source": [
        "vendas = busca_vendas_tesouro()"
      ],
      "execution_count": null,
      "outputs": []
    },
    {
      "cell_type": "code",
      "metadata": {
        "id": "aaGprNVXt6rF",
        "outputId": "526c3c9f-d4b1-4fcb-c126-d024eb6f6f2e",
        "colab": {
          "base_uri": "https://localhost:8080/",
          "height": 760
        }
      },
      "source": [
        "vendas.sort_index(inplace=True)\n",
        "vendas"
      ],
      "execution_count": null,
      "outputs": [
        {
          "output_type": "execute_result",
          "data": {
            "text/html": [
              "<div>\n",
              "<style scoped>\n",
              "    .dataframe tbody tr th:only-of-type {\n",
              "        vertical-align: middle;\n",
              "    }\n",
              "\n",
              "    .dataframe tbody tr th {\n",
              "        vertical-align: top;\n",
              "    }\n",
              "\n",
              "    .dataframe thead th {\n",
              "        text-align: right;\n",
              "    }\n",
              "</style>\n",
              "<table border=\"1\" class=\"dataframe\">\n",
              "  <thead>\n",
              "    <tr style=\"text-align: right;\">\n",
              "      <th></th>\n",
              "      <th></th>\n",
              "      <th></th>\n",
              "      <th>PU</th>\n",
              "      <th>Quantidade</th>\n",
              "      <th>Valor</th>\n",
              "    </tr>\n",
              "    <tr>\n",
              "      <th>Tipo Titulo</th>\n",
              "      <th>Vencimento do Titulo</th>\n",
              "      <th>Data Venda</th>\n",
              "      <th></th>\n",
              "      <th></th>\n",
              "      <th></th>\n",
              "    </tr>\n",
              "  </thead>\n",
              "  <tbody>\n",
              "    <tr>\n",
              "      <th rowspan=\"10\" valign=\"top\">Tesouro IGPM+ com Juros Semestrais</th>\n",
              "      <th rowspan=\"10\" valign=\"top\">2005-07-01</th>\n",
              "      <th>2002-01-07</th>\n",
              "      <td>1038.150000</td>\n",
              "      <td>7.40</td>\n",
              "      <td>7682.31</td>\n",
              "    </tr>\n",
              "    <tr>\n",
              "      <th>2002-01-08</th>\n",
              "      <td>1035.590000</td>\n",
              "      <td>6.00</td>\n",
              "      <td>6213.54</td>\n",
              "    </tr>\n",
              "    <tr>\n",
              "      <th>2002-01-09</th>\n",
              "      <td>1035.400000</td>\n",
              "      <td>0.20</td>\n",
              "      <td>207.08</td>\n",
              "    </tr>\n",
              "    <tr>\n",
              "      <th>2002-01-14</th>\n",
              "      <td>1038.166666</td>\n",
              "      <td>0.60</td>\n",
              "      <td>622.89</td>\n",
              "    </tr>\n",
              "    <tr>\n",
              "      <th>2002-01-15</th>\n",
              "      <td>1038.640000</td>\n",
              "      <td>1.00</td>\n",
              "      <td>1038.64</td>\n",
              "    </tr>\n",
              "    <tr>\n",
              "      <th>2002-01-16</th>\n",
              "      <td>1039.052173</td>\n",
              "      <td>18.40</td>\n",
              "      <td>19118.55</td>\n",
              "    </tr>\n",
              "    <tr>\n",
              "      <th>2002-01-17</th>\n",
              "      <td>1039.269911</td>\n",
              "      <td>22.60</td>\n",
              "      <td>23487.49</td>\n",
              "    </tr>\n",
              "    <tr>\n",
              "      <th>2002-01-18</th>\n",
              "      <td>1039.259574</td>\n",
              "      <td>9.40</td>\n",
              "      <td>9769.03</td>\n",
              "    </tr>\n",
              "    <tr>\n",
              "      <th>2002-01-21</th>\n",
              "      <td>1039.720000</td>\n",
              "      <td>12.00</td>\n",
              "      <td>12476.64</td>\n",
              "    </tr>\n",
              "    <tr>\n",
              "      <th>2002-01-22</th>\n",
              "      <td>1040.189743</td>\n",
              "      <td>7.80</td>\n",
              "      <td>8113.47</td>\n",
              "    </tr>\n",
              "    <tr>\n",
              "      <th>...</th>\n",
              "      <th>...</th>\n",
              "      <th>...</th>\n",
              "      <td>...</td>\n",
              "      <td>...</td>\n",
              "      <td>...</td>\n",
              "    </tr>\n",
              "    <tr>\n",
              "      <th rowspan=\"10\" valign=\"top\">Tesouro Selic</th>\n",
              "      <th rowspan=\"10\" valign=\"top\">2025-03-01</th>\n",
              "      <th>2020-05-07</th>\n",
              "      <td>10597.262817</td>\n",
              "      <td>5544.77</td>\n",
              "      <td>58759384.94</td>\n",
              "    </tr>\n",
              "    <tr>\n",
              "      <th>2020-05-08</th>\n",
              "      <td>10598.471191</td>\n",
              "      <td>4642.46</td>\n",
              "      <td>49202978.56</td>\n",
              "    </tr>\n",
              "    <tr>\n",
              "      <th>2020-05-11</th>\n",
              "      <td>10599.681197</td>\n",
              "      <td>4303.73</td>\n",
              "      <td>45618165.95</td>\n",
              "    </tr>\n",
              "    <tr>\n",
              "      <th>2020-05-12</th>\n",
              "      <td>10600.899691</td>\n",
              "      <td>5355.18</td>\n",
              "      <td>56769726.00</td>\n",
              "    </tr>\n",
              "    <tr>\n",
              "      <th>2020-05-13</th>\n",
              "      <td>10602.114034</td>\n",
              "      <td>4422.34</td>\n",
              "      <td>46886152.97</td>\n",
              "    </tr>\n",
              "    <tr>\n",
              "      <th>2020-05-14</th>\n",
              "      <td>10603.334453</td>\n",
              "      <td>4769.10</td>\n",
              "      <td>50568362.33</td>\n",
              "    </tr>\n",
              "    <tr>\n",
              "      <th>2020-05-15</th>\n",
              "      <td>10604.553721</td>\n",
              "      <td>4353.36</td>\n",
              "      <td>46165439.98</td>\n",
              "    </tr>\n",
              "    <tr>\n",
              "      <th>2020-05-18</th>\n",
              "      <td>10605.760877</td>\n",
              "      <td>4507.56</td>\n",
              "      <td>47806103.49</td>\n",
              "    </tr>\n",
              "    <tr>\n",
              "      <th>2020-05-19</th>\n",
              "      <td>10606.969027</td>\n",
              "      <td>5349.63</td>\n",
              "      <td>56743359.71</td>\n",
              "    </tr>\n",
              "    <tr>\n",
              "      <th>2020-05-20</th>\n",
              "      <td>10608.194896</td>\n",
              "      <td>3050.69</td>\n",
              "      <td>32362314.08</td>\n",
              "    </tr>\n",
              "  </tbody>\n",
              "</table>\n",
              "<p>63020 rows × 3 columns</p>\n",
              "</div>"
            ],
            "text/plain": [
              "                                                                              PU  ...        Valor\n",
              "Tipo Titulo                        Vencimento do Titulo Data Venda                ...             \n",
              "Tesouro IGPM+ com Juros Semestrais 2005-07-01           2002-01-07   1038.150000  ...      7682.31\n",
              "                                                        2002-01-08   1035.590000  ...      6213.54\n",
              "                                                        2002-01-09   1035.400000  ...       207.08\n",
              "                                                        2002-01-14   1038.166666  ...       622.89\n",
              "                                                        2002-01-15   1038.640000  ...      1038.64\n",
              "                                                        2002-01-16   1039.052173  ...     19118.55\n",
              "                                                        2002-01-17   1039.269911  ...     23487.49\n",
              "                                                        2002-01-18   1039.259574  ...      9769.03\n",
              "                                                        2002-01-21   1039.720000  ...     12476.64\n",
              "                                                        2002-01-22   1040.189743  ...      8113.47\n",
              "...                                                                          ...  ...          ...\n",
              "Tesouro Selic                      2025-03-01           2020-05-07  10597.262817  ...  58759384.94\n",
              "                                                        2020-05-08  10598.471191  ...  49202978.56\n",
              "                                                        2020-05-11  10599.681197  ...  45618165.95\n",
              "                                                        2020-05-12  10600.899691  ...  56769726.00\n",
              "                                                        2020-05-13  10602.114034  ...  46886152.97\n",
              "                                                        2020-05-14  10603.334453  ...  50568362.33\n",
              "                                                        2020-05-15  10604.553721  ...  46165439.98\n",
              "                                                        2020-05-18  10605.760877  ...  47806103.49\n",
              "                                                        2020-05-19  10606.969027  ...  56743359.71\n",
              "                                                        2020-05-20  10608.194896  ...  32362314.08\n",
              "\n",
              "[63020 rows x 3 columns]"
            ]
          },
          "metadata": {
            "tags": []
          },
          "execution_count": 41
        }
      ]
    },
    {
      "cell_type": "markdown",
      "metadata": {
        "id": "DZkHLaBtodA6"
      },
      "source": [
        "###3.2 Gráficos"
      ]
    },
    {
      "cell_type": "code",
      "metadata": {
        "id": "NnbR_3U_ui3h",
        "outputId": "8bfdbf79-8668-40c6-fe97-b4cc816cba4b",
        "colab": {
          "base_uri": "https://localhost:8080/",
          "height": 275
        }
      },
      "source": [
        "vendas['Valor'].groupby('Data Venda').sum().plot();"
      ],
      "execution_count": null,
      "outputs": [
        {
          "output_type": "display_data",
          "data": {
            "image/png": "[encoded data removed]",
            "text/plain": [
              "<Figure size 432x288 with 1 Axes>"
            ]
          },
          "metadata": {
            "tags": [],
            "needs_background": "light"
          }
        }
      ]
    },
    {
      "cell_type": "markdown",
      "metadata": {
        "id": "WvfZik9mxOa-"
      },
      "source": [
        "##4. Recompras Tesouro Direto\n",
        "\n",
        "Esse conjunto da dados contém listagem dos títulos que foram entregues pelo investidor antes do vencimento. Estão listados por dia e por título. Frequência: Atualização diária com dados até dois dias antes à data do arquivo."
      ]
    },
    {
      "cell_type": "markdown",
      "metadata": {
        "id": "qpaG-7Ksoi56"
      },
      "source": [
        "###4.1 Buscando Dados"
      ]
    },
    {
      "cell_type": "code",
      "metadata": {
        "id": "c5H1IsTsxbN1"
      },
      "source": [
        "recompras = busca_recompras_tesouro()"
      ],
      "execution_count": null,
      "outputs": []
    },
    {
      "cell_type": "code",
      "metadata": {
        "id": "d1k4NoVOxfwd",
        "outputId": "236903c0-19a1-46b4-efc2-3b11a4395626",
        "colab": {
          "base_uri": "https://localhost:8080/",
          "height": 760
        }
      },
      "source": [
        "recompras.sort_index(inplace=True)\n",
        "recompras"
      ],
      "execution_count": null,
      "outputs": [
        {
          "output_type": "execute_result",
          "data": {
            "text/html": [
              "<div>\n",
              "<style scoped>\n",
              "    .dataframe tbody tr th:only-of-type {\n",
              "        vertical-align: middle;\n",
              "    }\n",
              "\n",
              "    .dataframe tbody tr th {\n",
              "        vertical-align: top;\n",
              "    }\n",
              "\n",
              "    .dataframe thead th {\n",
              "        text-align: right;\n",
              "    }\n",
              "</style>\n",
              "<table border=\"1\" class=\"dataframe\">\n",
              "  <thead>\n",
              "    <tr style=\"text-align: right;\">\n",
              "      <th></th>\n",
              "      <th></th>\n",
              "      <th></th>\n",
              "      <th>Quantidade</th>\n",
              "      <th>Valor</th>\n",
              "    </tr>\n",
              "    <tr>\n",
              "      <th>Tipo Titulo</th>\n",
              "      <th>Vencimento do Titulo</th>\n",
              "      <th>Data Resgate</th>\n",
              "      <th></th>\n",
              "      <th></th>\n",
              "    </tr>\n",
              "  </thead>\n",
              "  <tbody>\n",
              "    <tr>\n",
              "      <th rowspan=\"10\" valign=\"top\">Tesouro IGPM+ com Juros Semestrais</th>\n",
              "      <th rowspan=\"9\" valign=\"top\">2005-07-01</th>\n",
              "      <th>2005-01-13</th>\n",
              "      <td>2.00</td>\n",
              "      <td>3545.04</td>\n",
              "    </tr>\n",
              "    <tr>\n",
              "      <th>2005-02-03</th>\n",
              "      <td>1.00</td>\n",
              "      <td>1783.97</td>\n",
              "    </tr>\n",
              "    <tr>\n",
              "      <th>2005-03-03</th>\n",
              "      <td>2.00</td>\n",
              "      <td>3595.96</td>\n",
              "    </tr>\n",
              "    <tr>\n",
              "      <th>2005-03-10</th>\n",
              "      <td>1.00</td>\n",
              "      <td>1803.81</td>\n",
              "    </tr>\n",
              "    <tr>\n",
              "      <th>2005-03-24</th>\n",
              "      <td>0.20</td>\n",
              "      <td>364.14</td>\n",
              "    </tr>\n",
              "    <tr>\n",
              "      <th>2005-03-31</th>\n",
              "      <td>0.60</td>\n",
              "      <td>1098.15</td>\n",
              "    </tr>\n",
              "    <tr>\n",
              "      <th>2005-04-14</th>\n",
              "      <td>3.60</td>\n",
              "      <td>6666.62</td>\n",
              "    </tr>\n",
              "    <tr>\n",
              "      <th>2005-04-22</th>\n",
              "      <td>36.00</td>\n",
              "      <td>66912.84</td>\n",
              "    </tr>\n",
              "    <tr>\n",
              "      <th>2005-06-02</th>\n",
              "      <td>6.40</td>\n",
              "      <td>11999.94</td>\n",
              "    </tr>\n",
              "    <tr>\n",
              "      <th>2005-12-01</th>\n",
              "      <th>2005-01-06</th>\n",
              "      <td>141.20</td>\n",
              "      <td>249321.07</td>\n",
              "    </tr>\n",
              "    <tr>\n",
              "      <th>...</th>\n",
              "      <th>...</th>\n",
              "      <th>...</th>\n",
              "      <td>...</td>\n",
              "      <td>...</td>\n",
              "    </tr>\n",
              "    <tr>\n",
              "      <th rowspan=\"10\" valign=\"top\">Tesouro Selic</th>\n",
              "      <th rowspan=\"10\" valign=\"top\">2025-03-01</th>\n",
              "      <th>2020-05-07</th>\n",
              "      <td>1875.96</td>\n",
              "      <td>19870459.40</td>\n",
              "    </tr>\n",
              "    <tr>\n",
              "      <th>2020-05-08</th>\n",
              "      <td>3606.82</td>\n",
              "      <td>38208433.41</td>\n",
              "    </tr>\n",
              "    <tr>\n",
              "      <th>2020-05-11</th>\n",
              "      <td>2565.44</td>\n",
              "      <td>27179823.15</td>\n",
              "    </tr>\n",
              "    <tr>\n",
              "      <th>2020-05-12</th>\n",
              "      <td>2773.17</td>\n",
              "      <td>29383990.44</td>\n",
              "    </tr>\n",
              "    <tr>\n",
              "      <th>2020-05-13</th>\n",
              "      <td>2430.07</td>\n",
              "      <td>25751540.34</td>\n",
              "    </tr>\n",
              "    <tr>\n",
              "      <th>2020-05-14</th>\n",
              "      <td>2637.12</td>\n",
              "      <td>27948871.86</td>\n",
              "    </tr>\n",
              "    <tr>\n",
              "      <th>2020-05-15</th>\n",
              "      <td>2684.45</td>\n",
              "      <td>28453761.34</td>\n",
              "    </tr>\n",
              "    <tr>\n",
              "      <th>2020-05-18</th>\n",
              "      <td>1762.51</td>\n",
              "      <td>18683812.71</td>\n",
              "    </tr>\n",
              "    <tr>\n",
              "      <th>2020-05-19</th>\n",
              "      <td>2994.47</td>\n",
              "      <td>31747112.61</td>\n",
              "    </tr>\n",
              "    <tr>\n",
              "      <th>2020-05-20</th>\n",
              "      <td>1989.45</td>\n",
              "      <td>21094409.64</td>\n",
              "    </tr>\n",
              "  </tbody>\n",
              "</table>\n",
              "<p>38490 rows × 2 columns</p>\n",
              "</div>"
            ],
            "text/plain": [
              "                                                                      Quantidade        Valor\n",
              "Tipo Titulo                        Vencimento do Titulo Data Resgate                         \n",
              "Tesouro IGPM+ com Juros Semestrais 2005-07-01           2005-01-13          2.00      3545.04\n",
              "                                                        2005-02-03          1.00      1783.97\n",
              "                                                        2005-03-03          2.00      3595.96\n",
              "                                                        2005-03-10          1.00      1803.81\n",
              "                                                        2005-03-24          0.20       364.14\n",
              "                                                        2005-03-31          0.60      1098.15\n",
              "                                                        2005-04-14          3.60      6666.62\n",
              "                                                        2005-04-22         36.00     66912.84\n",
              "                                                        2005-06-02          6.40     11999.94\n",
              "                                   2005-12-01           2005-01-06        141.20    249321.07\n",
              "...                                                                          ...          ...\n",
              "Tesouro Selic                      2025-03-01           2020-05-07       1875.96  19870459.40\n",
              "                                                        2020-05-08       3606.82  38208433.41\n",
              "                                                        2020-05-11       2565.44  27179823.15\n",
              "                                                        2020-05-12       2773.17  29383990.44\n",
              "                                                        2020-05-13       2430.07  25751540.34\n",
              "                                                        2020-05-14       2637.12  27948871.86\n",
              "                                                        2020-05-15       2684.45  28453761.34\n",
              "                                                        2020-05-18       1762.51  18683812.71\n",
              "                                                        2020-05-19       2994.47  31747112.61\n",
              "                                                        2020-05-20       1989.45  21094409.64\n",
              "\n",
              "[38490 rows x 2 columns]"
            ]
          },
          "metadata": {
            "tags": []
          },
          "execution_count": 44
        }
      ]
    },
    {
      "cell_type": "code",
      "metadata": {
        "id": "rRpLchY9E-B3",
        "outputId": "9c236356-0408-4d90-e0b6-e6d7f5591ecb",
        "colab": {
          "base_uri": "https://localhost:8080/",
          "height": 275
        }
      },
      "source": [
        "recompras['Valor'].groupby('Data Resgate').sum().plot();"
      ],
      "execution_count": null,
      "outputs": [
        {
          "output_type": "display_data",
          "data": {
            "image/png": "[encoded data removed]",
            "text/plain": [
              "<Figure size 432x288 with 1 Axes>"
            ]
          },
          "metadata": {
            "tags": [],
            "needs_background": "light"
          }
        }
      ]
    },
    {
      "cell_type": "markdown",
      "metadata": {
        "id": "fcgaKryLLI1s"
      },
      "source": [
        "###4.2 Recompras diárias Tesouro Selic 2025"
      ]
    },
    {
      "cell_type": "code",
      "metadata": {
        "id": "uUuoEmQgxiS9"
      },
      "source": [
        "recompras_selic = recompras.loc[('Tesouro Selic', '2025-03-01')]"
      ],
      "execution_count": null,
      "outputs": []
    },
    {
      "cell_type": "code",
      "metadata": {
        "id": "2jf4dUINCjSX",
        "outputId": "6fc991dc-09b8-4fe5-e38c-5571fb1ac22c",
        "colab": {
          "base_uri": "https://localhost:8080/",
          "height": 542
        }
      },
      "source": [
        "fig = px.bar(data_frame=recompras_selic,  x=recompras_selic.index, y='Valor', labels={'x':'Data'})\n",
        "fig.show()"
      ],
      "execution_count": null,
      "outputs": [
        {
          "output_type": "display_data",
          "data": {
            "text/html": [
              "<html>\n",
              "<head><meta charset=\"utf-8\" /></head>\n",
              "<body>\n",
              "    <div>\n",
              "            <script src=\"https://cdnjs.cloudflare.com/ajax/libs/mathjax/2.7.5/MathJax.js?config=TeX-AMS-MML_SVG\"></script><script type=\"text/javascript\">if (window.MathJax) {MathJax.Hub.Config({SVG: {font: \"STIX-Web\"}});}</script>\n",
              "                <script type=\"text/javascript\">window.PlotlyConfig = {MathJaxConfig: 'local'};</script>\n",
              "        <script src=\"https://cdn.plot.ly/plotly-latest.min.js\"></script>    \n",
              "            <div id=\"f003a2a8-ad0d-447a-8f38-9a437af502eb\" class=\"plotly-graph-div\" style=\"height:525px; width:100%;\"></div>\n",
              "            <script type=\"text/javascript\">\n",
              "                \n",
              "                    window.PLOTLYENV=window.PLOTLYENV || {};\n",
              "                    \n",
              "                if (document.getElementById(\"f003a2a8-ad0d-447a-8f38-9a437af502eb\")) {\n",
              "                    Plotly.newPlot(\n",
              "                        'f003a2a8-ad0d-447a-8f38-9a437af502eb',\n",
              "                        [{\"alignmentgroup\": \"True\", \"hoverlabel\": {\"namelength\": 0}, \"hovertemplate\": \"Data=%{x}<br>Valor=%{y}\", \"legendgroup\": \"\", \"marker\": {\"color\": \"#636efa\"}, \"name\": \"\", \"offsetgroup\": \"\", \"orientation\": \"v\", \"showlegend\": false, \"textposition\": \"auto\", \"type\": \"bar\", \"x\": [\"2019-02-06T00:00:00\", \"2019-02-07T00:00:00\", \"2019-02-08T00:00:00\", \"2019-02-11T00:00:00\", \"2019-02-12T00:00:00\", \"2019-02-13T00:00:00\", \"2019-02-14T00:00:00\", \"2019-02-15T00:00:00\", \"2019-02-18T00:00:00\", \"2019-02-19T00:00:00\", \"2019-02-20T00:00:00\", \"2019-02-21T00:00:00\", \"2019-02-22T00:00:00\", \"2019-02-25T00:00:00\", \"2019-02-26T00:00:00\", \"2019-02-27T00:00:00\", \"2019-02-28T00:00:00\", \"2019-03-01T00:00:00\", \"2019-03-06T00:00:00\", \"2019-03-07T00:00:00\", \"2019-03-08T00:00:00\", \"2019-03-11T00:00:00\", \"2019-03-12T00:00:00\", \"2019-03-13T00:00:00\", \"2019-03-14T00:00:00\", \"2019-03-15T00:00:00\", \"2019-03-18T00:00:00\", \"2019-03-19T00:00:00\", \"2019-03-20T00:00:00\", \"2019-03-21T00:00:00\", \"2019-03-22T00:00:00\", \"2019-03-25T00:00:00\", \"2019-03-26T00:00:00\", \"2019-03-27T00:00:00\", \"2019-03-28T00:00:00\", \"2019-03-29T00:00:00\", \"2019-04-01T00:00:00\", \"2019-04-02T00:00:00\", \"2019-04-03T00:00:00\", \"2019-04-04T00:00:00\", \"2019-04-05T00:00:00\", \"2019-04-08T00:00:00\", \"2019-04-09T00:00:00\", \"2019-04-10T00:00:00\", \"2019-04-11T00:00:00\", \"2019-04-12T00:00:00\", \"2019-04-15T00:00:00\", \"2019-04-16T00:00:00\", \"2019-04-17T00:00:00\", \"2019-04-18T00:00:00\", \"2019-04-22T00:00:00\", \"2019-04-23T00:00:00\", \"2019-04-24T00:00:00\", \"2019-04-25T00:00:00\", \"2019-04-26T00:00:00\", \"2019-04-29T00:00:00\", \"2019-04-30T00:00:00\", \"2019-05-02T00:00:00\", \"2019-05-03T00:00:00\", \"2019-05-06T00:00:00\", \"2019-05-07T00:00:00\", \"2019-05-08T00:00:00\", \"2019-05-09T00:00:00\", \"2019-05-10T00:00:00\", \"2019-05-13T00:00:00\", \"2019-05-14T00:00:00\", \"2019-05-15T00:00:00\", \"2019-05-16T00:00:00\", \"2019-05-17T00:00:00\", \"2019-05-20T00:00:00\", \"2019-05-21T00:00:00\", \"2019-05-22T00:00:00\", \"2019-05-23T00:00:00\", \"2019-05-24T00:00:00\", \"2019-05-27T00:00:00\", \"2019-05-28T00:00:00\", \"2019-05-29T00:00:00\", \"2019-05-30T00:00:00\", \"2019-05-31T00:00:00\", \"2019-06-03T00:00:00\", \"2019-06-04T00:00:00\", \"2019-06-05T00:00:00\", \"2019-06-06T00:00:00\", \"2019-06-07T00:00:00\", \"2019-06-10T00:00:00\", \"2019-06-11T00:00:00\", \"2019-06-12T00:00:00\", \"2019-06-13T00:00:00\", \"2019-06-14T00:00:00\", \"2019-06-17T00:00:00\", \"2019-06-18T00:00:00\", \"2019-06-19T00:00:00\", \"2019-06-21T00:00:00\", \"2019-06-24T00:00:00\", \"2019-06-25T00:00:00\", \"2019-06-26T00:00:00\", \"2019-06-27T00:00:00\", \"2019-06-28T00:00:00\", \"2019-07-01T00:00:00\", \"2019-07-02T00:00:00\", \"2019-07-03T00:00:00\", \"2019-07-04T00:00:00\", \"2019-07-05T00:00:00\", \"2019-07-08T00:00:00\", \"2019-07-10T00:00:00\", \"2019-07-11T00:00:00\", \"2019-07-12T00:00:00\", \"2019-07-15T00:00:00\", \"2019-07-16T00:00:00\", \"2019-07-17T00:00:00\", \"2019-07-18T00:00:00\", \"2019-07-19T00:00:00\", \"2019-07-22T00:00:00\", \"2019-07-23T00:00:00\", \"2019-07-24T00:00:00\", \"2019-07-25T00:00:00\", \"2019-07-26T00:00:00\", \"2019-07-29T00:00:00\", \"2019-07-30T00:00:00\", \"2019-07-31T00:00:00\", \"2019-08-01T00:00:00\", \"2019-08-02T00:00:00\", \"2019-08-05T00:00:00\", \"2019-08-06T00:00:00\", \"2019-08-07T00:00:00\", \"2019-08-08T00:00:00\", \"2019-08-09T00:00:00\", \"2019-08-12T00:00:00\", \"2019-08-13T00:00:00\", \"2019-08-14T00:00:00\", \"2019-08-15T00:00:00\", \"2019-08-16T00:00:00\", \"2019-08-19T00:00:00\", \"2019-08-20T00:00:00\", \"2019-08-21T00:00:00\", \"2019-08-22T00:00:00\", \"2019-08-23T00:00:00\", \"2019-08-26T00:00:00\", \"2019-08-27T00:00:00\", \"2019-08-28T00:00:00\", \"2019-08-29T00:00:00\", \"2019-08-30T00:00:00\", \"2019-09-02T00:00:00\", \"2019-09-03T00:00:00\", \"2019-09-04T00:00:00\", \"2019-09-05T00:00:00\", \"2019-09-06T00:00:00\", \"2019-09-09T00:00:00\", \"2019-09-10T00:00:00\", \"2019-09-11T00:00:00\", \"2019-09-12T00:00:00\", \"2019-09-13T00:00:00\", \"2019-09-16T00:00:00\", \"2019-09-17T00:00:00\", \"2019-09-18T00:00:00\", \"2019-09-19T00:00:00\", \"2019-09-20T00:00:00\", \"2019-09-23T00:00:00\", \"2019-09-24T00:00:00\", \"2019-09-25T00:00:00\", \"2019-09-26T00:00:00\", \"2019-09-27T00:00:00\", \"2019-09-30T00:00:00\", \"2019-10-01T00:00:00\", \"2019-10-02T00:00:00\", \"2019-10-03T00:00:00\", \"2019-10-04T00:00:00\", \"2019-10-07T00:00:00\", \"2019-10-08T00:00:00\", \"2019-10-09T00:00:00\", \"2019-10-10T00:00:00\", \"2019-10-11T00:00:00\", \"2019-10-14T00:00:00\", \"2019-10-15T00:00:00\", \"2019-10-16T00:00:00\", \"2019-10-17T00:00:00\", \"2019-10-18T00:00:00\", \"2019-10-21T00:00:00\", \"2019-10-22T00:00:00\", \"2019-10-23T00:00:00\", \"2019-10-24T00:00:00\", \"2019-10-25T00:00:00\", \"2019-10-28T00:00:00\", \"2019-10-29T00:00:00\", \"2019-10-30T00:00:00\", \"2019-10-31T00:00:00\", \"2019-11-01T00:00:00\", \"2019-11-04T00:00:00\", \"2019-11-05T00:00:00\", \"2019-11-06T00:00:00\", \"2019-11-07T00:00:00\", \"2019-11-08T00:00:00\", \"2019-11-11T00:00:00\", \"2019-11-12T00:00:00\", \"2019-11-13T00:00:00\", \"2019-11-14T00:00:00\", \"2019-11-18T00:00:00\", \"2019-11-19T00:00:00\", \"2019-11-21T00:00:00\", \"2019-11-22T00:00:00\", \"2019-11-25T00:00:00\", \"2019-11-26T00:00:00\", \"2019-11-27T00:00:00\", \"2019-11-28T00:00:00\", \"2019-11-29T00:00:00\", \"2019-12-02T00:00:00\", \"2019-12-03T00:00:00\", \"2019-12-04T00:00:00\", \"2019-12-05T00:00:00\", \"2019-12-06T00:00:00\", \"2019-12-09T00:00:00\", \"2019-12-10T00:00:00\", \"2019-12-11T00:00:00\", \"2019-12-12T00:00:00\", \"2019-12-13T00:00:00\", \"2019-12-16T00:00:00\", \"2019-12-17T00:00:00\", \"2019-12-18T00:00:00\", \"2019-12-19T00:00:00\", \"2019-12-20T00:00:00\", \"2019-12-23T00:00:00\", \"2019-12-26T00:00:00\", \"2019-12-27T00:00:00\", \"2019-12-30T00:00:00\", \"2020-01-03T00:00:00\", \"2020-01-06T00:00:00\", \"2020-01-07T00:00:00\", \"2020-01-08T00:00:00\", \"2020-01-09T00:00:00\", \"2020-01-10T00:00:00\", \"2020-01-13T00:00:00\", \"2020-01-14T00:00:00\", \"2020-01-15T00:00:00\", \"2020-01-16T00:00:00\", \"2020-01-17T00:00:00\", \"2020-01-20T00:00:00\", \"2020-01-21T00:00:00\", \"2020-01-22T00:00:00\", \"2020-01-23T00:00:00\", \"2020-01-24T00:00:00\", \"2020-01-27T00:00:00\", \"2020-01-28T00:00:00\", \"2020-01-29T00:00:00\", \"2020-01-30T00:00:00\", \"2020-01-31T00:00:00\", \"2020-02-03T00:00:00\", \"2020-02-04T00:00:00\", \"2020-02-05T00:00:00\", \"2020-02-06T00:00:00\", \"2020-02-07T00:00:00\", \"2020-02-10T00:00:00\", \"2020-02-11T00:00:00\", \"2020-02-12T00:00:00\", \"2020-02-13T00:00:00\", \"2020-02-14T00:00:00\", \"2020-02-17T00:00:00\", \"2020-02-18T00:00:00\", \"2020-02-19T00:00:00\", \"2020-02-20T00:00:00\", \"2020-02-21T00:00:00\", \"2020-02-26T00:00:00\", \"2020-02-27T00:00:00\", \"2020-02-28T00:00:00\", \"2020-03-02T00:00:00\", \"2020-03-03T00:00:00\", \"2020-03-04T00:00:00\", \"2020-03-05T00:00:00\", \"2020-03-06T00:00:00\", \"2020-03-09T00:00:00\", \"2020-03-10T00:00:00\", \"2020-03-11T00:00:00\", \"2020-03-12T00:00:00\", \"2020-03-13T00:00:00\", \"2020-03-16T00:00:00\", \"2020-03-17T00:00:00\", \"2020-03-18T00:00:00\", \"2020-03-19T00:00:00\", \"2020-03-20T00:00:00\", \"2020-03-23T00:00:00\", \"2020-03-24T00:00:00\", \"2020-03-25T00:00:00\", \"2020-03-26T00:00:00\", \"2020-03-27T00:00:00\", \"2020-03-30T00:00:00\", \"2020-03-31T00:00:00\", \"2020-04-01T00:00:00\", \"2020-04-02T00:00:00\", \"2020-04-03T00:00:00\", \"2020-04-06T00:00:00\", \"2020-04-07T00:00:00\", \"2020-04-08T00:00:00\", \"2020-04-09T00:00:00\", \"2020-04-13T00:00:00\", \"2020-04-14T00:00:00\", \"2020-04-15T00:00:00\", \"2020-04-16T00:00:00\", \"2020-04-17T00:00:00\", \"2020-04-20T00:00:00\", \"2020-04-22T00:00:00\", \"2020-04-23T00:00:00\", \"2020-04-24T00:00:00\", \"2020-04-27T00:00:00\", \"2020-04-28T00:00:00\", \"2020-04-29T00:00:00\", \"2020-04-30T00:00:00\", \"2020-05-04T00:00:00\", \"2020-05-05T00:00:00\", \"2020-05-06T00:00:00\", \"2020-05-07T00:00:00\", \"2020-05-08T00:00:00\", \"2020-05-11T00:00:00\", \"2020-05-12T00:00:00\", \"2020-05-13T00:00:00\", \"2020-05-14T00:00:00\", \"2020-05-15T00:00:00\", \"2020-05-18T00:00:00\", \"2020-05-19T00:00:00\", \"2020-05-20T00:00:00\"], \"xaxis\": \"x\", \"y\": [138709.86, 517021.46, 225218.42, 865700.65, 1255681.15, 1343291.93, 1694985.79, 1087990.74, 1276289.43, 1842916.72, 1916082.59, 1199646.72, 1488728.43, 1336819.95, 2444435.73, 1932086.3, 2764465.63, 2513520.41, 3215884.77, 2456335.32, 2901535.17, 4055594.7, 4566761.57, 2978336.58, 3388329.4, 4142173.88, 3438480.51, 4960551.39, 3935049.1, 4340197.83, 5896177.54, 7301462.69, 8023834.7, 8278867.13, 6060310.64, 5980467.54, 5040742.15, 7374257.78, 4713783.58, 6341364.11, 5559109.89, 5125323.8, 7755835.04, 5623646.64, 6931528.26, 7209954.68, 6768497.16, 11412159.02, 9663537.87, 5804599.23, 6458242.49, 10798720.06, 7566516.28, 7874612.91, 8774663.43, 6475491.48, 12665834.06, 7145212.67, 13146781.53, 7440234.17, 10733135.81, 8489576.05, 9351840.33, 7521594.96, 7400226.61, 14936357.93, 11578314.35, 11507814.98, 10338624.42, 9769506.68, 14794260.96, 11400307.98, 8513007.34, 8370383.62, 10696175.24, 16883454.99, 11939446.11, 12439026.93, 13147008.74, 9883273.77, 19173292.13, 15473778.34, 12997450.71, 12142193.44, 10102347.87, 15286751.94, 13222939.68, 14820913.01, 11532335.66, 13099838.78, 24468795.43, 15862438.65, 13453183.12, 19090311.66, 23186507.58, 17110370.82, 18726575.43, 17651487.19, 16866599.17, 30318664.43, 20019068.03, 19210761.93, 19856023.95, 16049096.62, 28056376.96, 35703038.82, 20008506.79, 18416671.44, 28127160.55, 19222058.8, 20374983.53, 18903701.57, 18018200.15, 25264336.85, 20011051.23, 21431495.04, 19784027.88, 16827003.37, 27815919.83, 23487033.3, 22865414.19, 37071040.07, 23634568.14, 37939766.82, 29349835.42, 24753026.59, 24682006.52, 20028638.48, 31210147.87, 22716445.16, 24197650.51, 28454618.05, 20667607.92, 29745734.67, 21265895.76, 14243229.23, 18250346.78, 16454243.48, 31058656.03, 17846122.23, 18580083.57, 17167488.93, 20411491.99, 26907197.02, 20738893.55, 18871259.29, 17636327.46, 15186123.99, 27638632.51, 17750154.89, 22374039.92, 18157198.29, 16479361.3, 30077282.41, 19269548.88, 24141450.98, 31630605.6, 21050052.04, 29835906.11, 21877465.22, 22203008.66, 24355715.15, 18659876.29, 29762092.77, 26408884.58, 23965192.57, 23262381.38, 21212937.46, 34669374.68, 25787059.14, 25073907.57, 23147056.24, 18675608.22, 26279291.86, 25852863.88, 25775365.07, 19975750.58, 19971237.98, 34345724.69, 24728100.86, 25116534.61, 23869685.37, 21174506.34, 35075682.68, 28274626.41, 23817425.02, 38906108.31, 36203758.18, 49358748.06, 36709744.67, 29703388.18, 27858454.78, 30250353.86, 37130439.93, 27121473.65, 25490457.3, 18925816.44, 35422285.68, 24615920.52, 34834241.77, 20941029.84, 34169454.8, 27984210.3, 25448189.05, 23739271.41, 14850006.4, 36998918.72, 24961732.07, 27508635.98, 21369110.91, 19422533.01, 36720392.64, 24487439.93, 26223675.89, 32777290.12, 25891252.49, 40190543.33, 30832835.99, 29234046.55, 28369562.67, 25136953.29, 30100730.6, 34039833.74, 20795795.29, 55878418.62, 32379200.51, 42500070.4, 30155558.24, 28798687.55, 28984294.18, 23317502.84, 39811676.53, 30130291.59, 26525723.9, 29173055.45, 27699428.1, 36677282.37, 30093042.84, 31843942.07, 27818091.49, 22716107.57, 48298403.57, 30648577.75, 28401678.63, 31468745.97, 25655491.35, 41925202.87, 29677778.22, 29583418.69, 45268128.57, 38702012.11, 57892263.84, 32772214.47, 29378269.71, 28058578.56, 31203837.79, 43576639.21, 33050930.35, 27017230.86, 27868350.37, 27135968.91, 70136144.88, 72025576.35, 48510116.06, 52985026.31, 32271792.09, 31264958.25, 30755847.0, 48224524.76, 119130397.63, 68714909.38, 39509271.58, 15395728.66, 202499582.23, 93105566.09, 54690107.27, 96960182.92, 90710621.95, 64763974.44, 65859170.34, 40035466.89, 37607415.05, 32588692.56, 22806876.85, 30630819.49, 21857892.03, 26728149.74, 17580433.98, 24030587.37, 32900813.71, 26087809.33, 23848000.13, 24211498.89, 27493797.7, 24850892.33, 18839336.72, 20012132.64, 19348990.76, 30872302.07, 31742982.59, 23287282.65, 49341421.57, 39770063.79, 22831499.38, 21065318.75, 21111455.42, 30161292.76, 17258389.74, 19870459.4, 38208433.41, 27179823.15, 29383990.44, 25751540.34, 27948871.86, 28453761.34, 18683812.71, 31747112.61, 21094409.64], \"yaxis\": \"y\"}],\n",
              "                        {\"barmode\": \"relative\", \"legend\": {\"tracegroupgap\": 0}, \"margin\": {\"t\": 60}, \"template\": {\"data\": {\"bar\": [{\"error_x\": {\"color\": \"#2a3f5f\"}, \"error_y\": {\"color\": \"#2a3f5f\"}, \"marker\": {\"line\": {\"color\": \"#E5ECF6\", \"width\": 0.5}}, \"type\": \"bar\"}], \"barpolar\": [{\"marker\": {\"line\": {\"color\": \"#E5ECF6\", \"width\": 0.5}}, \"type\": \"barpolar\"}], \"carpet\": [{\"aaxis\": {\"endlinecolor\": \"#2a3f5f\", \"gridcolor\": \"white\", \"linecolor\": \"white\", \"minorgridcolor\": \"white\", \"startlinecolor\": \"#2a3f5f\"}, \"baxis\": {\"endlinecolor\": \"#2a3f5f\", \"gridcolor\": \"white\", \"linecolor\": \"white\", \"minorgridcolor\": \"white\", \"startlinecolor\": \"#2a3f5f\"}, \"type\": \"carpet\"}], \"choropleth\": [{\"colorbar\": {\"outlinewidth\": 0, \"ticks\": \"\"}, \"type\": \"choropleth\"}], \"contour\": [{\"colorbar\": {\"outlinewidth\": 0, \"ticks\": \"\"}, \"colorscale\": [[0.0, \"#0d0887\"], [0.1111111111111111, \"#46039f\"], [0.2222222222222222, \"#7201a8\"], [0.3333333333333333, \"#9c179e\"], [0.4444444444444444, \"#bd3786\"], [0.5555555555555556, \"#d8576b\"], [0.6666666666666666, \"#ed7953\"], [0.7777777777777778, \"#fb9f3a\"], [0.8888888888888888, \"#fdca26\"], [1.0, \"#f0f921\"]], \"type\": \"contour\"}], \"contourcarpet\": [{\"colorbar\": {\"outlinewidth\": 0, \"ticks\": \"\"}, \"type\": \"contourcarpet\"}], \"heatmap\": [{\"colorbar\": {\"outlinewidth\": 0, \"ticks\": \"\"}, \"colorscale\": [[0.0, \"#0d0887\"], [0.1111111111111111, \"#46039f\"], [0.2222222222222222, \"#7201a8\"], [0.3333333333333333, \"#9c179e\"], [0.4444444444444444, \"#bd3786\"], [0.5555555555555556, \"#d8576b\"], [0.6666666666666666, \"#ed7953\"], [0.7777777777777778, \"#fb9f3a\"], [0.8888888888888888, \"#fdca26\"], [1.0, \"#f0f921\"]], \"type\": \"heatmap\"}], \"heatmapgl\": [{\"colorbar\": {\"outlinewidth\": 0, \"ticks\": \"\"}, \"colorscale\": [[0.0, \"#0d0887\"], [0.1111111111111111, \"#46039f\"], [0.2222222222222222, \"#7201a8\"], [0.3333333333333333, \"#9c179e\"], [0.4444444444444444, \"#bd3786\"], [0.5555555555555556, \"#d8576b\"], [0.6666666666666666, \"#ed7953\"], [0.7777777777777778, \"#fb9f3a\"], [0.8888888888888888, \"#fdca26\"], [1.0, \"#f0f921\"]], \"type\": \"heatmapgl\"}], \"histogram\": [{\"marker\": {\"colorbar\": {\"outlinewidth\": 0, \"ticks\": \"\"}}, \"type\": \"histogram\"}], \"histogram2d\": [{\"colorbar\": {\"outlinewidth\": 0, \"ticks\": \"\"}, \"colorscale\": [[0.0, \"#0d0887\"], [0.1111111111111111, \"#46039f\"], [0.2222222222222222, \"#7201a8\"], [0.3333333333333333, \"#9c179e\"], [0.4444444444444444, \"#bd3786\"], [0.5555555555555556, \"#d8576b\"], [0.6666666666666666, \"#ed7953\"], [0.7777777777777778, \"#fb9f3a\"], [0.8888888888888888, \"#fdca26\"], [1.0, \"#f0f921\"]], \"type\": \"histogram2d\"}], \"histogram2dcontour\": [{\"colorbar\": {\"outlinewidth\": 0, \"ticks\": \"\"}, \"colorscale\": [[0.0, \"#0d0887\"], [0.1111111111111111, \"#46039f\"], [0.2222222222222222, \"#7201a8\"], [0.3333333333333333, \"#9c179e\"], [0.4444444444444444, \"#bd3786\"], [0.5555555555555556, \"#d8576b\"], [0.6666666666666666, \"#ed7953\"], [0.7777777777777778, \"#fb9f3a\"], [0.8888888888888888, \"#fdca26\"], [1.0, \"#f0f921\"]], \"type\": \"histogram2dcontour\"}], \"mesh3d\": [{\"colorbar\": {\"outlinewidth\": 0, \"ticks\": \"\"}, \"type\": \"mesh3d\"}], \"parcoords\": [{\"line\": {\"colorbar\": {\"outlinewidth\": 0, \"ticks\": \"\"}}, \"type\": \"parcoords\"}], \"pie\": [{\"automargin\": true, \"type\": \"pie\"}], \"scatter\": [{\"marker\": {\"colorbar\": {\"outlinewidth\": 0, \"ticks\": \"\"}}, \"type\": \"scatter\"}], \"scatter3d\": [{\"line\": {\"colorbar\": {\"outlinewidth\": 0, \"ticks\": \"\"}}, \"marker\": {\"colorbar\": {\"outlinewidth\": 0, \"ticks\": \"\"}}, \"type\": \"scatter3d\"}], \"scattercarpet\": [{\"marker\": {\"colorbar\": {\"outlinewidth\": 0, \"ticks\": \"\"}}, \"type\": \"scattercarpet\"}], \"scattergeo\": [{\"marker\": {\"colorbar\": {\"outlinewidth\": 0, \"ticks\": \"\"}}, \"type\": \"scattergeo\"}], \"scattergl\": [{\"marker\": {\"colorbar\": {\"outlinewidth\": 0, \"ticks\": \"\"}}, \"type\": \"scattergl\"}], \"scattermapbox\": [{\"marker\": {\"colorbar\": {\"outlinewidth\": 0, \"ticks\": \"\"}}, \"type\": \"scattermapbox\"}], \"scatterpolar\": [{\"marker\": {\"colorbar\": {\"outlinewidth\": 0, \"ticks\": \"\"}}, \"type\": \"scatterpolar\"}], \"scatterpolargl\": [{\"marker\": {\"colorbar\": {\"outlinewidth\": 0, \"ticks\": \"\"}}, \"type\": \"scatterpolargl\"}], \"scatterternary\": [{\"marker\": {\"colorbar\": {\"outlinewidth\": 0, \"ticks\": \"\"}}, \"type\": \"scatterternary\"}], \"surface\": [{\"colorbar\": {\"outlinewidth\": 0, \"ticks\": \"\"}, \"colorscale\": [[0.0, \"#0d0887\"], [0.1111111111111111, \"#46039f\"], [0.2222222222222222, \"#7201a8\"], [0.3333333333333333, \"#9c179e\"], [0.4444444444444444, \"#bd3786\"], [0.5555555555555556, \"#d8576b\"], [0.6666666666666666, \"#ed7953\"], [0.7777777777777778, \"#fb9f3a\"], [0.8888888888888888, \"#fdca26\"], [1.0, \"#f0f921\"]], \"type\": \"surface\"}], \"table\": [{\"cells\": {\"fill\": {\"color\": \"#EBF0F8\"}, \"line\": {\"color\": \"white\"}}, \"header\": {\"fill\": {\"color\": \"#C8D4E3\"}, \"line\": {\"color\": \"white\"}}, \"type\": \"table\"}]}, \"layout\": {\"annotationdefaults\": {\"arrowcolor\": \"#2a3f5f\", \"arrowhead\": 0, \"arrowwidth\": 1}, \"coloraxis\": {\"colorbar\": {\"outlinewidth\": 0, \"ticks\": \"\"}}, \"colorscale\": {\"diverging\": [[0, \"#8e0152\"], [0.1, \"#c51b7d\"], [0.2, \"#de77ae\"], [0.3, \"#f1b6da\"], [0.4, \"#fde0ef\"], [0.5, \"#f7f7f7\"], [0.6, \"#e6f5d0\"], [0.7, \"#b8e186\"], [0.8, \"#7fbc41\"], [0.9, \"#4d9221\"], [1, \"#276419\"]], \"sequential\": [[0.0, \"#0d0887\"], [0.1111111111111111, \"#46039f\"], [0.2222222222222222, \"#7201a8\"], [0.3333333333333333, \"#9c179e\"], [0.4444444444444444, \"#bd3786\"], [0.5555555555555556, \"#d8576b\"], [0.6666666666666666, \"#ed7953\"], [0.7777777777777778, \"#fb9f3a\"], [0.8888888888888888, \"#fdca26\"], [1.0, \"#f0f921\"]], \"sequentialminus\": [[0.0, \"#0d0887\"], [0.1111111111111111, \"#46039f\"], [0.2222222222222222, \"#7201a8\"], [0.3333333333333333, \"#9c179e\"], [0.4444444444444444, \"#bd3786\"], [0.5555555555555556, \"#d8576b\"], [0.6666666666666666, \"#ed7953\"], [0.7777777777777778, \"#fb9f3a\"], [0.8888888888888888, \"#fdca26\"], [1.0, \"#f0f921\"]]}, \"colorway\": [\"#636efa\", \"#EF553B\", \"#00cc96\", \"#ab63fa\", \"#FFA15A\", \"#19d3f3\", \"#FF6692\", \"#B6E880\", \"#FF97FF\", \"#FECB52\"], \"font\": {\"color\": \"#2a3f5f\"}, \"geo\": {\"bgcolor\": \"white\", \"lakecolor\": \"white\", \"landcolor\": \"#E5ECF6\", \"showlakes\": true, \"showland\": true, \"subunitcolor\": \"white\"}, \"hoverlabel\": {\"align\": \"left\"}, \"hovermode\": \"closest\", \"mapbox\": {\"style\": \"light\"}, \"paper_bgcolor\": \"white\", \"plot_bgcolor\": \"#E5ECF6\", \"polar\": {\"angularaxis\": {\"gridcolor\": \"white\", \"linecolor\": \"white\", \"ticks\": \"\"}, \"bgcolor\": \"#E5ECF6\", \"radialaxis\": {\"gridcolor\": \"white\", \"linecolor\": \"white\", \"ticks\": \"\"}}, \"scene\": {\"xaxis\": {\"backgroundcolor\": \"#E5ECF6\", \"gridcolor\": \"white\", \"gridwidth\": 2, \"linecolor\": \"white\", \"showbackground\": true, \"ticks\": \"\", \"zerolinecolor\": \"white\"}, \"yaxis\": {\"backgroundcolor\": \"#E5ECF6\", \"gridcolor\": \"white\", \"gridwidth\": 2, \"linecolor\": \"white\", \"showbackground\": true, \"ticks\": \"\", \"zerolinecolor\": \"white\"}, \"zaxis\": {\"backgroundcolor\": \"#E5ECF6\", \"gridcolor\": \"white\", \"gridwidth\": 2, \"linecolor\": \"white\", \"showbackground\": true, \"ticks\": \"\", \"zerolinecolor\": \"white\"}}, \"shapedefaults\": {\"line\": {\"color\": \"#2a3f5f\"}}, \"ternary\": {\"aaxis\": {\"gridcolor\": \"white\", \"linecolor\": \"white\", \"ticks\": \"\"}, \"baxis\": {\"gridcolor\": \"white\", \"linecolor\": \"white\", \"ticks\": \"\"}, \"bgcolor\": \"#E5ECF6\", \"caxis\": {\"gridcolor\": \"white\", \"linecolor\": \"white\", \"ticks\": \"\"}}, \"title\": {\"x\": 0.05}, \"xaxis\": {\"automargin\": true, \"gridcolor\": \"white\", \"linecolor\": \"white\", \"ticks\": \"\", \"title\": {\"standoff\": 15}, \"zerolinecolor\": \"white\", \"zerolinewidth\": 2}, \"yaxis\": {\"automargin\": true, \"gridcolor\": \"white\", \"linecolor\": \"white\", \"ticks\": \"\", \"title\": {\"standoff\": 15}, \"zerolinecolor\": \"white\", \"zerolinewidth\": 2}}}, \"xaxis\": {\"anchor\": \"y\", \"domain\": [0.0, 1.0], \"title\": {\"text\": \"Data\"}}, \"yaxis\": {\"anchor\": \"x\", \"domain\": [0.0, 1.0], \"title\": {\"text\": \"Valor\"}}},\n",
              "                        {\"responsive\": true}\n",
              "                    ).then(function(){\n",
              "                            \n",
              "var gd = document.getElementById('f003a2a8-ad0d-447a-8f38-9a437af502eb');\n",
              "var x = new MutationObserver(function (mutations, observer) {{\n",
              "        var display = window.getComputedStyle(gd).display;\n",
              "        if (!display || display === 'none') {{\n",
              "            console.log([gd, 'removed!']);\n",
              "            Plotly.purge(gd);\n",
              "            observer.disconnect();\n",
              "        }}\n",
              "}});\n",
              "\n",
              "// Listen for the removal of the full notebook cells\n",
              "var notebookContainer = gd.closest('#notebook-container');\n",
              "if (notebookContainer) {{\n",
              "    x.observe(notebookContainer, {childList: true});\n",
              "}}\n",
              "\n",
              "// Listen for the clearing of the current output cell\n",
              "var outputEl = gd.closest('.output');\n",
              "if (outputEl) {{\n",
              "    x.observe(outputEl, {childList: true});\n",
              "}}\n",
              "\n",
              "                        })\n",
              "                };\n",
              "                \n",
              "            </script>\n",
              "        </div>\n",
              "</body>\n",
              "</html>"
            ]
          },
          "metadata": {
            "tags": []
          }
        }
      ]
    },
    {
      "cell_type": "code",
      "metadata": {
        "id": "fuvRyRsuE7PX"
      },
      "source": [
        "recompras_selic_semanal = recompras_selic.resample('W').sum()"
      ],
      "execution_count": null,
      "outputs": []
    },
    {
      "cell_type": "code",
      "metadata": {
        "id": "Dk53EVFuHhZ5",
        "outputId": "b603c96c-bd63-4943-d4df-5c1719aba58d",
        "colab": {
          "base_uri": "https://localhost:8080/",
          "height": 542
        }
      },
      "source": [
        "fig = px.bar(data_frame=recompras_selic_semanal,  x=recompras_selic_semanal.index, y='Valor' )\n",
        "fig.show()"
      ],
      "execution_count": null,
      "outputs": [
        {
          "output_type": "display_data",
          "data": {
            "text/html": [
              "<html>\n",
              "<head><meta charset=\"utf-8\" /></head>\n",
              "<body>\n",
              "    <div>\n",
              "            <script src=\"https://cdnjs.cloudflare.com/ajax/libs/mathjax/2.7.5/MathJax.js?config=TeX-AMS-MML_SVG\"></script><script type=\"text/javascript\">if (window.MathJax) {MathJax.Hub.Config({SVG: {font: \"STIX-Web\"}});}</script>\n",
              "                <script type=\"text/javascript\">window.PlotlyConfig = {MathJaxConfig: 'local'};</script>\n",
              "        <script src=\"https://cdn.plot.ly/plotly-latest.min.js\"></script>    \n",
              "            <div id=\"6b667379-4275-4c38-b0f9-cb5cbf0aff91\" class=\"plotly-graph-div\" style=\"height:525px; width:100%;\"></div>\n",
              "            <script type=\"text/javascript\">\n",
              "                \n",
              "                    window.PLOTLYENV=window.PLOTLYENV || {};\n",
              "                    \n",
              "                if (document.getElementById(\"6b667379-4275-4c38-b0f9-cb5cbf0aff91\")) {\n",
              "                    Plotly.newPlot(\n",
              "                        '6b667379-4275-4c38-b0f9-cb5cbf0aff91',\n",
              "                        [{\"alignmentgroup\": \"True\", \"hoverlabel\": {\"namelength\": 0}, \"hovertemplate\": \"x=%{x}<br>Valor=%{y}\", \"legendgroup\": \"\", \"marker\": {\"color\": \"#636efa\"}, \"name\": \"\", \"offsetgroup\": \"\", \"orientation\": \"v\", \"showlegend\": false, \"textposition\": \"auto\", \"type\": \"bar\", \"x\": [\"2019-02-10T00:00:00\", \"2019-02-17T00:00:00\", \"2019-02-24T00:00:00\", \"2019-03-03T00:00:00\", \"2019-03-10T00:00:00\", \"2019-03-17T00:00:00\", \"2019-03-24T00:00:00\", \"2019-03-31T00:00:00\", \"2019-04-07T00:00:00\", \"2019-04-14T00:00:00\", \"2019-04-21T00:00:00\", \"2019-04-28T00:00:00\", \"2019-05-05T00:00:00\", \"2019-05-12T00:00:00\", \"2019-05-19T00:00:00\", \"2019-05-26T00:00:00\", \"2019-06-02T00:00:00\", \"2019-06-09T00:00:00\", \"2019-06-16T00:00:00\", \"2019-06-23T00:00:00\", \"2019-06-30T00:00:00\", \"2019-07-07T00:00:00\", \"2019-07-14T00:00:00\", \"2019-07-21T00:00:00\", \"2019-07-28T00:00:00\", \"2019-08-04T00:00:00\", \"2019-08-11T00:00:00\", \"2019-08-18T00:00:00\", \"2019-08-25T00:00:00\", \"2019-09-01T00:00:00\", \"2019-09-08T00:00:00\", \"2019-09-15T00:00:00\", \"2019-09-22T00:00:00\", \"2019-09-29T00:00:00\", \"2019-10-06T00:00:00\", \"2019-10-13T00:00:00\", \"2019-10-20T00:00:00\", \"2019-10-27T00:00:00\", \"2019-11-03T00:00:00\", \"2019-11-10T00:00:00\", \"2019-11-17T00:00:00\", \"2019-11-24T00:00:00\", \"2019-12-01T00:00:00\", \"2019-12-08T00:00:00\", \"2019-12-15T00:00:00\", \"2019-12-22T00:00:00\", \"2019-12-29T00:00:00\", \"2020-01-05T00:00:00\", \"2020-01-12T00:00:00\", \"2020-01-19T00:00:00\", \"2020-01-26T00:00:00\", \"2020-02-02T00:00:00\", \"2020-02-09T00:00:00\", \"2020-02-16T00:00:00\", \"2020-02-23T00:00:00\", \"2020-03-01T00:00:00\", \"2020-03-08T00:00:00\", \"2020-03-15T00:00:00\", \"2020-03-22T00:00:00\", \"2020-03-29T00:00:00\", \"2020-04-05T00:00:00\", \"2020-04-12T00:00:00\", \"2020-04-19T00:00:00\", \"2020-04-26T00:00:00\", \"2020-05-03T00:00:00\", \"2020-05-10T00:00:00\", \"2020-05-17T00:00:00\", \"2020-05-24T00:00:00\"], \"xaxis\": \"x\", \"y\": [880949.7400000001, 6247650.26, 7723663.89, 10991328.02, 8573755.26, 19131196.13, 22570456.369999997, 35644942.7, 29029257.509999998, 32646288.42, 33648793.28, 41472755.17, 39433319.74, 43536381.32, 55761338.29000001, 52847466.580000006, 65105112.01, 69669988.39, 64965288.16, 66884255.98, 95765252.67999999, 106271117.51, 99817019.19, 105044575.89000002, 104509111.15, 128066410.75999999, 140359203.49, 126607500.07000001, 104172814.36000001, 101106594.24000001, 104565169.31, 101106149.6, 121598249.17000002, 119322147.18, 122058427.59, 129890335.08999999, 116558879.61, 128031283.51, 147248348.76, 179834093.87, 119992724.74, 113798264.41, 132282155.39999999, 125688404.08, 139631331.59, 154518241.02999997, 89277517.63, 76674213.91, 162817810.88, 148958250.31, 154131786.87, 161533513.49, 172110019.7, 186803338.69, 162716988.57999998, 169297690.14, 195787739.71, 290974832.01, 537966060.46, 240854719.28000003, 119604172.09, 106867210.53999999, 115407658.28, 105251558.07, 133008303.49, 126610030.72999999, 138717987.13, 71525334.96000001], \"yaxis\": \"y\"}],\n",
              "                        {\"barmode\": \"relative\", \"legend\": {\"tracegroupgap\": 0}, \"margin\": {\"t\": 60}, \"template\": {\"data\": {\"bar\": [{\"error_x\": {\"color\": \"#2a3f5f\"}, \"error_y\": {\"color\": \"#2a3f5f\"}, \"marker\": {\"line\": {\"color\": \"#E5ECF6\", \"width\": 0.5}}, \"type\": \"bar\"}], \"barpolar\": [{\"marker\": {\"line\": {\"color\": \"#E5ECF6\", \"width\": 0.5}}, \"type\": \"barpolar\"}], \"carpet\": [{\"aaxis\": {\"endlinecolor\": \"#2a3f5f\", \"gridcolor\": \"white\", \"linecolor\": \"white\", \"minorgridcolor\": \"white\", \"startlinecolor\": \"#2a3f5f\"}, \"baxis\": {\"endlinecolor\": \"#2a3f5f\", \"gridcolor\": \"white\", \"linecolor\": \"white\", \"minorgridcolor\": \"white\", \"startlinecolor\": \"#2a3f5f\"}, \"type\": \"carpet\"}], \"choropleth\": [{\"colorbar\": {\"outlinewidth\": 0, \"ticks\": \"\"}, \"type\": \"choropleth\"}], \"contour\": [{\"colorbar\": {\"outlinewidth\": 0, \"ticks\": \"\"}, \"colorscale\": [[0.0, \"#0d0887\"], [0.1111111111111111, \"#46039f\"], [0.2222222222222222, \"#7201a8\"], [0.3333333333333333, \"#9c179e\"], [0.4444444444444444, \"#bd3786\"], [0.5555555555555556, \"#d8576b\"], [0.6666666666666666, \"#ed7953\"], [0.7777777777777778, \"#fb9f3a\"], [0.8888888888888888, \"#fdca26\"], [1.0, \"#f0f921\"]], \"type\": \"contour\"}], \"contourcarpet\": [{\"colorbar\": {\"outlinewidth\": 0, \"ticks\": \"\"}, \"type\": \"contourcarpet\"}], \"heatmap\": [{\"colorbar\": {\"outlinewidth\": 0, \"ticks\": \"\"}, \"colorscale\": [[0.0, \"#0d0887\"], [0.1111111111111111, \"#46039f\"], [0.2222222222222222, \"#7201a8\"], [0.3333333333333333, \"#9c179e\"], [0.4444444444444444, \"#bd3786\"], [0.5555555555555556, \"#d8576b\"], [0.6666666666666666, \"#ed7953\"], [0.7777777777777778, \"#fb9f3a\"], [0.8888888888888888, \"#fdca26\"], [1.0, \"#f0f921\"]], \"type\": \"heatmap\"}], \"heatmapgl\": [{\"colorbar\": {\"outlinewidth\": 0, \"ticks\": \"\"}, \"colorscale\": [[0.0, \"#0d0887\"], [0.1111111111111111, \"#46039f\"], [0.2222222222222222, \"#7201a8\"], [0.3333333333333333, \"#9c179e\"], [0.4444444444444444, \"#bd3786\"], [0.5555555555555556, \"#d8576b\"], [0.6666666666666666, \"#ed7953\"], [0.7777777777777778, \"#fb9f3a\"], [0.8888888888888888, \"#fdca26\"], [1.0, \"#f0f921\"]], \"type\": \"heatmapgl\"}], \"histogram\": [{\"marker\": {\"colorbar\": {\"outlinewidth\": 0, \"ticks\": \"\"}}, \"type\": \"histogram\"}], \"histogram2d\": [{\"colorbar\": {\"outlinewidth\": 0, \"ticks\": \"\"}, \"colorscale\": [[0.0, \"#0d0887\"], [0.1111111111111111, \"#46039f\"], [0.2222222222222222, \"#7201a8\"], [0.3333333333333333, \"#9c179e\"], [0.4444444444444444, \"#bd3786\"], [0.5555555555555556, \"#d8576b\"], [0.6666666666666666, \"#ed7953\"], [0.7777777777777778, \"#fb9f3a\"], [0.8888888888888888, \"#fdca26\"], [1.0, \"#f0f921\"]], \"type\": \"histogram2d\"}], \"histogram2dcontour\": [{\"colorbar\": {\"outlinewidth\": 0, \"ticks\": \"\"}, \"colorscale\": [[0.0, \"#0d0887\"], [0.1111111111111111, \"#46039f\"], [0.2222222222222222, \"#7201a8\"], [0.3333333333333333, \"#9c179e\"], [0.4444444444444444, \"#bd3786\"], [0.5555555555555556, \"#d8576b\"], [0.6666666666666666, \"#ed7953\"], [0.7777777777777778, \"#fb9f3a\"], [0.8888888888888888, \"#fdca26\"], [1.0, \"#f0f921\"]], \"type\": \"histogram2dcontour\"}], \"mesh3d\": [{\"colorbar\": {\"outlinewidth\": 0, \"ticks\": \"\"}, \"type\": \"mesh3d\"}], \"parcoords\": [{\"line\": {\"colorbar\": {\"outlinewidth\": 0, \"ticks\": \"\"}}, \"type\": \"parcoords\"}], \"pie\": [{\"automargin\": true, \"type\": \"pie\"}], \"scatter\": [{\"marker\": {\"colorbar\": {\"outlinewidth\": 0, \"ticks\": \"\"}}, \"type\": \"scatter\"}], \"scatter3d\": [{\"line\": {\"colorbar\": {\"outlinewidth\": 0, \"ticks\": \"\"}}, \"marker\": {\"colorbar\": {\"outlinewidth\": 0, \"ticks\": \"\"}}, \"type\": \"scatter3d\"}], \"scattercarpet\": [{\"marker\": {\"colorbar\": {\"outlinewidth\": 0, \"ticks\": \"\"}}, \"type\": \"scattercarpet\"}], \"scattergeo\": [{\"marker\": {\"colorbar\": {\"outlinewidth\": 0, \"ticks\": \"\"}}, \"type\": \"scattergeo\"}], \"scattergl\": [{\"marker\": {\"colorbar\": {\"outlinewidth\": 0, \"ticks\": \"\"}}, \"type\": \"scattergl\"}], \"scattermapbox\": [{\"marker\": {\"colorbar\": {\"outlinewidth\": 0, \"ticks\": \"\"}}, \"type\": \"scattermapbox\"}], \"scatterpolar\": [{\"marker\": {\"colorbar\": {\"outlinewidth\": 0, \"ticks\": \"\"}}, \"type\": \"scatterpolar\"}], \"scatterpolargl\": [{\"marker\": {\"colorbar\": {\"outlinewidth\": 0, \"ticks\": \"\"}}, \"type\": \"scatterpolargl\"}], \"scatterternary\": [{\"marker\": {\"colorbar\": {\"outlinewidth\": 0, \"ticks\": \"\"}}, \"type\": \"scatterternary\"}], \"surface\": [{\"colorbar\": {\"outlinewidth\": 0, \"ticks\": \"\"}, \"colorscale\": [[0.0, \"#0d0887\"], [0.1111111111111111, \"#46039f\"], [0.2222222222222222, \"#7201a8\"], [0.3333333333333333, \"#9c179e\"], [0.4444444444444444, \"#bd3786\"], [0.5555555555555556, \"#d8576b\"], [0.6666666666666666, \"#ed7953\"], [0.7777777777777778, \"#fb9f3a\"], [0.8888888888888888, \"#fdca26\"], [1.0, \"#f0f921\"]], \"type\": \"surface\"}], \"table\": [{\"cells\": {\"fill\": {\"color\": \"#EBF0F8\"}, \"line\": {\"color\": \"white\"}}, \"header\": {\"fill\": {\"color\": \"#C8D4E3\"}, \"line\": {\"color\": \"white\"}}, \"type\": \"table\"}]}, \"layout\": {\"annotationdefaults\": {\"arrowcolor\": \"#2a3f5f\", \"arrowhead\": 0, \"arrowwidth\": 1}, \"coloraxis\": {\"colorbar\": {\"outlinewidth\": 0, \"ticks\": \"\"}}, \"colorscale\": {\"diverging\": [[0, \"#8e0152\"], [0.1, \"#c51b7d\"], [0.2, \"#de77ae\"], [0.3, \"#f1b6da\"], [0.4, \"#fde0ef\"], [0.5, \"#f7f7f7\"], [0.6, \"#e6f5d0\"], [0.7, \"#b8e186\"], [0.8, \"#7fbc41\"], [0.9, \"#4d9221\"], [1, \"#276419\"]], \"sequential\": [[0.0, \"#0d0887\"], [0.1111111111111111, \"#46039f\"], [0.2222222222222222, \"#7201a8\"], [0.3333333333333333, \"#9c179e\"], [0.4444444444444444, \"#bd3786\"], [0.5555555555555556, \"#d8576b\"], [0.6666666666666666, \"#ed7953\"], [0.7777777777777778, \"#fb9f3a\"], [0.8888888888888888, \"#fdca26\"], [1.0, \"#f0f921\"]], \"sequentialminus\": [[0.0, \"#0d0887\"], [0.1111111111111111, \"#46039f\"], [0.2222222222222222, \"#7201a8\"], [0.3333333333333333, \"#9c179e\"], [0.4444444444444444, \"#bd3786\"], [0.5555555555555556, \"#d8576b\"], [0.6666666666666666, \"#ed7953\"], [0.7777777777777778, \"#fb9f3a\"], [0.8888888888888888, \"#fdca26\"], [1.0, \"#f0f921\"]]}, \"colorway\": [\"#636efa\", \"#EF553B\", \"#00cc96\", \"#ab63fa\", \"#FFA15A\", \"#19d3f3\", \"#FF6692\", \"#B6E880\", \"#FF97FF\", \"#FECB52\"], \"font\": {\"color\": \"#2a3f5f\"}, \"geo\": {\"bgcolor\": \"white\", \"lakecolor\": \"white\", \"landcolor\": \"#E5ECF6\", \"showlakes\": true, \"showland\": true, \"subunitcolor\": \"white\"}, \"hoverlabel\": {\"align\": \"left\"}, \"hovermode\": \"closest\", \"mapbox\": {\"style\": \"light\"}, \"paper_bgcolor\": \"white\", \"plot_bgcolor\": \"#E5ECF6\", \"polar\": {\"angularaxis\": {\"gridcolor\": \"white\", \"linecolor\": \"white\", \"ticks\": \"\"}, \"bgcolor\": \"#E5ECF6\", \"radialaxis\": {\"gridcolor\": \"white\", \"linecolor\": \"white\", \"ticks\": \"\"}}, \"scene\": {\"xaxis\": {\"backgroundcolor\": \"#E5ECF6\", \"gridcolor\": \"white\", \"gridwidth\": 2, \"linecolor\": \"white\", \"showbackground\": true, \"ticks\": \"\", \"zerolinecolor\": \"white\"}, \"yaxis\": {\"backgroundcolor\": \"#E5ECF6\", \"gridcolor\": \"white\", \"gridwidth\": 2, \"linecolor\": \"white\", \"showbackground\": true, \"ticks\": \"\", \"zerolinecolor\": \"white\"}, \"zaxis\": {\"backgroundcolor\": \"#E5ECF6\", \"gridcolor\": \"white\", \"gridwidth\": 2, \"linecolor\": \"white\", \"showbackground\": true, \"ticks\": \"\", \"zerolinecolor\": \"white\"}}, \"shapedefaults\": {\"line\": {\"color\": \"#2a3f5f\"}}, \"ternary\": {\"aaxis\": {\"gridcolor\": \"white\", \"linecolor\": \"white\", \"ticks\": \"\"}, \"baxis\": {\"gridcolor\": \"white\", \"linecolor\": \"white\", \"ticks\": \"\"}, \"bgcolor\": \"#E5ECF6\", \"caxis\": {\"gridcolor\": \"white\", \"linecolor\": \"white\", \"ticks\": \"\"}}, \"title\": {\"x\": 0.05}, \"xaxis\": {\"automargin\": true, \"gridcolor\": \"white\", \"linecolor\": \"white\", \"ticks\": \"\", \"title\": {\"standoff\": 15}, \"zerolinecolor\": \"white\", \"zerolinewidth\": 2}, \"yaxis\": {\"automargin\": true, \"gridcolor\": \"white\", \"linecolor\": \"white\", \"ticks\": \"\", \"title\": {\"standoff\": 15}, \"zerolinecolor\": \"white\", \"zerolinewidth\": 2}}}, \"xaxis\": {\"anchor\": \"y\", \"domain\": [0.0, 1.0], \"title\": {\"text\": \"x\"}}, \"yaxis\": {\"anchor\": \"x\", \"domain\": [0.0, 1.0], \"title\": {\"text\": \"Valor\"}}},\n",
              "                        {\"responsive\": true}\n",
              "                    ).then(function(){\n",
              "                            \n",
              "var gd = document.getElementById('6b667379-4275-4c38-b0f9-cb5cbf0aff91');\n",
              "var x = new MutationObserver(function (mutations, observer) {{\n",
              "        var display = window.getComputedStyle(gd).display;\n",
              "        if (!display || display === 'none') {{\n",
              "            console.log([gd, 'removed!']);\n",
              "            Plotly.purge(gd);\n",
              "            observer.disconnect();\n",
              "        }}\n",
              "}});\n",
              "\n",
              "// Listen for the removal of the full notebook cells\n",
              "var notebookContainer = gd.closest('#notebook-container');\n",
              "if (notebookContainer) {{\n",
              "    x.observe(notebookContainer, {childList: true});\n",
              "}}\n",
              "\n",
              "// Listen for the clearing of the current output cell\n",
              "var outputEl = gd.closest('.output');\n",
              "if (outputEl) {{\n",
              "    x.observe(outputEl, {childList: true});\n",
              "}}\n",
              "\n",
              "                        })\n",
              "                };\n",
              "                \n",
              "            </script>\n",
              "        </div>\n",
              "</body>\n",
              "</html>"
            ]
          },
          "metadata": {
            "tags": []
          }
        }
      ]
    },
    {
      "cell_type": "markdown",
      "metadata": {
        "id": "CcAMSj_AMO-W"
      },
      "source": [
        "###4.3 Resgastes Tesouro Selic vs Índice Bovespa"
      ]
    },
    {
      "cell_type": "code",
      "metadata": {
        "id": "ny5jvgtYExuu"
      },
      "source": [
        "ibov = yf.download('^BVSP')['Adj Close'].resample('W').last().pct_change()[1:]"
      ],
      "execution_count": null,
      "outputs": []
    },
    {
      "cell_type": "code",
      "metadata": {
        "id": "fVokkmByHMl0",
        "outputId": "07915628-428d-4cd3-ccef-41b9d54de33f",
        "colab": {
          "base_uri": "https://localhost:8080/",
          "height": 760
        }
      },
      "source": [
        "selic_ibov = pd.concat([recompras_selic_semanal['Valor'].pct_change()[1:], ibov], axis=1).dropna()[1:]\n",
        "selic_ibov.columns = ['Recompra(%)', 'IBOV(%)']\n",
        "selic_ibov"
      ],
      "execution_count": null,
      "outputs": [
        {
          "output_type": "execute_result",
          "data": {
            "text/html": [
              "<div>\n",
              "<style scoped>\n",
              "    .dataframe tbody tr th:only-of-type {\n",
              "        vertical-align: middle;\n",
              "    }\n",
              "\n",
              "    .dataframe tbody tr th {\n",
              "        vertical-align: top;\n",
              "    }\n",
              "\n",
              "    .dataframe thead th {\n",
              "        text-align: right;\n",
              "    }\n",
              "</style>\n",
              "<table border=\"1\" class=\"dataframe\">\n",
              "  <thead>\n",
              "    <tr style=\"text-align: right;\">\n",
              "      <th></th>\n",
              "      <th>Recompra(%)</th>\n",
              "      <th>IBOV(%)</th>\n",
              "    </tr>\n",
              "    <tr>\n",
              "      <th>Date</th>\n",
              "      <th></th>\n",
              "      <th></th>\n",
              "    </tr>\n",
              "  </thead>\n",
              "  <tbody>\n",
              "    <tr>\n",
              "      <th>2019-02-24</th>\n",
              "      <td>0.236251</td>\n",
              "      <td>0.003691</td>\n",
              "    </tr>\n",
              "    <tr>\n",
              "      <th>2019-03-03</th>\n",
              "      <td>0.423072</td>\n",
              "      <td>-0.033529</td>\n",
              "    </tr>\n",
              "    <tr>\n",
              "      <th>2019-03-10</th>\n",
              "      <td>-0.219953</td>\n",
              "      <td>0.008044</td>\n",
              "    </tr>\n",
              "    <tr>\n",
              "      <th>2019-03-17</th>\n",
              "      <td>1.231367</td>\n",
              "      <td>0.039553</td>\n",
              "    </tr>\n",
              "    <tr>\n",
              "      <th>2019-03-24</th>\n",
              "      <td>0.179772</td>\n",
              "      <td>-0.054490</td>\n",
              "    </tr>\n",
              "    <tr>\n",
              "      <th>2019-03-31</th>\n",
              "      <td>0.579274</td>\n",
              "      <td>0.017923</td>\n",
              "    </tr>\n",
              "    <tr>\n",
              "      <th>2019-04-07</th>\n",
              "      <td>-0.185600</td>\n",
              "      <td>0.017744</td>\n",
              "    </tr>\n",
              "    <tr>\n",
              "      <th>2019-04-14</th>\n",
              "      <td>0.124599</td>\n",
              "      <td>-0.043591</td>\n",
              "    </tr>\n",
              "    <tr>\n",
              "      <th>2019-04-21</th>\n",
              "      <td>0.030708</td>\n",
              "      <td>0.018336</td>\n",
              "    </tr>\n",
              "    <tr>\n",
              "      <th>2019-04-28</th>\n",
              "      <td>0.232518</td>\n",
              "      <td>0.017531</td>\n",
              "    </tr>\n",
              "    <tr>\n",
              "      <th>...</th>\n",
              "      <td>...</td>\n",
              "      <td>...</td>\n",
              "    </tr>\n",
              "    <tr>\n",
              "      <th>2020-03-22</th>\n",
              "      <td>0.848841</td>\n",
              "      <td>-0.188793</td>\n",
              "    </tr>\n",
              "    <tr>\n",
              "      <th>2020-03-29</th>\n",
              "      <td>-0.552286</td>\n",
              "      <td>0.094828</td>\n",
              "    </tr>\n",
              "    <tr>\n",
              "      <th>2020-04-05</th>\n",
              "      <td>-0.503418</td>\n",
              "      <td>-0.052990</td>\n",
              "    </tr>\n",
              "    <tr>\n",
              "      <th>2020-04-12</th>\n",
              "      <td>-0.106493</td>\n",
              "      <td>0.117116</td>\n",
              "    </tr>\n",
              "    <tr>\n",
              "      <th>2020-04-19</th>\n",
              "      <td>0.079916</td>\n",
              "      <td>0.016838</td>\n",
              "    </tr>\n",
              "    <tr>\n",
              "      <th>2020-04-26</th>\n",
              "      <td>-0.088002</td>\n",
              "      <td>-0.046322</td>\n",
              "    </tr>\n",
              "    <tr>\n",
              "      <th>2020-05-03</th>\n",
              "      <td>0.263718</td>\n",
              "      <td>0.068697</td>\n",
              "    </tr>\n",
              "    <tr>\n",
              "      <th>2020-05-10</th>\n",
              "      <td>-0.048104</td>\n",
              "      <td>-0.003018</td>\n",
              "    </tr>\n",
              "    <tr>\n",
              "      <th>2020-05-17</th>\n",
              "      <td>0.095632</td>\n",
              "      <td>-0.033714</td>\n",
              "    </tr>\n",
              "    <tr>\n",
              "      <th>2020-05-24</th>\n",
              "      <td>-0.484383</td>\n",
              "      <td>0.059518</td>\n",
              "    </tr>\n",
              "  </tbody>\n",
              "</table>\n",
              "<p>66 rows × 2 columns</p>\n",
              "</div>"
            ],
            "text/plain": [
              "            Recompra(%)   IBOV(%)\n",
              "Date                             \n",
              "2019-02-24     0.236251  0.003691\n",
              "2019-03-03     0.423072 -0.033529\n",
              "2019-03-10    -0.219953  0.008044\n",
              "2019-03-17     1.231367  0.039553\n",
              "2019-03-24     0.179772 -0.054490\n",
              "2019-03-31     0.579274  0.017923\n",
              "2019-04-07    -0.185600  0.017744\n",
              "2019-04-14     0.124599 -0.043591\n",
              "2019-04-21     0.030708  0.018336\n",
              "2019-04-28     0.232518  0.017531\n",
              "...                 ...       ...\n",
              "2020-03-22     0.848841 -0.188793\n",
              "2020-03-29    -0.552286  0.094828\n",
              "2020-04-05    -0.503418 -0.052990\n",
              "2020-04-12    -0.106493  0.117116\n",
              "2020-04-19     0.079916  0.016838\n",
              "2020-04-26    -0.088002 -0.046322\n",
              "2020-05-03     0.263718  0.068697\n",
              "2020-05-10    -0.048104 -0.003018\n",
              "2020-05-17     0.095632 -0.033714\n",
              "2020-05-24    -0.484383  0.059518\n",
              "\n",
              "[66 rows x 2 columns]"
            ]
          },
          "metadata": {
            "tags": []
          },
          "execution_count": 51
        }
      ]
    },
    {
      "cell_type": "code",
      "metadata": {
        "id": "Zff25c_qJgjY",
        "outputId": "1afaf1c7-50d1-4679-a129-2bece2afc853",
        "colab": {
          "base_uri": "https://localhost:8080/",
          "height": 542
        }
      },
      "source": [
        "fig = go.Figure(data=[\n",
        "    go.Bar(name='Recompras Selic(%)', x=selic_ibov.index,  y=selic_ibov['Recompra(%)']),\n",
        "    go.Bar(name='IBOV(%)', x=selic_ibov.index,  y=selic_ibov['IBOV(%)']),\n",
        "])\n",
        "fig.update_layout(barmode='group')\n",
        "fig.show()"
      ],
      "execution_count": null,
      "outputs": [
        {
          "output_type": "display_data",
          "data": {
            "text/html": [
              "<html>\n",
              "<head><meta charset=\"utf-8\" /></head>\n",
              "<body>\n",
              "    <div>\n",
              "            <script src=\"https://cdnjs.cloudflare.com/ajax/libs/mathjax/2.7.5/MathJax.js?config=TeX-AMS-MML_SVG\"></script><script type=\"text/javascript\">if (window.MathJax) {MathJax.Hub.Config({SVG: {font: \"STIX-Web\"}});}</script>\n",
              "                <script type=\"text/javascript\">window.PlotlyConfig = {MathJaxConfig: 'local'};</script>\n",
              "        <script src=\"https://cdn.plot.ly/plotly-latest.min.js\"></script>    \n",
              "            <div id=\"87abd40e-754e-47c8-95c8-54b70de37046\" class=\"plotly-graph-div\" style=\"height:525px; width:100%;\"></div>\n",
              "            <script type=\"text/javascript\">\n",
              "                \n",
              "                    window.PLOTLYENV=window.PLOTLYENV || {};\n",
              "                    \n",
              "                if (document.getElementById(\"87abd40e-754e-47c8-95c8-54b70de37046\")) {\n",
              "                    Plotly.newPlot(\n",
              "                        '87abd40e-754e-47c8-95c8-54b70de37046',\n",
              "                        [{\"name\": \"Recompras Selic(%)\", \"type\": \"bar\", \"x\": [\"2019-02-24T00:00:00\", \"2019-03-03T00:00:00\", \"2019-03-10T00:00:00\", \"2019-03-17T00:00:00\", \"2019-03-24T00:00:00\", \"2019-03-31T00:00:00\", \"2019-04-07T00:00:00\", \"2019-04-14T00:00:00\", \"2019-04-21T00:00:00\", \"2019-04-28T00:00:00\", \"2019-05-05T00:00:00\", \"2019-05-12T00:00:00\", \"2019-05-19T00:00:00\", \"2019-05-26T00:00:00\", \"2019-06-02T00:00:00\", \"2019-06-09T00:00:00\", \"2019-06-16T00:00:00\", \"2019-06-23T00:00:00\", \"2019-06-30T00:00:00\", \"2019-07-07T00:00:00\", \"2019-07-14T00:00:00\", \"2019-07-21T00:00:00\", \"2019-07-28T00:00:00\", \"2019-08-04T00:00:00\", \"2019-08-11T00:00:00\", \"2019-08-18T00:00:00\", \"2019-08-25T00:00:00\", \"2019-09-01T00:00:00\", \"2019-09-08T00:00:00\", \"2019-09-15T00:00:00\", \"2019-09-22T00:00:00\", \"2019-09-29T00:00:00\", \"2019-10-06T00:00:00\", \"2019-10-13T00:00:00\", \"2019-10-20T00:00:00\", \"2019-10-27T00:00:00\", \"2019-11-03T00:00:00\", \"2019-11-10T00:00:00\", \"2019-11-17T00:00:00\", \"2019-11-24T00:00:00\", \"2019-12-01T00:00:00\", \"2019-12-08T00:00:00\", \"2019-12-15T00:00:00\", \"2019-12-22T00:00:00\", \"2019-12-29T00:00:00\", \"2020-01-05T00:00:00\", \"2020-01-12T00:00:00\", \"2020-01-19T00:00:00\", \"2020-01-26T00:00:00\", \"2020-02-02T00:00:00\", \"2020-02-09T00:00:00\", \"2020-02-16T00:00:00\", \"2020-02-23T00:00:00\", \"2020-03-01T00:00:00\", \"2020-03-08T00:00:00\", \"2020-03-15T00:00:00\", \"2020-03-22T00:00:00\", \"2020-03-29T00:00:00\", \"2020-04-05T00:00:00\", \"2020-04-12T00:00:00\", \"2020-04-19T00:00:00\", \"2020-04-26T00:00:00\", \"2020-05-03T00:00:00\", \"2020-05-10T00:00:00\", \"2020-05-17T00:00:00\", \"2020-05-24T00:00:00\"], \"y\": [0.23625100134846533, 0.42307176704448746, -0.21995274416348465, 1.231367183905364, 0.17977235801826463, 0.5792743449963307, -0.1855995462155703, 0.12459949789463298, 0.03070808071970088, 0.23251834991213105, -0.04917530609288434, 0.10405062538617504, 0.28079864700156043, -0.05225612941435731, 0.23194386076094076, 0.07011548308677895, -0.06752836248032568, 0.029538356164508395, 0.4318056062197375, 0.10970435033576753, -0.06073238403080394, 0.052371396605717546, -0.005097500137091648, 0.22540905142890955, 0.09598764154511241, -0.09797507450930887, -0.17719871016800803, -0.029433976021841723, 0.0342072156222597, -0.033080037385538885, 0.2026790620656771, -0.018718213506659254, 0.0229318737105213, 0.06416523344301739, -0.10263623903012287, 0.09842582511419184, 0.150096638283713, 0.22129786435236376, -0.3327587547067613, -0.05162363254457425, 0.1624268268574378, -0.04984611340858147, 0.11093248905543751, 0.10661582375875667, -0.4222202049745919, -0.14116996142559524, 1.1235015343113286, -0.0851231231711792, 0.03473145360685459, 0.04802206456117242, 0.06547561544035085, 0.08537166526162454, -0.12893961253000563, 0.040442621372411836, 0.15647023623354928, 0.48617493843583204, 0.8488405225422095, -0.5522864043243699, -0.5034177762946095, -0.106492619173984, 0.07991644674587395, -0.0880019607135556, 0.26371814279024486, -0.04810431072433796, 0.09563188896005093, -0.4843831255065011]}, {\"name\": \"IBOV(%)\", \"type\": \"bar\", \"x\": [\"2019-02-24T00:00:00\", \"2019-03-03T00:00:00\", \"2019-03-10T00:00:00\", \"2019-03-17T00:00:00\", \"2019-03-24T00:00:00\", \"2019-03-31T00:00:00\", \"2019-04-07T00:00:00\", \"2019-04-14T00:00:00\", \"2019-04-21T00:00:00\", \"2019-04-28T00:00:00\", \"2019-05-05T00:00:00\", \"2019-05-12T00:00:00\", \"2019-05-19T00:00:00\", \"2019-05-26T00:00:00\", \"2019-06-02T00:00:00\", \"2019-06-09T00:00:00\", \"2019-06-16T00:00:00\", \"2019-06-23T00:00:00\", \"2019-06-30T00:00:00\", \"2019-07-07T00:00:00\", \"2019-07-14T00:00:00\", \"2019-07-21T00:00:00\", \"2019-07-28T00:00:00\", \"2019-08-04T00:00:00\", \"2019-08-11T00:00:00\", \"2019-08-18T00:00:00\", \"2019-08-25T00:00:00\", \"2019-09-01T00:00:00\", \"2019-09-08T00:00:00\", \"2019-09-15T00:00:00\", \"2019-09-22T00:00:00\", \"2019-09-29T00:00:00\", \"2019-10-06T00:00:00\", \"2019-10-13T00:00:00\", \"2019-10-20T00:00:00\", \"2019-10-27T00:00:00\", \"2019-11-03T00:00:00\", \"2019-11-10T00:00:00\", \"2019-11-17T00:00:00\", \"2019-11-24T00:00:00\", \"2019-12-01T00:00:00\", \"2019-12-08T00:00:00\", \"2019-12-15T00:00:00\", \"2019-12-22T00:00:00\", \"2019-12-29T00:00:00\", \"2020-01-05T00:00:00\", \"2020-01-12T00:00:00\", \"2020-01-19T00:00:00\", \"2020-01-26T00:00:00\", \"2020-02-02T00:00:00\", \"2020-02-09T00:00:00\", \"2020-02-16T00:00:00\", \"2020-02-23T00:00:00\", \"2020-03-01T00:00:00\", \"2020-03-08T00:00:00\", \"2020-03-15T00:00:00\", \"2020-03-22T00:00:00\", \"2020-03-29T00:00:00\", \"2020-04-05T00:00:00\", \"2020-04-12T00:00:00\", \"2020-04-19T00:00:00\", \"2020-04-26T00:00:00\", \"2020-05-03T00:00:00\", \"2020-05-10T00:00:00\", \"2020-05-17T00:00:00\", \"2020-05-24T00:00:00\"], \"y\": [0.0036913233394171296, -0.03352879880677517, 0.008044057333727928, 0.03955329523410067, -0.05449025086496462, 0.017922867658825448, 0.017743541371901594, -0.04359064134777768, 0.0183364737550471, 0.017530503922688068, -0.0023691757762167587, -0.018227647696025362, -0.045248148698253776, 0.04039203049126039, 0.036335284316657335, 0.008152117901679912, 0.002238783083386986, 0.04052427580579354, -0.010253595130032434, 0.03092099398813475, -0.0017581108474478135, -0.004369333820953503, -0.006118779723929935, -0.001410245188146142, 0.012875703683503215, -0.04029001115427522, -0.021431577259884205, 0.03550841123409132, 0.017797992781925176, 0.005498615631223558, 0.012714852996589476, 0.0024900540942784932, -0.024048801842440848, 0.012491345769422013, 0.008638955235380275, 0.02516017530960868, 0.007749338698260111, -0.005240489482051136, -0.009960140854230692, 0.020036224743564368, -0.0059802009347513785, 0.02854445493419222, 0.01294926479851699, 0.02270688046906222, 0.012274042094839288, 0.010065731889405738, -0.018724459887687228, 0.02575690674701092, -0.0008609193267948845, -0.03898594309657366, 7.9113228610872e-05, 0.005370484310450951, -0.006119897535429852, -0.08364634371618829, -0.05927696501939106, -0.15632111187077158, -0.1887926655216624, 0.09482771474153484, -0.0529899630936006, 0.1171158215651873, 0.0168378775005793, -0.046322319280921675, 0.06869681804303673, -0.00301840856582114, -0.033714164683602665, 0.059517516149412586]}],\n",
              "                        {\"barmode\": \"group\", \"template\": {\"data\": {\"bar\": [{\"error_x\": {\"color\": \"#2a3f5f\"}, \"error_y\": {\"color\": \"#2a3f5f\"}, \"marker\": {\"line\": {\"color\": \"#E5ECF6\", \"width\": 0.5}}, \"type\": \"bar\"}], \"barpolar\": [{\"marker\": {\"line\": {\"color\": \"#E5ECF6\", \"width\": 0.5}}, \"type\": \"barpolar\"}], \"carpet\": [{\"aaxis\": {\"endlinecolor\": \"#2a3f5f\", \"gridcolor\": \"white\", \"linecolor\": \"white\", \"minorgridcolor\": \"white\", \"startlinecolor\": \"#2a3f5f\"}, \"baxis\": {\"endlinecolor\": \"#2a3f5f\", \"gridcolor\": \"white\", \"linecolor\": \"white\", \"minorgridcolor\": \"white\", \"startlinecolor\": \"#2a3f5f\"}, \"type\": \"carpet\"}], \"choropleth\": [{\"colorbar\": {\"outlinewidth\": 0, \"ticks\": \"\"}, \"type\": \"choropleth\"}], \"contour\": [{\"colorbar\": {\"outlinewidth\": 0, \"ticks\": \"\"}, \"colorscale\": [[0.0, \"#0d0887\"], [0.1111111111111111, \"#46039f\"], [0.2222222222222222, \"#7201a8\"], [0.3333333333333333, \"#9c179e\"], [0.4444444444444444, \"#bd3786\"], [0.5555555555555556, \"#d8576b\"], [0.6666666666666666, \"#ed7953\"], [0.7777777777777778, \"#fb9f3a\"], [0.8888888888888888, \"#fdca26\"], [1.0, \"#f0f921\"]], \"type\": \"contour\"}], \"contourcarpet\": [{\"colorbar\": {\"outlinewidth\": 0, \"ticks\": \"\"}, \"type\": \"contourcarpet\"}], \"heatmap\": [{\"colorbar\": {\"outlinewidth\": 0, \"ticks\": \"\"}, \"colorscale\": [[0.0, \"#0d0887\"], [0.1111111111111111, \"#46039f\"], [0.2222222222222222, \"#7201a8\"], [0.3333333333333333, \"#9c179e\"], [0.4444444444444444, \"#bd3786\"], [0.5555555555555556, \"#d8576b\"], [0.6666666666666666, \"#ed7953\"], [0.7777777777777778, \"#fb9f3a\"], [0.8888888888888888, \"#fdca26\"], [1.0, \"#f0f921\"]], \"type\": \"heatmap\"}], \"heatmapgl\": [{\"colorbar\": {\"outlinewidth\": 0, \"ticks\": \"\"}, \"colorscale\": [[0.0, \"#0d0887\"], [0.1111111111111111, \"#46039f\"], [0.2222222222222222, \"#7201a8\"], [0.3333333333333333, \"#9c179e\"], [0.4444444444444444, \"#bd3786\"], [0.5555555555555556, \"#d8576b\"], [0.6666666666666666, \"#ed7953\"], [0.7777777777777778, \"#fb9f3a\"], [0.8888888888888888, \"#fdca26\"], [1.0, \"#f0f921\"]], \"type\": \"heatmapgl\"}], \"histogram\": [{\"marker\": {\"colorbar\": {\"outlinewidth\": 0, \"ticks\": \"\"}}, \"type\": \"histogram\"}], \"histogram2d\": [{\"colorbar\": {\"outlinewidth\": 0, \"ticks\": \"\"}, \"colorscale\": [[0.0, \"#0d0887\"], [0.1111111111111111, \"#46039f\"], [0.2222222222222222, \"#7201a8\"], [0.3333333333333333, \"#9c179e\"], [0.4444444444444444, \"#bd3786\"], [0.5555555555555556, \"#d8576b\"], [0.6666666666666666, \"#ed7953\"], [0.7777777777777778, \"#fb9f3a\"], [0.8888888888888888, \"#fdca26\"], [1.0, \"#f0f921\"]], \"type\": \"histogram2d\"}], \"histogram2dcontour\": [{\"colorbar\": {\"outlinewidth\": 0, \"ticks\": \"\"}, \"colorscale\": [[0.0, \"#0d0887\"], [0.1111111111111111, \"#46039f\"], [0.2222222222222222, \"#7201a8\"], [0.3333333333333333, \"#9c179e\"], [0.4444444444444444, \"#bd3786\"], [0.5555555555555556, \"#d8576b\"], [0.6666666666666666, \"#ed7953\"], [0.7777777777777778, \"#fb9f3a\"], [0.8888888888888888, \"#fdca26\"], [1.0, \"#f0f921\"]], \"type\": \"histogram2dcontour\"}], \"mesh3d\": [{\"colorbar\": {\"outlinewidth\": 0, \"ticks\": \"\"}, \"type\": \"mesh3d\"}], \"parcoords\": [{\"line\": {\"colorbar\": {\"outlinewidth\": 0, \"ticks\": \"\"}}, \"type\": \"parcoords\"}], \"pie\": [{\"automargin\": true, \"type\": \"pie\"}], \"scatter\": [{\"marker\": {\"colorbar\": {\"outlinewidth\": 0, \"ticks\": \"\"}}, \"type\": \"scatter\"}], \"scatter3d\": [{\"line\": {\"colorbar\": {\"outlinewidth\": 0, \"ticks\": \"\"}}, \"marker\": {\"colorbar\": {\"outlinewidth\": 0, \"ticks\": \"\"}}, \"type\": \"scatter3d\"}], \"scattercarpet\": [{\"marker\": {\"colorbar\": {\"outlinewidth\": 0, \"ticks\": \"\"}}, \"type\": \"scattercarpet\"}], \"scattergeo\": [{\"marker\": {\"colorbar\": {\"outlinewidth\": 0, \"ticks\": \"\"}}, \"type\": \"scattergeo\"}], \"scattergl\": [{\"marker\": {\"colorbar\": {\"outlinewidth\": 0, \"ticks\": \"\"}}, \"type\": \"scattergl\"}], \"scattermapbox\": [{\"marker\": {\"colorbar\": {\"outlinewidth\": 0, \"ticks\": \"\"}}, \"type\": \"scattermapbox\"}], \"scatterpolar\": [{\"marker\": {\"colorbar\": {\"outlinewidth\": 0, \"ticks\": \"\"}}, \"type\": \"scatterpolar\"}], \"scatterpolargl\": [{\"marker\": {\"colorbar\": {\"outlinewidth\": 0, \"ticks\": \"\"}}, \"type\": \"scatterpolargl\"}], \"scatterternary\": [{\"marker\": {\"colorbar\": {\"outlinewidth\": 0, \"ticks\": \"\"}}, \"type\": \"scatterternary\"}], \"surface\": [{\"colorbar\": {\"outlinewidth\": 0, \"ticks\": \"\"}, \"colorscale\": [[0.0, \"#0d0887\"], [0.1111111111111111, \"#46039f\"], [0.2222222222222222, \"#7201a8\"], [0.3333333333333333, \"#9c179e\"], [0.4444444444444444, \"#bd3786\"], [0.5555555555555556, \"#d8576b\"], [0.6666666666666666, \"#ed7953\"], [0.7777777777777778, \"#fb9f3a\"], [0.8888888888888888, \"#fdca26\"], [1.0, \"#f0f921\"]], \"type\": \"surface\"}], \"table\": [{\"cells\": {\"fill\": {\"color\": \"#EBF0F8\"}, \"line\": {\"color\": \"white\"}}, \"header\": {\"fill\": {\"color\": \"#C8D4E3\"}, \"line\": {\"color\": \"white\"}}, \"type\": \"table\"}]}, \"layout\": {\"annotationdefaults\": {\"arrowcolor\": \"#2a3f5f\", \"arrowhead\": 0, \"arrowwidth\": 1}, \"coloraxis\": {\"colorbar\": {\"outlinewidth\": 0, \"ticks\": \"\"}}, \"colorscale\": {\"diverging\": [[0, \"#8e0152\"], [0.1, \"#c51b7d\"], [0.2, \"#de77ae\"], [0.3, \"#f1b6da\"], [0.4, \"#fde0ef\"], [0.5, \"#f7f7f7\"], [0.6, \"#e6f5d0\"], [0.7, \"#b8e186\"], [0.8, \"#7fbc41\"], [0.9, \"#4d9221\"], [1, \"#276419\"]], \"sequential\": [[0.0, \"#0d0887\"], [0.1111111111111111, \"#46039f\"], [0.2222222222222222, \"#7201a8\"], [0.3333333333333333, \"#9c179e\"], [0.4444444444444444, \"#bd3786\"], [0.5555555555555556, \"#d8576b\"], [0.6666666666666666, \"#ed7953\"], [0.7777777777777778, \"#fb9f3a\"], [0.8888888888888888, \"#fdca26\"], [1.0, \"#f0f921\"]], \"sequentialminus\": [[0.0, \"#0d0887\"], [0.1111111111111111, \"#46039f\"], [0.2222222222222222, \"#7201a8\"], [0.3333333333333333, \"#9c179e\"], [0.4444444444444444, \"#bd3786\"], [0.5555555555555556, \"#d8576b\"], [0.6666666666666666, \"#ed7953\"], [0.7777777777777778, \"#fb9f3a\"], [0.8888888888888888, \"#fdca26\"], [1.0, \"#f0f921\"]]}, \"colorway\": [\"#636efa\", \"#EF553B\", \"#00cc96\", \"#ab63fa\", \"#FFA15A\", \"#19d3f3\", \"#FF6692\", \"#B6E880\", \"#FF97FF\", \"#FECB52\"], \"font\": {\"color\": \"#2a3f5f\"}, \"geo\": {\"bgcolor\": \"white\", \"lakecolor\": \"white\", \"landcolor\": \"#E5ECF6\", \"showlakes\": true, \"showland\": true, \"subunitcolor\": \"white\"}, \"hoverlabel\": {\"align\": \"left\"}, \"hovermode\": \"closest\", \"mapbox\": {\"style\": \"light\"}, \"paper_bgcolor\": \"white\", \"plot_bgcolor\": \"#E5ECF6\", \"polar\": {\"angularaxis\": {\"gridcolor\": \"white\", \"linecolor\": \"white\", \"ticks\": \"\"}, \"bgcolor\": \"#E5ECF6\", \"radialaxis\": {\"gridcolor\": \"white\", \"linecolor\": \"white\", \"ticks\": \"\"}}, \"scene\": {\"xaxis\": {\"backgroundcolor\": \"#E5ECF6\", \"gridcolor\": \"white\", \"gridwidth\": 2, \"linecolor\": \"white\", \"showbackground\": true, \"ticks\": \"\", \"zerolinecolor\": \"white\"}, \"yaxis\": {\"backgroundcolor\": \"#E5ECF6\", \"gridcolor\": \"white\", \"gridwidth\": 2, \"linecolor\": \"white\", \"showbackground\": true, \"ticks\": \"\", \"zerolinecolor\": \"white\"}, \"zaxis\": {\"backgroundcolor\": \"#E5ECF6\", \"gridcolor\": \"white\", \"gridwidth\": 2, \"linecolor\": \"white\", \"showbackground\": true, \"ticks\": \"\", \"zerolinecolor\": \"white\"}}, \"shapedefaults\": {\"line\": {\"color\": \"#2a3f5f\"}}, \"ternary\": {\"aaxis\": {\"gridcolor\": \"white\", \"linecolor\": \"white\", \"ticks\": \"\"}, \"baxis\": {\"gridcolor\": \"white\", \"linecolor\": \"white\", \"ticks\": \"\"}, \"bgcolor\": \"#E5ECF6\", \"caxis\": {\"gridcolor\": \"white\", \"linecolor\": \"white\", \"ticks\": \"\"}}, \"title\": {\"x\": 0.05}, \"xaxis\": {\"automargin\": true, \"gridcolor\": \"white\", \"linecolor\": \"white\", \"ticks\": \"\", \"title\": {\"standoff\": 15}, \"zerolinecolor\": \"white\", \"zerolinewidth\": 2}, \"yaxis\": {\"automargin\": true, \"gridcolor\": \"white\", \"linecolor\": \"white\", \"ticks\": \"\", \"title\": {\"standoff\": 15}, \"zerolinecolor\": \"white\", \"zerolinewidth\": 2}}}},\n",
              "                        {\"responsive\": true}\n",
              "                    ).then(function(){\n",
              "                            \n",
              "var gd = document.getElementById('87abd40e-754e-47c8-95c8-54b70de37046');\n",
              "var x = new MutationObserver(function (mutations, observer) {{\n",
              "        var display = window.getComputedStyle(gd).display;\n",
              "        if (!display || display === 'none') {{\n",
              "            console.log([gd, 'removed!']);\n",
              "            Plotly.purge(gd);\n",
              "            observer.disconnect();\n",
              "        }}\n",
              "}});\n",
              "\n",
              "// Listen for the removal of the full notebook cells\n",
              "var notebookContainer = gd.closest('#notebook-container');\n",
              "if (notebookContainer) {{\n",
              "    x.observe(notebookContainer, {childList: true});\n",
              "}}\n",
              "\n",
              "// Listen for the clearing of the current output cell\n",
              "var outputEl = gd.closest('.output');\n",
              "if (outputEl) {{\n",
              "    x.observe(outputEl, {childList: true});\n",
              "}}\n",
              "\n",
              "                        })\n",
              "                };\n",
              "                \n",
              "            </script>\n",
              "        </div>\n",
              "</body>\n",
              "</html>"
            ]
          },
          "metadata": {
            "tags": []
          }
        }
      ]
    },
    {
      "cell_type": "code",
      "metadata": {
        "id": "jS5EvID1KuMG",
        "outputId": "b8e6ec5e-e3e9-4872-d8a2-ae32ed986e71",
        "colab": {
          "base_uri": "https://localhost:8080/",
          "height": 111
        }
      },
      "source": [
        "selic_ibov.corr()"
      ],
      "execution_count": null,
      "outputs": [
        {
          "output_type": "execute_result",
          "data": {
            "text/html": [
              "<div>\n",
              "<style scoped>\n",
              "    .dataframe tbody tr th:only-of-type {\n",
              "        vertical-align: middle;\n",
              "    }\n",
              "\n",
              "    .dataframe tbody tr th {\n",
              "        vertical-align: top;\n",
              "    }\n",
              "\n",
              "    .dataframe thead th {\n",
              "        text-align: right;\n",
              "    }\n",
              "</style>\n",
              "<table border=\"1\" class=\"dataframe\">\n",
              "  <thead>\n",
              "    <tr style=\"text-align: right;\">\n",
              "      <th></th>\n",
              "      <th>Recompra(%)</th>\n",
              "      <th>IBOV(%)</th>\n",
              "    </tr>\n",
              "  </thead>\n",
              "  <tbody>\n",
              "    <tr>\n",
              "      <th>Recompra(%)</th>\n",
              "      <td>1.000000</td>\n",
              "      <td>-0.309419</td>\n",
              "    </tr>\n",
              "    <tr>\n",
              "      <th>IBOV(%)</th>\n",
              "      <td>-0.309419</td>\n",
              "      <td>1.000000</td>\n",
              "    </tr>\n",
              "  </tbody>\n",
              "</table>\n",
              "</div>"
            ],
            "text/plain": [
              "             Recompra(%)   IBOV(%)\n",
              "Recompra(%)     1.000000 -0.309419\n",
              "IBOV(%)        -0.309419  1.000000"
            ]
          },
          "metadata": {
            "tags": []
          },
          "execution_count": 53
        }
      ]
    }
  ]
}